{
 "cells": [
  {
   "cell_type": "code",
   "execution_count": 1,
   "metadata": {},
   "outputs": [
    {
     "name": "stderr",
     "output_type": "stream",
     "text": [
      "/usr/lib/python3.6/importlib/_bootstrap.py:219: RuntimeWarning: numpy.ufunc size changed, may indicate binary incompatibility. Expected 192 from C header, got 216 from PyObject\n",
      "  return f(*args, **kwds)\n"
     ]
    }
   ],
   "source": [
    "import pandas as pd\n",
    "import numpy as np\n",
    "import matplotlib.pyplot as plt\n",
    "%matplotlib inline"
   ]
  },
  {
   "cell_type": "code",
   "execution_count": 2,
   "metadata": {},
   "outputs": [],
   "source": [
    "from plotly import __version__"
   ]
  },
  {
   "cell_type": "code",
   "execution_count": 3,
   "metadata": {},
   "outputs": [
    {
     "name": "stdout",
     "output_type": "stream",
     "text": [
      "4.8.1\n"
     ]
    }
   ],
   "source": [
    "print(__version__)"
   ]
  },
  {
   "cell_type": "code",
   "execution_count": 4,
   "metadata": {},
   "outputs": [],
   "source": [
    "from plotly.offline import download_plotlyjs,init_notebook_mode,plot,iplot"
   ]
  },
  {
   "cell_type": "code",
   "execution_count": 5,
   "metadata": {},
   "outputs": [
    {
     "name": "stderr",
     "output_type": "stream",
     "text": [
      "/usr/lib/python3.6/importlib/_bootstrap.py:219: RuntimeWarning:\n",
      "\n",
      "numpy.ufunc size changed, may indicate binary incompatibility. Expected 192 from C header, got 216 from PyObject\n",
      "\n",
      "/usr/lib/python3.6/importlib/_bootstrap.py:219: RuntimeWarning:\n",
      "\n",
      "numpy.ufunc size changed, may indicate binary incompatibility. Expected 192 from C header, got 216 from PyObject\n",
      "\n",
      "/usr/lib/python3.6/importlib/_bootstrap.py:219: RuntimeWarning:\n",
      "\n",
      "numpy.ufunc size changed, may indicate binary incompatibility. Expected 192 from C header, got 216 from PyObject\n",
      "\n"
     ]
    }
   ],
   "source": [
    "import cufflinks as cf"
   ]
  },
  {
   "cell_type": "code",
   "execution_count": 6,
   "metadata": {},
   "outputs": [
    {
     "data": {
      "text/html": [
       "        <script type=\"text/javascript\">\n",
       "        window.PlotlyConfig = {MathJaxConfig: 'local'};\n",
       "        if (window.MathJax) {MathJax.Hub.Config({SVG: {font: \"STIX-Web\"}});}\n",
       "        if (typeof require !== 'undefined') {\n",
       "        require.undef(\"plotly\");\n",
       "        requirejs.config({\n",
       "            paths: {\n",
       "                'plotly': ['https://cdn.plot.ly/plotly-latest.min']\n",
       "            }\n",
       "        });\n",
       "        require(['plotly'], function(Plotly) {\n",
       "            window._Plotly = Plotly;\n",
       "        });\n",
       "        }\n",
       "        </script>\n",
       "        "
      ]
     },
     "metadata": {},
     "output_type": "display_data"
    },
    {
     "data": {
      "text/html": [
       "        <script type=\"text/javascript\">\n",
       "        window.PlotlyConfig = {MathJaxConfig: 'local'};\n",
       "        if (window.MathJax) {MathJax.Hub.Config({SVG: {font: \"STIX-Web\"}});}\n",
       "        if (typeof require !== 'undefined') {\n",
       "        require.undef(\"plotly\");\n",
       "        requirejs.config({\n",
       "            paths: {\n",
       "                'plotly': ['https://cdn.plot.ly/plotly-latest.min']\n",
       "            }\n",
       "        });\n",
       "        require(['plotly'], function(Plotly) {\n",
       "            window._Plotly = Plotly;\n",
       "        });\n",
       "        }\n",
       "        </script>\n",
       "        "
      ]
     },
     "metadata": {},
     "output_type": "display_data"
    }
   ],
   "source": [
    "init_notebook_mode(connected=True)\n",
    "cf.go_offline()"
   ]
  },
  {
   "cell_type": "code",
   "execution_count": 8,
   "metadata": {},
   "outputs": [],
   "source": [
    "df = pd.DataFrame(np.random.rand(100,4), columns='A B C D'.split())"
   ]
  },
  {
   "cell_type": "code",
   "execution_count": 9,
   "metadata": {},
   "outputs": [
    {
     "data": {
      "text/html": [
       "<div>\n",
       "<style scoped>\n",
       "    .dataframe tbody tr th:only-of-type {\n",
       "        vertical-align: middle;\n",
       "    }\n",
       "\n",
       "    .dataframe tbody tr th {\n",
       "        vertical-align: top;\n",
       "    }\n",
       "\n",
       "    .dataframe thead th {\n",
       "        text-align: right;\n",
       "    }\n",
       "</style>\n",
       "<table border=\"1\" class=\"dataframe\">\n",
       "  <thead>\n",
       "    <tr style=\"text-align: right;\">\n",
       "      <th></th>\n",
       "      <th>A</th>\n",
       "      <th>B</th>\n",
       "      <th>C</th>\n",
       "      <th>D</th>\n",
       "    </tr>\n",
       "  </thead>\n",
       "  <tbody>\n",
       "    <tr>\n",
       "      <th>0</th>\n",
       "      <td>0.932906</td>\n",
       "      <td>0.142099</td>\n",
       "      <td>0.215267</td>\n",
       "      <td>0.269359</td>\n",
       "    </tr>\n",
       "    <tr>\n",
       "      <th>1</th>\n",
       "      <td>0.799017</td>\n",
       "      <td>0.162723</td>\n",
       "      <td>0.714372</td>\n",
       "      <td>0.727238</td>\n",
       "    </tr>\n",
       "    <tr>\n",
       "      <th>2</th>\n",
       "      <td>0.657881</td>\n",
       "      <td>0.551042</td>\n",
       "      <td>0.095713</td>\n",
       "      <td>0.084746</td>\n",
       "    </tr>\n",
       "    <tr>\n",
       "      <th>3</th>\n",
       "      <td>0.427567</td>\n",
       "      <td>0.781097</td>\n",
       "      <td>0.937765</td>\n",
       "      <td>0.993707</td>\n",
       "    </tr>\n",
       "    <tr>\n",
       "      <th>4</th>\n",
       "      <td>0.170166</td>\n",
       "      <td>0.974302</td>\n",
       "      <td>0.328912</td>\n",
       "      <td>0.058979</td>\n",
       "    </tr>\n",
       "  </tbody>\n",
       "</table>\n",
       "</div>"
      ],
      "text/plain": [
       "          A         B         C         D\n",
       "0  0.932906  0.142099  0.215267  0.269359\n",
       "1  0.799017  0.162723  0.714372  0.727238\n",
       "2  0.657881  0.551042  0.095713  0.084746\n",
       "3  0.427567  0.781097  0.937765  0.993707\n",
       "4  0.170166  0.974302  0.328912  0.058979"
      ]
     },
     "execution_count": 9,
     "metadata": {},
     "output_type": "execute_result"
    }
   ],
   "source": [
    "df.head()"
   ]
  },
  {
   "cell_type": "code",
   "execution_count": 10,
   "metadata": {},
   "outputs": [],
   "source": [
    "df2 = pd.DataFrame({'Categoria':['A','B','C'],'Valores':[35,49,57]})"
   ]
  },
  {
   "cell_type": "code",
   "execution_count": 11,
   "metadata": {},
   "outputs": [
    {
     "data": {
      "text/html": [
       "<div>\n",
       "<style scoped>\n",
       "    .dataframe tbody tr th:only-of-type {\n",
       "        vertical-align: middle;\n",
       "    }\n",
       "\n",
       "    .dataframe tbody tr th {\n",
       "        vertical-align: top;\n",
       "    }\n",
       "\n",
       "    .dataframe thead th {\n",
       "        text-align: right;\n",
       "    }\n",
       "</style>\n",
       "<table border=\"1\" class=\"dataframe\">\n",
       "  <thead>\n",
       "    <tr style=\"text-align: right;\">\n",
       "      <th></th>\n",
       "      <th>Categoria</th>\n",
       "      <th>Valores</th>\n",
       "    </tr>\n",
       "  </thead>\n",
       "  <tbody>\n",
       "    <tr>\n",
       "      <th>0</th>\n",
       "      <td>A</td>\n",
       "      <td>35</td>\n",
       "    </tr>\n",
       "    <tr>\n",
       "      <th>1</th>\n",
       "      <td>B</td>\n",
       "      <td>49</td>\n",
       "    </tr>\n",
       "    <tr>\n",
       "      <th>2</th>\n",
       "      <td>C</td>\n",
       "      <td>57</td>\n",
       "    </tr>\n",
       "  </tbody>\n",
       "</table>\n",
       "</div>"
      ],
      "text/plain": [
       "  Categoria  Valores\n",
       "0         A       35\n",
       "1         B       49\n",
       "2         C       57"
      ]
     },
     "execution_count": 11,
     "metadata": {},
     "output_type": "execute_result"
    }
   ],
   "source": [
    "df2"
   ]
  },
  {
   "cell_type": "markdown",
   "metadata": {},
   "source": [
    "- acessando para comparação graficos do pd"
   ]
  },
  {
   "cell_type": "code",
   "execution_count": 12,
   "metadata": {},
   "outputs": [
    {
     "data": {
      "text/plain": [
       "<matplotlib.axes._subplots.AxesSubplot at 0x7fad9bad3fd0>"
      ]
     },
     "execution_count": 12,
     "metadata": {},
     "output_type": "execute_result"
    },
    {
     "data": {
      "image/png": "[encoded data removed]",
      "text/plain": [
       "<Figure size 432x288 with 1 Axes>"
      ]
     },
     "metadata": {
      "needs_background": "light"
     },
     "output_type": "display_data"
    }
   ],
   "source": [
    "df.plot(kind='scatter',x='A',y='B')"
   ]
  },
  {
   "cell_type": "markdown",
   "metadata": {},
   "source": [
    "- agora utilizando o iplot(), da biblioteca do plotly"
   ]
  },
  {
   "cell_type": "code",
   "execution_count": 15,
   "metadata": {},
   "outputs": [
    {
     "data": {
      "application/vnd.plotly.v1+json": {
       "config": {
        "linkText": "Export to plot.ly",
        "plotlyServerURL": "https://plot.ly",
        "showLink": true
       },
       "data": [
        {
         "line": {
          "color": "rgba(255, 153, 51, 1.0)",
          "dash": "solid",
          "shape": "linear",
          "width": 1.3
         },
         "marker": {
          "size": 12,
          "symbol": "circle"
         },
         "mode": "markers",
         "name": "B",
         "text": "",
         "type": "scatter",
         "x": [
          0.932905871818665,
          0.7990174600691328,
          0.6578805504982351,
          0.42756675450495063,
          0.17016560945553538,
          0.9055605402234296,
          0.28956721012351794,
          0.9526365568361495,
          0.4704206036221772,
          0.15226207946635395,
          0.6033907891545828,
          0.25099507114325215,
          0.005340848698156209,
          0.06533954296997113,
          0.2733035065352758,
          0.7569540823349571,
          0.8287187216757339,
          0.9828434948732078,
          0.8112812748144534,
          0.11076655847239603,
          0.8427519466173623,
          0.48859212569623023,
          0.14388465522460525,
          0.7539262751473198,
          0.44536556957401285,
          0.6697446611280005,
          0.22529636723346758,
          0.1161697303217627,
          0.17033135947771694,
          0.8325617982448972,
          0.5472341085707088,
          0.9669549164451002,
          0.2475954496771967,
          0.7497201100591544,
          0.9614999013831749,
          0.9396975077487425,
          0.7886648046959303,
          0.32590228659881226,
          0.10777157469033649,
          0.9978991786775343,
          0.2858415228843155,
          0.6851206557024384,
          0.38805256481020434,
          0.66109234467044,
          0.8860133534619254,
          0.4213642506242049,
          0.6743198570628508,
          0.6656479537489318,
          0.6065373124800183,
          0.25201673938694813,
          0.05030904571130845,
          0.41401213743180143,
          0.7189393436873426,
          0.929605937977888,
          0.07023729970534354,
          0.24038644001958465,
          0.632063691457217,
          0.22957645221162015,
          0.3195747648987325,
          0.541666475373368,
          0.5441038434692387,
          0.40778259724468047,
          0.225862802881601,
          0.4796028398481794,
          0.324652204581544,
          0.2019367580104594,
          0.10974428746289655,
          0.49763556945229526,
          0.8090999624543773,
          0.2272057880828694,
          0.45397874065463384,
          0.0019187911166977933,
          0.29377614301111055,
          0.38409997076807334,
          0.8271701737676631,
          0.7547418326906155,
          0.36069997849644286,
          0.2192185020931785,
          0.5528882226439371,
          0.20041778808758937,
          0.9888650720711814,
          0.8152424257042555,
          0.268685081062804,
          0.06431056149944225,
          0.6603049664873818,
          0.9327983811523727,
          0.9288223580133821,
          0.39899359519867517,
          0.05168668161792522,
          0.9340152735254715,
          0.862099704697694,
          0.9403696989535826,
          0.4790804197177635,
          0.19592031989218983,
          0.3086533524159172,
          0.22181010617622876,
          0.7582898233439308,
          0.6162874446229667,
          0.8829991970982982,
          0.5875930166320611
         ],
         "y": [
          0.1420989997204274,
          0.16272302776698333,
          0.5510418624633832,
          0.7810968428085451,
          0.974301807852817,
          0.6471915985690905,
          0.21234414860461104,
          0.9076787921118685,
          0.5664836023015972,
          0.7700135430908135,
          0.5253479398485718,
          0.5241714927399055,
          0.4301101655038079,
          0.8199434200022369,
          0.8127534054878676,
          0.047738991932165464,
          0.5349971488824744,
          0.5882683336930767,
          0.5135454203297177,
          0.04071727445935902,
          0.7200244546048392,
          0.8900719747838537,
          0.9865349592432118,
          0.4371129801660866,
          0.3243903451602598,
          0.5076790757069931,
          0.8525163039447864,
          0.566288953632173,
          0.1654817274784377,
          0.29662449110709144,
          0.3477905086317059,
          0.5059376256724428,
          0.6325085839762339,
          0.1448234277272753,
          0.7470284948374725,
          0.29546772497391927,
          0.3552949972380134,
          0.6366411169592828,
          0.4697823842392852,
          0.5319954083505593,
          0.9933995867373235,
          0.9070847709211363,
          0.6667901671187938,
          0.26101265540922325,
          0.330798623844741,
          0.2379799719882747,
          0.7825867856735038,
          0.20795006027228824,
          0.7311397165709611,
          0.48004107134623486,
          0.8661826114431671,
          0.8806199971587744,
          0.9106636500545815,
          0.12768512772204432,
          0.058033915607826,
          0.12820324272821748,
          0.09909743280436667,
          0.4903313130260817,
          0.6367265819917569,
          0.8636576164807224,
          0.33879757104565233,
          0.6733604397968099,
          0.9166751994743604,
          0.8253133157026932,
          0.6193553471911393,
          0.899112078299836,
          0.9577354173244566,
          0.55673671056099,
          0.2887334137560843,
          0.5571212721073879,
          0.19238618294946197,
          0.39814105892230056,
          0.011906309498581402,
          0.15563058187450685,
          0.16007112287112124,
          0.08737201724425192,
          0.43020181136608315,
          0.44598215676077313,
          0.8596018665391401,
          0.012053338547065806,
          0.8455576896774778,
          0.34822730875600516,
          0.5849194869804503,
          0.7212007626939569,
          0.4279290374816803,
          0.2493311030777,
          0.13133372297632728,
          0.32764216948557945,
          0.7019104372779333,
          0.37703502274650014,
          0.2779812489593061,
          0.909981378748785,
          0.5605431426633933,
          0.26479676439354294,
          0.02176661782524547,
          0.7235964641179009,
          0.7164017718719706,
          0.28682585808982264,
          0.9860956241904728,
          0.07634445227262043
         ]
        }
       ],
       "layout": {
        "legend": {
         "bgcolor": "#F5F6F9",
         "font": {
          "color": "#4D5663"
         }
        },
        "paper_bgcolor": "#F5F6F9",
        "plot_bgcolor": "#F5F6F9",
        "template": {
         "data": {
          "bar": [
           {
            "error_x": {
             "color": "#2a3f5f"
            },
            "error_y": {
             "color": "#2a3f5f"
            },
            "marker": {
             "line": {
              "color": "#E5ECF6",
              "width": 0.5
             }
            },
            "type": "bar"
           }
          ],
          "barpolar": [
           {
            "marker": {
             "line": {
              "color": "#E5ECF6",
              "width": 0.5
             }
            },
            "type": "barpolar"
           }
          ],
          "carpet": [
           {
            "aaxis": {
             "endlinecolor": "#2a3f5f",
             "gridcolor": "white",
             "linecolor": "white",
             "minorgridcolor": "white",
             "startlinecolor": "#2a3f5f"
            },
            "baxis": {
             "endlinecolor": "#2a3f5f",
             "gridcolor": "white",
             "linecolor": "white",
             "minorgridcolor": "white",
             "startlinecolor": "#2a3f5f"
            },
            "type": "carpet"
           }
          ],
          "choropleth": [
           {
            "colorbar": {
             "outlinewidth": 0,
             "ticks": ""
            },
            "type": "choropleth"
           }
          ],
          "contour": [
           {
            "colorbar": {
             "outlinewidth": 0,
             "ticks": ""
            },
            "colorscale": [
             [
              0,
              "#0d0887"
             ],
             [
              0.1111111111111111,
              "#46039f"
             ],
             [
              0.2222222222222222,
              "#7201a8"
             ],
             [
              0.3333333333333333,
              "#9c179e"
             ],
             [
              0.4444444444444444,
              "#bd3786"
             ],
             [
              0.5555555555555556,
              "#d8576b"
             ],
             [
              0.6666666666666666,
              "#ed7953"
             ],
             [
              0.7777777777777778,
              "#fb9f3a"
             ],
             [
              0.8888888888888888,
              "#fdca26"
             ],
             [
              1,
              "#f0f921"
             ]
            ],
            "type": "contour"
           }
          ],
          "contourcarpet": [
           {
            "colorbar": {
             "outlinewidth": 0,
             "ticks": ""
            },
            "type": "contourcarpet"
           }
          ],
          "heatmap": [
           {
            "colorbar": {
             "outlinewidth": 0,
             "ticks": ""
            },
            "colorscale": [
             [
              0,
              "#0d0887"
             ],
             [
              0.1111111111111111,
              "#46039f"
             ],
             [
              0.2222222222222222,
              "#7201a8"
             ],
             [
              0.3333333333333333,
              "#9c179e"
             ],
             [
              0.4444444444444444,
              "#bd3786"
             ],
             [
              0.5555555555555556,
              "#d8576b"
             ],
             [
              0.6666666666666666,
              "#ed7953"
             ],
             [
              0.7777777777777778,
              "#fb9f3a"
             ],
             [
              0.8888888888888888,
              "#fdca26"
             ],
             [
              1,
              "#f0f921"
             ]
            ],
            "type": "heatmap"
           }
          ],
          "heatmapgl": [
           {
            "colorbar": {
             "outlinewidth": 0,
             "ticks": ""
            },
            "colorscale": [
             [
              0,
              "#0d0887"
             ],
             [
              0.1111111111111111,
              "#46039f"
             ],
             [
              0.2222222222222222,
              "#7201a8"
             ],
             [
              0.3333333333333333,
              "#9c179e"
             ],
             [
              0.4444444444444444,
              "#bd3786"
             ],
             [
              0.5555555555555556,
              "#d8576b"
             ],
             [
              0.6666666666666666,
              "#ed7953"
             ],
             [
              0.7777777777777778,
              "#fb9f3a"
             ],
             [
              0.8888888888888888,
              "#fdca26"
             ],
             [
              1,
              "#f0f921"
             ]
            ],
            "type": "heatmapgl"
           }
          ],
          "histogram": [
           {
            "marker": {
             "colorbar": {
              "outlinewidth": 0,
              "ticks": ""
             }
            },
            "type": "histogram"
           }
          ],
          "histogram2d": [
           {
            "colorbar": {
             "outlinewidth": 0,
             "ticks": ""
            },
            "colorscale": [
             [
              0,
              "#0d0887"
             ],
             [
              0.1111111111111111,
              "#46039f"
             ],
             [
              0.2222222222222222,
              "#7201a8"
             ],
             [
              0.3333333333333333,
              "#9c179e"
             ],
             [
              0.4444444444444444,
              "#bd3786"
             ],
             [
              0.5555555555555556,
              "#d8576b"
             ],
             [
              0.6666666666666666,
              "#ed7953"
             ],
             [
              0.7777777777777778,
              "#fb9f3a"
             ],
             [
              0.8888888888888888,
              "#fdca26"
             ],
             [
              1,
              "#f0f921"
             ]
            ],
            "type": "histogram2d"
           }
          ],
          "histogram2dcontour": [
           {
            "colorbar": {
             "outlinewidth": 0,
             "ticks": ""
            },
            "colorscale": [
             [
              0,
              "#0d0887"
             ],
             [
              0.1111111111111111,
              "#46039f"
             ],
             [
              0.2222222222222222,
              "#7201a8"
             ],
             [
              0.3333333333333333,
              "#9c179e"
             ],
             [
              0.4444444444444444,
              "#bd3786"
             ],
             [
              0.5555555555555556,
              "#d8576b"
             ],
             [
              0.6666666666666666,
              "#ed7953"
             ],
             [
              0.7777777777777778,
              "#fb9f3a"
             ],
             [
              0.8888888888888888,
              "#fdca26"
             ],
             [
              1,
              "#f0f921"
             ]
            ],
            "type": "histogram2dcontour"
           }
          ],
          "mesh3d": [
           {
            "colorbar": {
             "outlinewidth": 0,
             "ticks": ""
            },
            "type": "mesh3d"
           }
          ],
          "parcoords": [
           {
            "line": {
             "colorbar": {
              "outlinewidth": 0,
              "ticks": ""
             }
            },
            "type": "parcoords"
           }
          ],
          "pie": [
           {
            "automargin": true,
            "type": "pie"
           }
          ],
          "scatter": [
           {
            "marker": {
             "colorbar": {
              "outlinewidth": 0,
              "ticks": ""
             }
            },
            "type": "scatter"
           }
          ],
          "scatter3d": [
           {
            "line": {
             "colorbar": {
              "outlinewidth": 0,
              "ticks": ""
             }
            },
            "marker": {
             "colorbar": {
              "outlinewidth": 0,
              "ticks": ""
             }
            },
            "type": "scatter3d"
           }
          ],
          "scattercarpet": [
           {
            "marker": {
             "colorbar": {
              "outlinewidth": 0,
              "ticks": ""
             }
            },
            "type": "scattercarpet"
           }
          ],
          "scattergeo": [
           {
            "marker": {
             "colorbar": {
              "outlinewidth": 0,
              "ticks": ""
             }
            },
            "type": "scattergeo"
           }
          ],
          "scattergl": [
           {
            "marker": {
             "colorbar": {
              "outlinewidth": 0,
              "ticks": ""
             }
            },
            "type": "scattergl"
           }
          ],
          "scattermapbox": [
           {
            "marker": {
             "colorbar": {
              "outlinewidth": 0,
              "ticks": ""
             }
            },
            "type": "scattermapbox"
           }
          ],
          "scatterpolar": [
           {
            "marker": {
             "colorbar": {
              "outlinewidth": 0,
              "ticks": ""
             }
            },
            "type": "scatterpolar"
           }
          ],
          "scatterpolargl": [
           {
            "marker": {
             "colorbar": {
              "outlinewidth": 0,
              "ticks": ""
             }
            },
            "type": "scatterpolargl"
           }
          ],
          "scatterternary": [
           {
            "marker": {
             "colorbar": {
              "outlinewidth": 0,
              "ticks": ""
             }
            },
            "type": "scatterternary"
           }
          ],
          "surface": [
           {
            "colorbar": {
             "outlinewidth": 0,
             "ticks": ""
            },
            "colorscale": [
             [
              0,
              "#0d0887"
             ],
             [
              0.1111111111111111,
              "#46039f"
             ],
             [
              0.2222222222222222,
              "#7201a8"
             ],
             [
              0.3333333333333333,
              "#9c179e"
             ],
             [
              0.4444444444444444,
              "#bd3786"
             ],
             [
              0.5555555555555556,
              "#d8576b"
             ],
             [
              0.6666666666666666,
              "#ed7953"
             ],
             [
              0.7777777777777778,
              "#fb9f3a"
             ],
             [
              0.8888888888888888,
              "#fdca26"
             ],
             [
              1,
              "#f0f921"
             ]
            ],
            "type": "surface"
           }
          ],
          "table": [
           {
            "cells": {
             "fill": {
              "color": "#EBF0F8"
             },
             "line": {
              "color": "white"
             }
            },
            "header": {
             "fill": {
              "color": "#C8D4E3"
             },
             "line": {
              "color": "white"
             }
            },
            "type": "table"
           }
          ]
         },
         "layout": {
          "annotationdefaults": {
           "arrowcolor": "#2a3f5f",
           "arrowhead": 0,
           "arrowwidth": 1
          },
          "coloraxis": {
           "colorbar": {
            "outlinewidth": 0,
            "ticks": ""
           }
          },
          "colorscale": {
           "diverging": [
            [
             0,
             "#8e0152"
            ],
            [
             0.1,
             "#c51b7d"
            ],
            [
             0.2,
             "#de77ae"
            ],
            [
             0.3,
             "#f1b6da"
            ],
            [
             0.4,
             "#fde0ef"
            ],
            [
             0.5,
             "#f7f7f7"
            ],
            [
             0.6,
             "#e6f5d0"
            ],
            [
             0.7,
             "#b8e186"
            ],
            [
             0.8,
             "#7fbc41"
            ],
            [
             0.9,
             "#4d9221"
            ],
            [
             1,
             "#276419"
            ]
           ],
           "sequential": [
            [
             0,
             "#0d0887"
            ],
            [
             0.1111111111111111,
             "#46039f"
            ],
            [
             0.2222222222222222,
             "#7201a8"
            ],
            [
             0.3333333333333333,
             "#9c179e"
            ],
            [
             0.4444444444444444,
             "#bd3786"
            ],
            [
             0.5555555555555556,
             "#d8576b"
            ],
            [
             0.6666666666666666,
             "#ed7953"
            ],
            [
             0.7777777777777778,
             "#fb9f3a"
            ],
            [
             0.8888888888888888,
             "#fdca26"
            ],
            [
             1,
             "#f0f921"
            ]
           ],
           "sequentialminus": [
            [
             0,
             "#0d0887"
            ],
            [
             0.1111111111111111,
             "#46039f"
            ],
            [
             0.2222222222222222,
             "#7201a8"
            ],
            [
             0.3333333333333333,
             "#9c179e"
            ],
            [
             0.4444444444444444,
             "#bd3786"
            ],
            [
             0.5555555555555556,
             "#d8576b"
            ],
            [
             0.6666666666666666,
             "#ed7953"
            ],
            [
             0.7777777777777778,
             "#fb9f3a"
            ],
            [
             0.8888888888888888,
             "#fdca26"
            ],
            [
             1,
             "#f0f921"
            ]
           ]
          },
          "colorway": [
           "#636efa",
           "#EF553B",
           "#00cc96",
           "#ab63fa",
           "#FFA15A",
           "#19d3f3",
           "#FF6692",
           "#B6E880",
           "#FF97FF",
           "#FECB52"
          ],
          "font": {
           "color": "#2a3f5f"
          },
          "geo": {
           "bgcolor": "white",
           "lakecolor": "white",
           "landcolor": "#E5ECF6",
           "showlakes": true,
           "showland": true,
           "subunitcolor": "white"
          },
          "hoverlabel": {
           "align": "left"
          },
          "hovermode": "closest",
          "mapbox": {
           "style": "light"
          },
          "paper_bgcolor": "white",
          "plot_bgcolor": "#E5ECF6",
          "polar": {
           "angularaxis": {
            "gridcolor": "white",
            "linecolor": "white",
            "ticks": ""
           },
           "bgcolor": "#E5ECF6",
           "radialaxis": {
            "gridcolor": "white",
            "linecolor": "white",
            "ticks": ""
           }
          },
          "scene": {
           "xaxis": {
            "backgroundcolor": "#E5ECF6",
            "gridcolor": "white",
            "gridwidth": 2,
            "linecolor": "white",
            "showbackground": true,
            "ticks": "",
            "zerolinecolor": "white"
           },
           "yaxis": {
            "backgroundcolor": "#E5ECF6",
            "gridcolor": "white",
            "gridwidth": 2,
            "linecolor": "white",
            "showbackground": true,
            "ticks": "",
            "zerolinecolor": "white"
           },
           "zaxis": {
            "backgroundcolor": "#E5ECF6",
            "gridcolor": "white",
            "gridwidth": 2,
            "linecolor": "white",
            "showbackground": true,
            "ticks": "",
            "zerolinecolor": "white"
           }
          },
          "shapedefaults": {
           "line": {
            "color": "#2a3f5f"
           }
          },
          "ternary": {
           "aaxis": {
            "gridcolor": "white",
            "linecolor": "white",
            "ticks": ""
           },
           "baxis": {
            "gridcolor": "white",
            "linecolor": "white",
            "ticks": ""
           },
           "bgcolor": "#E5ECF6",
           "caxis": {
            "gridcolor": "white",
            "linecolor": "white",
            "ticks": ""
           }
          },
          "title": {
           "x": 0.05
          },
          "xaxis": {
           "automargin": true,
           "gridcolor": "white",
           "linecolor": "white",
           "ticks": "",
           "title": {
            "standoff": 15
           },
           "zerolinecolor": "white",
           "zerolinewidth": 2
          },
          "yaxis": {
           "automargin": true,
           "gridcolor": "white",
           "linecolor": "white",
           "ticks": "",
           "title": {
            "standoff": 15
           },
           "zerolinecolor": "white",
           "zerolinewidth": 2
          }
         }
        },
        "title": {
         "font": {
          "color": "#4D5663"
         }
        },
        "xaxis": {
         "gridcolor": "#E1E5ED",
         "showgrid": true,
         "tickfont": {
          "color": "#4D5663"
         },
         "title": {
          "font": {
           "color": "#4D5663"
          },
          "text": ""
         },
         "zerolinecolor": "#E1E5ED"
        },
        "yaxis": {
         "gridcolor": "#E1E5ED",
         "showgrid": true,
         "tickfont": {
          "color": "#4D5663"
         },
         "title": {
          "font": {
           "color": "#4D5663"
          },
          "text": ""
         },
         "zerolinecolor": "#E1E5ED"
        }
       }
      },
      "text/html": [
       "<div>\n",
       "        \n",
       "        \n",
       "            <div id=\"ed6eff62-d360-4a73-ad3a-f072b1e88044\" class=\"plotly-graph-div\" style=\"height:525px; width:100%;\"></div>\n",
       "            <script type=\"text/javascript\">\n",
       "                require([\"plotly\"], function(Plotly) {\n",
       "                    window.PLOTLYENV=window.PLOTLYENV || {};\n",
       "                    window.PLOTLYENV.BASE_URL='https://plot.ly';\n",
       "                    \n",
       "                if (document.getElementById(\"ed6eff62-d360-4a73-ad3a-f072b1e88044\")) {\n",
       "                    Plotly.newPlot(\n",
       "                        'ed6eff62-d360-4a73-ad3a-f072b1e88044',\n",
       "                        [{\"line\": {\"color\": \"rgba(255, 153, 51, 1.0)\", \"dash\": \"solid\", \"shape\": \"linear\", \"width\": 1.3}, \"marker\": {\"size\": 12, \"symbol\": \"circle\"}, \"mode\": \"markers\", \"name\": \"B\", \"text\": \"\", \"type\": \"scatter\", \"x\": [0.932905871818665, 0.7990174600691328, 0.6578805504982351, 0.42756675450495063, 0.17016560945553538, 0.9055605402234296, 0.28956721012351794, 0.9526365568361495, 0.4704206036221772, 0.15226207946635395, 0.6033907891545828, 0.25099507114325215, 0.005340848698156209, 0.06533954296997113, 0.2733035065352758, 0.7569540823349571, 0.8287187216757339, 0.9828434948732078, 0.8112812748144534, 0.11076655847239603, 0.8427519466173623, 0.48859212569623023, 0.14388465522460525, 0.7539262751473198, 0.44536556957401285, 0.6697446611280005, 0.22529636723346758, 0.1161697303217627, 0.17033135947771694, 0.8325617982448972, 0.5472341085707088, 0.9669549164451002, 0.2475954496771967, 0.7497201100591544, 0.9614999013831749, 0.9396975077487425, 0.7886648046959303, 0.32590228659881226, 0.10777157469033649, 0.9978991786775343, 0.2858415228843155, 0.6851206557024384, 0.38805256481020434, 0.66109234467044, 0.8860133534619254, 0.4213642506242049, 0.6743198570628508, 0.6656479537489318, 0.6065373124800183, 0.25201673938694813, 0.05030904571130845, 0.41401213743180143, 0.7189393436873426, 0.929605937977888, 0.07023729970534354, 0.24038644001958465, 0.632063691457217, 0.22957645221162015, 0.3195747648987325, 0.541666475373368, 0.5441038434692387, 0.40778259724468047, 0.225862802881601, 0.4796028398481794, 0.324652204581544, 0.2019367580104594, 0.10974428746289655, 0.49763556945229526, 0.8090999624543773, 0.2272057880828694, 0.45397874065463384, 0.0019187911166977933, 0.29377614301111055, 0.38409997076807334, 0.8271701737676631, 0.7547418326906155, 0.36069997849644286, 0.2192185020931785, 0.5528882226439371, 0.20041778808758937, 0.9888650720711814, 0.8152424257042555, 0.268685081062804, 0.06431056149944225, 0.6603049664873818, 0.9327983811523727, 0.9288223580133821, 0.39899359519867517, 0.05168668161792522, 0.9340152735254715, 0.862099704697694, 0.9403696989535826, 0.4790804197177635, 0.19592031989218983, 0.3086533524159172, 0.22181010617622876, 0.7582898233439308, 0.6162874446229667, 0.8829991970982982, 0.5875930166320611], \"y\": [0.1420989997204274, 0.16272302776698333, 0.5510418624633832, 0.7810968428085451, 0.974301807852817, 0.6471915985690905, 0.21234414860461104, 0.9076787921118685, 0.5664836023015972, 0.7700135430908135, 0.5253479398485718, 0.5241714927399055, 0.4301101655038079, 0.8199434200022369, 0.8127534054878676, 0.047738991932165464, 0.5349971488824744, 0.5882683336930767, 0.5135454203297177, 0.04071727445935902, 0.7200244546048392, 0.8900719747838537, 0.9865349592432118, 0.4371129801660866, 0.3243903451602598, 0.5076790757069931, 0.8525163039447864, 0.566288953632173, 0.1654817274784377, 0.29662449110709144, 0.3477905086317059, 0.5059376256724428, 0.6325085839762339, 0.1448234277272753, 0.7470284948374725, 0.29546772497391927, 0.3552949972380134, 0.6366411169592828, 0.4697823842392852, 0.5319954083505593, 0.9933995867373235, 0.9070847709211363, 0.6667901671187938, 0.26101265540922325, 0.330798623844741, 0.2379799719882747, 0.7825867856735038, 0.20795006027228824, 0.7311397165709611, 0.48004107134623486, 0.8661826114431671, 0.8806199971587744, 0.9106636500545815, 0.12768512772204432, 0.058033915607826, 0.12820324272821748, 0.09909743280436667, 0.4903313130260817, 0.6367265819917569, 0.8636576164807224, 0.33879757104565233, 0.6733604397968099, 0.9166751994743604, 0.8253133157026932, 0.6193553471911393, 0.899112078299836, 0.9577354173244566, 0.55673671056099, 0.2887334137560843, 0.5571212721073879, 0.19238618294946197, 0.39814105892230056, 0.011906309498581402, 0.15563058187450685, 0.16007112287112124, 0.08737201724425192, 0.43020181136608315, 0.44598215676077313, 0.8596018665391401, 0.012053338547065806, 0.8455576896774778, 0.34822730875600516, 0.5849194869804503, 0.7212007626939569, 0.4279290374816803, 0.2493311030777, 0.13133372297632728, 0.32764216948557945, 0.7019104372779333, 0.37703502274650014, 0.2779812489593061, 0.909981378748785, 0.5605431426633933, 0.26479676439354294, 0.02176661782524547, 0.7235964641179009, 0.7164017718719706, 0.28682585808982264, 0.9860956241904728, 0.07634445227262043]}],\n",
       "                        {\"legend\": {\"bgcolor\": \"#F5F6F9\", \"font\": {\"color\": \"#4D5663\"}}, \"paper_bgcolor\": \"#F5F6F9\", \"plot_bgcolor\": \"#F5F6F9\", \"template\": {\"data\": {\"bar\": [{\"error_x\": {\"color\": \"#2a3f5f\"}, \"error_y\": {\"color\": \"#2a3f5f\"}, \"marker\": {\"line\": {\"color\": \"#E5ECF6\", \"width\": 0.5}}, \"type\": \"bar\"}], \"barpolar\": [{\"marker\": {\"line\": {\"color\": \"#E5ECF6\", \"width\": 0.5}}, \"type\": \"barpolar\"}], \"carpet\": [{\"aaxis\": {\"endlinecolor\": \"#2a3f5f\", \"gridcolor\": \"white\", \"linecolor\": \"white\", \"minorgridcolor\": \"white\", \"startlinecolor\": \"#2a3f5f\"}, \"baxis\": {\"endlinecolor\": \"#2a3f5f\", \"gridcolor\": \"white\", \"linecolor\": \"white\", \"minorgridcolor\": \"white\", \"startlinecolor\": \"#2a3f5f\"}, \"type\": \"carpet\"}], \"choropleth\": [{\"colorbar\": {\"outlinewidth\": 0, \"ticks\": \"\"}, \"type\": \"choropleth\"}], \"contour\": [{\"colorbar\": {\"outlinewidth\": 0, \"ticks\": \"\"}, \"colorscale\": [[0.0, \"#0d0887\"], [0.1111111111111111, \"#46039f\"], [0.2222222222222222, \"#7201a8\"], [0.3333333333333333, \"#9c179e\"], [0.4444444444444444, \"#bd3786\"], [0.5555555555555556, \"#d8576b\"], [0.6666666666666666, \"#ed7953\"], [0.7777777777777778, \"#fb9f3a\"], [0.8888888888888888, \"#fdca26\"], [1.0, \"#f0f921\"]], \"type\": \"contour\"}], \"contourcarpet\": [{\"colorbar\": {\"outlinewidth\": 0, \"ticks\": \"\"}, \"type\": \"contourcarpet\"}], \"heatmap\": [{\"colorbar\": {\"outlinewidth\": 0, \"ticks\": \"\"}, \"colorscale\": [[0.0, \"#0d0887\"], [0.1111111111111111, \"#46039f\"], [0.2222222222222222, \"#7201a8\"], [0.3333333333333333, \"#9c179e\"], [0.4444444444444444, \"#bd3786\"], [0.5555555555555556, \"#d8576b\"], [0.6666666666666666, \"#ed7953\"], [0.7777777777777778, \"#fb9f3a\"], [0.8888888888888888, \"#fdca26\"], [1.0, \"#f0f921\"]], \"type\": \"heatmap\"}], \"heatmapgl\": [{\"colorbar\": {\"outlinewidth\": 0, \"ticks\": \"\"}, \"colorscale\": [[0.0, \"#0d0887\"], [0.1111111111111111, \"#46039f\"], [0.2222222222222222, \"#7201a8\"], [0.3333333333333333, \"#9c179e\"], [0.4444444444444444, \"#bd3786\"], [0.5555555555555556, \"#d8576b\"], [0.6666666666666666, \"#ed7953\"], [0.7777777777777778, \"#fb9f3a\"], [0.8888888888888888, \"#fdca26\"], [1.0, \"#f0f921\"]], \"type\": \"heatmapgl\"}], \"histogram\": [{\"marker\": {\"colorbar\": {\"outlinewidth\": 0, \"ticks\": \"\"}}, \"type\": \"histogram\"}], \"histogram2d\": [{\"colorbar\": {\"outlinewidth\": 0, \"ticks\": \"\"}, \"colorscale\": [[0.0, \"#0d0887\"], [0.1111111111111111, \"#46039f\"], [0.2222222222222222, \"#7201a8\"], [0.3333333333333333, \"#9c179e\"], [0.4444444444444444, \"#bd3786\"], [0.5555555555555556, \"#d8576b\"], [0.6666666666666666, \"#ed7953\"], [0.7777777777777778, \"#fb9f3a\"], [0.8888888888888888, \"#fdca26\"], [1.0, \"#f0f921\"]], \"type\": \"histogram2d\"}], \"histogram2dcontour\": [{\"colorbar\": {\"outlinewidth\": 0, \"ticks\": \"\"}, \"colorscale\": [[0.0, \"#0d0887\"], [0.1111111111111111, \"#46039f\"], [0.2222222222222222, \"#7201a8\"], [0.3333333333333333, \"#9c179e\"], [0.4444444444444444, \"#bd3786\"], [0.5555555555555556, \"#d8576b\"], [0.6666666666666666, \"#ed7953\"], [0.7777777777777778, \"#fb9f3a\"], [0.8888888888888888, \"#fdca26\"], [1.0, \"#f0f921\"]], \"type\": \"histogram2dcontour\"}], \"mesh3d\": [{\"colorbar\": {\"outlinewidth\": 0, \"ticks\": \"\"}, \"type\": \"mesh3d\"}], \"parcoords\": [{\"line\": {\"colorbar\": {\"outlinewidth\": 0, \"ticks\": \"\"}}, \"type\": \"parcoords\"}], \"pie\": [{\"automargin\": true, \"type\": \"pie\"}], \"scatter\": [{\"marker\": {\"colorbar\": {\"outlinewidth\": 0, \"ticks\": \"\"}}, \"type\": \"scatter\"}], \"scatter3d\": [{\"line\": {\"colorbar\": {\"outlinewidth\": 0, \"ticks\": \"\"}}, \"marker\": {\"colorbar\": {\"outlinewidth\": 0, \"ticks\": \"\"}}, \"type\": \"scatter3d\"}], \"scattercarpet\": [{\"marker\": {\"colorbar\": {\"outlinewidth\": 0, \"ticks\": \"\"}}, \"type\": \"scattercarpet\"}], \"scattergeo\": [{\"marker\": {\"colorbar\": {\"outlinewidth\": 0, \"ticks\": \"\"}}, \"type\": \"scattergeo\"}], \"scattergl\": [{\"marker\": {\"colorbar\": {\"outlinewidth\": 0, \"ticks\": \"\"}}, \"type\": \"scattergl\"}], \"scattermapbox\": [{\"marker\": {\"colorbar\": {\"outlinewidth\": 0, \"ticks\": \"\"}}, \"type\": \"scattermapbox\"}], \"scatterpolar\": [{\"marker\": {\"colorbar\": {\"outlinewidth\": 0, \"ticks\": \"\"}}, \"type\": \"scatterpolar\"}], \"scatterpolargl\": [{\"marker\": {\"colorbar\": {\"outlinewidth\": 0, \"ticks\": \"\"}}, \"type\": \"scatterpolargl\"}], \"scatterternary\": [{\"marker\": {\"colorbar\": {\"outlinewidth\": 0, \"ticks\": \"\"}}, \"type\": \"scatterternary\"}], \"surface\": [{\"colorbar\": {\"outlinewidth\": 0, \"ticks\": \"\"}, \"colorscale\": [[0.0, \"#0d0887\"], [0.1111111111111111, \"#46039f\"], [0.2222222222222222, \"#7201a8\"], [0.3333333333333333, \"#9c179e\"], [0.4444444444444444, \"#bd3786\"], [0.5555555555555556, \"#d8576b\"], [0.6666666666666666, \"#ed7953\"], [0.7777777777777778, \"#fb9f3a\"], [0.8888888888888888, \"#fdca26\"], [1.0, \"#f0f921\"]], \"type\": \"surface\"}], \"table\": [{\"cells\": {\"fill\": {\"color\": \"#EBF0F8\"}, \"line\": {\"color\": \"white\"}}, \"header\": {\"fill\": {\"color\": \"#C8D4E3\"}, \"line\": {\"color\": \"white\"}}, \"type\": \"table\"}]}, \"layout\": {\"annotationdefaults\": {\"arrowcolor\": \"#2a3f5f\", \"arrowhead\": 0, \"arrowwidth\": 1}, \"coloraxis\": {\"colorbar\": {\"outlinewidth\": 0, \"ticks\": \"\"}}, \"colorscale\": {\"diverging\": [[0, \"#8e0152\"], [0.1, \"#c51b7d\"], [0.2, \"#de77ae\"], [0.3, \"#f1b6da\"], [0.4, \"#fde0ef\"], [0.5, \"#f7f7f7\"], [0.6, \"#e6f5d0\"], [0.7, \"#b8e186\"], [0.8, \"#7fbc41\"], [0.9, \"#4d9221\"], [1, \"#276419\"]], \"sequential\": [[0.0, \"#0d0887\"], [0.1111111111111111, \"#46039f\"], [0.2222222222222222, \"#7201a8\"], [0.3333333333333333, \"#9c179e\"], [0.4444444444444444, \"#bd3786\"], [0.5555555555555556, \"#d8576b\"], [0.6666666666666666, \"#ed7953\"], [0.7777777777777778, \"#fb9f3a\"], [0.8888888888888888, \"#fdca26\"], [1.0, \"#f0f921\"]], \"sequentialminus\": [[0.0, \"#0d0887\"], [0.1111111111111111, \"#46039f\"], [0.2222222222222222, \"#7201a8\"], [0.3333333333333333, \"#9c179e\"], [0.4444444444444444, \"#bd3786\"], [0.5555555555555556, \"#d8576b\"], [0.6666666666666666, \"#ed7953\"], [0.7777777777777778, \"#fb9f3a\"], [0.8888888888888888, \"#fdca26\"], [1.0, \"#f0f921\"]]}, \"colorway\": [\"#636efa\", \"#EF553B\", \"#00cc96\", \"#ab63fa\", \"#FFA15A\", \"#19d3f3\", \"#FF6692\", \"#B6E880\", \"#FF97FF\", \"#FECB52\"], \"font\": {\"color\": \"#2a3f5f\"}, \"geo\": {\"bgcolor\": \"white\", \"lakecolor\": \"white\", \"landcolor\": \"#E5ECF6\", \"showlakes\": true, \"showland\": true, \"subunitcolor\": \"white\"}, \"hoverlabel\": {\"align\": \"left\"}, \"hovermode\": \"closest\", \"mapbox\": {\"style\": \"light\"}, \"paper_bgcolor\": \"white\", \"plot_bgcolor\": \"#E5ECF6\", \"polar\": {\"angularaxis\": {\"gridcolor\": \"white\", \"linecolor\": \"white\", \"ticks\": \"\"}, \"bgcolor\": \"#E5ECF6\", \"radialaxis\": {\"gridcolor\": \"white\", \"linecolor\": \"white\", \"ticks\": \"\"}}, \"scene\": {\"xaxis\": {\"backgroundcolor\": \"#E5ECF6\", \"gridcolor\": \"white\", \"gridwidth\": 2, \"linecolor\": \"white\", \"showbackground\": true, \"ticks\": \"\", \"zerolinecolor\": \"white\"}, \"yaxis\": {\"backgroundcolor\": \"#E5ECF6\", \"gridcolor\": \"white\", \"gridwidth\": 2, \"linecolor\": \"white\", \"showbackground\": true, \"ticks\": \"\", \"zerolinecolor\": \"white\"}, \"zaxis\": {\"backgroundcolor\": \"#E5ECF6\", \"gridcolor\": \"white\", \"gridwidth\": 2, \"linecolor\": \"white\", \"showbackground\": true, \"ticks\": \"\", \"zerolinecolor\": \"white\"}}, \"shapedefaults\": {\"line\": {\"color\": \"#2a3f5f\"}}, \"ternary\": {\"aaxis\": {\"gridcolor\": \"white\", \"linecolor\": \"white\", \"ticks\": \"\"}, \"baxis\": {\"gridcolor\": \"white\", \"linecolor\": \"white\", \"ticks\": \"\"}, \"bgcolor\": \"#E5ECF6\", \"caxis\": {\"gridcolor\": \"white\", \"linecolor\": \"white\", \"ticks\": \"\"}}, \"title\": {\"x\": 0.05}, \"xaxis\": {\"automargin\": true, \"gridcolor\": \"white\", \"linecolor\": \"white\", \"ticks\": \"\", \"title\": {\"standoff\": 15}, \"zerolinecolor\": \"white\", \"zerolinewidth\": 2}, \"yaxis\": {\"automargin\": true, \"gridcolor\": \"white\", \"linecolor\": \"white\", \"ticks\": \"\", \"title\": {\"standoff\": 15}, \"zerolinecolor\": \"white\", \"zerolinewidth\": 2}}}, \"title\": {\"font\": {\"color\": \"#4D5663\"}}, \"xaxis\": {\"gridcolor\": \"#E1E5ED\", \"showgrid\": true, \"tickfont\": {\"color\": \"#4D5663\"}, \"title\": {\"font\": {\"color\": \"#4D5663\"}, \"text\": \"\"}, \"zerolinecolor\": \"#E1E5ED\"}, \"yaxis\": {\"gridcolor\": \"#E1E5ED\", \"showgrid\": true, \"tickfont\": {\"color\": \"#4D5663\"}, \"title\": {\"font\": {\"color\": \"#4D5663\"}, \"text\": \"\"}, \"zerolinecolor\": \"#E1E5ED\"}},\n",
       "                        {\"showLink\": true, \"linkText\": \"Export to plot.ly\", \"plotlyServerURL\": \"https://plot.ly\", \"responsive\": true}\n",
       "                    ).then(function(){\n",
       "                            \n",
       "var gd = document.getElementById('ed6eff62-d360-4a73-ad3a-f072b1e88044');\n",
       "var x = new MutationObserver(function (mutations, observer) {{\n",
       "        var display = window.getComputedStyle(gd).display;\n",
       "        if (!display || display === 'none') {{\n",
       "            console.log([gd, 'removed!']);\n",
       "            Plotly.purge(gd);\n",
       "            observer.disconnect();\n",
       "        }}\n",
       "}});\n",
       "\n",
       "// Listen for the removal of the full notebook cells\n",
       "var notebookContainer = gd.closest('#notebook-container');\n",
       "if (notebookContainer) {{\n",
       "    x.observe(notebookContainer, {childList: true});\n",
       "}}\n",
       "\n",
       "// Listen for the clearing of the current output cell\n",
       "var outputEl = gd.closest('.output');\n",
       "if (outputEl) {{\n",
       "    x.observe(outputEl, {childList: true});\n",
       "}}\n",
       "\n",
       "                        })\n",
       "                };\n",
       "                });\n",
       "            </script>\n",
       "        </div>"
      ]
     },
     "metadata": {},
     "output_type": "display_data"
    }
   ],
   "source": [
    "df.iplot(kind='scatter',x='A',y='B',mode='markers')"
   ]
  },
  {
   "cell_type": "markdown",
   "metadata": {},
   "source": [
    "- É possível observar diversas opções de zoom, seleção, visualização do número correspondente de cada ponto"
   ]
  },
  {
   "cell_type": "code",
   "execution_count": 17,
   "metadata": {},
   "outputs": [
    {
     "data": {
      "application/vnd.plotly.v1+json": {
       "config": {
        "linkText": "Export to plot.ly",
        "plotlyServerURL": "https://plot.ly",
        "showLink": true
       },
       "data": [
        {
         "marker": {
          "color": "rgba(255, 153, 51, 0.6)",
          "line": {
           "color": "rgba(255, 153, 51, 1.0)",
           "width": 1
          }
         },
         "name": "Valores",
         "orientation": "v",
         "text": "",
         "type": "bar",
         "x": [
          "A",
          "B",
          "C"
         ],
         "y": [
          35,
          49,
          57
         ]
        }
       ],
       "layout": {
        "legend": {
         "bgcolor": "#F5F6F9",
         "font": {
          "color": "#4D5663"
         }
        },
        "paper_bgcolor": "#F5F6F9",
        "plot_bgcolor": "#F5F6F9",
        "template": {
         "data": {
          "bar": [
           {
            "error_x": {
             "color": "#2a3f5f"
            },
            "error_y": {
             "color": "#2a3f5f"
            },
            "marker": {
             "line": {
              "color": "#E5ECF6",
              "width": 0.5
             }
            },
            "type": "bar"
           }
          ],
          "barpolar": [
           {
            "marker": {
             "line": {
              "color": "#E5ECF6",
              "width": 0.5
             }
            },
            "type": "barpolar"
           }
          ],
          "carpet": [
           {
            "aaxis": {
             "endlinecolor": "#2a3f5f",
             "gridcolor": "white",
             "linecolor": "white",
             "minorgridcolor": "white",
             "startlinecolor": "#2a3f5f"
            },
            "baxis": {
             "endlinecolor": "#2a3f5f",
             "gridcolor": "white",
             "linecolor": "white",
             "minorgridcolor": "white",
             "startlinecolor": "#2a3f5f"
            },
            "type": "carpet"
           }
          ],
          "choropleth": [
           {
            "colorbar": {
             "outlinewidth": 0,
             "ticks": ""
            },
            "type": "choropleth"
           }
          ],
          "contour": [
           {
            "colorbar": {
             "outlinewidth": 0,
             "ticks": ""
            },
            "colorscale": [
             [
              0,
              "#0d0887"
             ],
             [
              0.1111111111111111,
              "#46039f"
             ],
             [
              0.2222222222222222,
              "#7201a8"
             ],
             [
              0.3333333333333333,
              "#9c179e"
             ],
             [
              0.4444444444444444,
              "#bd3786"
             ],
             [
              0.5555555555555556,
              "#d8576b"
             ],
             [
              0.6666666666666666,
              "#ed7953"
             ],
             [
              0.7777777777777778,
              "#fb9f3a"
             ],
             [
              0.8888888888888888,
              "#fdca26"
             ],
             [
              1,
              "#f0f921"
             ]
            ],
            "type": "contour"
           }
          ],
          "contourcarpet": [
           {
            "colorbar": {
             "outlinewidth": 0,
             "ticks": ""
            },
            "type": "contourcarpet"
           }
          ],
          "heatmap": [
           {
            "colorbar": {
             "outlinewidth": 0,
             "ticks": ""
            },
            "colorscale": [
             [
              0,
              "#0d0887"
             ],
             [
              0.1111111111111111,
              "#46039f"
             ],
             [
              0.2222222222222222,
              "#7201a8"
             ],
             [
              0.3333333333333333,
              "#9c179e"
             ],
             [
              0.4444444444444444,
              "#bd3786"
             ],
             [
              0.5555555555555556,
              "#d8576b"
             ],
             [
              0.6666666666666666,
              "#ed7953"
             ],
             [
              0.7777777777777778,
              "#fb9f3a"
             ],
             [
              0.8888888888888888,
              "#fdca26"
             ],
             [
              1,
              "#f0f921"
             ]
            ],
            "type": "heatmap"
           }
          ],
          "heatmapgl": [
           {
            "colorbar": {
             "outlinewidth": 0,
             "ticks": ""
            },
            "colorscale": [
             [
              0,
              "#0d0887"
             ],
             [
              0.1111111111111111,
              "#46039f"
             ],
             [
              0.2222222222222222,
              "#7201a8"
             ],
             [
              0.3333333333333333,
              "#9c179e"
             ],
             [
              0.4444444444444444,
              "#bd3786"
             ],
             [
              0.5555555555555556,
              "#d8576b"
             ],
             [
              0.6666666666666666,
              "#ed7953"
             ],
             [
              0.7777777777777778,
              "#fb9f3a"
             ],
             [
              0.8888888888888888,
              "#fdca26"
             ],
             [
              1,
              "#f0f921"
             ]
            ],
            "type": "heatmapgl"
           }
          ],
          "histogram": [
           {
            "marker": {
             "colorbar": {
              "outlinewidth": 0,
              "ticks": ""
             }
            },
            "type": "histogram"
           }
          ],
          "histogram2d": [
           {
            "colorbar": {
             "outlinewidth": 0,
             "ticks": ""
            },
            "colorscale": [
             [
              0,
              "#0d0887"
             ],
             [
              0.1111111111111111,
              "#46039f"
             ],
             [
              0.2222222222222222,
              "#7201a8"
             ],
             [
              0.3333333333333333,
              "#9c179e"
             ],
             [
              0.4444444444444444,
              "#bd3786"
             ],
             [
              0.5555555555555556,
              "#d8576b"
             ],
             [
              0.6666666666666666,
              "#ed7953"
             ],
             [
              0.7777777777777778,
              "#fb9f3a"
             ],
             [
              0.8888888888888888,
              "#fdca26"
             ],
             [
              1,
              "#f0f921"
             ]
            ],
            "type": "histogram2d"
           }
          ],
          "histogram2dcontour": [
           {
            "colorbar": {
             "outlinewidth": 0,
             "ticks": ""
            },
            "colorscale": [
             [
              0,
              "#0d0887"
             ],
             [
              0.1111111111111111,
              "#46039f"
             ],
             [
              0.2222222222222222,
              "#7201a8"
             ],
             [
              0.3333333333333333,
              "#9c179e"
             ],
             [
              0.4444444444444444,
              "#bd3786"
             ],
             [
              0.5555555555555556,
              "#d8576b"
             ],
             [
              0.6666666666666666,
              "#ed7953"
             ],
             [
              0.7777777777777778,
              "#fb9f3a"
             ],
             [
              0.8888888888888888,
              "#fdca26"
             ],
             [
              1,
              "#f0f921"
             ]
            ],
            "type": "histogram2dcontour"
           }
          ],
          "mesh3d": [
           {
            "colorbar": {
             "outlinewidth": 0,
             "ticks": ""
            },
            "type": "mesh3d"
           }
          ],
          "parcoords": [
           {
            "line": {
             "colorbar": {
              "outlinewidth": 0,
              "ticks": ""
             }
            },
            "type": "parcoords"
           }
          ],
          "pie": [
           {
            "automargin": true,
            "type": "pie"
           }
          ],
          "scatter": [
           {
            "marker": {
             "colorbar": {
              "outlinewidth": 0,
              "ticks": ""
             }
            },
            "type": "scatter"
           }
          ],
          "scatter3d": [
           {
            "line": {
             "colorbar": {
              "outlinewidth": 0,
              "ticks": ""
             }
            },
            "marker": {
             "colorbar": {
              "outlinewidth": 0,
              "ticks": ""
             }
            },
            "type": "scatter3d"
           }
          ],
          "scattercarpet": [
           {
            "marker": {
             "colorbar": {
              "outlinewidth": 0,
              "ticks": ""
             }
            },
            "type": "scattercarpet"
           }
          ],
          "scattergeo": [
           {
            "marker": {
             "colorbar": {
              "outlinewidth": 0,
              "ticks": ""
             }
            },
            "type": "scattergeo"
           }
          ],
          "scattergl": [
           {
            "marker": {
             "colorbar": {
              "outlinewidth": 0,
              "ticks": ""
             }
            },
            "type": "scattergl"
           }
          ],
          "scattermapbox": [
           {
            "marker": {
             "colorbar": {
              "outlinewidth": 0,
              "ticks": ""
             }
            },
            "type": "scattermapbox"
           }
          ],
          "scatterpolar": [
           {
            "marker": {
             "colorbar": {
              "outlinewidth": 0,
              "ticks": ""
             }
            },
            "type": "scatterpolar"
           }
          ],
          "scatterpolargl": [
           {
            "marker": {
             "colorbar": {
              "outlinewidth": 0,
              "ticks": ""
             }
            },
            "type": "scatterpolargl"
           }
          ],
          "scatterternary": [
           {
            "marker": {
             "colorbar": {
              "outlinewidth": 0,
              "ticks": ""
             }
            },
            "type": "scatterternary"
           }
          ],
          "surface": [
           {
            "colorbar": {
             "outlinewidth": 0,
             "ticks": ""
            },
            "colorscale": [
             [
              0,
              "#0d0887"
             ],
             [
              0.1111111111111111,
              "#46039f"
             ],
             [
              0.2222222222222222,
              "#7201a8"
             ],
             [
              0.3333333333333333,
              "#9c179e"
             ],
             [
              0.4444444444444444,
              "#bd3786"
             ],
             [
              0.5555555555555556,
              "#d8576b"
             ],
             [
              0.6666666666666666,
              "#ed7953"
             ],
             [
              0.7777777777777778,
              "#fb9f3a"
             ],
             [
              0.8888888888888888,
              "#fdca26"
             ],
             [
              1,
              "#f0f921"
             ]
            ],
            "type": "surface"
           }
          ],
          "table": [
           {
            "cells": {
             "fill": {
              "color": "#EBF0F8"
             },
             "line": {
              "color": "white"
             }
            },
            "header": {
             "fill": {
              "color": "#C8D4E3"
             },
             "line": {
              "color": "white"
             }
            },
            "type": "table"
           }
          ]
         },
         "layout": {
          "annotationdefaults": {
           "arrowcolor": "#2a3f5f",
           "arrowhead": 0,
           "arrowwidth": 1
          },
          "coloraxis": {
           "colorbar": {
            "outlinewidth": 0,
            "ticks": ""
           }
          },
          "colorscale": {
           "diverging": [
            [
             0,
             "#8e0152"
            ],
            [
             0.1,
             "#c51b7d"
            ],
            [
             0.2,
             "#de77ae"
            ],
            [
             0.3,
             "#f1b6da"
            ],
            [
             0.4,
             "#fde0ef"
            ],
            [
             0.5,
             "#f7f7f7"
            ],
            [
             0.6,
             "#e6f5d0"
            ],
            [
             0.7,
             "#b8e186"
            ],
            [
             0.8,
             "#7fbc41"
            ],
            [
             0.9,
             "#4d9221"
            ],
            [
             1,
             "#276419"
            ]
           ],
           "sequential": [
            [
             0,
             "#0d0887"
            ],
            [
             0.1111111111111111,
             "#46039f"
            ],
            [
             0.2222222222222222,
             "#7201a8"
            ],
            [
             0.3333333333333333,
             "#9c179e"
            ],
            [
             0.4444444444444444,
             "#bd3786"
            ],
            [
             0.5555555555555556,
             "#d8576b"
            ],
            [
             0.6666666666666666,
             "#ed7953"
            ],
            [
             0.7777777777777778,
             "#fb9f3a"
            ],
            [
             0.8888888888888888,
             "#fdca26"
            ],
            [
             1,
             "#f0f921"
            ]
           ],
           "sequentialminus": [
            [
             0,
             "#0d0887"
            ],
            [
             0.1111111111111111,
             "#46039f"
            ],
            [
             0.2222222222222222,
             "#7201a8"
            ],
            [
             0.3333333333333333,
             "#9c179e"
            ],
            [
             0.4444444444444444,
             "#bd3786"
            ],
            [
             0.5555555555555556,
             "#d8576b"
            ],
            [
             0.6666666666666666,
             "#ed7953"
            ],
            [
             0.7777777777777778,
             "#fb9f3a"
            ],
            [
             0.8888888888888888,
             "#fdca26"
            ],
            [
             1,
             "#f0f921"
            ]
           ]
          },
          "colorway": [
           "#636efa",
           "#EF553B",
           "#00cc96",
           "#ab63fa",
           "#FFA15A",
           "#19d3f3",
           "#FF6692",
           "#B6E880",
           "#FF97FF",
           "#FECB52"
          ],
          "font": {
           "color": "#2a3f5f"
          },
          "geo": {
           "bgcolor": "white",
           "lakecolor": "white",
           "landcolor": "#E5ECF6",
           "showlakes": true,
           "showland": true,
           "subunitcolor": "white"
          },
          "hoverlabel": {
           "align": "left"
          },
          "hovermode": "closest",
          "mapbox": {
           "style": "light"
          },
          "paper_bgcolor": "white",
          "plot_bgcolor": "#E5ECF6",
          "polar": {
           "angularaxis": {
            "gridcolor": "white",
            "linecolor": "white",
            "ticks": ""
           },
           "bgcolor": "#E5ECF6",
           "radialaxis": {
            "gridcolor": "white",
            "linecolor": "white",
            "ticks": ""
           }
          },
          "scene": {
           "xaxis": {
            "backgroundcolor": "#E5ECF6",
            "gridcolor": "white",
            "gridwidth": 2,
            "linecolor": "white",
            "showbackground": true,
            "ticks": "",
            "zerolinecolor": "white"
           },
           "yaxis": {
            "backgroundcolor": "#E5ECF6",
            "gridcolor": "white",
            "gridwidth": 2,
            "linecolor": "white",
            "showbackground": true,
            "ticks": "",
            "zerolinecolor": "white"
           },
           "zaxis": {
            "backgroundcolor": "#E5ECF6",
            "gridcolor": "white",
            "gridwidth": 2,
            "linecolor": "white",
            "showbackground": true,
            "ticks": "",
            "zerolinecolor": "white"
           }
          },
          "shapedefaults": {
           "line": {
            "color": "#2a3f5f"
           }
          },
          "ternary": {
           "aaxis": {
            "gridcolor": "white",
            "linecolor": "white",
            "ticks": ""
           },
           "baxis": {
            "gridcolor": "white",
            "linecolor": "white",
            "ticks": ""
           },
           "bgcolor": "#E5ECF6",
           "caxis": {
            "gridcolor": "white",
            "linecolor": "white",
            "ticks": ""
           }
          },
          "title": {
           "x": 0.05
          },
          "xaxis": {
           "automargin": true,
           "gridcolor": "white",
           "linecolor": "white",
           "ticks": "",
           "title": {
            "standoff": 15
           },
           "zerolinecolor": "white",
           "zerolinewidth": 2
          },
          "yaxis": {
           "automargin": true,
           "gridcolor": "white",
           "linecolor": "white",
           "ticks": "",
           "title": {
            "standoff": 15
           },
           "zerolinecolor": "white",
           "zerolinewidth": 2
          }
         }
        },
        "title": {
         "font": {
          "color": "#4D5663"
         }
        },
        "xaxis": {
         "gridcolor": "#E1E5ED",
         "showgrid": true,
         "tickfont": {
          "color": "#4D5663"
         },
         "title": {
          "font": {
           "color": "#4D5663"
          },
          "text": ""
         },
         "zerolinecolor": "#E1E5ED"
        },
        "yaxis": {
         "gridcolor": "#E1E5ED",
         "showgrid": true,
         "tickfont": {
          "color": "#4D5663"
         },
         "title": {
          "font": {
           "color": "#4D5663"
          },
          "text": ""
         },
         "zerolinecolor": "#E1E5ED"
        }
       }
      },
      "text/html": [
       "<div>\n",
       "        \n",
       "        \n",
       "            <div id=\"d3aa8889-60b6-40fe-8770-5a838e66139c\" class=\"plotly-graph-div\" style=\"height:525px; width:100%;\"></div>\n",
       "            <script type=\"text/javascript\">\n",
       "                require([\"plotly\"], function(Plotly) {\n",
       "                    window.PLOTLYENV=window.PLOTLYENV || {};\n",
       "                    window.PLOTLYENV.BASE_URL='https://plot.ly';\n",
       "                    \n",
       "                if (document.getElementById(\"d3aa8889-60b6-40fe-8770-5a838e66139c\")) {\n",
       "                    Plotly.newPlot(\n",
       "                        'd3aa8889-60b6-40fe-8770-5a838e66139c',\n",
       "                        [{\"marker\": {\"color\": \"rgba(255, 153, 51, 0.6)\", \"line\": {\"color\": \"rgba(255, 153, 51, 1.0)\", \"width\": 1}}, \"name\": \"Valores\", \"orientation\": \"v\", \"text\": \"\", \"type\": \"bar\", \"x\": [\"A\", \"B\", \"C\"], \"y\": [35, 49, 57]}],\n",
       "                        {\"legend\": {\"bgcolor\": \"#F5F6F9\", \"font\": {\"color\": \"#4D5663\"}}, \"paper_bgcolor\": \"#F5F6F9\", \"plot_bgcolor\": \"#F5F6F9\", \"template\": {\"data\": {\"bar\": [{\"error_x\": {\"color\": \"#2a3f5f\"}, \"error_y\": {\"color\": \"#2a3f5f\"}, \"marker\": {\"line\": {\"color\": \"#E5ECF6\", \"width\": 0.5}}, \"type\": \"bar\"}], \"barpolar\": [{\"marker\": {\"line\": {\"color\": \"#E5ECF6\", \"width\": 0.5}}, \"type\": \"barpolar\"}], \"carpet\": [{\"aaxis\": {\"endlinecolor\": \"#2a3f5f\", \"gridcolor\": \"white\", \"linecolor\": \"white\", \"minorgridcolor\": \"white\", \"startlinecolor\": \"#2a3f5f\"}, \"baxis\": {\"endlinecolor\": \"#2a3f5f\", \"gridcolor\": \"white\", \"linecolor\": \"white\", \"minorgridcolor\": \"white\", \"startlinecolor\": \"#2a3f5f\"}, \"type\": \"carpet\"}], \"choropleth\": [{\"colorbar\": {\"outlinewidth\": 0, \"ticks\": \"\"}, \"type\": \"choropleth\"}], \"contour\": [{\"colorbar\": {\"outlinewidth\": 0, \"ticks\": \"\"}, \"colorscale\": [[0.0, \"#0d0887\"], [0.1111111111111111, \"#46039f\"], [0.2222222222222222, \"#7201a8\"], [0.3333333333333333, \"#9c179e\"], [0.4444444444444444, \"#bd3786\"], [0.5555555555555556, \"#d8576b\"], [0.6666666666666666, \"#ed7953\"], [0.7777777777777778, \"#fb9f3a\"], [0.8888888888888888, \"#fdca26\"], [1.0, \"#f0f921\"]], \"type\": \"contour\"}], \"contourcarpet\": [{\"colorbar\": {\"outlinewidth\": 0, \"ticks\": \"\"}, \"type\": \"contourcarpet\"}], \"heatmap\": [{\"colorbar\": {\"outlinewidth\": 0, \"ticks\": \"\"}, \"colorscale\": [[0.0, \"#0d0887\"], [0.1111111111111111, \"#46039f\"], [0.2222222222222222, \"#7201a8\"], [0.3333333333333333, \"#9c179e\"], [0.4444444444444444, \"#bd3786\"], [0.5555555555555556, \"#d8576b\"], [0.6666666666666666, \"#ed7953\"], [0.7777777777777778, \"#fb9f3a\"], [0.8888888888888888, \"#fdca26\"], [1.0, \"#f0f921\"]], \"type\": \"heatmap\"}], \"heatmapgl\": [{\"colorbar\": {\"outlinewidth\": 0, \"ticks\": \"\"}, \"colorscale\": [[0.0, \"#0d0887\"], [0.1111111111111111, \"#46039f\"], [0.2222222222222222, \"#7201a8\"], [0.3333333333333333, \"#9c179e\"], [0.4444444444444444, \"#bd3786\"], [0.5555555555555556, \"#d8576b\"], [0.6666666666666666, \"#ed7953\"], [0.7777777777777778, \"#fb9f3a\"], [0.8888888888888888, \"#fdca26\"], [1.0, \"#f0f921\"]], \"type\": \"heatmapgl\"}], \"histogram\": [{\"marker\": {\"colorbar\": {\"outlinewidth\": 0, \"ticks\": \"\"}}, \"type\": \"histogram\"}], \"histogram2d\": [{\"colorbar\": {\"outlinewidth\": 0, \"ticks\": \"\"}, \"colorscale\": [[0.0, \"#0d0887\"], [0.1111111111111111, \"#46039f\"], [0.2222222222222222, \"#7201a8\"], [0.3333333333333333, \"#9c179e\"], [0.4444444444444444, \"#bd3786\"], [0.5555555555555556, \"#d8576b\"], [0.6666666666666666, \"#ed7953\"], [0.7777777777777778, \"#fb9f3a\"], [0.8888888888888888, \"#fdca26\"], [1.0, \"#f0f921\"]], \"type\": \"histogram2d\"}], \"histogram2dcontour\": [{\"colorbar\": {\"outlinewidth\": 0, \"ticks\": \"\"}, \"colorscale\": [[0.0, \"#0d0887\"], [0.1111111111111111, \"#46039f\"], [0.2222222222222222, \"#7201a8\"], [0.3333333333333333, \"#9c179e\"], [0.4444444444444444, \"#bd3786\"], [0.5555555555555556, \"#d8576b\"], [0.6666666666666666, \"#ed7953\"], [0.7777777777777778, \"#fb9f3a\"], [0.8888888888888888, \"#fdca26\"], [1.0, \"#f0f921\"]], \"type\": \"histogram2dcontour\"}], \"mesh3d\": [{\"colorbar\": {\"outlinewidth\": 0, \"ticks\": \"\"}, \"type\": \"mesh3d\"}], \"parcoords\": [{\"line\": {\"colorbar\": {\"outlinewidth\": 0, \"ticks\": \"\"}}, \"type\": \"parcoords\"}], \"pie\": [{\"automargin\": true, \"type\": \"pie\"}], \"scatter\": [{\"marker\": {\"colorbar\": {\"outlinewidth\": 0, \"ticks\": \"\"}}, \"type\": \"scatter\"}], \"scatter3d\": [{\"line\": {\"colorbar\": {\"outlinewidth\": 0, \"ticks\": \"\"}}, \"marker\": {\"colorbar\": {\"outlinewidth\": 0, \"ticks\": \"\"}}, \"type\": \"scatter3d\"}], \"scattercarpet\": [{\"marker\": {\"colorbar\": {\"outlinewidth\": 0, \"ticks\": \"\"}}, \"type\": \"scattercarpet\"}], \"scattergeo\": [{\"marker\": {\"colorbar\": {\"outlinewidth\": 0, \"ticks\": \"\"}}, \"type\": \"scattergeo\"}], \"scattergl\": [{\"marker\": {\"colorbar\": {\"outlinewidth\": 0, \"ticks\": \"\"}}, \"type\": \"scattergl\"}], \"scattermapbox\": [{\"marker\": {\"colorbar\": {\"outlinewidth\": 0, \"ticks\": \"\"}}, \"type\": \"scattermapbox\"}], \"scatterpolar\": [{\"marker\": {\"colorbar\": {\"outlinewidth\": 0, \"ticks\": \"\"}}, \"type\": \"scatterpolar\"}], \"scatterpolargl\": [{\"marker\": {\"colorbar\": {\"outlinewidth\": 0, \"ticks\": \"\"}}, \"type\": \"scatterpolargl\"}], \"scatterternary\": [{\"marker\": {\"colorbar\": {\"outlinewidth\": 0, \"ticks\": \"\"}}, \"type\": \"scatterternary\"}], \"surface\": [{\"colorbar\": {\"outlinewidth\": 0, \"ticks\": \"\"}, \"colorscale\": [[0.0, \"#0d0887\"], [0.1111111111111111, \"#46039f\"], [0.2222222222222222, \"#7201a8\"], [0.3333333333333333, \"#9c179e\"], [0.4444444444444444, \"#bd3786\"], [0.5555555555555556, \"#d8576b\"], [0.6666666666666666, \"#ed7953\"], [0.7777777777777778, \"#fb9f3a\"], [0.8888888888888888, \"#fdca26\"], [1.0, \"#f0f921\"]], \"type\": \"surface\"}], \"table\": [{\"cells\": {\"fill\": {\"color\": \"#EBF0F8\"}, \"line\": {\"color\": \"white\"}}, \"header\": {\"fill\": {\"color\": \"#C8D4E3\"}, \"line\": {\"color\": \"white\"}}, \"type\": \"table\"}]}, \"layout\": {\"annotationdefaults\": {\"arrowcolor\": \"#2a3f5f\", \"arrowhead\": 0, \"arrowwidth\": 1}, \"coloraxis\": {\"colorbar\": {\"outlinewidth\": 0, \"ticks\": \"\"}}, \"colorscale\": {\"diverging\": [[0, \"#8e0152\"], [0.1, \"#c51b7d\"], [0.2, \"#de77ae\"], [0.3, \"#f1b6da\"], [0.4, \"#fde0ef\"], [0.5, \"#f7f7f7\"], [0.6, \"#e6f5d0\"], [0.7, \"#b8e186\"], [0.8, \"#7fbc41\"], [0.9, \"#4d9221\"], [1, \"#276419\"]], \"sequential\": [[0.0, \"#0d0887\"], [0.1111111111111111, \"#46039f\"], [0.2222222222222222, \"#7201a8\"], [0.3333333333333333, \"#9c179e\"], [0.4444444444444444, \"#bd3786\"], [0.5555555555555556, \"#d8576b\"], [0.6666666666666666, \"#ed7953\"], [0.7777777777777778, \"#fb9f3a\"], [0.8888888888888888, \"#fdca26\"], [1.0, \"#f0f921\"]], \"sequentialminus\": [[0.0, \"#0d0887\"], [0.1111111111111111, \"#46039f\"], [0.2222222222222222, \"#7201a8\"], [0.3333333333333333, \"#9c179e\"], [0.4444444444444444, \"#bd3786\"], [0.5555555555555556, \"#d8576b\"], [0.6666666666666666, \"#ed7953\"], [0.7777777777777778, \"#fb9f3a\"], [0.8888888888888888, \"#fdca26\"], [1.0, \"#f0f921\"]]}, \"colorway\": [\"#636efa\", \"#EF553B\", \"#00cc96\", \"#ab63fa\", \"#FFA15A\", \"#19d3f3\", \"#FF6692\", \"#B6E880\", \"#FF97FF\", \"#FECB52\"], \"font\": {\"color\": \"#2a3f5f\"}, \"geo\": {\"bgcolor\": \"white\", \"lakecolor\": \"white\", \"landcolor\": \"#E5ECF6\", \"showlakes\": true, \"showland\": true, \"subunitcolor\": \"white\"}, \"hoverlabel\": {\"align\": \"left\"}, \"hovermode\": \"closest\", \"mapbox\": {\"style\": \"light\"}, \"paper_bgcolor\": \"white\", \"plot_bgcolor\": \"#E5ECF6\", \"polar\": {\"angularaxis\": {\"gridcolor\": \"white\", \"linecolor\": \"white\", \"ticks\": \"\"}, \"bgcolor\": \"#E5ECF6\", \"radialaxis\": {\"gridcolor\": \"white\", \"linecolor\": \"white\", \"ticks\": \"\"}}, \"scene\": {\"xaxis\": {\"backgroundcolor\": \"#E5ECF6\", \"gridcolor\": \"white\", \"gridwidth\": 2, \"linecolor\": \"white\", \"showbackground\": true, \"ticks\": \"\", \"zerolinecolor\": \"white\"}, \"yaxis\": {\"backgroundcolor\": \"#E5ECF6\", \"gridcolor\": \"white\", \"gridwidth\": 2, \"linecolor\": \"white\", \"showbackground\": true, \"ticks\": \"\", \"zerolinecolor\": \"white\"}, \"zaxis\": {\"backgroundcolor\": \"#E5ECF6\", \"gridcolor\": \"white\", \"gridwidth\": 2, \"linecolor\": \"white\", \"showbackground\": true, \"ticks\": \"\", \"zerolinecolor\": \"white\"}}, \"shapedefaults\": {\"line\": {\"color\": \"#2a3f5f\"}}, \"ternary\": {\"aaxis\": {\"gridcolor\": \"white\", \"linecolor\": \"white\", \"ticks\": \"\"}, \"baxis\": {\"gridcolor\": \"white\", \"linecolor\": \"white\", \"ticks\": \"\"}, \"bgcolor\": \"#E5ECF6\", \"caxis\": {\"gridcolor\": \"white\", \"linecolor\": \"white\", \"ticks\": \"\"}}, \"title\": {\"x\": 0.05}, \"xaxis\": {\"automargin\": true, \"gridcolor\": \"white\", \"linecolor\": \"white\", \"ticks\": \"\", \"title\": {\"standoff\": 15}, \"zerolinecolor\": \"white\", \"zerolinewidth\": 2}, \"yaxis\": {\"automargin\": true, \"gridcolor\": \"white\", \"linecolor\": \"white\", \"ticks\": \"\", \"title\": {\"standoff\": 15}, \"zerolinecolor\": \"white\", \"zerolinewidth\": 2}}}, \"title\": {\"font\": {\"color\": \"#4D5663\"}}, \"xaxis\": {\"gridcolor\": \"#E1E5ED\", \"showgrid\": true, \"tickfont\": {\"color\": \"#4D5663\"}, \"title\": {\"font\": {\"color\": \"#4D5663\"}, \"text\": \"\"}, \"zerolinecolor\": \"#E1E5ED\"}, \"yaxis\": {\"gridcolor\": \"#E1E5ED\", \"showgrid\": true, \"tickfont\": {\"color\": \"#4D5663\"}, \"title\": {\"font\": {\"color\": \"#4D5663\"}, \"text\": \"\"}, \"zerolinecolor\": \"#E1E5ED\"}},\n",
       "                        {\"showLink\": true, \"linkText\": \"Export to plot.ly\", \"plotlyServerURL\": \"https://plot.ly\", \"responsive\": true}\n",
       "                    ).then(function(){\n",
       "                            \n",
       "var gd = document.getElementById('d3aa8889-60b6-40fe-8770-5a838e66139c');\n",
       "var x = new MutationObserver(function (mutations, observer) {{\n",
       "        var display = window.getComputedStyle(gd).display;\n",
       "        if (!display || display === 'none') {{\n",
       "            console.log([gd, 'removed!']);\n",
       "            Plotly.purge(gd);\n",
       "            observer.disconnect();\n",
       "        }}\n",
       "}});\n",
       "\n",
       "// Listen for the removal of the full notebook cells\n",
       "var notebookContainer = gd.closest('#notebook-container');\n",
       "if (notebookContainer) {{\n",
       "    x.observe(notebookContainer, {childList: true});\n",
       "}}\n",
       "\n",
       "// Listen for the clearing of the current output cell\n",
       "var outputEl = gd.closest('.output');\n",
       "if (outputEl) {{\n",
       "    x.observe(outputEl, {childList: true});\n",
       "}}\n",
       "\n",
       "                        })\n",
       "                };\n",
       "                });\n",
       "            </script>\n",
       "        </div>"
      ]
     },
     "metadata": {},
     "output_type": "display_data"
    }
   ],
   "source": [
    "df2.iplot(kind='bar',x='Categoria',y='Valores')"
   ]
  },
  {
   "cell_type": "markdown",
   "metadata": {},
   "source": [
    "- utilizar metodos de agrupamento no plotly pode ser interessante pois o plotly sempre é feito sobre o DF. Em alguns caso pode ocorrer o seguinte"
   ]
  },
  {
   "cell_type": "code",
   "execution_count": 18,
   "metadata": {},
   "outputs": [
    {
     "data": {
      "application/vnd.plotly.v1+json": {
       "config": {
        "linkText": "Export to plot.ly",
        "plotlyServerURL": "https://plot.ly",
        "showLink": true
       },
       "data": [
        {
         "marker": {
          "color": "rgba(255, 153, 51, 0.6)",
          "line": {
           "color": "rgba(255, 153, 51, 1.0)",
           "width": 1
          }
         },
         "name": "A",
         "orientation": "v",
         "text": "",
         "type": "bar",
         "x": [
          0,
          1,
          2,
          3,
          4,
          5,
          6,
          7,
          8,
          9,
          10,
          11,
          12,
          13,
          14,
          15,
          16,
          17,
          18,
          19,
          20,
          21,
          22,
          23,
          24,
          25,
          26,
          27,
          28,
          29,
          30,
          31,
          32,
          33,
          34,
          35,
          36,
          37,
          38,
          39,
          40,
          41,
          42,
          43,
          44,
          45,
          46,
          47,
          48,
          49,
          50,
          51,
          52,
          53,
          54,
          55,
          56,
          57,
          58,
          59,
          60,
          61,
          62,
          63,
          64,
          65,
          66,
          67,
          68,
          69,
          70,
          71,
          72,
          73,
          74,
          75,
          76,
          77,
          78,
          79,
          80,
          81,
          82,
          83,
          84,
          85,
          86,
          87,
          88,
          89,
          90,
          91,
          92,
          93,
          94,
          95,
          96,
          97,
          98,
          99
         ],
         "y": [
          0.932905871818665,
          0.7990174600691328,
          0.6578805504982351,
          0.42756675450495063,
          0.17016560945553538,
          0.9055605402234296,
          0.28956721012351794,
          0.9526365568361495,
          0.4704206036221772,
          0.15226207946635395,
          0.6033907891545828,
          0.25099507114325215,
          0.005340848698156209,
          0.06533954296997113,
          0.2733035065352758,
          0.7569540823349571,
          0.8287187216757339,
          0.9828434948732078,
          0.8112812748144534,
          0.11076655847239603,
          0.8427519466173623,
          0.48859212569623023,
          0.14388465522460525,
          0.7539262751473198,
          0.44536556957401285,
          0.6697446611280005,
          0.22529636723346758,
          0.1161697303217627,
          0.17033135947771694,
          0.8325617982448972,
          0.5472341085707088,
          0.9669549164451002,
          0.2475954496771967,
          0.7497201100591544,
          0.9614999013831749,
          0.9396975077487425,
          0.7886648046959303,
          0.32590228659881226,
          0.10777157469033649,
          0.9978991786775343,
          0.2858415228843155,
          0.6851206557024384,
          0.38805256481020434,
          0.66109234467044,
          0.8860133534619254,
          0.4213642506242049,
          0.6743198570628508,
          0.6656479537489318,
          0.6065373124800183,
          0.25201673938694813,
          0.05030904571130845,
          0.41401213743180143,
          0.7189393436873426,
          0.929605937977888,
          0.07023729970534354,
          0.24038644001958465,
          0.632063691457217,
          0.22957645221162015,
          0.3195747648987325,
          0.541666475373368,
          0.5441038434692387,
          0.40778259724468047,
          0.225862802881601,
          0.4796028398481794,
          0.324652204581544,
          0.2019367580104594,
          0.10974428746289655,
          0.49763556945229526,
          0.8090999624543773,
          0.2272057880828694,
          0.45397874065463384,
          0.0019187911166977933,
          0.29377614301111055,
          0.38409997076807334,
          0.8271701737676631,
          0.7547418326906155,
          0.36069997849644286,
          0.2192185020931785,
          0.5528882226439371,
          0.20041778808758937,
          0.9888650720711814,
          0.8152424257042555,
          0.268685081062804,
          0.06431056149944225,
          0.6603049664873818,
          0.9327983811523727,
          0.9288223580133821,
          0.39899359519867517,
          0.05168668161792522,
          0.9340152735254715,
          0.862099704697694,
          0.9403696989535826,
          0.4790804197177635,
          0.19592031989218983,
          0.3086533524159172,
          0.22181010617622876,
          0.7582898233439308,
          0.6162874446229667,
          0.8829991970982982,
          0.5875930166320611
         ]
        },
        {
         "marker": {
          "color": "rgba(55, 128, 191, 0.6)",
          "line": {
           "color": "rgba(55, 128, 191, 1.0)",
           "width": 1
          }
         },
         "name": "B",
         "orientation": "v",
         "text": "",
         "type": "bar",
         "x": [
          0,
          1,
          2,
          3,
          4,
          5,
          6,
          7,
          8,
          9,
          10,
          11,
          12,
          13,
          14,
          15,
          16,
          17,
          18,
          19,
          20,
          21,
          22,
          23,
          24,
          25,
          26,
          27,
          28,
          29,
          30,
          31,
          32,
          33,
          34,
          35,
          36,
          37,
          38,
          39,
          40,
          41,
          42,
          43,
          44,
          45,
          46,
          47,
          48,
          49,
          50,
          51,
          52,
          53,
          54,
          55,
          56,
          57,
          58,
          59,
          60,
          61,
          62,
          63,
          64,
          65,
          66,
          67,
          68,
          69,
          70,
          71,
          72,
          73,
          74,
          75,
          76,
          77,
          78,
          79,
          80,
          81,
          82,
          83,
          84,
          85,
          86,
          87,
          88,
          89,
          90,
          91,
          92,
          93,
          94,
          95,
          96,
          97,
          98,
          99
         ],
         "y": [
          0.1420989997204274,
          0.16272302776698333,
          0.5510418624633832,
          0.7810968428085451,
          0.974301807852817,
          0.6471915985690905,
          0.21234414860461104,
          0.9076787921118685,
          0.5664836023015972,
          0.7700135430908135,
          0.5253479398485718,
          0.5241714927399055,
          0.4301101655038079,
          0.8199434200022369,
          0.8127534054878676,
          0.047738991932165464,
          0.5349971488824744,
          0.5882683336930767,
          0.5135454203297177,
          0.04071727445935902,
          0.7200244546048392,
          0.8900719747838537,
          0.9865349592432118,
          0.4371129801660866,
          0.3243903451602598,
          0.5076790757069931,
          0.8525163039447864,
          0.566288953632173,
          0.1654817274784377,
          0.29662449110709144,
          0.3477905086317059,
          0.5059376256724428,
          0.6325085839762339,
          0.1448234277272753,
          0.7470284948374725,
          0.29546772497391927,
          0.3552949972380134,
          0.6366411169592828,
          0.4697823842392852,
          0.5319954083505593,
          0.9933995867373235,
          0.9070847709211363,
          0.6667901671187938,
          0.26101265540922325,
          0.330798623844741,
          0.2379799719882747,
          0.7825867856735038,
          0.20795006027228824,
          0.7311397165709611,
          0.48004107134623486,
          0.8661826114431671,
          0.8806199971587744,
          0.9106636500545815,
          0.12768512772204432,
          0.058033915607826,
          0.12820324272821748,
          0.09909743280436667,
          0.4903313130260817,
          0.6367265819917569,
          0.8636576164807224,
          0.33879757104565233,
          0.6733604397968099,
          0.9166751994743604,
          0.8253133157026932,
          0.6193553471911393,
          0.899112078299836,
          0.9577354173244566,
          0.55673671056099,
          0.2887334137560843,
          0.5571212721073879,
          0.19238618294946197,
          0.39814105892230056,
          0.011906309498581402,
          0.15563058187450685,
          0.16007112287112124,
          0.08737201724425192,
          0.43020181136608315,
          0.44598215676077313,
          0.8596018665391401,
          0.012053338547065806,
          0.8455576896774778,
          0.34822730875600516,
          0.5849194869804503,
          0.7212007626939569,
          0.4279290374816803,
          0.2493311030777,
          0.13133372297632728,
          0.32764216948557945,
          0.7019104372779333,
          0.37703502274650014,
          0.2779812489593061,
          0.909981378748785,
          0.5605431426633933,
          0.26479676439354294,
          0.02176661782524547,
          0.7235964641179009,
          0.7164017718719706,
          0.28682585808982264,
          0.9860956241904728,
          0.07634445227262043
         ]
        },
        {
         "marker": {
          "color": "rgba(50, 171, 96, 0.6)",
          "line": {
           "color": "rgba(50, 171, 96, 1.0)",
           "width": 1
          }
         },
         "name": "C",
         "orientation": "v",
         "text": "",
         "type": "bar",
         "x": [
          0,
          1,
          2,
          3,
          4,
          5,
          6,
          7,
          8,
          9,
          10,
          11,
          12,
          13,
          14,
          15,
          16,
          17,
          18,
          19,
          20,
          21,
          22,
          23,
          24,
          25,
          26,
          27,
          28,
          29,
          30,
          31,
          32,
          33,
          34,
          35,
          36,
          37,
          38,
          39,
          40,
          41,
          42,
          43,
          44,
          45,
          46,
          47,
          48,
          49,
          50,
          51,
          52,
          53,
          54,
          55,
          56,
          57,
          58,
          59,
          60,
          61,
          62,
          63,
          64,
          65,
          66,
          67,
          68,
          69,
          70,
          71,
          72,
          73,
          74,
          75,
          76,
          77,
          78,
          79,
          80,
          81,
          82,
          83,
          84,
          85,
          86,
          87,
          88,
          89,
          90,
          91,
          92,
          93,
          94,
          95,
          96,
          97,
          98,
          99
         ],
         "y": [
          0.21526701000752835,
          0.7143715175733945,
          0.09571325034684763,
          0.937765146045614,
          0.32891164884086554,
          0.1708499619190198,
          0.5028151642353679,
          0.7745194342439721,
          0.9457112968565712,
          0.6776046274326826,
          0.33500850574965424,
          0.06429840241799067,
          0.49456361203696464,
          0.8435460645595105,
          0.04067500842771199,
          0.5789968830208606,
          0.7133145677643881,
          0.8972074154015114,
          0.5741283590344698,
          0.7535707869668855,
          0.9653708866215502,
          0.30912127814696055,
          0.9753562875928239,
          0.07659204572598322,
          0.4855520961623818,
          0.9598196783663728,
          0.7397413577801413,
          0.19734930669571338,
          0.21214518489928313,
          0.5413714780461003,
          0.2989055031523594,
          0.0445049126513396,
          0.6106028543512637,
          0.567534044082875,
          0.9721287395080479,
          0.24041466595520877,
          0.9449142077840208,
          0.42594120779842437,
          0.7694062974208946,
          0.816962257037902,
          0.17238212256315655,
          0.8743331885829791,
          0.9085903741068485,
          0.08114716480876283,
          0.7392627420348479,
          0.9772218807204641,
          0.6581784858353785,
          0.9862373190591623,
          0.4568767290746719,
          0.1508504222057825,
          0.5066371120721531,
          0.7098503933406776,
          0.6085154386124608,
          0.7145650216601073,
          0.19859958292355118,
          0.6314838903661684,
          0.39901371805426544,
          0.5502944733108335,
          0.07326063771069646,
          0.5252872769483579,
          0.5595443359199435,
          0.8469130881525487,
          0.2543782400168928,
          0.8791215937301804,
          0.6386572888483397,
          0.10505967986733977,
          0.5605557403311213,
          0.48317045048453044,
          0.30078499028556493,
          0.4984855163323506,
          0.18721860722835126,
          0.2199248786553436,
          0.17276853819176408,
          0.19335750616629532,
          0.9961409692745002,
          0.14597884481689916,
          0.0694428590288031,
          0.8092665679436554,
          0.33723798695016716,
          0.5048914413092419,
          0.8594186141877432,
          0.16335092181242572,
          0.6231978032415111,
          0.5471195298239976,
          0.09557593552264565,
          0.07143931852587215,
          0.005151239178121214,
          0.7472799136223178,
          0.09049693994982588,
          0.4470149735389283,
          0.7305894797030132,
          0.5280523226991469,
          0.8538296504678102,
          0.5753398036708376,
          0.5426276816273093,
          0.9343435312651819,
          0.4950951966210053,
          0.4254864339849018,
          0.5806840806988296,
          0.9511085331715369
         ]
        },
        {
         "marker": {
          "color": "rgba(128, 0, 128, 0.6)",
          "line": {
           "color": "rgba(128, 0, 128, 1.0)",
           "width": 1
          }
         },
         "name": "D",
         "orientation": "v",
         "text": "",
         "type": "bar",
         "x": [
          0,
          1,
          2,
          3,
          4,
          5,
          6,
          7,
          8,
          9,
          10,
          11,
          12,
          13,
          14,
          15,
          16,
          17,
          18,
          19,
          20,
          21,
          22,
          23,
          24,
          25,
          26,
          27,
          28,
          29,
          30,
          31,
          32,
          33,
          34,
          35,
          36,
          37,
          38,
          39,
          40,
          41,
          42,
          43,
          44,
          45,
          46,
          47,
          48,
          49,
          50,
          51,
          52,
          53,
          54,
          55,
          56,
          57,
          58,
          59,
          60,
          61,
          62,
          63,
          64,
          65,
          66,
          67,
          68,
          69,
          70,
          71,
          72,
          73,
          74,
          75,
          76,
          77,
          78,
          79,
          80,
          81,
          82,
          83,
          84,
          85,
          86,
          87,
          88,
          89,
          90,
          91,
          92,
          93,
          94,
          95,
          96,
          97,
          98,
          99
         ],
         "y": [
          0.2693588004837245,
          0.7272376744767046,
          0.0847459573319197,
          0.9937065190610479,
          0.058979216584439276,
          0.7622243653969791,
          0.9852284156957358,
          0.5217777899952714,
          0.8187346018004542,
          0.39271165520681495,
          0.039639228594526954,
          0.6437254368053777,
          0.8825141197735623,
          0.07574987820954049,
          0.5659210897360782,
          0.7919953924615094,
          0.9896663440068089,
          0.24383501741632607,
          0.2174408233972125,
          0.7134201104202477,
          0.16855303189851112,
          0.8260489883427669,
          0.9162604808441045,
          0.5405688554116973,
          0.2385221459931568,
          0.5391044062278301,
          0.14135417823709062,
          0.7960627517303884,
          0.8420270044490886,
          0.2751570030123761,
          0.6484374134383162,
          0.936219920583301,
          0.12018818740336179,
          0.6802469298909554,
          0.027667402357477777,
          0.7534263183190321,
          0.15200668988058286,
          0.6379082749707069,
          0.48047129472150074,
          0.4677435754467977,
          0.4333959428618087,
          0.9012651744296631,
          0.16509096487816866,
          0.6490104765306842,
          0.6059604121331397,
          0.4990463341810545,
          0.9345744212388576,
          0.3799903412993587,
          0.18932606705713617,
          0.25346642681024234,
          0.9207633626005549,
          0.41545596150652353,
          0.4533645712239097,
          0.6506416140340825,
          0.6997162015812407,
          0.8852986916095966,
          0.37498778315958636,
          0.8314429697596049,
          0.13502673435385026,
          0.8979987612536348,
          0.3639429691100261,
          0.745483313257713,
          0.06578331168267948,
          0.4951905039218433,
          0.2532640224024172,
          0.719730115612484,
          0.5143268751173564,
          0.25421150057041175,
          0.3389942817348648,
          0.19850257012175643,
          0.20028652781703737,
          0.6651212562701333,
          0.529278813042016,
          0.042062130810310405,
          0.44112869964487167,
          0.6920514932823784,
          0.021164503749724117,
          0.44750287035257597,
          0.56472684426539,
          0.7019277928315436,
          0.5851064665714394,
          0.21020198044309035,
          0.2096339470898173,
          0.3932379119941055,
          0.4408019823537771,
          0.2583760972068493,
          0.6834895150994145,
          0.08900119437390264,
          0.8809772440190711,
          0.716312394923501,
          0.744839320051633,
          0.9786104201487468,
          0.18725208453496445,
          0.27887369246250304,
          0.05885105673928237,
          0.672260988708463,
          0.04236419271147529,
          0.8130830659218616,
          0.251040476355191,
          0.2879237577645707
         ]
        }
       ],
       "layout": {
        "legend": {
         "bgcolor": "#F5F6F9",
         "font": {
          "color": "#4D5663"
         }
        },
        "paper_bgcolor": "#F5F6F9",
        "plot_bgcolor": "#F5F6F9",
        "template": {
         "data": {
          "bar": [
           {
            "error_x": {
             "color": "#2a3f5f"
            },
            "error_y": {
             "color": "#2a3f5f"
            },
            "marker": {
             "line": {
              "color": "#E5ECF6",
              "width": 0.5
             }
            },
            "type": "bar"
           }
          ],
          "barpolar": [
           {
            "marker": {
             "line": {
              "color": "#E5ECF6",
              "width": 0.5
             }
            },
            "type": "barpolar"
           }
          ],
          "carpet": [
           {
            "aaxis": {
             "endlinecolor": "#2a3f5f",
             "gridcolor": "white",
             "linecolor": "white",
             "minorgridcolor": "white",
             "startlinecolor": "#2a3f5f"
            },
            "baxis": {
             "endlinecolor": "#2a3f5f",
             "gridcolor": "white",
             "linecolor": "white",
             "minorgridcolor": "white",
             "startlinecolor": "#2a3f5f"
            },
            "type": "carpet"
           }
          ],
          "choropleth": [
           {
            "colorbar": {
             "outlinewidth": 0,
             "ticks": ""
            },
            "type": "choropleth"
           }
          ],
          "contour": [
           {
            "colorbar": {
             "outlinewidth": 0,
             "ticks": ""
            },
            "colorscale": [
             [
              0,
              "#0d0887"
             ],
             [
              0.1111111111111111,
              "#46039f"
             ],
             [
              0.2222222222222222,
              "#7201a8"
             ],
             [
              0.3333333333333333,
              "#9c179e"
             ],
             [
              0.4444444444444444,
              "#bd3786"
             ],
             [
              0.5555555555555556,
              "#d8576b"
             ],
             [
              0.6666666666666666,
              "#ed7953"
             ],
             [
              0.7777777777777778,
              "#fb9f3a"
             ],
             [
              0.8888888888888888,
              "#fdca26"
             ],
             [
              1,
              "#f0f921"
             ]
            ],
            "type": "contour"
           }
          ],
          "contourcarpet": [
           {
            "colorbar": {
             "outlinewidth": 0,
             "ticks": ""
            },
            "type": "contourcarpet"
           }
          ],
          "heatmap": [
           {
            "colorbar": {
             "outlinewidth": 0,
             "ticks": ""
            },
            "colorscale": [
             [
              0,
              "#0d0887"
             ],
             [
              0.1111111111111111,
              "#46039f"
             ],
             [
              0.2222222222222222,
              "#7201a8"
             ],
             [
              0.3333333333333333,
              "#9c179e"
             ],
             [
              0.4444444444444444,
              "#bd3786"
             ],
             [
              0.5555555555555556,
              "#d8576b"
             ],
             [
              0.6666666666666666,
              "#ed7953"
             ],
             [
              0.7777777777777778,
              "#fb9f3a"
             ],
             [
              0.8888888888888888,
              "#fdca26"
             ],
             [
              1,
              "#f0f921"
             ]
            ],
            "type": "heatmap"
           }
          ],
          "heatmapgl": [
           {
            "colorbar": {
             "outlinewidth": 0,
             "ticks": ""
            },
            "colorscale": [
             [
              0,
              "#0d0887"
             ],
             [
              0.1111111111111111,
              "#46039f"
             ],
             [
              0.2222222222222222,
              "#7201a8"
             ],
             [
              0.3333333333333333,
              "#9c179e"
             ],
             [
              0.4444444444444444,
              "#bd3786"
             ],
             [
              0.5555555555555556,
              "#d8576b"
             ],
             [
              0.6666666666666666,
              "#ed7953"
             ],
             [
              0.7777777777777778,
              "#fb9f3a"
             ],
             [
              0.8888888888888888,
              "#fdca26"
             ],
             [
              1,
              "#f0f921"
             ]
            ],
            "type": "heatmapgl"
           }
          ],
          "histogram": [
           {
            "marker": {
             "colorbar": {
              "outlinewidth": 0,
              "ticks": ""
             }
            },
            "type": "histogram"
           }
          ],
          "histogram2d": [
           {
            "colorbar": {
             "outlinewidth": 0,
             "ticks": ""
            },
            "colorscale": [
             [
              0,
              "#0d0887"
             ],
             [
              0.1111111111111111,
              "#46039f"
             ],
             [
              0.2222222222222222,
              "#7201a8"
             ],
             [
              0.3333333333333333,
              "#9c179e"
             ],
             [
              0.4444444444444444,
              "#bd3786"
             ],
             [
              0.5555555555555556,
              "#d8576b"
             ],
             [
              0.6666666666666666,
              "#ed7953"
             ],
             [
              0.7777777777777778,
              "#fb9f3a"
             ],
             [
              0.8888888888888888,
              "#fdca26"
             ],
             [
              1,
              "#f0f921"
             ]
            ],
            "type": "histogram2d"
           }
          ],
          "histogram2dcontour": [
           {
            "colorbar": {
             "outlinewidth": 0,
             "ticks": ""
            },
            "colorscale": [
             [
              0,
              "#0d0887"
             ],
             [
              0.1111111111111111,
              "#46039f"
             ],
             [
              0.2222222222222222,
              "#7201a8"
             ],
             [
              0.3333333333333333,
              "#9c179e"
             ],
             [
              0.4444444444444444,
              "#bd3786"
             ],
             [
              0.5555555555555556,
              "#d8576b"
             ],
             [
              0.6666666666666666,
              "#ed7953"
             ],
             [
              0.7777777777777778,
              "#fb9f3a"
             ],
             [
              0.8888888888888888,
              "#fdca26"
             ],
             [
              1,
              "#f0f921"
             ]
            ],
            "type": "histogram2dcontour"
           }
          ],
          "mesh3d": [
           {
            "colorbar": {
             "outlinewidth": 0,
             "ticks": ""
            },
            "type": "mesh3d"
           }
          ],
          "parcoords": [
           {
            "line": {
             "colorbar": {
              "outlinewidth": 0,
              "ticks": ""
             }
            },
            "type": "parcoords"
           }
          ],
          "pie": [
           {
            "automargin": true,
            "type": "pie"
           }
          ],
          "scatter": [
           {
            "marker": {
             "colorbar": {
              "outlinewidth": 0,
              "ticks": ""
             }
            },
            "type": "scatter"
           }
          ],
          "scatter3d": [
           {
            "line": {
             "colorbar": {
              "outlinewidth": 0,
              "ticks": ""
             }
            },
            "marker": {
             "colorbar": {
              "outlinewidth": 0,
              "ticks": ""
             }
            },
            "type": "scatter3d"
           }
          ],
          "scattercarpet": [
           {
            "marker": {
             "colorbar": {
              "outlinewidth": 0,
              "ticks": ""
             }
            },
            "type": "scattercarpet"
           }
          ],
          "scattergeo": [
           {
            "marker": {
             "colorbar": {
              "outlinewidth": 0,
              "ticks": ""
             }
            },
            "type": "scattergeo"
           }
          ],
          "scattergl": [
           {
            "marker": {
             "colorbar": {
              "outlinewidth": 0,
              "ticks": ""
             }
            },
            "type": "scattergl"
           }
          ],
          "scattermapbox": [
           {
            "marker": {
             "colorbar": {
              "outlinewidth": 0,
              "ticks": ""
             }
            },
            "type": "scattermapbox"
           }
          ],
          "scatterpolar": [
           {
            "marker": {
             "colorbar": {
              "outlinewidth": 0,
              "ticks": ""
             }
            },
            "type": "scatterpolar"
           }
          ],
          "scatterpolargl": [
           {
            "marker": {
             "colorbar": {
              "outlinewidth": 0,
              "ticks": ""
             }
            },
            "type": "scatterpolargl"
           }
          ],
          "scatterternary": [
           {
            "marker": {
             "colorbar": {
              "outlinewidth": 0,
              "ticks": ""
             }
            },
            "type": "scatterternary"
           }
          ],
          "surface": [
           {
            "colorbar": {
             "outlinewidth": 0,
             "ticks": ""
            },
            "colorscale": [
             [
              0,
              "#0d0887"
             ],
             [
              0.1111111111111111,
              "#46039f"
             ],
             [
              0.2222222222222222,
              "#7201a8"
             ],
             [
              0.3333333333333333,
              "#9c179e"
             ],
             [
              0.4444444444444444,
              "#bd3786"
             ],
             [
              0.5555555555555556,
              "#d8576b"
             ],
             [
              0.6666666666666666,
              "#ed7953"
             ],
             [
              0.7777777777777778,
              "#fb9f3a"
             ],
             [
              0.8888888888888888,
              "#fdca26"
             ],
             [
              1,
              "#f0f921"
             ]
            ],
            "type": "surface"
           }
          ],
          "table": [
           {
            "cells": {
             "fill": {
              "color": "#EBF0F8"
             },
             "line": {
              "color": "white"
             }
            },
            "header": {
             "fill": {
              "color": "#C8D4E3"
             },
             "line": {
              "color": "white"
             }
            },
            "type": "table"
           }
          ]
         },
         "layout": {
          "annotationdefaults": {
           "arrowcolor": "#2a3f5f",
           "arrowhead": 0,
           "arrowwidth": 1
          },
          "coloraxis": {
           "colorbar": {
            "outlinewidth": 0,
            "ticks": ""
           }
          },
          "colorscale": {
           "diverging": [
            [
             0,
             "#8e0152"
            ],
            [
             0.1,
             "#c51b7d"
            ],
            [
             0.2,
             "#de77ae"
            ],
            [
             0.3,
             "#f1b6da"
            ],
            [
             0.4,
             "#fde0ef"
            ],
            [
             0.5,
             "#f7f7f7"
            ],
            [
             0.6,
             "#e6f5d0"
            ],
            [
             0.7,
             "#b8e186"
            ],
            [
             0.8,
             "#7fbc41"
            ],
            [
             0.9,
             "#4d9221"
            ],
            [
             1,
             "#276419"
            ]
           ],
           "sequential": [
            [
             0,
             "#0d0887"
            ],
            [
             0.1111111111111111,
             "#46039f"
            ],
            [
             0.2222222222222222,
             "#7201a8"
            ],
            [
             0.3333333333333333,
             "#9c179e"
            ],
            [
             0.4444444444444444,
             "#bd3786"
            ],
            [
             0.5555555555555556,
             "#d8576b"
            ],
            [
             0.6666666666666666,
             "#ed7953"
            ],
            [
             0.7777777777777778,
             "#fb9f3a"
            ],
            [
             0.8888888888888888,
             "#fdca26"
            ],
            [
             1,
             "#f0f921"
            ]
           ],
           "sequentialminus": [
            [
             0,
             "#0d0887"
            ],
            [
             0.1111111111111111,
             "#46039f"
            ],
            [
             0.2222222222222222,
             "#7201a8"
            ],
            [
             0.3333333333333333,
             "#9c179e"
            ],
            [
             0.4444444444444444,
             "#bd3786"
            ],
            [
             0.5555555555555556,
             "#d8576b"
            ],
            [
             0.6666666666666666,
             "#ed7953"
            ],
            [
             0.7777777777777778,
             "#fb9f3a"
            ],
            [
             0.8888888888888888,
             "#fdca26"
            ],
            [
             1,
             "#f0f921"
            ]
           ]
          },
          "colorway": [
           "#636efa",
           "#EF553B",
           "#00cc96",
           "#ab63fa",
           "#FFA15A",
           "#19d3f3",
           "#FF6692",
           "#B6E880",
           "#FF97FF",
           "#FECB52"
          ],
          "font": {
           "color": "#2a3f5f"
          },
          "geo": {
           "bgcolor": "white",
           "lakecolor": "white",
           "landcolor": "#E5ECF6",
           "showlakes": true,
           "showland": true,
           "subunitcolor": "white"
          },
          "hoverlabel": {
           "align": "left"
          },
          "hovermode": "closest",
          "mapbox": {
           "style": "light"
          },
          "paper_bgcolor": "white",
          "plot_bgcolor": "#E5ECF6",
          "polar": {
           "angularaxis": {
            "gridcolor": "white",
            "linecolor": "white",
            "ticks": ""
           },
           "bgcolor": "#E5ECF6",
           "radialaxis": {
            "gridcolor": "white",
            "linecolor": "white",
            "ticks": ""
           }
          },
          "scene": {
           "xaxis": {
            "backgroundcolor": "#E5ECF6",
            "gridcolor": "white",
            "gridwidth": 2,
            "linecolor": "white",
            "showbackground": true,
            "ticks": "",
            "zerolinecolor": "white"
           },
           "yaxis": {
            "backgroundcolor": "#E5ECF6",
            "gridcolor": "white",
            "gridwidth": 2,
            "linecolor": "white",
            "showbackground": true,
            "ticks": "",
            "zerolinecolor": "white"
           },
           "zaxis": {
            "backgroundcolor": "#E5ECF6",
            "gridcolor": "white",
            "gridwidth": 2,
            "linecolor": "white",
            "showbackground": true,
            "ticks": "",
            "zerolinecolor": "white"
           }
          },
          "shapedefaults": {
           "line": {
            "color": "#2a3f5f"
           }
          },
          "ternary": {
           "aaxis": {
            "gridcolor": "white",
            "linecolor": "white",
            "ticks": ""
           },
           "baxis": {
            "gridcolor": "white",
            "linecolor": "white",
            "ticks": ""
           },
           "bgcolor": "#E5ECF6",
           "caxis": {
            "gridcolor": "white",
            "linecolor": "white",
            "ticks": ""
           }
          },
          "title": {
           "x": 0.05
          },
          "xaxis": {
           "automargin": true,
           "gridcolor": "white",
           "linecolor": "white",
           "ticks": "",
           "title": {
            "standoff": 15
           },
           "zerolinecolor": "white",
           "zerolinewidth": 2
          },
          "yaxis": {
           "automargin": true,
           "gridcolor": "white",
           "linecolor": "white",
           "ticks": "",
           "title": {
            "standoff": 15
           },
           "zerolinecolor": "white",
           "zerolinewidth": 2
          }
         }
        },
        "title": {
         "font": {
          "color": "#4D5663"
         }
        },
        "xaxis": {
         "gridcolor": "#E1E5ED",
         "showgrid": true,
         "tickfont": {
          "color": "#4D5663"
         },
         "title": {
          "font": {
           "color": "#4D5663"
          },
          "text": ""
         },
         "zerolinecolor": "#E1E5ED"
        },
        "yaxis": {
         "gridcolor": "#E1E5ED",
         "showgrid": true,
         "tickfont": {
          "color": "#4D5663"
         },
         "title": {
          "font": {
           "color": "#4D5663"
          },
          "text": ""
         },
         "zerolinecolor": "#E1E5ED"
        }
       }
      },
      "text/html": [
       "<div>\n",
       "        \n",
       "        \n",
       "            <div id=\"bd668559-ee0c-4b61-a81c-027b2d50fdad\" class=\"plotly-graph-div\" style=\"height:525px; width:100%;\"></div>\n",
       "            <script type=\"text/javascript\">\n",
       "                require([\"plotly\"], function(Plotly) {\n",
       "                    window.PLOTLYENV=window.PLOTLYENV || {};\n",
       "                    window.PLOTLYENV.BASE_URL='https://plot.ly';\n",
       "                    \n",
       "                if (document.getElementById(\"bd668559-ee0c-4b61-a81c-027b2d50fdad\")) {\n",
       "                    Plotly.newPlot(\n",
       "                        'bd668559-ee0c-4b61-a81c-027b2d50fdad',\n",
       "                        [{\"marker\": {\"color\": \"rgba(255, 153, 51, 0.6)\", \"line\": {\"color\": \"rgba(255, 153, 51, 1.0)\", \"width\": 1}}, \"name\": \"A\", \"orientation\": \"v\", \"text\": \"\", \"type\": \"bar\", \"x\": [0, 1, 2, 3, 4, 5, 6, 7, 8, 9, 10, 11, 12, 13, 14, 15, 16, 17, 18, 19, 20, 21, 22, 23, 24, 25, 26, 27, 28, 29, 30, 31, 32, 33, 34, 35, 36, 37, 38, 39, 40, 41, 42, 43, 44, 45, 46, 47, 48, 49, 50, 51, 52, 53, 54, 55, 56, 57, 58, 59, 60, 61, 62, 63, 64, 65, 66, 67, 68, 69, 70, 71, 72, 73, 74, 75, 76, 77, 78, 79, 80, 81, 82, 83, 84, 85, 86, 87, 88, 89, 90, 91, 92, 93, 94, 95, 96, 97, 98, 99], \"y\": [0.932905871818665, 0.7990174600691328, 0.6578805504982351, 0.42756675450495063, 0.17016560945553538, 0.9055605402234296, 0.28956721012351794, 0.9526365568361495, 0.4704206036221772, 0.15226207946635395, 0.6033907891545828, 0.25099507114325215, 0.005340848698156209, 0.06533954296997113, 0.2733035065352758, 0.7569540823349571, 0.8287187216757339, 0.9828434948732078, 0.8112812748144534, 0.11076655847239603, 0.8427519466173623, 0.48859212569623023, 0.14388465522460525, 0.7539262751473198, 0.44536556957401285, 0.6697446611280005, 0.22529636723346758, 0.1161697303217627, 0.17033135947771694, 0.8325617982448972, 0.5472341085707088, 0.9669549164451002, 0.2475954496771967, 0.7497201100591544, 0.9614999013831749, 0.9396975077487425, 0.7886648046959303, 0.32590228659881226, 0.10777157469033649, 0.9978991786775343, 0.2858415228843155, 0.6851206557024384, 0.38805256481020434, 0.66109234467044, 0.8860133534619254, 0.4213642506242049, 0.6743198570628508, 0.6656479537489318, 0.6065373124800183, 0.25201673938694813, 0.05030904571130845, 0.41401213743180143, 0.7189393436873426, 0.929605937977888, 0.07023729970534354, 0.24038644001958465, 0.632063691457217, 0.22957645221162015, 0.3195747648987325, 0.541666475373368, 0.5441038434692387, 0.40778259724468047, 0.225862802881601, 0.4796028398481794, 0.324652204581544, 0.2019367580104594, 0.10974428746289655, 0.49763556945229526, 0.8090999624543773, 0.2272057880828694, 0.45397874065463384, 0.0019187911166977933, 0.29377614301111055, 0.38409997076807334, 0.8271701737676631, 0.7547418326906155, 0.36069997849644286, 0.2192185020931785, 0.5528882226439371, 0.20041778808758937, 0.9888650720711814, 0.8152424257042555, 0.268685081062804, 0.06431056149944225, 0.6603049664873818, 0.9327983811523727, 0.9288223580133821, 0.39899359519867517, 0.05168668161792522, 0.9340152735254715, 0.862099704697694, 0.9403696989535826, 0.4790804197177635, 0.19592031989218983, 0.3086533524159172, 0.22181010617622876, 0.7582898233439308, 0.6162874446229667, 0.8829991970982982, 0.5875930166320611]}, {\"marker\": {\"color\": \"rgba(55, 128, 191, 0.6)\", \"line\": {\"color\": \"rgba(55, 128, 191, 1.0)\", \"width\": 1}}, \"name\": \"B\", \"orientation\": \"v\", \"text\": \"\", \"type\": \"bar\", \"x\": [0, 1, 2, 3, 4, 5, 6, 7, 8, 9, 10, 11, 12, 13, 14, 15, 16, 17, 18, 19, 20, 21, 22, 23, 24, 25, 26, 27, 28, 29, 30, 31, 32, 33, 34, 35, 36, 37, 38, 39, 40, 41, 42, 43, 44, 45, 46, 47, 48, 49, 50, 51, 52, 53, 54, 55, 56, 57, 58, 59, 60, 61, 62, 63, 64, 65, 66, 67, 68, 69, 70, 71, 72, 73, 74, 75, 76, 77, 78, 79, 80, 81, 82, 83, 84, 85, 86, 87, 88, 89, 90, 91, 92, 93, 94, 95, 96, 97, 98, 99], \"y\": [0.1420989997204274, 0.16272302776698333, 0.5510418624633832, 0.7810968428085451, 0.974301807852817, 0.6471915985690905, 0.21234414860461104, 0.9076787921118685, 0.5664836023015972, 0.7700135430908135, 0.5253479398485718, 0.5241714927399055, 0.4301101655038079, 0.8199434200022369, 0.8127534054878676, 0.047738991932165464, 0.5349971488824744, 0.5882683336930767, 0.5135454203297177, 0.04071727445935902, 0.7200244546048392, 0.8900719747838537, 0.9865349592432118, 0.4371129801660866, 0.3243903451602598, 0.5076790757069931, 0.8525163039447864, 0.566288953632173, 0.1654817274784377, 0.29662449110709144, 0.3477905086317059, 0.5059376256724428, 0.6325085839762339, 0.1448234277272753, 0.7470284948374725, 0.29546772497391927, 0.3552949972380134, 0.6366411169592828, 0.4697823842392852, 0.5319954083505593, 0.9933995867373235, 0.9070847709211363, 0.6667901671187938, 0.26101265540922325, 0.330798623844741, 0.2379799719882747, 0.7825867856735038, 0.20795006027228824, 0.7311397165709611, 0.48004107134623486, 0.8661826114431671, 0.8806199971587744, 0.9106636500545815, 0.12768512772204432, 0.058033915607826, 0.12820324272821748, 0.09909743280436667, 0.4903313130260817, 0.6367265819917569, 0.8636576164807224, 0.33879757104565233, 0.6733604397968099, 0.9166751994743604, 0.8253133157026932, 0.6193553471911393, 0.899112078299836, 0.9577354173244566, 0.55673671056099, 0.2887334137560843, 0.5571212721073879, 0.19238618294946197, 0.39814105892230056, 0.011906309498581402, 0.15563058187450685, 0.16007112287112124, 0.08737201724425192, 0.43020181136608315, 0.44598215676077313, 0.8596018665391401, 0.012053338547065806, 0.8455576896774778, 0.34822730875600516, 0.5849194869804503, 0.7212007626939569, 0.4279290374816803, 0.2493311030777, 0.13133372297632728, 0.32764216948557945, 0.7019104372779333, 0.37703502274650014, 0.2779812489593061, 0.909981378748785, 0.5605431426633933, 0.26479676439354294, 0.02176661782524547, 0.7235964641179009, 0.7164017718719706, 0.28682585808982264, 0.9860956241904728, 0.07634445227262043]}, {\"marker\": {\"color\": \"rgba(50, 171, 96, 0.6)\", \"line\": {\"color\": \"rgba(50, 171, 96, 1.0)\", \"width\": 1}}, \"name\": \"C\", \"orientation\": \"v\", \"text\": \"\", \"type\": \"bar\", \"x\": [0, 1, 2, 3, 4, 5, 6, 7, 8, 9, 10, 11, 12, 13, 14, 15, 16, 17, 18, 19, 20, 21, 22, 23, 24, 25, 26, 27, 28, 29, 30, 31, 32, 33, 34, 35, 36, 37, 38, 39, 40, 41, 42, 43, 44, 45, 46, 47, 48, 49, 50, 51, 52, 53, 54, 55, 56, 57, 58, 59, 60, 61, 62, 63, 64, 65, 66, 67, 68, 69, 70, 71, 72, 73, 74, 75, 76, 77, 78, 79, 80, 81, 82, 83, 84, 85, 86, 87, 88, 89, 90, 91, 92, 93, 94, 95, 96, 97, 98, 99], \"y\": [0.21526701000752835, 0.7143715175733945, 0.09571325034684763, 0.937765146045614, 0.32891164884086554, 0.1708499619190198, 0.5028151642353679, 0.7745194342439721, 0.9457112968565712, 0.6776046274326826, 0.33500850574965424, 0.06429840241799067, 0.49456361203696464, 0.8435460645595105, 0.04067500842771199, 0.5789968830208606, 0.7133145677643881, 0.8972074154015114, 0.5741283590344698, 0.7535707869668855, 0.9653708866215502, 0.30912127814696055, 0.9753562875928239, 0.07659204572598322, 0.4855520961623818, 0.9598196783663728, 0.7397413577801413, 0.19734930669571338, 0.21214518489928313, 0.5413714780461003, 0.2989055031523594, 0.0445049126513396, 0.6106028543512637, 0.567534044082875, 0.9721287395080479, 0.24041466595520877, 0.9449142077840208, 0.42594120779842437, 0.7694062974208946, 0.816962257037902, 0.17238212256315655, 0.8743331885829791, 0.9085903741068485, 0.08114716480876283, 0.7392627420348479, 0.9772218807204641, 0.6581784858353785, 0.9862373190591623, 0.4568767290746719, 0.1508504222057825, 0.5066371120721531, 0.7098503933406776, 0.6085154386124608, 0.7145650216601073, 0.19859958292355118, 0.6314838903661684, 0.39901371805426544, 0.5502944733108335, 0.07326063771069646, 0.5252872769483579, 0.5595443359199435, 0.8469130881525487, 0.2543782400168928, 0.8791215937301804, 0.6386572888483397, 0.10505967986733977, 0.5605557403311213, 0.48317045048453044, 0.30078499028556493, 0.4984855163323506, 0.18721860722835126, 0.2199248786553436, 0.17276853819176408, 0.19335750616629532, 0.9961409692745002, 0.14597884481689916, 0.0694428590288031, 0.8092665679436554, 0.33723798695016716, 0.5048914413092419, 0.8594186141877432, 0.16335092181242572, 0.6231978032415111, 0.5471195298239976, 0.09557593552264565, 0.07143931852587215, 0.005151239178121214, 0.7472799136223178, 0.09049693994982588, 0.4470149735389283, 0.7305894797030132, 0.5280523226991469, 0.8538296504678102, 0.5753398036708376, 0.5426276816273093, 0.9343435312651819, 0.4950951966210053, 0.4254864339849018, 0.5806840806988296, 0.9511085331715369]}, {\"marker\": {\"color\": \"rgba(128, 0, 128, 0.6)\", \"line\": {\"color\": \"rgba(128, 0, 128, 1.0)\", \"width\": 1}}, \"name\": \"D\", \"orientation\": \"v\", \"text\": \"\", \"type\": \"bar\", \"x\": [0, 1, 2, 3, 4, 5, 6, 7, 8, 9, 10, 11, 12, 13, 14, 15, 16, 17, 18, 19, 20, 21, 22, 23, 24, 25, 26, 27, 28, 29, 30, 31, 32, 33, 34, 35, 36, 37, 38, 39, 40, 41, 42, 43, 44, 45, 46, 47, 48, 49, 50, 51, 52, 53, 54, 55, 56, 57, 58, 59, 60, 61, 62, 63, 64, 65, 66, 67, 68, 69, 70, 71, 72, 73, 74, 75, 76, 77, 78, 79, 80, 81, 82, 83, 84, 85, 86, 87, 88, 89, 90, 91, 92, 93, 94, 95, 96, 97, 98, 99], \"y\": [0.2693588004837245, 0.7272376744767046, 0.0847459573319197, 0.9937065190610479, 0.058979216584439276, 0.7622243653969791, 0.9852284156957358, 0.5217777899952714, 0.8187346018004542, 0.39271165520681495, 0.039639228594526954, 0.6437254368053777, 0.8825141197735623, 0.07574987820954049, 0.5659210897360782, 0.7919953924615094, 0.9896663440068089, 0.24383501741632607, 0.2174408233972125, 0.7134201104202477, 0.16855303189851112, 0.8260489883427669, 0.9162604808441045, 0.5405688554116973, 0.2385221459931568, 0.5391044062278301, 0.14135417823709062, 0.7960627517303884, 0.8420270044490886, 0.2751570030123761, 0.6484374134383162, 0.936219920583301, 0.12018818740336179, 0.6802469298909554, 0.027667402357477777, 0.7534263183190321, 0.15200668988058286, 0.6379082749707069, 0.48047129472150074, 0.4677435754467977, 0.4333959428618087, 0.9012651744296631, 0.16509096487816866, 0.6490104765306842, 0.6059604121331397, 0.4990463341810545, 0.9345744212388576, 0.3799903412993587, 0.18932606705713617, 0.25346642681024234, 0.9207633626005549, 0.41545596150652353, 0.4533645712239097, 0.6506416140340825, 0.6997162015812407, 0.8852986916095966, 0.37498778315958636, 0.8314429697596049, 0.13502673435385026, 0.8979987612536348, 0.3639429691100261, 0.745483313257713, 0.06578331168267948, 0.4951905039218433, 0.2532640224024172, 0.719730115612484, 0.5143268751173564, 0.25421150057041175, 0.3389942817348648, 0.19850257012175643, 0.20028652781703737, 0.6651212562701333, 0.529278813042016, 0.042062130810310405, 0.44112869964487167, 0.6920514932823784, 0.021164503749724117, 0.44750287035257597, 0.56472684426539, 0.7019277928315436, 0.5851064665714394, 0.21020198044309035, 0.2096339470898173, 0.3932379119941055, 0.4408019823537771, 0.2583760972068493, 0.6834895150994145, 0.08900119437390264, 0.8809772440190711, 0.716312394923501, 0.744839320051633, 0.9786104201487468, 0.18725208453496445, 0.27887369246250304, 0.05885105673928237, 0.672260988708463, 0.04236419271147529, 0.8130830659218616, 0.251040476355191, 0.2879237577645707]}],\n",
       "                        {\"legend\": {\"bgcolor\": \"#F5F6F9\", \"font\": {\"color\": \"#4D5663\"}}, \"paper_bgcolor\": \"#F5F6F9\", \"plot_bgcolor\": \"#F5F6F9\", \"template\": {\"data\": {\"bar\": [{\"error_x\": {\"color\": \"#2a3f5f\"}, \"error_y\": {\"color\": \"#2a3f5f\"}, \"marker\": {\"line\": {\"color\": \"#E5ECF6\", \"width\": 0.5}}, \"type\": \"bar\"}], \"barpolar\": [{\"marker\": {\"line\": {\"color\": \"#E5ECF6\", \"width\": 0.5}}, \"type\": \"barpolar\"}], \"carpet\": [{\"aaxis\": {\"endlinecolor\": \"#2a3f5f\", \"gridcolor\": \"white\", \"linecolor\": \"white\", \"minorgridcolor\": \"white\", \"startlinecolor\": \"#2a3f5f\"}, \"baxis\": {\"endlinecolor\": \"#2a3f5f\", \"gridcolor\": \"white\", \"linecolor\": \"white\", \"minorgridcolor\": \"white\", \"startlinecolor\": \"#2a3f5f\"}, \"type\": \"carpet\"}], \"choropleth\": [{\"colorbar\": {\"outlinewidth\": 0, \"ticks\": \"\"}, \"type\": \"choropleth\"}], \"contour\": [{\"colorbar\": {\"outlinewidth\": 0, \"ticks\": \"\"}, \"colorscale\": [[0.0, \"#0d0887\"], [0.1111111111111111, \"#46039f\"], [0.2222222222222222, \"#7201a8\"], [0.3333333333333333, \"#9c179e\"], [0.4444444444444444, \"#bd3786\"], [0.5555555555555556, \"#d8576b\"], [0.6666666666666666, \"#ed7953\"], [0.7777777777777778, \"#fb9f3a\"], [0.8888888888888888, \"#fdca26\"], [1.0, \"#f0f921\"]], \"type\": \"contour\"}], \"contourcarpet\": [{\"colorbar\": {\"outlinewidth\": 0, \"ticks\": \"\"}, \"type\": \"contourcarpet\"}], \"heatmap\": [{\"colorbar\": {\"outlinewidth\": 0, \"ticks\": \"\"}, \"colorscale\": [[0.0, \"#0d0887\"], [0.1111111111111111, \"#46039f\"], [0.2222222222222222, \"#7201a8\"], [0.3333333333333333, \"#9c179e\"], [0.4444444444444444, \"#bd3786\"], [0.5555555555555556, \"#d8576b\"], [0.6666666666666666, \"#ed7953\"], [0.7777777777777778, \"#fb9f3a\"], [0.8888888888888888, \"#fdca26\"], [1.0, \"#f0f921\"]], \"type\": \"heatmap\"}], \"heatmapgl\": [{\"colorbar\": {\"outlinewidth\": 0, \"ticks\": \"\"}, \"colorscale\": [[0.0, \"#0d0887\"], [0.1111111111111111, \"#46039f\"], [0.2222222222222222, \"#7201a8\"], [0.3333333333333333, \"#9c179e\"], [0.4444444444444444, \"#bd3786\"], [0.5555555555555556, \"#d8576b\"], [0.6666666666666666, \"#ed7953\"], [0.7777777777777778, \"#fb9f3a\"], [0.8888888888888888, \"#fdca26\"], [1.0, \"#f0f921\"]], \"type\": \"heatmapgl\"}], \"histogram\": [{\"marker\": {\"colorbar\": {\"outlinewidth\": 0, \"ticks\": \"\"}}, \"type\": \"histogram\"}], \"histogram2d\": [{\"colorbar\": {\"outlinewidth\": 0, \"ticks\": \"\"}, \"colorscale\": [[0.0, \"#0d0887\"], [0.1111111111111111, \"#46039f\"], [0.2222222222222222, \"#7201a8\"], [0.3333333333333333, \"#9c179e\"], [0.4444444444444444, \"#bd3786\"], [0.5555555555555556, \"#d8576b\"], [0.6666666666666666, \"#ed7953\"], [0.7777777777777778, \"#fb9f3a\"], [0.8888888888888888, \"#fdca26\"], [1.0, \"#f0f921\"]], \"type\": \"histogram2d\"}], \"histogram2dcontour\": [{\"colorbar\": {\"outlinewidth\": 0, \"ticks\": \"\"}, \"colorscale\": [[0.0, \"#0d0887\"], [0.1111111111111111, \"#46039f\"], [0.2222222222222222, \"#7201a8\"], [0.3333333333333333, \"#9c179e\"], [0.4444444444444444, \"#bd3786\"], [0.5555555555555556, \"#d8576b\"], [0.6666666666666666, \"#ed7953\"], [0.7777777777777778, \"#fb9f3a\"], [0.8888888888888888, \"#fdca26\"], [1.0, \"#f0f921\"]], \"type\": \"histogram2dcontour\"}], \"mesh3d\": [{\"colorbar\": {\"outlinewidth\": 0, \"ticks\": \"\"}, \"type\": \"mesh3d\"}], \"parcoords\": [{\"line\": {\"colorbar\": {\"outlinewidth\": 0, \"ticks\": \"\"}}, \"type\": \"parcoords\"}], \"pie\": [{\"automargin\": true, \"type\": \"pie\"}], \"scatter\": [{\"marker\": {\"colorbar\": {\"outlinewidth\": 0, \"ticks\": \"\"}}, \"type\": \"scatter\"}], \"scatter3d\": [{\"line\": {\"colorbar\": {\"outlinewidth\": 0, \"ticks\": \"\"}}, \"marker\": {\"colorbar\": {\"outlinewidth\": 0, \"ticks\": \"\"}}, \"type\": \"scatter3d\"}], \"scattercarpet\": [{\"marker\": {\"colorbar\": {\"outlinewidth\": 0, \"ticks\": \"\"}}, \"type\": \"scattercarpet\"}], \"scattergeo\": [{\"marker\": {\"colorbar\": {\"outlinewidth\": 0, \"ticks\": \"\"}}, \"type\": \"scattergeo\"}], \"scattergl\": [{\"marker\": {\"colorbar\": {\"outlinewidth\": 0, \"ticks\": \"\"}}, \"type\": \"scattergl\"}], \"scattermapbox\": [{\"marker\": {\"colorbar\": {\"outlinewidth\": 0, \"ticks\": \"\"}}, \"type\": \"scattermapbox\"}], \"scatterpolar\": [{\"marker\": {\"colorbar\": {\"outlinewidth\": 0, \"ticks\": \"\"}}, \"type\": \"scatterpolar\"}], \"scatterpolargl\": [{\"marker\": {\"colorbar\": {\"outlinewidth\": 0, \"ticks\": \"\"}}, \"type\": \"scatterpolargl\"}], \"scatterternary\": [{\"marker\": {\"colorbar\": {\"outlinewidth\": 0, \"ticks\": \"\"}}, \"type\": \"scatterternary\"}], \"surface\": [{\"colorbar\": {\"outlinewidth\": 0, \"ticks\": \"\"}, \"colorscale\": [[0.0, \"#0d0887\"], [0.1111111111111111, \"#46039f\"], [0.2222222222222222, \"#7201a8\"], [0.3333333333333333, \"#9c179e\"], [0.4444444444444444, \"#bd3786\"], [0.5555555555555556, \"#d8576b\"], [0.6666666666666666, \"#ed7953\"], [0.7777777777777778, \"#fb9f3a\"], [0.8888888888888888, \"#fdca26\"], [1.0, \"#f0f921\"]], \"type\": \"surface\"}], \"table\": [{\"cells\": {\"fill\": {\"color\": \"#EBF0F8\"}, \"line\": {\"color\": \"white\"}}, \"header\": {\"fill\": {\"color\": \"#C8D4E3\"}, \"line\": {\"color\": \"white\"}}, \"type\": \"table\"}]}, \"layout\": {\"annotationdefaults\": {\"arrowcolor\": \"#2a3f5f\", \"arrowhead\": 0, \"arrowwidth\": 1}, \"coloraxis\": {\"colorbar\": {\"outlinewidth\": 0, \"ticks\": \"\"}}, \"colorscale\": {\"diverging\": [[0, \"#8e0152\"], [0.1, \"#c51b7d\"], [0.2, \"#de77ae\"], [0.3, \"#f1b6da\"], [0.4, \"#fde0ef\"], [0.5, \"#f7f7f7\"], [0.6, \"#e6f5d0\"], [0.7, \"#b8e186\"], [0.8, \"#7fbc41\"], [0.9, \"#4d9221\"], [1, \"#276419\"]], \"sequential\": [[0.0, \"#0d0887\"], [0.1111111111111111, \"#46039f\"], [0.2222222222222222, \"#7201a8\"], [0.3333333333333333, \"#9c179e\"], [0.4444444444444444, \"#bd3786\"], [0.5555555555555556, \"#d8576b\"], [0.6666666666666666, \"#ed7953\"], [0.7777777777777778, \"#fb9f3a\"], [0.8888888888888888, \"#fdca26\"], [1.0, \"#f0f921\"]], \"sequentialminus\": [[0.0, \"#0d0887\"], [0.1111111111111111, \"#46039f\"], [0.2222222222222222, \"#7201a8\"], [0.3333333333333333, \"#9c179e\"], [0.4444444444444444, \"#bd3786\"], [0.5555555555555556, \"#d8576b\"], [0.6666666666666666, \"#ed7953\"], [0.7777777777777778, \"#fb9f3a\"], [0.8888888888888888, \"#fdca26\"], [1.0, \"#f0f921\"]]}, \"colorway\": [\"#636efa\", \"#EF553B\", \"#00cc96\", \"#ab63fa\", \"#FFA15A\", \"#19d3f3\", \"#FF6692\", \"#B6E880\", \"#FF97FF\", \"#FECB52\"], \"font\": {\"color\": \"#2a3f5f\"}, \"geo\": {\"bgcolor\": \"white\", \"lakecolor\": \"white\", \"landcolor\": \"#E5ECF6\", \"showlakes\": true, \"showland\": true, \"subunitcolor\": \"white\"}, \"hoverlabel\": {\"align\": \"left\"}, \"hovermode\": \"closest\", \"mapbox\": {\"style\": \"light\"}, \"paper_bgcolor\": \"white\", \"plot_bgcolor\": \"#E5ECF6\", \"polar\": {\"angularaxis\": {\"gridcolor\": \"white\", \"linecolor\": \"white\", \"ticks\": \"\"}, \"bgcolor\": \"#E5ECF6\", \"radialaxis\": {\"gridcolor\": \"white\", \"linecolor\": \"white\", \"ticks\": \"\"}}, \"scene\": {\"xaxis\": {\"backgroundcolor\": \"#E5ECF6\", \"gridcolor\": \"white\", \"gridwidth\": 2, \"linecolor\": \"white\", \"showbackground\": true, \"ticks\": \"\", \"zerolinecolor\": \"white\"}, \"yaxis\": {\"backgroundcolor\": \"#E5ECF6\", \"gridcolor\": \"white\", \"gridwidth\": 2, \"linecolor\": \"white\", \"showbackground\": true, \"ticks\": \"\", \"zerolinecolor\": \"white\"}, \"zaxis\": {\"backgroundcolor\": \"#E5ECF6\", \"gridcolor\": \"white\", \"gridwidth\": 2, \"linecolor\": \"white\", \"showbackground\": true, \"ticks\": \"\", \"zerolinecolor\": \"white\"}}, \"shapedefaults\": {\"line\": {\"color\": \"#2a3f5f\"}}, \"ternary\": {\"aaxis\": {\"gridcolor\": \"white\", \"linecolor\": \"white\", \"ticks\": \"\"}, \"baxis\": {\"gridcolor\": \"white\", \"linecolor\": \"white\", \"ticks\": \"\"}, \"bgcolor\": \"#E5ECF6\", \"caxis\": {\"gridcolor\": \"white\", \"linecolor\": \"white\", \"ticks\": \"\"}}, \"title\": {\"x\": 0.05}, \"xaxis\": {\"automargin\": true, \"gridcolor\": \"white\", \"linecolor\": \"white\", \"ticks\": \"\", \"title\": {\"standoff\": 15}, \"zerolinecolor\": \"white\", \"zerolinewidth\": 2}, \"yaxis\": {\"automargin\": true, \"gridcolor\": \"white\", \"linecolor\": \"white\", \"ticks\": \"\", \"title\": {\"standoff\": 15}, \"zerolinecolor\": \"white\", \"zerolinewidth\": 2}}}, \"title\": {\"font\": {\"color\": \"#4D5663\"}}, \"xaxis\": {\"gridcolor\": \"#E1E5ED\", \"showgrid\": true, \"tickfont\": {\"color\": \"#4D5663\"}, \"title\": {\"font\": {\"color\": \"#4D5663\"}, \"text\": \"\"}, \"zerolinecolor\": \"#E1E5ED\"}, \"yaxis\": {\"gridcolor\": \"#E1E5ED\", \"showgrid\": true, \"tickfont\": {\"color\": \"#4D5663\"}, \"title\": {\"font\": {\"color\": \"#4D5663\"}, \"text\": \"\"}, \"zerolinecolor\": \"#E1E5ED\"}},\n",
       "                        {\"showLink\": true, \"linkText\": \"Export to plot.ly\", \"plotlyServerURL\": \"https://plot.ly\", \"responsive\": true}\n",
       "                    ).then(function(){\n",
       "                            \n",
       "var gd = document.getElementById('bd668559-ee0c-4b61-a81c-027b2d50fdad');\n",
       "var x = new MutationObserver(function (mutations, observer) {{\n",
       "        var display = window.getComputedStyle(gd).display;\n",
       "        if (!display || display === 'none') {{\n",
       "            console.log([gd, 'removed!']);\n",
       "            Plotly.purge(gd);\n",
       "            observer.disconnect();\n",
       "        }}\n",
       "}});\n",
       "\n",
       "// Listen for the removal of the full notebook cells\n",
       "var notebookContainer = gd.closest('#notebook-container');\n",
       "if (notebookContainer) {{\n",
       "    x.observe(notebookContainer, {childList: true});\n",
       "}}\n",
       "\n",
       "// Listen for the clearing of the current output cell\n",
       "var outputEl = gd.closest('.output');\n",
       "if (outputEl) {{\n",
       "    x.observe(outputEl, {childList: true});\n",
       "}}\n",
       "\n",
       "                        })\n",
       "                };\n",
       "                });\n",
       "            </script>\n",
       "        </div>"
      ]
     },
     "metadata": {},
     "output_type": "display_data"
    }
   ],
   "source": [
    "df.iplot(kind='bar')"
   ]
  },
  {
   "cell_type": "code",
   "execution_count": 19,
   "metadata": {},
   "outputs": [
    {
     "data": {
      "application/vnd.plotly.v1+json": {
       "config": {
        "linkText": "Export to plot.ly",
        "plotlyServerURL": "https://plot.ly",
        "showLink": true
       },
       "data": [
        {
         "boxpoints": false,
         "line": {
          "width": 1.3
         },
         "marker": {
          "color": "rgba(255, 153, 51, 1.0)"
         },
         "name": "A",
         "orientation": "v",
         "type": "box",
         "y": [
          0.932905871818665,
          0.7990174600691328,
          0.6578805504982351,
          0.42756675450495063,
          0.17016560945553538,
          0.9055605402234296,
          0.28956721012351794,
          0.9526365568361495,
          0.4704206036221772,
          0.15226207946635395,
          0.6033907891545828,
          0.25099507114325215,
          0.005340848698156209,
          0.06533954296997113,
          0.2733035065352758,
          0.7569540823349571,
          0.8287187216757339,
          0.9828434948732078,
          0.8112812748144534,
          0.11076655847239603,
          0.8427519466173623,
          0.48859212569623023,
          0.14388465522460525,
          0.7539262751473198,
          0.44536556957401285,
          0.6697446611280005,
          0.22529636723346758,
          0.1161697303217627,
          0.17033135947771694,
          0.8325617982448972,
          0.5472341085707088,
          0.9669549164451002,
          0.2475954496771967,
          0.7497201100591544,
          0.9614999013831749,
          0.9396975077487425,
          0.7886648046959303,
          0.32590228659881226,
          0.10777157469033649,
          0.9978991786775343,
          0.2858415228843155,
          0.6851206557024384,
          0.38805256481020434,
          0.66109234467044,
          0.8860133534619254,
          0.4213642506242049,
          0.6743198570628508,
          0.6656479537489318,
          0.6065373124800183,
          0.25201673938694813,
          0.05030904571130845,
          0.41401213743180143,
          0.7189393436873426,
          0.929605937977888,
          0.07023729970534354,
          0.24038644001958465,
          0.632063691457217,
          0.22957645221162015,
          0.3195747648987325,
          0.541666475373368,
          0.5441038434692387,
          0.40778259724468047,
          0.225862802881601,
          0.4796028398481794,
          0.324652204581544,
          0.2019367580104594,
          0.10974428746289655,
          0.49763556945229526,
          0.8090999624543773,
          0.2272057880828694,
          0.45397874065463384,
          0.0019187911166977933,
          0.29377614301111055,
          0.38409997076807334,
          0.8271701737676631,
          0.7547418326906155,
          0.36069997849644286,
          0.2192185020931785,
          0.5528882226439371,
          0.20041778808758937,
          0.9888650720711814,
          0.8152424257042555,
          0.268685081062804,
          0.06431056149944225,
          0.6603049664873818,
          0.9327983811523727,
          0.9288223580133821,
          0.39899359519867517,
          0.05168668161792522,
          0.9340152735254715,
          0.862099704697694,
          0.9403696989535826,
          0.4790804197177635,
          0.19592031989218983,
          0.3086533524159172,
          0.22181010617622876,
          0.7582898233439308,
          0.6162874446229667,
          0.8829991970982982,
          0.5875930166320611
         ]
        },
        {
         "boxpoints": false,
         "line": {
          "width": 1.3
         },
         "marker": {
          "color": "rgba(55, 128, 191, 1.0)"
         },
         "name": "B",
         "orientation": "v",
         "type": "box",
         "y": [
          0.1420989997204274,
          0.16272302776698333,
          0.5510418624633832,
          0.7810968428085451,
          0.974301807852817,
          0.6471915985690905,
          0.21234414860461104,
          0.9076787921118685,
          0.5664836023015972,
          0.7700135430908135,
          0.5253479398485718,
          0.5241714927399055,
          0.4301101655038079,
          0.8199434200022369,
          0.8127534054878676,
          0.047738991932165464,
          0.5349971488824744,
          0.5882683336930767,
          0.5135454203297177,
          0.04071727445935902,
          0.7200244546048392,
          0.8900719747838537,
          0.9865349592432118,
          0.4371129801660866,
          0.3243903451602598,
          0.5076790757069931,
          0.8525163039447864,
          0.566288953632173,
          0.1654817274784377,
          0.29662449110709144,
          0.3477905086317059,
          0.5059376256724428,
          0.6325085839762339,
          0.1448234277272753,
          0.7470284948374725,
          0.29546772497391927,
          0.3552949972380134,
          0.6366411169592828,
          0.4697823842392852,
          0.5319954083505593,
          0.9933995867373235,
          0.9070847709211363,
          0.6667901671187938,
          0.26101265540922325,
          0.330798623844741,
          0.2379799719882747,
          0.7825867856735038,
          0.20795006027228824,
          0.7311397165709611,
          0.48004107134623486,
          0.8661826114431671,
          0.8806199971587744,
          0.9106636500545815,
          0.12768512772204432,
          0.058033915607826,
          0.12820324272821748,
          0.09909743280436667,
          0.4903313130260817,
          0.6367265819917569,
          0.8636576164807224,
          0.33879757104565233,
          0.6733604397968099,
          0.9166751994743604,
          0.8253133157026932,
          0.6193553471911393,
          0.899112078299836,
          0.9577354173244566,
          0.55673671056099,
          0.2887334137560843,
          0.5571212721073879,
          0.19238618294946197,
          0.39814105892230056,
          0.011906309498581402,
          0.15563058187450685,
          0.16007112287112124,
          0.08737201724425192,
          0.43020181136608315,
          0.44598215676077313,
          0.8596018665391401,
          0.012053338547065806,
          0.8455576896774778,
          0.34822730875600516,
          0.5849194869804503,
          0.7212007626939569,
          0.4279290374816803,
          0.2493311030777,
          0.13133372297632728,
          0.32764216948557945,
          0.7019104372779333,
          0.37703502274650014,
          0.2779812489593061,
          0.909981378748785,
          0.5605431426633933,
          0.26479676439354294,
          0.02176661782524547,
          0.7235964641179009,
          0.7164017718719706,
          0.28682585808982264,
          0.9860956241904728,
          0.07634445227262043
         ]
        },
        {
         "boxpoints": false,
         "line": {
          "width": 1.3
         },
         "marker": {
          "color": "rgba(50, 171, 96, 1.0)"
         },
         "name": "C",
         "orientation": "v",
         "type": "box",
         "y": [
          0.21526701000752835,
          0.7143715175733945,
          0.09571325034684763,
          0.937765146045614,
          0.32891164884086554,
          0.1708499619190198,
          0.5028151642353679,
          0.7745194342439721,
          0.9457112968565712,
          0.6776046274326826,
          0.33500850574965424,
          0.06429840241799067,
          0.49456361203696464,
          0.8435460645595105,
          0.04067500842771199,
          0.5789968830208606,
          0.7133145677643881,
          0.8972074154015114,
          0.5741283590344698,
          0.7535707869668855,
          0.9653708866215502,
          0.30912127814696055,
          0.9753562875928239,
          0.07659204572598322,
          0.4855520961623818,
          0.9598196783663728,
          0.7397413577801413,
          0.19734930669571338,
          0.21214518489928313,
          0.5413714780461003,
          0.2989055031523594,
          0.0445049126513396,
          0.6106028543512637,
          0.567534044082875,
          0.9721287395080479,
          0.24041466595520877,
          0.9449142077840208,
          0.42594120779842437,
          0.7694062974208946,
          0.816962257037902,
          0.17238212256315655,
          0.8743331885829791,
          0.9085903741068485,
          0.08114716480876283,
          0.7392627420348479,
          0.9772218807204641,
          0.6581784858353785,
          0.9862373190591623,
          0.4568767290746719,
          0.1508504222057825,
          0.5066371120721531,
          0.7098503933406776,
          0.6085154386124608,
          0.7145650216601073,
          0.19859958292355118,
          0.6314838903661684,
          0.39901371805426544,
          0.5502944733108335,
          0.07326063771069646,
          0.5252872769483579,
          0.5595443359199435,
          0.8469130881525487,
          0.2543782400168928,
          0.8791215937301804,
          0.6386572888483397,
          0.10505967986733977,
          0.5605557403311213,
          0.48317045048453044,
          0.30078499028556493,
          0.4984855163323506,
          0.18721860722835126,
          0.2199248786553436,
          0.17276853819176408,
          0.19335750616629532,
          0.9961409692745002,
          0.14597884481689916,
          0.0694428590288031,
          0.8092665679436554,
          0.33723798695016716,
          0.5048914413092419,
          0.8594186141877432,
          0.16335092181242572,
          0.6231978032415111,
          0.5471195298239976,
          0.09557593552264565,
          0.07143931852587215,
          0.005151239178121214,
          0.7472799136223178,
          0.09049693994982588,
          0.4470149735389283,
          0.7305894797030132,
          0.5280523226991469,
          0.8538296504678102,
          0.5753398036708376,
          0.5426276816273093,
          0.9343435312651819,
          0.4950951966210053,
          0.4254864339849018,
          0.5806840806988296,
          0.9511085331715369
         ]
        },
        {
         "boxpoints": false,
         "line": {
          "width": 1.3
         },
         "marker": {
          "color": "rgba(128, 0, 128, 1.0)"
         },
         "name": "D",
         "orientation": "v",
         "type": "box",
         "y": [
          0.2693588004837245,
          0.7272376744767046,
          0.0847459573319197,
          0.9937065190610479,
          0.058979216584439276,
          0.7622243653969791,
          0.9852284156957358,
          0.5217777899952714,
          0.8187346018004542,
          0.39271165520681495,
          0.039639228594526954,
          0.6437254368053777,
          0.8825141197735623,
          0.07574987820954049,
          0.5659210897360782,
          0.7919953924615094,
          0.9896663440068089,
          0.24383501741632607,
          0.2174408233972125,
          0.7134201104202477,
          0.16855303189851112,
          0.8260489883427669,
          0.9162604808441045,
          0.5405688554116973,
          0.2385221459931568,
          0.5391044062278301,
          0.14135417823709062,
          0.7960627517303884,
          0.8420270044490886,
          0.2751570030123761,
          0.6484374134383162,
          0.936219920583301,
          0.12018818740336179,
          0.6802469298909554,
          0.027667402357477777,
          0.7534263183190321,
          0.15200668988058286,
          0.6379082749707069,
          0.48047129472150074,
          0.4677435754467977,
          0.4333959428618087,
          0.9012651744296631,
          0.16509096487816866,
          0.6490104765306842,
          0.6059604121331397,
          0.4990463341810545,
          0.9345744212388576,
          0.3799903412993587,
          0.18932606705713617,
          0.25346642681024234,
          0.9207633626005549,
          0.41545596150652353,
          0.4533645712239097,
          0.6506416140340825,
          0.6997162015812407,
          0.8852986916095966,
          0.37498778315958636,
          0.8314429697596049,
          0.13502673435385026,
          0.8979987612536348,
          0.3639429691100261,
          0.745483313257713,
          0.06578331168267948,
          0.4951905039218433,
          0.2532640224024172,
          0.719730115612484,
          0.5143268751173564,
          0.25421150057041175,
          0.3389942817348648,
          0.19850257012175643,
          0.20028652781703737,
          0.6651212562701333,
          0.529278813042016,
          0.042062130810310405,
          0.44112869964487167,
          0.6920514932823784,
          0.021164503749724117,
          0.44750287035257597,
          0.56472684426539,
          0.7019277928315436,
          0.5851064665714394,
          0.21020198044309035,
          0.2096339470898173,
          0.3932379119941055,
          0.4408019823537771,
          0.2583760972068493,
          0.6834895150994145,
          0.08900119437390264,
          0.8809772440190711,
          0.716312394923501,
          0.744839320051633,
          0.9786104201487468,
          0.18725208453496445,
          0.27887369246250304,
          0.05885105673928237,
          0.672260988708463,
          0.04236419271147529,
          0.8130830659218616,
          0.251040476355191,
          0.2879237577645707
         ]
        }
       ],
       "layout": {
        "legend": {
         "bgcolor": "#F5F6F9",
         "font": {
          "color": "#4D5663"
         }
        },
        "paper_bgcolor": "#F5F6F9",
        "plot_bgcolor": "#F5F6F9",
        "template": {
         "data": {
          "bar": [
           {
            "error_x": {
             "color": "#2a3f5f"
            },
            "error_y": {
             "color": "#2a3f5f"
            },
            "marker": {
             "line": {
              "color": "#E5ECF6",
              "width": 0.5
             }
            },
            "type": "bar"
           }
          ],
          "barpolar": [
           {
            "marker": {
             "line": {
              "color": "#E5ECF6",
              "width": 0.5
             }
            },
            "type": "barpolar"
           }
          ],
          "carpet": [
           {
            "aaxis": {
             "endlinecolor": "#2a3f5f",
             "gridcolor": "white",
             "linecolor": "white",
             "minorgridcolor": "white",
             "startlinecolor": "#2a3f5f"
            },
            "baxis": {
             "endlinecolor": "#2a3f5f",
             "gridcolor": "white",
             "linecolor": "white",
             "minorgridcolor": "white",
             "startlinecolor": "#2a3f5f"
            },
            "type": "carpet"
           }
          ],
          "choropleth": [
           {
            "colorbar": {
             "outlinewidth": 0,
             "ticks": ""
            },
            "type": "choropleth"
           }
          ],
          "contour": [
           {
            "colorbar": {
             "outlinewidth": 0,
             "ticks": ""
            },
            "colorscale": [
             [
              0,
              "#0d0887"
             ],
             [
              0.1111111111111111,
              "#46039f"
             ],
             [
              0.2222222222222222,
              "#7201a8"
             ],
             [
              0.3333333333333333,
              "#9c179e"
             ],
             [
              0.4444444444444444,
              "#bd3786"
             ],
             [
              0.5555555555555556,
              "#d8576b"
             ],
             [
              0.6666666666666666,
              "#ed7953"
             ],
             [
              0.7777777777777778,
              "#fb9f3a"
             ],
             [
              0.8888888888888888,
              "#fdca26"
             ],
             [
              1,
              "#f0f921"
             ]
            ],
            "type": "contour"
           }
          ],
          "contourcarpet": [
           {
            "colorbar": {
             "outlinewidth": 0,
             "ticks": ""
            },
            "type": "contourcarpet"
           }
          ],
          "heatmap": [
           {
            "colorbar": {
             "outlinewidth": 0,
             "ticks": ""
            },
            "colorscale": [
             [
              0,
              "#0d0887"
             ],
             [
              0.1111111111111111,
              "#46039f"
             ],
             [
              0.2222222222222222,
              "#7201a8"
             ],
             [
              0.3333333333333333,
              "#9c179e"
             ],
             [
              0.4444444444444444,
              "#bd3786"
             ],
             [
              0.5555555555555556,
              "#d8576b"
             ],
             [
              0.6666666666666666,
              "#ed7953"
             ],
             [
              0.7777777777777778,
              "#fb9f3a"
             ],
             [
              0.8888888888888888,
              "#fdca26"
             ],
             [
              1,
              "#f0f921"
             ]
            ],
            "type": "heatmap"
           }
          ],
          "heatmapgl": [
           {
            "colorbar": {
             "outlinewidth": 0,
             "ticks": ""
            },
            "colorscale": [
             [
              0,
              "#0d0887"
             ],
             [
              0.1111111111111111,
              "#46039f"
             ],
             [
              0.2222222222222222,
              "#7201a8"
             ],
             [
              0.3333333333333333,
              "#9c179e"
             ],
             [
              0.4444444444444444,
              "#bd3786"
             ],
             [
              0.5555555555555556,
              "#d8576b"
             ],
             [
              0.6666666666666666,
              "#ed7953"
             ],
             [
              0.7777777777777778,
              "#fb9f3a"
             ],
             [
              0.8888888888888888,
              "#fdca26"
             ],
             [
              1,
              "#f0f921"
             ]
            ],
            "type": "heatmapgl"
           }
          ],
          "histogram": [
           {
            "marker": {
             "colorbar": {
              "outlinewidth": 0,
              "ticks": ""
             }
            },
            "type": "histogram"
           }
          ],
          "histogram2d": [
           {
            "colorbar": {
             "outlinewidth": 0,
             "ticks": ""
            },
            "colorscale": [
             [
              0,
              "#0d0887"
             ],
             [
              0.1111111111111111,
              "#46039f"
             ],
             [
              0.2222222222222222,
              "#7201a8"
             ],
             [
              0.3333333333333333,
              "#9c179e"
             ],
             [
              0.4444444444444444,
              "#bd3786"
             ],
             [
              0.5555555555555556,
              "#d8576b"
             ],
             [
              0.6666666666666666,
              "#ed7953"
             ],
             [
              0.7777777777777778,
              "#fb9f3a"
             ],
             [
              0.8888888888888888,
              "#fdca26"
             ],
             [
              1,
              "#f0f921"
             ]
            ],
            "type": "histogram2d"
           }
          ],
          "histogram2dcontour": [
           {
            "colorbar": {
             "outlinewidth": 0,
             "ticks": ""
            },
            "colorscale": [
             [
              0,
              "#0d0887"
             ],
             [
              0.1111111111111111,
              "#46039f"
             ],
             [
              0.2222222222222222,
              "#7201a8"
             ],
             [
              0.3333333333333333,
              "#9c179e"
             ],
             [
              0.4444444444444444,
              "#bd3786"
             ],
             [
              0.5555555555555556,
              "#d8576b"
             ],
             [
              0.6666666666666666,
              "#ed7953"
             ],
             [
              0.7777777777777778,
              "#fb9f3a"
             ],
             [
              0.8888888888888888,
              "#fdca26"
             ],
             [
              1,
              "#f0f921"
             ]
            ],
            "type": "histogram2dcontour"
           }
          ],
          "mesh3d": [
           {
            "colorbar": {
             "outlinewidth": 0,
             "ticks": ""
            },
            "type": "mesh3d"
           }
          ],
          "parcoords": [
           {
            "line": {
             "colorbar": {
              "outlinewidth": 0,
              "ticks": ""
             }
            },
            "type": "parcoords"
           }
          ],
          "pie": [
           {
            "automargin": true,
            "type": "pie"
           }
          ],
          "scatter": [
           {
            "marker": {
             "colorbar": {
              "outlinewidth": 0,
              "ticks": ""
             }
            },
            "type": "scatter"
           }
          ],
          "scatter3d": [
           {
            "line": {
             "colorbar": {
              "outlinewidth": 0,
              "ticks": ""
             }
            },
            "marker": {
             "colorbar": {
              "outlinewidth": 0,
              "ticks": ""
             }
            },
            "type": "scatter3d"
           }
          ],
          "scattercarpet": [
           {
            "marker": {
             "colorbar": {
              "outlinewidth": 0,
              "ticks": ""
             }
            },
            "type": "scattercarpet"
           }
          ],
          "scattergeo": [
           {
            "marker": {
             "colorbar": {
              "outlinewidth": 0,
              "ticks": ""
             }
            },
            "type": "scattergeo"
           }
          ],
          "scattergl": [
           {
            "marker": {
             "colorbar": {
              "outlinewidth": 0,
              "ticks": ""
             }
            },
            "type": "scattergl"
           }
          ],
          "scattermapbox": [
           {
            "marker": {
             "colorbar": {
              "outlinewidth": 0,
              "ticks": ""
             }
            },
            "type": "scattermapbox"
           }
          ],
          "scatterpolar": [
           {
            "marker": {
             "colorbar": {
              "outlinewidth": 0,
              "ticks": ""
             }
            },
            "type": "scatterpolar"
           }
          ],
          "scatterpolargl": [
           {
            "marker": {
             "colorbar": {
              "outlinewidth": 0,
              "ticks": ""
             }
            },
            "type": "scatterpolargl"
           }
          ],
          "scatterternary": [
           {
            "marker": {
             "colorbar": {
              "outlinewidth": 0,
              "ticks": ""
             }
            },
            "type": "scatterternary"
           }
          ],
          "surface": [
           {
            "colorbar": {
             "outlinewidth": 0,
             "ticks": ""
            },
            "colorscale": [
             [
              0,
              "#0d0887"
             ],
             [
              0.1111111111111111,
              "#46039f"
             ],
             [
              0.2222222222222222,
              "#7201a8"
             ],
             [
              0.3333333333333333,
              "#9c179e"
             ],
             [
              0.4444444444444444,
              "#bd3786"
             ],
             [
              0.5555555555555556,
              "#d8576b"
             ],
             [
              0.6666666666666666,
              "#ed7953"
             ],
             [
              0.7777777777777778,
              "#fb9f3a"
             ],
             [
              0.8888888888888888,
              "#fdca26"
             ],
             [
              1,
              "#f0f921"
             ]
            ],
            "type": "surface"
           }
          ],
          "table": [
           {
            "cells": {
             "fill": {
              "color": "#EBF0F8"
             },
             "line": {
              "color": "white"
             }
            },
            "header": {
             "fill": {
              "color": "#C8D4E3"
             },
             "line": {
              "color": "white"
             }
            },
            "type": "table"
           }
          ]
         },
         "layout": {
          "annotationdefaults": {
           "arrowcolor": "#2a3f5f",
           "arrowhead": 0,
           "arrowwidth": 1
          },
          "coloraxis": {
           "colorbar": {
            "outlinewidth": 0,
            "ticks": ""
           }
          },
          "colorscale": {
           "diverging": [
            [
             0,
             "#8e0152"
            ],
            [
             0.1,
             "#c51b7d"
            ],
            [
             0.2,
             "#de77ae"
            ],
            [
             0.3,
             "#f1b6da"
            ],
            [
             0.4,
             "#fde0ef"
            ],
            [
             0.5,
             "#f7f7f7"
            ],
            [
             0.6,
             "#e6f5d0"
            ],
            [
             0.7,
             "#b8e186"
            ],
            [
             0.8,
             "#7fbc41"
            ],
            [
             0.9,
             "#4d9221"
            ],
            [
             1,
             "#276419"
            ]
           ],
           "sequential": [
            [
             0,
             "#0d0887"
            ],
            [
             0.1111111111111111,
             "#46039f"
            ],
            [
             0.2222222222222222,
             "#7201a8"
            ],
            [
             0.3333333333333333,
             "#9c179e"
            ],
            [
             0.4444444444444444,
             "#bd3786"
            ],
            [
             0.5555555555555556,
             "#d8576b"
            ],
            [
             0.6666666666666666,
             "#ed7953"
            ],
            [
             0.7777777777777778,
             "#fb9f3a"
            ],
            [
             0.8888888888888888,
             "#fdca26"
            ],
            [
             1,
             "#f0f921"
            ]
           ],
           "sequentialminus": [
            [
             0,
             "#0d0887"
            ],
            [
             0.1111111111111111,
             "#46039f"
            ],
            [
             0.2222222222222222,
             "#7201a8"
            ],
            [
             0.3333333333333333,
             "#9c179e"
            ],
            [
             0.4444444444444444,
             "#bd3786"
            ],
            [
             0.5555555555555556,
             "#d8576b"
            ],
            [
             0.6666666666666666,
             "#ed7953"
            ],
            [
             0.7777777777777778,
             "#fb9f3a"
            ],
            [
             0.8888888888888888,
             "#fdca26"
            ],
            [
             1,
             "#f0f921"
            ]
           ]
          },
          "colorway": [
           "#636efa",
           "#EF553B",
           "#00cc96",
           "#ab63fa",
           "#FFA15A",
           "#19d3f3",
           "#FF6692",
           "#B6E880",
           "#FF97FF",
           "#FECB52"
          ],
          "font": {
           "color": "#2a3f5f"
          },
          "geo": {
           "bgcolor": "white",
           "lakecolor": "white",
           "landcolor": "#E5ECF6",
           "showlakes": true,
           "showland": true,
           "subunitcolor": "white"
          },
          "hoverlabel": {
           "align": "left"
          },
          "hovermode": "closest",
          "mapbox": {
           "style": "light"
          },
          "paper_bgcolor": "white",
          "plot_bgcolor": "#E5ECF6",
          "polar": {
           "angularaxis": {
            "gridcolor": "white",
            "linecolor": "white",
            "ticks": ""
           },
           "bgcolor": "#E5ECF6",
           "radialaxis": {
            "gridcolor": "white",
            "linecolor": "white",
            "ticks": ""
           }
          },
          "scene": {
           "xaxis": {
            "backgroundcolor": "#E5ECF6",
            "gridcolor": "white",
            "gridwidth": 2,
            "linecolor": "white",
            "showbackground": true,
            "ticks": "",
            "zerolinecolor": "white"
           },
           "yaxis": {
            "backgroundcolor": "#E5ECF6",
            "gridcolor": "white",
            "gridwidth": 2,
            "linecolor": "white",
            "showbackground": true,
            "ticks": "",
            "zerolinecolor": "white"
           },
           "zaxis": {
            "backgroundcolor": "#E5ECF6",
            "gridcolor": "white",
            "gridwidth": 2,
            "linecolor": "white",
            "showbackground": true,
            "ticks": "",
            "zerolinecolor": "white"
           }
          },
          "shapedefaults": {
           "line": {
            "color": "#2a3f5f"
           }
          },
          "ternary": {
           "aaxis": {
            "gridcolor": "white",
            "linecolor": "white",
            "ticks": ""
           },
           "baxis": {
            "gridcolor": "white",
            "linecolor": "white",
            "ticks": ""
           },
           "bgcolor": "#E5ECF6",
           "caxis": {
            "gridcolor": "white",
            "linecolor": "white",
            "ticks": ""
           }
          },
          "title": {
           "x": 0.05
          },
          "xaxis": {
           "automargin": true,
           "gridcolor": "white",
           "linecolor": "white",
           "ticks": "",
           "title": {
            "standoff": 15
           },
           "zerolinecolor": "white",
           "zerolinewidth": 2
          },
          "yaxis": {
           "automargin": true,
           "gridcolor": "white",
           "linecolor": "white",
           "ticks": "",
           "title": {
            "standoff": 15
           },
           "zerolinecolor": "white",
           "zerolinewidth": 2
          }
         }
        },
        "title": {
         "font": {
          "color": "#4D5663"
         }
        },
        "xaxis": {
         "gridcolor": "#E1E5ED",
         "showgrid": true,
         "tickfont": {
          "color": "#4D5663"
         },
         "title": {
          "font": {
           "color": "#4D5663"
          },
          "text": ""
         },
         "zerolinecolor": "#E1E5ED"
        },
        "yaxis": {
         "gridcolor": "#E1E5ED",
         "showgrid": true,
         "tickfont": {
          "color": "#4D5663"
         },
         "title": {
          "font": {
           "color": "#4D5663"
          },
          "text": ""
         },
         "zerolinecolor": "#E1E5ED"
        }
       }
      },
      "text/html": [
       "<div>\n",
       "        \n",
       "        \n",
       "            <div id=\"71a78374-7cbe-4d6c-b6a0-d6ecb54f7154\" class=\"plotly-graph-div\" style=\"height:525px; width:100%;\"></div>\n",
       "            <script type=\"text/javascript\">\n",
       "                require([\"plotly\"], function(Plotly) {\n",
       "                    window.PLOTLYENV=window.PLOTLYENV || {};\n",
       "                    window.PLOTLYENV.BASE_URL='https://plot.ly';\n",
       "                    \n",
       "                if (document.getElementById(\"71a78374-7cbe-4d6c-b6a0-d6ecb54f7154\")) {\n",
       "                    Plotly.newPlot(\n",
       "                        '71a78374-7cbe-4d6c-b6a0-d6ecb54f7154',\n",
       "                        [{\"boxpoints\": false, \"line\": {\"width\": 1.3}, \"marker\": {\"color\": \"rgba(255, 153, 51, 1.0)\"}, \"name\": \"A\", \"orientation\": \"v\", \"type\": \"box\", \"y\": [0.932905871818665, 0.7990174600691328, 0.6578805504982351, 0.42756675450495063, 0.17016560945553538, 0.9055605402234296, 0.28956721012351794, 0.9526365568361495, 0.4704206036221772, 0.15226207946635395, 0.6033907891545828, 0.25099507114325215, 0.005340848698156209, 0.06533954296997113, 0.2733035065352758, 0.7569540823349571, 0.8287187216757339, 0.9828434948732078, 0.8112812748144534, 0.11076655847239603, 0.8427519466173623, 0.48859212569623023, 0.14388465522460525, 0.7539262751473198, 0.44536556957401285, 0.6697446611280005, 0.22529636723346758, 0.1161697303217627, 0.17033135947771694, 0.8325617982448972, 0.5472341085707088, 0.9669549164451002, 0.2475954496771967, 0.7497201100591544, 0.9614999013831749, 0.9396975077487425, 0.7886648046959303, 0.32590228659881226, 0.10777157469033649, 0.9978991786775343, 0.2858415228843155, 0.6851206557024384, 0.38805256481020434, 0.66109234467044, 0.8860133534619254, 0.4213642506242049, 0.6743198570628508, 0.6656479537489318, 0.6065373124800183, 0.25201673938694813, 0.05030904571130845, 0.41401213743180143, 0.7189393436873426, 0.929605937977888, 0.07023729970534354, 0.24038644001958465, 0.632063691457217, 0.22957645221162015, 0.3195747648987325, 0.541666475373368, 0.5441038434692387, 0.40778259724468047, 0.225862802881601, 0.4796028398481794, 0.324652204581544, 0.2019367580104594, 0.10974428746289655, 0.49763556945229526, 0.8090999624543773, 0.2272057880828694, 0.45397874065463384, 0.0019187911166977933, 0.29377614301111055, 0.38409997076807334, 0.8271701737676631, 0.7547418326906155, 0.36069997849644286, 0.2192185020931785, 0.5528882226439371, 0.20041778808758937, 0.9888650720711814, 0.8152424257042555, 0.268685081062804, 0.06431056149944225, 0.6603049664873818, 0.9327983811523727, 0.9288223580133821, 0.39899359519867517, 0.05168668161792522, 0.9340152735254715, 0.862099704697694, 0.9403696989535826, 0.4790804197177635, 0.19592031989218983, 0.3086533524159172, 0.22181010617622876, 0.7582898233439308, 0.6162874446229667, 0.8829991970982982, 0.5875930166320611]}, {\"boxpoints\": false, \"line\": {\"width\": 1.3}, \"marker\": {\"color\": \"rgba(55, 128, 191, 1.0)\"}, \"name\": \"B\", \"orientation\": \"v\", \"type\": \"box\", \"y\": [0.1420989997204274, 0.16272302776698333, 0.5510418624633832, 0.7810968428085451, 0.974301807852817, 0.6471915985690905, 0.21234414860461104, 0.9076787921118685, 0.5664836023015972, 0.7700135430908135, 0.5253479398485718, 0.5241714927399055, 0.4301101655038079, 0.8199434200022369, 0.8127534054878676, 0.047738991932165464, 0.5349971488824744, 0.5882683336930767, 0.5135454203297177, 0.04071727445935902, 0.7200244546048392, 0.8900719747838537, 0.9865349592432118, 0.4371129801660866, 0.3243903451602598, 0.5076790757069931, 0.8525163039447864, 0.566288953632173, 0.1654817274784377, 0.29662449110709144, 0.3477905086317059, 0.5059376256724428, 0.6325085839762339, 0.1448234277272753, 0.7470284948374725, 0.29546772497391927, 0.3552949972380134, 0.6366411169592828, 0.4697823842392852, 0.5319954083505593, 0.9933995867373235, 0.9070847709211363, 0.6667901671187938, 0.26101265540922325, 0.330798623844741, 0.2379799719882747, 0.7825867856735038, 0.20795006027228824, 0.7311397165709611, 0.48004107134623486, 0.8661826114431671, 0.8806199971587744, 0.9106636500545815, 0.12768512772204432, 0.058033915607826, 0.12820324272821748, 0.09909743280436667, 0.4903313130260817, 0.6367265819917569, 0.8636576164807224, 0.33879757104565233, 0.6733604397968099, 0.9166751994743604, 0.8253133157026932, 0.6193553471911393, 0.899112078299836, 0.9577354173244566, 0.55673671056099, 0.2887334137560843, 0.5571212721073879, 0.19238618294946197, 0.39814105892230056, 0.011906309498581402, 0.15563058187450685, 0.16007112287112124, 0.08737201724425192, 0.43020181136608315, 0.44598215676077313, 0.8596018665391401, 0.012053338547065806, 0.8455576896774778, 0.34822730875600516, 0.5849194869804503, 0.7212007626939569, 0.4279290374816803, 0.2493311030777, 0.13133372297632728, 0.32764216948557945, 0.7019104372779333, 0.37703502274650014, 0.2779812489593061, 0.909981378748785, 0.5605431426633933, 0.26479676439354294, 0.02176661782524547, 0.7235964641179009, 0.7164017718719706, 0.28682585808982264, 0.9860956241904728, 0.07634445227262043]}, {\"boxpoints\": false, \"line\": {\"width\": 1.3}, \"marker\": {\"color\": \"rgba(50, 171, 96, 1.0)\"}, \"name\": \"C\", \"orientation\": \"v\", \"type\": \"box\", \"y\": [0.21526701000752835, 0.7143715175733945, 0.09571325034684763, 0.937765146045614, 0.32891164884086554, 0.1708499619190198, 0.5028151642353679, 0.7745194342439721, 0.9457112968565712, 0.6776046274326826, 0.33500850574965424, 0.06429840241799067, 0.49456361203696464, 0.8435460645595105, 0.04067500842771199, 0.5789968830208606, 0.7133145677643881, 0.8972074154015114, 0.5741283590344698, 0.7535707869668855, 0.9653708866215502, 0.30912127814696055, 0.9753562875928239, 0.07659204572598322, 0.4855520961623818, 0.9598196783663728, 0.7397413577801413, 0.19734930669571338, 0.21214518489928313, 0.5413714780461003, 0.2989055031523594, 0.0445049126513396, 0.6106028543512637, 0.567534044082875, 0.9721287395080479, 0.24041466595520877, 0.9449142077840208, 0.42594120779842437, 0.7694062974208946, 0.816962257037902, 0.17238212256315655, 0.8743331885829791, 0.9085903741068485, 0.08114716480876283, 0.7392627420348479, 0.9772218807204641, 0.6581784858353785, 0.9862373190591623, 0.4568767290746719, 0.1508504222057825, 0.5066371120721531, 0.7098503933406776, 0.6085154386124608, 0.7145650216601073, 0.19859958292355118, 0.6314838903661684, 0.39901371805426544, 0.5502944733108335, 0.07326063771069646, 0.5252872769483579, 0.5595443359199435, 0.8469130881525487, 0.2543782400168928, 0.8791215937301804, 0.6386572888483397, 0.10505967986733977, 0.5605557403311213, 0.48317045048453044, 0.30078499028556493, 0.4984855163323506, 0.18721860722835126, 0.2199248786553436, 0.17276853819176408, 0.19335750616629532, 0.9961409692745002, 0.14597884481689916, 0.0694428590288031, 0.8092665679436554, 0.33723798695016716, 0.5048914413092419, 0.8594186141877432, 0.16335092181242572, 0.6231978032415111, 0.5471195298239976, 0.09557593552264565, 0.07143931852587215, 0.005151239178121214, 0.7472799136223178, 0.09049693994982588, 0.4470149735389283, 0.7305894797030132, 0.5280523226991469, 0.8538296504678102, 0.5753398036708376, 0.5426276816273093, 0.9343435312651819, 0.4950951966210053, 0.4254864339849018, 0.5806840806988296, 0.9511085331715369]}, {\"boxpoints\": false, \"line\": {\"width\": 1.3}, \"marker\": {\"color\": \"rgba(128, 0, 128, 1.0)\"}, \"name\": \"D\", \"orientation\": \"v\", \"type\": \"box\", \"y\": [0.2693588004837245, 0.7272376744767046, 0.0847459573319197, 0.9937065190610479, 0.058979216584439276, 0.7622243653969791, 0.9852284156957358, 0.5217777899952714, 0.8187346018004542, 0.39271165520681495, 0.039639228594526954, 0.6437254368053777, 0.8825141197735623, 0.07574987820954049, 0.5659210897360782, 0.7919953924615094, 0.9896663440068089, 0.24383501741632607, 0.2174408233972125, 0.7134201104202477, 0.16855303189851112, 0.8260489883427669, 0.9162604808441045, 0.5405688554116973, 0.2385221459931568, 0.5391044062278301, 0.14135417823709062, 0.7960627517303884, 0.8420270044490886, 0.2751570030123761, 0.6484374134383162, 0.936219920583301, 0.12018818740336179, 0.6802469298909554, 0.027667402357477777, 0.7534263183190321, 0.15200668988058286, 0.6379082749707069, 0.48047129472150074, 0.4677435754467977, 0.4333959428618087, 0.9012651744296631, 0.16509096487816866, 0.6490104765306842, 0.6059604121331397, 0.4990463341810545, 0.9345744212388576, 0.3799903412993587, 0.18932606705713617, 0.25346642681024234, 0.9207633626005549, 0.41545596150652353, 0.4533645712239097, 0.6506416140340825, 0.6997162015812407, 0.8852986916095966, 0.37498778315958636, 0.8314429697596049, 0.13502673435385026, 0.8979987612536348, 0.3639429691100261, 0.745483313257713, 0.06578331168267948, 0.4951905039218433, 0.2532640224024172, 0.719730115612484, 0.5143268751173564, 0.25421150057041175, 0.3389942817348648, 0.19850257012175643, 0.20028652781703737, 0.6651212562701333, 0.529278813042016, 0.042062130810310405, 0.44112869964487167, 0.6920514932823784, 0.021164503749724117, 0.44750287035257597, 0.56472684426539, 0.7019277928315436, 0.5851064665714394, 0.21020198044309035, 0.2096339470898173, 0.3932379119941055, 0.4408019823537771, 0.2583760972068493, 0.6834895150994145, 0.08900119437390264, 0.8809772440190711, 0.716312394923501, 0.744839320051633, 0.9786104201487468, 0.18725208453496445, 0.27887369246250304, 0.05885105673928237, 0.672260988708463, 0.04236419271147529, 0.8130830659218616, 0.251040476355191, 0.2879237577645707]}],\n",
       "                        {\"legend\": {\"bgcolor\": \"#F5F6F9\", \"font\": {\"color\": \"#4D5663\"}}, \"paper_bgcolor\": \"#F5F6F9\", \"plot_bgcolor\": \"#F5F6F9\", \"template\": {\"data\": {\"bar\": [{\"error_x\": {\"color\": \"#2a3f5f\"}, \"error_y\": {\"color\": \"#2a3f5f\"}, \"marker\": {\"line\": {\"color\": \"#E5ECF6\", \"width\": 0.5}}, \"type\": \"bar\"}], \"barpolar\": [{\"marker\": {\"line\": {\"color\": \"#E5ECF6\", \"width\": 0.5}}, \"type\": \"barpolar\"}], \"carpet\": [{\"aaxis\": {\"endlinecolor\": \"#2a3f5f\", \"gridcolor\": \"white\", \"linecolor\": \"white\", \"minorgridcolor\": \"white\", \"startlinecolor\": \"#2a3f5f\"}, \"baxis\": {\"endlinecolor\": \"#2a3f5f\", \"gridcolor\": \"white\", \"linecolor\": \"white\", \"minorgridcolor\": \"white\", \"startlinecolor\": \"#2a3f5f\"}, \"type\": \"carpet\"}], \"choropleth\": [{\"colorbar\": {\"outlinewidth\": 0, \"ticks\": \"\"}, \"type\": \"choropleth\"}], \"contour\": [{\"colorbar\": {\"outlinewidth\": 0, \"ticks\": \"\"}, \"colorscale\": [[0.0, \"#0d0887\"], [0.1111111111111111, \"#46039f\"], [0.2222222222222222, \"#7201a8\"], [0.3333333333333333, \"#9c179e\"], [0.4444444444444444, \"#bd3786\"], [0.5555555555555556, \"#d8576b\"], [0.6666666666666666, \"#ed7953\"], [0.7777777777777778, \"#fb9f3a\"], [0.8888888888888888, \"#fdca26\"], [1.0, \"#f0f921\"]], \"type\": \"contour\"}], \"contourcarpet\": [{\"colorbar\": {\"outlinewidth\": 0, \"ticks\": \"\"}, \"type\": \"contourcarpet\"}], \"heatmap\": [{\"colorbar\": {\"outlinewidth\": 0, \"ticks\": \"\"}, \"colorscale\": [[0.0, \"#0d0887\"], [0.1111111111111111, \"#46039f\"], [0.2222222222222222, \"#7201a8\"], [0.3333333333333333, \"#9c179e\"], [0.4444444444444444, \"#bd3786\"], [0.5555555555555556, \"#d8576b\"], [0.6666666666666666, \"#ed7953\"], [0.7777777777777778, \"#fb9f3a\"], [0.8888888888888888, \"#fdca26\"], [1.0, \"#f0f921\"]], \"type\": \"heatmap\"}], \"heatmapgl\": [{\"colorbar\": {\"outlinewidth\": 0, \"ticks\": \"\"}, \"colorscale\": [[0.0, \"#0d0887\"], [0.1111111111111111, \"#46039f\"], [0.2222222222222222, \"#7201a8\"], [0.3333333333333333, \"#9c179e\"], [0.4444444444444444, \"#bd3786\"], [0.5555555555555556, \"#d8576b\"], [0.6666666666666666, \"#ed7953\"], [0.7777777777777778, \"#fb9f3a\"], [0.8888888888888888, \"#fdca26\"], [1.0, \"#f0f921\"]], \"type\": \"heatmapgl\"}], \"histogram\": [{\"marker\": {\"colorbar\": {\"outlinewidth\": 0, \"ticks\": \"\"}}, \"type\": \"histogram\"}], \"histogram2d\": [{\"colorbar\": {\"outlinewidth\": 0, \"ticks\": \"\"}, \"colorscale\": [[0.0, \"#0d0887\"], [0.1111111111111111, \"#46039f\"], [0.2222222222222222, \"#7201a8\"], [0.3333333333333333, \"#9c179e\"], [0.4444444444444444, \"#bd3786\"], [0.5555555555555556, \"#d8576b\"], [0.6666666666666666, \"#ed7953\"], [0.7777777777777778, \"#fb9f3a\"], [0.8888888888888888, \"#fdca26\"], [1.0, \"#f0f921\"]], \"type\": \"histogram2d\"}], \"histogram2dcontour\": [{\"colorbar\": {\"outlinewidth\": 0, \"ticks\": \"\"}, \"colorscale\": [[0.0, \"#0d0887\"], [0.1111111111111111, \"#46039f\"], [0.2222222222222222, \"#7201a8\"], [0.3333333333333333, \"#9c179e\"], [0.4444444444444444, \"#bd3786\"], [0.5555555555555556, \"#d8576b\"], [0.6666666666666666, \"#ed7953\"], [0.7777777777777778, \"#fb9f3a\"], [0.8888888888888888, \"#fdca26\"], [1.0, \"#f0f921\"]], \"type\": \"histogram2dcontour\"}], \"mesh3d\": [{\"colorbar\": {\"outlinewidth\": 0, \"ticks\": \"\"}, \"type\": \"mesh3d\"}], \"parcoords\": [{\"line\": {\"colorbar\": {\"outlinewidth\": 0, \"ticks\": \"\"}}, \"type\": \"parcoords\"}], \"pie\": [{\"automargin\": true, \"type\": \"pie\"}], \"scatter\": [{\"marker\": {\"colorbar\": {\"outlinewidth\": 0, \"ticks\": \"\"}}, \"type\": \"scatter\"}], \"scatter3d\": [{\"line\": {\"colorbar\": {\"outlinewidth\": 0, \"ticks\": \"\"}}, \"marker\": {\"colorbar\": {\"outlinewidth\": 0, \"ticks\": \"\"}}, \"type\": \"scatter3d\"}], \"scattercarpet\": [{\"marker\": {\"colorbar\": {\"outlinewidth\": 0, \"ticks\": \"\"}}, \"type\": \"scattercarpet\"}], \"scattergeo\": [{\"marker\": {\"colorbar\": {\"outlinewidth\": 0, \"ticks\": \"\"}}, \"type\": \"scattergeo\"}], \"scattergl\": [{\"marker\": {\"colorbar\": {\"outlinewidth\": 0, \"ticks\": \"\"}}, \"type\": \"scattergl\"}], \"scattermapbox\": [{\"marker\": {\"colorbar\": {\"outlinewidth\": 0, \"ticks\": \"\"}}, \"type\": \"scattermapbox\"}], \"scatterpolar\": [{\"marker\": {\"colorbar\": {\"outlinewidth\": 0, \"ticks\": \"\"}}, \"type\": \"scatterpolar\"}], \"scatterpolargl\": [{\"marker\": {\"colorbar\": {\"outlinewidth\": 0, \"ticks\": \"\"}}, \"type\": \"scatterpolargl\"}], \"scatterternary\": [{\"marker\": {\"colorbar\": {\"outlinewidth\": 0, \"ticks\": \"\"}}, \"type\": \"scatterternary\"}], \"surface\": [{\"colorbar\": {\"outlinewidth\": 0, \"ticks\": \"\"}, \"colorscale\": [[0.0, \"#0d0887\"], [0.1111111111111111, \"#46039f\"], [0.2222222222222222, \"#7201a8\"], [0.3333333333333333, \"#9c179e\"], [0.4444444444444444, \"#bd3786\"], [0.5555555555555556, \"#d8576b\"], [0.6666666666666666, \"#ed7953\"], [0.7777777777777778, \"#fb9f3a\"], [0.8888888888888888, \"#fdca26\"], [1.0, \"#f0f921\"]], \"type\": \"surface\"}], \"table\": [{\"cells\": {\"fill\": {\"color\": \"#EBF0F8\"}, \"line\": {\"color\": \"white\"}}, \"header\": {\"fill\": {\"color\": \"#C8D4E3\"}, \"line\": {\"color\": \"white\"}}, \"type\": \"table\"}]}, \"layout\": {\"annotationdefaults\": {\"arrowcolor\": \"#2a3f5f\", \"arrowhead\": 0, \"arrowwidth\": 1}, \"coloraxis\": {\"colorbar\": {\"outlinewidth\": 0, \"ticks\": \"\"}}, \"colorscale\": {\"diverging\": [[0, \"#8e0152\"], [0.1, \"#c51b7d\"], [0.2, \"#de77ae\"], [0.3, \"#f1b6da\"], [0.4, \"#fde0ef\"], [0.5, \"#f7f7f7\"], [0.6, \"#e6f5d0\"], [0.7, \"#b8e186\"], [0.8, \"#7fbc41\"], [0.9, \"#4d9221\"], [1, \"#276419\"]], \"sequential\": [[0.0, \"#0d0887\"], [0.1111111111111111, \"#46039f\"], [0.2222222222222222, \"#7201a8\"], [0.3333333333333333, \"#9c179e\"], [0.4444444444444444, \"#bd3786\"], [0.5555555555555556, \"#d8576b\"], [0.6666666666666666, \"#ed7953\"], [0.7777777777777778, \"#fb9f3a\"], [0.8888888888888888, \"#fdca26\"], [1.0, \"#f0f921\"]], \"sequentialminus\": [[0.0, \"#0d0887\"], [0.1111111111111111, \"#46039f\"], [0.2222222222222222, \"#7201a8\"], [0.3333333333333333, \"#9c179e\"], [0.4444444444444444, \"#bd3786\"], [0.5555555555555556, \"#d8576b\"], [0.6666666666666666, \"#ed7953\"], [0.7777777777777778, \"#fb9f3a\"], [0.8888888888888888, \"#fdca26\"], [1.0, \"#f0f921\"]]}, \"colorway\": [\"#636efa\", \"#EF553B\", \"#00cc96\", \"#ab63fa\", \"#FFA15A\", \"#19d3f3\", \"#FF6692\", \"#B6E880\", \"#FF97FF\", \"#FECB52\"], \"font\": {\"color\": \"#2a3f5f\"}, \"geo\": {\"bgcolor\": \"white\", \"lakecolor\": \"white\", \"landcolor\": \"#E5ECF6\", \"showlakes\": true, \"showland\": true, \"subunitcolor\": \"white\"}, \"hoverlabel\": {\"align\": \"left\"}, \"hovermode\": \"closest\", \"mapbox\": {\"style\": \"light\"}, \"paper_bgcolor\": \"white\", \"plot_bgcolor\": \"#E5ECF6\", \"polar\": {\"angularaxis\": {\"gridcolor\": \"white\", \"linecolor\": \"white\", \"ticks\": \"\"}, \"bgcolor\": \"#E5ECF6\", \"radialaxis\": {\"gridcolor\": \"white\", \"linecolor\": \"white\", \"ticks\": \"\"}}, \"scene\": {\"xaxis\": {\"backgroundcolor\": \"#E5ECF6\", \"gridcolor\": \"white\", \"gridwidth\": 2, \"linecolor\": \"white\", \"showbackground\": true, \"ticks\": \"\", \"zerolinecolor\": \"white\"}, \"yaxis\": {\"backgroundcolor\": \"#E5ECF6\", \"gridcolor\": \"white\", \"gridwidth\": 2, \"linecolor\": \"white\", \"showbackground\": true, \"ticks\": \"\", \"zerolinecolor\": \"white\"}, \"zaxis\": {\"backgroundcolor\": \"#E5ECF6\", \"gridcolor\": \"white\", \"gridwidth\": 2, \"linecolor\": \"white\", \"showbackground\": true, \"ticks\": \"\", \"zerolinecolor\": \"white\"}}, \"shapedefaults\": {\"line\": {\"color\": \"#2a3f5f\"}}, \"ternary\": {\"aaxis\": {\"gridcolor\": \"white\", \"linecolor\": \"white\", \"ticks\": \"\"}, \"baxis\": {\"gridcolor\": \"white\", \"linecolor\": \"white\", \"ticks\": \"\"}, \"bgcolor\": \"#E5ECF6\", \"caxis\": {\"gridcolor\": \"white\", \"linecolor\": \"white\", \"ticks\": \"\"}}, \"title\": {\"x\": 0.05}, \"xaxis\": {\"automargin\": true, \"gridcolor\": \"white\", \"linecolor\": \"white\", \"ticks\": \"\", \"title\": {\"standoff\": 15}, \"zerolinecolor\": \"white\", \"zerolinewidth\": 2}, \"yaxis\": {\"automargin\": true, \"gridcolor\": \"white\", \"linecolor\": \"white\", \"ticks\": \"\", \"title\": {\"standoff\": 15}, \"zerolinecolor\": \"white\", \"zerolinewidth\": 2}}}, \"title\": {\"font\": {\"color\": \"#4D5663\"}}, \"xaxis\": {\"gridcolor\": \"#E1E5ED\", \"showgrid\": true, \"tickfont\": {\"color\": \"#4D5663\"}, \"title\": {\"font\": {\"color\": \"#4D5663\"}, \"text\": \"\"}, \"zerolinecolor\": \"#E1E5ED\"}, \"yaxis\": {\"gridcolor\": \"#E1E5ED\", \"showgrid\": true, \"tickfont\": {\"color\": \"#4D5663\"}, \"title\": {\"font\": {\"color\": \"#4D5663\"}, \"text\": \"\"}, \"zerolinecolor\": \"#E1E5ED\"}},\n",
       "                        {\"showLink\": true, \"linkText\": \"Export to plot.ly\", \"plotlyServerURL\": \"https://plot.ly\", \"responsive\": true}\n",
       "                    ).then(function(){\n",
       "                            \n",
       "var gd = document.getElementById('71a78374-7cbe-4d6c-b6a0-d6ecb54f7154');\n",
       "var x = new MutationObserver(function (mutations, observer) {{\n",
       "        var display = window.getComputedStyle(gd).display;\n",
       "        if (!display || display === 'none') {{\n",
       "            console.log([gd, 'removed!']);\n",
       "            Plotly.purge(gd);\n",
       "            observer.disconnect();\n",
       "        }}\n",
       "}});\n",
       "\n",
       "// Listen for the removal of the full notebook cells\n",
       "var notebookContainer = gd.closest('#notebook-container');\n",
       "if (notebookContainer) {{\n",
       "    x.observe(notebookContainer, {childList: true});\n",
       "}}\n",
       "\n",
       "// Listen for the clearing of the current output cell\n",
       "var outputEl = gd.closest('.output');\n",
       "if (outputEl) {{\n",
       "    x.observe(outputEl, {childList: true});\n",
       "}}\n",
       "\n",
       "                        })\n",
       "                };\n",
       "                });\n",
       "            </script>\n",
       "        </div>"
      ]
     },
     "metadata": {},
     "output_type": "display_data"
    }
   ],
   "source": [
    "df.iplot(kind='box')"
   ]
  },
  {
   "cell_type": "code",
   "execution_count": 20,
   "metadata": {},
   "outputs": [],
   "source": [
    "df3 = pd.DataFrame({'x':[1,2,3,4,5],'y':[10,20,30,25,50],'z':[5,4,3,2,1]})"
   ]
  },
  {
   "cell_type": "code",
   "execution_count": 21,
   "metadata": {},
   "outputs": [
    {
     "data": {
      "text/html": [
       "<div>\n",
       "<style scoped>\n",
       "    .dataframe tbody tr th:only-of-type {\n",
       "        vertical-align: middle;\n",
       "    }\n",
       "\n",
       "    .dataframe tbody tr th {\n",
       "        vertical-align: top;\n",
       "    }\n",
       "\n",
       "    .dataframe thead th {\n",
       "        text-align: right;\n",
       "    }\n",
       "</style>\n",
       "<table border=\"1\" class=\"dataframe\">\n",
       "  <thead>\n",
       "    <tr style=\"text-align: right;\">\n",
       "      <th></th>\n",
       "      <th>x</th>\n",
       "      <th>y</th>\n",
       "      <th>z</th>\n",
       "    </tr>\n",
       "  </thead>\n",
       "  <tbody>\n",
       "    <tr>\n",
       "      <th>0</th>\n",
       "      <td>1</td>\n",
       "      <td>10</td>\n",
       "      <td>5</td>\n",
       "    </tr>\n",
       "    <tr>\n",
       "      <th>1</th>\n",
       "      <td>2</td>\n",
       "      <td>20</td>\n",
       "      <td>4</td>\n",
       "    </tr>\n",
       "    <tr>\n",
       "      <th>2</th>\n",
       "      <td>3</td>\n",
       "      <td>30</td>\n",
       "      <td>3</td>\n",
       "    </tr>\n",
       "    <tr>\n",
       "      <th>3</th>\n",
       "      <td>4</td>\n",
       "      <td>25</td>\n",
       "      <td>2</td>\n",
       "    </tr>\n",
       "    <tr>\n",
       "      <th>4</th>\n",
       "      <td>5</td>\n",
       "      <td>50</td>\n",
       "      <td>1</td>\n",
       "    </tr>\n",
       "  </tbody>\n",
       "</table>\n",
       "</div>"
      ],
      "text/plain": [
       "   x   y  z\n",
       "0  1  10  5\n",
       "1  2  20  4\n",
       "2  3  30  3\n",
       "3  4  25  2\n",
       "4  5  50  1"
      ]
     },
     "execution_count": 21,
     "metadata": {},
     "output_type": "execute_result"
    }
   ],
   "source": [
    "df3"
   ]
  },
  {
   "cell_type": "markdown",
   "metadata": {},
   "source": [
    "- Plot de um grafico 3d"
   ]
  },
  {
   "cell_type": "code",
   "execution_count": 24,
   "metadata": {},
   "outputs": [
    {
     "data": {
      "application/vnd.plotly.v1+json": {
       "config": {
        "linkText": "Export to plot.ly",
        "plotlyServerURL": "https://plot.ly",
        "showLink": true
       },
       "data": [
        {
         "colorscale": [
          [
           0,
           "rgb(255, 153, 51)"
          ],
          [
           0.1111111111111111,
           "rgb(55, 128, 191)"
          ],
          [
           0.2222222222222222,
           "rgb(50, 171, 96)"
          ],
          [
           0.3333333333333333,
           "rgb(128, 0, 128)"
          ],
          [
           0.4444444444444444,
           "rgb(219, 64, 82)"
          ],
          [
           0.5555555555555556,
           "rgb(0, 128, 128)"
          ],
          [
           0.6666666666666666,
           "rgb(255, 255, 51)"
          ],
          [
           0.7777777777777778,
           "rgb(128, 128, 0)"
          ],
          [
           0.8888888888888888,
           "rgb(251, 128, 114)"
          ],
          [
           1,
           "rgb(128, 177, 211)"
          ]
         ],
         "type": "surface",
         "x": [
          0,
          1,
          2,
          3,
          4
         ],
         "y": [
          "x",
          "y",
          "z"
         ],
         "z": [
          [
           1,
           2,
           3,
           4,
           5
          ],
          [
           10,
           20,
           30,
           25,
           50
          ],
          [
           5,
           4,
           3,
           2,
           1
          ]
         ]
        }
       ],
       "layout": {
        "legend": {
         "bgcolor": "#F5F6F9",
         "font": {
          "color": "#4D5663"
         }
        },
        "paper_bgcolor": "#F5F6F9",
        "plot_bgcolor": "#F5F6F9",
        "template": {
         "data": {
          "bar": [
           {
            "error_x": {
             "color": "#2a3f5f"
            },
            "error_y": {
             "color": "#2a3f5f"
            },
            "marker": {
             "line": {
              "color": "#E5ECF6",
              "width": 0.5
             }
            },
            "type": "bar"
           }
          ],
          "barpolar": [
           {
            "marker": {
             "line": {
              "color": "#E5ECF6",
              "width": 0.5
             }
            },
            "type": "barpolar"
           }
          ],
          "carpet": [
           {
            "aaxis": {
             "endlinecolor": "#2a3f5f",
             "gridcolor": "white",
             "linecolor": "white",
             "minorgridcolor": "white",
             "startlinecolor": "#2a3f5f"
            },
            "baxis": {
             "endlinecolor": "#2a3f5f",
             "gridcolor": "white",
             "linecolor": "white",
             "minorgridcolor": "white",
             "startlinecolor": "#2a3f5f"
            },
            "type": "carpet"
           }
          ],
          "choropleth": [
           {
            "colorbar": {
             "outlinewidth": 0,
             "ticks": ""
            },
            "type": "choropleth"
           }
          ],
          "contour": [
           {
            "colorbar": {
             "outlinewidth": 0,
             "ticks": ""
            },
            "colorscale": [
             [
              0,
              "#0d0887"
             ],
             [
              0.1111111111111111,
              "#46039f"
             ],
             [
              0.2222222222222222,
              "#7201a8"
             ],
             [
              0.3333333333333333,
              "#9c179e"
             ],
             [
              0.4444444444444444,
              "#bd3786"
             ],
             [
              0.5555555555555556,
              "#d8576b"
             ],
             [
              0.6666666666666666,
              "#ed7953"
             ],
             [
              0.7777777777777778,
              "#fb9f3a"
             ],
             [
              0.8888888888888888,
              "#fdca26"
             ],
             [
              1,
              "#f0f921"
             ]
            ],
            "type": "contour"
           }
          ],
          "contourcarpet": [
           {
            "colorbar": {
             "outlinewidth": 0,
             "ticks": ""
            },
            "type": "contourcarpet"
           }
          ],
          "heatmap": [
           {
            "colorbar": {
             "outlinewidth": 0,
             "ticks": ""
            },
            "colorscale": [
             [
              0,
              "#0d0887"
             ],
             [
              0.1111111111111111,
              "#46039f"
             ],
             [
              0.2222222222222222,
              "#7201a8"
             ],
             [
              0.3333333333333333,
              "#9c179e"
             ],
             [
              0.4444444444444444,
              "#bd3786"
             ],
             [
              0.5555555555555556,
              "#d8576b"
             ],
             [
              0.6666666666666666,
              "#ed7953"
             ],
             [
              0.7777777777777778,
              "#fb9f3a"
             ],
             [
              0.8888888888888888,
              "#fdca26"
             ],
             [
              1,
              "#f0f921"
             ]
            ],
            "type": "heatmap"
           }
          ],
          "heatmapgl": [
           {
            "colorbar": {
             "outlinewidth": 0,
             "ticks": ""
            },
            "colorscale": [
             [
              0,
              "#0d0887"
             ],
             [
              0.1111111111111111,
              "#46039f"
             ],
             [
              0.2222222222222222,
              "#7201a8"
             ],
             [
              0.3333333333333333,
              "#9c179e"
             ],
             [
              0.4444444444444444,
              "#bd3786"
             ],
             [
              0.5555555555555556,
              "#d8576b"
             ],
             [
              0.6666666666666666,
              "#ed7953"
             ],
             [
              0.7777777777777778,
              "#fb9f3a"
             ],
             [
              0.8888888888888888,
              "#fdca26"
             ],
             [
              1,
              "#f0f921"
             ]
            ],
            "type": "heatmapgl"
           }
          ],
          "histogram": [
           {
            "marker": {
             "colorbar": {
              "outlinewidth": 0,
              "ticks": ""
             }
            },
            "type": "histogram"
           }
          ],
          "histogram2d": [
           {
            "colorbar": {
             "outlinewidth": 0,
             "ticks": ""
            },
            "colorscale": [
             [
              0,
              "#0d0887"
             ],
             [
              0.1111111111111111,
              "#46039f"
             ],
             [
              0.2222222222222222,
              "#7201a8"
             ],
             [
              0.3333333333333333,
              "#9c179e"
             ],
             [
              0.4444444444444444,
              "#bd3786"
             ],
             [
              0.5555555555555556,
              "#d8576b"
             ],
             [
              0.6666666666666666,
              "#ed7953"
             ],
             [
              0.7777777777777778,
              "#fb9f3a"
             ],
             [
              0.8888888888888888,
              "#fdca26"
             ],
             [
              1,
              "#f0f921"
             ]
            ],
            "type": "histogram2d"
           }
          ],
          "histogram2dcontour": [
           {
            "colorbar": {
             "outlinewidth": 0,
             "ticks": ""
            },
            "colorscale": [
             [
              0,
              "#0d0887"
             ],
             [
              0.1111111111111111,
              "#46039f"
             ],
             [
              0.2222222222222222,
              "#7201a8"
             ],
             [
              0.3333333333333333,
              "#9c179e"
             ],
             [
              0.4444444444444444,
              "#bd3786"
             ],
             [
              0.5555555555555556,
              "#d8576b"
             ],
             [
              0.6666666666666666,
              "#ed7953"
             ],
             [
              0.7777777777777778,
              "#fb9f3a"
             ],
             [
              0.8888888888888888,
              "#fdca26"
             ],
             [
              1,
              "#f0f921"
             ]
            ],
            "type": "histogram2dcontour"
           }
          ],
          "mesh3d": [
           {
            "colorbar": {
             "outlinewidth": 0,
             "ticks": ""
            },
            "type": "mesh3d"
           }
          ],
          "parcoords": [
           {
            "line": {
             "colorbar": {
              "outlinewidth": 0,
              "ticks": ""
             }
            },
            "type": "parcoords"
           }
          ],
          "pie": [
           {
            "automargin": true,
            "type": "pie"
           }
          ],
          "scatter": [
           {
            "marker": {
             "colorbar": {
              "outlinewidth": 0,
              "ticks": ""
             }
            },
            "type": "scatter"
           }
          ],
          "scatter3d": [
           {
            "line": {
             "colorbar": {
              "outlinewidth": 0,
              "ticks": ""
             }
            },
            "marker": {
             "colorbar": {
              "outlinewidth": 0,
              "ticks": ""
             }
            },
            "type": "scatter3d"
           }
          ],
          "scattercarpet": [
           {
            "marker": {
             "colorbar": {
              "outlinewidth": 0,
              "ticks": ""
             }
            },
            "type": "scattercarpet"
           }
          ],
          "scattergeo": [
           {
            "marker": {
             "colorbar": {
              "outlinewidth": 0,
              "ticks": ""
             }
            },
            "type": "scattergeo"
           }
          ],
          "scattergl": [
           {
            "marker": {
             "colorbar": {
              "outlinewidth": 0,
              "ticks": ""
             }
            },
            "type": "scattergl"
           }
          ],
          "scattermapbox": [
           {
            "marker": {
             "colorbar": {
              "outlinewidth": 0,
              "ticks": ""
             }
            },
            "type": "scattermapbox"
           }
          ],
          "scatterpolar": [
           {
            "marker": {
             "colorbar": {
              "outlinewidth": 0,
              "ticks": ""
             }
            },
            "type": "scatterpolar"
           }
          ],
          "scatterpolargl": [
           {
            "marker": {
             "colorbar": {
              "outlinewidth": 0,
              "ticks": ""
             }
            },
            "type": "scatterpolargl"
           }
          ],
          "scatterternary": [
           {
            "marker": {
             "colorbar": {
              "outlinewidth": 0,
              "ticks": ""
             }
            },
            "type": "scatterternary"
           }
          ],
          "surface": [
           {
            "colorbar": {
             "outlinewidth": 0,
             "ticks": ""
            },
            "colorscale": [
             [
              0,
              "#0d0887"
             ],
             [
              0.1111111111111111,
              "#46039f"
             ],
             [
              0.2222222222222222,
              "#7201a8"
             ],
             [
              0.3333333333333333,
              "#9c179e"
             ],
             [
              0.4444444444444444,
              "#bd3786"
             ],
             [
              0.5555555555555556,
              "#d8576b"
             ],
             [
              0.6666666666666666,
              "#ed7953"
             ],
             [
              0.7777777777777778,
              "#fb9f3a"
             ],
             [
              0.8888888888888888,
              "#fdca26"
             ],
             [
              1,
              "#f0f921"
             ]
            ],
            "type": "surface"
           }
          ],
          "table": [
           {
            "cells": {
             "fill": {
              "color": "#EBF0F8"
             },
             "line": {
              "color": "white"
             }
            },
            "header": {
             "fill": {
              "color": "#C8D4E3"
             },
             "line": {
              "color": "white"
             }
            },
            "type": "table"
           }
          ]
         },
         "layout": {
          "annotationdefaults": {
           "arrowcolor": "#2a3f5f",
           "arrowhead": 0,
           "arrowwidth": 1
          },
          "coloraxis": {
           "colorbar": {
            "outlinewidth": 0,
            "ticks": ""
           }
          },
          "colorscale": {
           "diverging": [
            [
             0,
             "#8e0152"
            ],
            [
             0.1,
             "#c51b7d"
            ],
            [
             0.2,
             "#de77ae"
            ],
            [
             0.3,
             "#f1b6da"
            ],
            [
             0.4,
             "#fde0ef"
            ],
            [
             0.5,
             "#f7f7f7"
            ],
            [
             0.6,
             "#e6f5d0"
            ],
            [
             0.7,
             "#b8e186"
            ],
            [
             0.8,
             "#7fbc41"
            ],
            [
             0.9,
             "#4d9221"
            ],
            [
             1,
             "#276419"
            ]
           ],
           "sequential": [
            [
             0,
             "#0d0887"
            ],
            [
             0.1111111111111111,
             "#46039f"
            ],
            [
             0.2222222222222222,
             "#7201a8"
            ],
            [
             0.3333333333333333,
             "#9c179e"
            ],
            [
             0.4444444444444444,
             "#bd3786"
            ],
            [
             0.5555555555555556,
             "#d8576b"
            ],
            [
             0.6666666666666666,
             "#ed7953"
            ],
            [
             0.7777777777777778,
             "#fb9f3a"
            ],
            [
             0.8888888888888888,
             "#fdca26"
            ],
            [
             1,
             "#f0f921"
            ]
           ],
           "sequentialminus": [
            [
             0,
             "#0d0887"
            ],
            [
             0.1111111111111111,
             "#46039f"
            ],
            [
             0.2222222222222222,
             "#7201a8"
            ],
            [
             0.3333333333333333,
             "#9c179e"
            ],
            [
             0.4444444444444444,
             "#bd3786"
            ],
            [
             0.5555555555555556,
             "#d8576b"
            ],
            [
             0.6666666666666666,
             "#ed7953"
            ],
            [
             0.7777777777777778,
             "#fb9f3a"
            ],
            [
             0.8888888888888888,
             "#fdca26"
            ],
            [
             1,
             "#f0f921"
            ]
           ]
          },
          "colorway": [
           "#636efa",
           "#EF553B",
           "#00cc96",
           "#ab63fa",
           "#FFA15A",
           "#19d3f3",
           "#FF6692",
           "#B6E880",
           "#FF97FF",
           "#FECB52"
          ],
          "font": {
           "color": "#2a3f5f"
          },
          "geo": {
           "bgcolor": "white",
           "lakecolor": "white",
           "landcolor": "#E5ECF6",
           "showlakes": true,
           "showland": true,
           "subunitcolor": "white"
          },
          "hoverlabel": {
           "align": "left"
          },
          "hovermode": "closest",
          "mapbox": {
           "style": "light"
          },
          "paper_bgcolor": "white",
          "plot_bgcolor": "#E5ECF6",
          "polar": {
           "angularaxis": {
            "gridcolor": "white",
            "linecolor": "white",
            "ticks": ""
           },
           "bgcolor": "#E5ECF6",
           "radialaxis": {
            "gridcolor": "white",
            "linecolor": "white",
            "ticks": ""
           }
          },
          "scene": {
           "xaxis": {
            "backgroundcolor": "#E5ECF6",
            "gridcolor": "white",
            "gridwidth": 2,
            "linecolor": "white",
            "showbackground": true,
            "ticks": "",
            "zerolinecolor": "white"
           },
           "yaxis": {
            "backgroundcolor": "#E5ECF6",
            "gridcolor": "white",
            "gridwidth": 2,
            "linecolor": "white",
            "showbackground": true,
            "ticks": "",
            "zerolinecolor": "white"
           },
           "zaxis": {
            "backgroundcolor": "#E5ECF6",
            "gridcolor": "white",
            "gridwidth": 2,
            "linecolor": "white",
            "showbackground": true,
            "ticks": "",
            "zerolinecolor": "white"
           }
          },
          "shapedefaults": {
           "line": {
            "color": "#2a3f5f"
           }
          },
          "ternary": {
           "aaxis": {
            "gridcolor": "white",
            "linecolor": "white",
            "ticks": ""
           },
           "baxis": {
            "gridcolor": "white",
            "linecolor": "white",
            "ticks": ""
           },
           "bgcolor": "#E5ECF6",
           "caxis": {
            "gridcolor": "white",
            "linecolor": "white",
            "ticks": ""
           }
          },
          "title": {
           "x": 0.05
          },
          "xaxis": {
           "automargin": true,
           "gridcolor": "white",
           "linecolor": "white",
           "ticks": "",
           "title": {
            "standoff": 15
           },
           "zerolinecolor": "white",
           "zerolinewidth": 2
          },
          "yaxis": {
           "automargin": true,
           "gridcolor": "white",
           "linecolor": "white",
           "ticks": "",
           "title": {
            "standoff": 15
           },
           "zerolinecolor": "white",
           "zerolinewidth": 2
          }
         }
        },
        "title": {
         "font": {
          "color": "#4D5663"
         }
        },
        "xaxis": {
         "gridcolor": "#E1E5ED",
         "showgrid": true,
         "tickfont": {
          "color": "#4D5663"
         },
         "title": {
          "font": {
           "color": "#4D5663"
          },
          "text": ""
         },
         "zerolinecolor": "#E1E5ED"
        },
        "yaxis": {
         "gridcolor": "#E1E5ED",
         "showgrid": true,
         "tickfont": {
          "color": "#4D5663"
         },
         "title": {
          "font": {
           "color": "#4D5663"
          },
          "text": ""
         },
         "zerolinecolor": "#E1E5ED"
        }
       }
      },
      "text/html": [
       "<div>\n",
       "        \n",
       "        \n",
       "            <div id=\"399bf8db-bb69-47e0-a3df-ad136cb95430\" class=\"plotly-graph-div\" style=\"height:525px; width:100%;\"></div>\n",
       "            <script type=\"text/javascript\">\n",
       "                require([\"plotly\"], function(Plotly) {\n",
       "                    window.PLOTLYENV=window.PLOTLYENV || {};\n",
       "                    window.PLOTLYENV.BASE_URL='https://plot.ly';\n",
       "                    \n",
       "                if (document.getElementById(\"399bf8db-bb69-47e0-a3df-ad136cb95430\")) {\n",
       "                    Plotly.newPlot(\n",
       "                        '399bf8db-bb69-47e0-a3df-ad136cb95430',\n",
       "                        [{\"colorscale\": [[0.0, \"rgb(255, 153, 51)\"], [0.1111111111111111, \"rgb(55, 128, 191)\"], [0.2222222222222222, \"rgb(50, 171, 96)\"], [0.3333333333333333, \"rgb(128, 0, 128)\"], [0.4444444444444444, \"rgb(219, 64, 82)\"], [0.5555555555555556, \"rgb(0, 128, 128)\"], [0.6666666666666666, \"rgb(255, 255, 51)\"], [0.7777777777777778, \"rgb(128, 128, 0)\"], [0.8888888888888888, \"rgb(251, 128, 114)\"], [1.0, \"rgb(128, 177, 211)\"]], \"type\": \"surface\", \"x\": [0, 1, 2, 3, 4], \"y\": [\"x\", \"y\", \"z\"], \"z\": [[1, 2, 3, 4, 5], [10, 20, 30, 25, 50], [5, 4, 3, 2, 1]]}],\n",
       "                        {\"legend\": {\"bgcolor\": \"#F5F6F9\", \"font\": {\"color\": \"#4D5663\"}}, \"paper_bgcolor\": \"#F5F6F9\", \"plot_bgcolor\": \"#F5F6F9\", \"template\": {\"data\": {\"bar\": [{\"error_x\": {\"color\": \"#2a3f5f\"}, \"error_y\": {\"color\": \"#2a3f5f\"}, \"marker\": {\"line\": {\"color\": \"#E5ECF6\", \"width\": 0.5}}, \"type\": \"bar\"}], \"barpolar\": [{\"marker\": {\"line\": {\"color\": \"#E5ECF6\", \"width\": 0.5}}, \"type\": \"barpolar\"}], \"carpet\": [{\"aaxis\": {\"endlinecolor\": \"#2a3f5f\", \"gridcolor\": \"white\", \"linecolor\": \"white\", \"minorgridcolor\": \"white\", \"startlinecolor\": \"#2a3f5f\"}, \"baxis\": {\"endlinecolor\": \"#2a3f5f\", \"gridcolor\": \"white\", \"linecolor\": \"white\", \"minorgridcolor\": \"white\", \"startlinecolor\": \"#2a3f5f\"}, \"type\": \"carpet\"}], \"choropleth\": [{\"colorbar\": {\"outlinewidth\": 0, \"ticks\": \"\"}, \"type\": \"choropleth\"}], \"contour\": [{\"colorbar\": {\"outlinewidth\": 0, \"ticks\": \"\"}, \"colorscale\": [[0.0, \"#0d0887\"], [0.1111111111111111, \"#46039f\"], [0.2222222222222222, \"#7201a8\"], [0.3333333333333333, \"#9c179e\"], [0.4444444444444444, \"#bd3786\"], [0.5555555555555556, \"#d8576b\"], [0.6666666666666666, \"#ed7953\"], [0.7777777777777778, \"#fb9f3a\"], [0.8888888888888888, \"#fdca26\"], [1.0, \"#f0f921\"]], \"type\": \"contour\"}], \"contourcarpet\": [{\"colorbar\": {\"outlinewidth\": 0, \"ticks\": \"\"}, \"type\": \"contourcarpet\"}], \"heatmap\": [{\"colorbar\": {\"outlinewidth\": 0, \"ticks\": \"\"}, \"colorscale\": [[0.0, \"#0d0887\"], [0.1111111111111111, \"#46039f\"], [0.2222222222222222, \"#7201a8\"], [0.3333333333333333, \"#9c179e\"], [0.4444444444444444, \"#bd3786\"], [0.5555555555555556, \"#d8576b\"], [0.6666666666666666, \"#ed7953\"], [0.7777777777777778, \"#fb9f3a\"], [0.8888888888888888, \"#fdca26\"], [1.0, \"#f0f921\"]], \"type\": \"heatmap\"}], \"heatmapgl\": [{\"colorbar\": {\"outlinewidth\": 0, \"ticks\": \"\"}, \"colorscale\": [[0.0, \"#0d0887\"], [0.1111111111111111, \"#46039f\"], [0.2222222222222222, \"#7201a8\"], [0.3333333333333333, \"#9c179e\"], [0.4444444444444444, \"#bd3786\"], [0.5555555555555556, \"#d8576b\"], [0.6666666666666666, \"#ed7953\"], [0.7777777777777778, \"#fb9f3a\"], [0.8888888888888888, \"#fdca26\"], [1.0, \"#f0f921\"]], \"type\": \"heatmapgl\"}], \"histogram\": [{\"marker\": {\"colorbar\": {\"outlinewidth\": 0, \"ticks\": \"\"}}, \"type\": \"histogram\"}], \"histogram2d\": [{\"colorbar\": {\"outlinewidth\": 0, \"ticks\": \"\"}, \"colorscale\": [[0.0, \"#0d0887\"], [0.1111111111111111, \"#46039f\"], [0.2222222222222222, \"#7201a8\"], [0.3333333333333333, \"#9c179e\"], [0.4444444444444444, \"#bd3786\"], [0.5555555555555556, \"#d8576b\"], [0.6666666666666666, \"#ed7953\"], [0.7777777777777778, \"#fb9f3a\"], [0.8888888888888888, \"#fdca26\"], [1.0, \"#f0f921\"]], \"type\": \"histogram2d\"}], \"histogram2dcontour\": [{\"colorbar\": {\"outlinewidth\": 0, \"ticks\": \"\"}, \"colorscale\": [[0.0, \"#0d0887\"], [0.1111111111111111, \"#46039f\"], [0.2222222222222222, \"#7201a8\"], [0.3333333333333333, \"#9c179e\"], [0.4444444444444444, \"#bd3786\"], [0.5555555555555556, \"#d8576b\"], [0.6666666666666666, \"#ed7953\"], [0.7777777777777778, \"#fb9f3a\"], [0.8888888888888888, \"#fdca26\"], [1.0, \"#f0f921\"]], \"type\": \"histogram2dcontour\"}], \"mesh3d\": [{\"colorbar\": {\"outlinewidth\": 0, \"ticks\": \"\"}, \"type\": \"mesh3d\"}], \"parcoords\": [{\"line\": {\"colorbar\": {\"outlinewidth\": 0, \"ticks\": \"\"}}, \"type\": \"parcoords\"}], \"pie\": [{\"automargin\": true, \"type\": \"pie\"}], \"scatter\": [{\"marker\": {\"colorbar\": {\"outlinewidth\": 0, \"ticks\": \"\"}}, \"type\": \"scatter\"}], \"scatter3d\": [{\"line\": {\"colorbar\": {\"outlinewidth\": 0, \"ticks\": \"\"}}, \"marker\": {\"colorbar\": {\"outlinewidth\": 0, \"ticks\": \"\"}}, \"type\": \"scatter3d\"}], \"scattercarpet\": [{\"marker\": {\"colorbar\": {\"outlinewidth\": 0, \"ticks\": \"\"}}, \"type\": \"scattercarpet\"}], \"scattergeo\": [{\"marker\": {\"colorbar\": {\"outlinewidth\": 0, \"ticks\": \"\"}}, \"type\": \"scattergeo\"}], \"scattergl\": [{\"marker\": {\"colorbar\": {\"outlinewidth\": 0, \"ticks\": \"\"}}, \"type\": \"scattergl\"}], \"scattermapbox\": [{\"marker\": {\"colorbar\": {\"outlinewidth\": 0, \"ticks\": \"\"}}, \"type\": \"scattermapbox\"}], \"scatterpolar\": [{\"marker\": {\"colorbar\": {\"outlinewidth\": 0, \"ticks\": \"\"}}, \"type\": \"scatterpolar\"}], \"scatterpolargl\": [{\"marker\": {\"colorbar\": {\"outlinewidth\": 0, \"ticks\": \"\"}}, \"type\": \"scatterpolargl\"}], \"scatterternary\": [{\"marker\": {\"colorbar\": {\"outlinewidth\": 0, \"ticks\": \"\"}}, \"type\": \"scatterternary\"}], \"surface\": [{\"colorbar\": {\"outlinewidth\": 0, \"ticks\": \"\"}, \"colorscale\": [[0.0, \"#0d0887\"], [0.1111111111111111, \"#46039f\"], [0.2222222222222222, \"#7201a8\"], [0.3333333333333333, \"#9c179e\"], [0.4444444444444444, \"#bd3786\"], [0.5555555555555556, \"#d8576b\"], [0.6666666666666666, \"#ed7953\"], [0.7777777777777778, \"#fb9f3a\"], [0.8888888888888888, \"#fdca26\"], [1.0, \"#f0f921\"]], \"type\": \"surface\"}], \"table\": [{\"cells\": {\"fill\": {\"color\": \"#EBF0F8\"}, \"line\": {\"color\": \"white\"}}, \"header\": {\"fill\": {\"color\": \"#C8D4E3\"}, \"line\": {\"color\": \"white\"}}, \"type\": \"table\"}]}, \"layout\": {\"annotationdefaults\": {\"arrowcolor\": \"#2a3f5f\", \"arrowhead\": 0, \"arrowwidth\": 1}, \"coloraxis\": {\"colorbar\": {\"outlinewidth\": 0, \"ticks\": \"\"}}, \"colorscale\": {\"diverging\": [[0, \"#8e0152\"], [0.1, \"#c51b7d\"], [0.2, \"#de77ae\"], [0.3, \"#f1b6da\"], [0.4, \"#fde0ef\"], [0.5, \"#f7f7f7\"], [0.6, \"#e6f5d0\"], [0.7, \"#b8e186\"], [0.8, \"#7fbc41\"], [0.9, \"#4d9221\"], [1, \"#276419\"]], \"sequential\": [[0.0, \"#0d0887\"], [0.1111111111111111, \"#46039f\"], [0.2222222222222222, \"#7201a8\"], [0.3333333333333333, \"#9c179e\"], [0.4444444444444444, \"#bd3786\"], [0.5555555555555556, \"#d8576b\"], [0.6666666666666666, \"#ed7953\"], [0.7777777777777778, \"#fb9f3a\"], [0.8888888888888888, \"#fdca26\"], [1.0, \"#f0f921\"]], \"sequentialminus\": [[0.0, \"#0d0887\"], [0.1111111111111111, \"#46039f\"], [0.2222222222222222, \"#7201a8\"], [0.3333333333333333, \"#9c179e\"], [0.4444444444444444, \"#bd3786\"], [0.5555555555555556, \"#d8576b\"], [0.6666666666666666, \"#ed7953\"], [0.7777777777777778, \"#fb9f3a\"], [0.8888888888888888, \"#fdca26\"], [1.0, \"#f0f921\"]]}, \"colorway\": [\"#636efa\", \"#EF553B\", \"#00cc96\", \"#ab63fa\", \"#FFA15A\", \"#19d3f3\", \"#FF6692\", \"#B6E880\", \"#FF97FF\", \"#FECB52\"], \"font\": {\"color\": \"#2a3f5f\"}, \"geo\": {\"bgcolor\": \"white\", \"lakecolor\": \"white\", \"landcolor\": \"#E5ECF6\", \"showlakes\": true, \"showland\": true, \"subunitcolor\": \"white\"}, \"hoverlabel\": {\"align\": \"left\"}, \"hovermode\": \"closest\", \"mapbox\": {\"style\": \"light\"}, \"paper_bgcolor\": \"white\", \"plot_bgcolor\": \"#E5ECF6\", \"polar\": {\"angularaxis\": {\"gridcolor\": \"white\", \"linecolor\": \"white\", \"ticks\": \"\"}, \"bgcolor\": \"#E5ECF6\", \"radialaxis\": {\"gridcolor\": \"white\", \"linecolor\": \"white\", \"ticks\": \"\"}}, \"scene\": {\"xaxis\": {\"backgroundcolor\": \"#E5ECF6\", \"gridcolor\": \"white\", \"gridwidth\": 2, \"linecolor\": \"white\", \"showbackground\": true, \"ticks\": \"\", \"zerolinecolor\": \"white\"}, \"yaxis\": {\"backgroundcolor\": \"#E5ECF6\", \"gridcolor\": \"white\", \"gridwidth\": 2, \"linecolor\": \"white\", \"showbackground\": true, \"ticks\": \"\", \"zerolinecolor\": \"white\"}, \"zaxis\": {\"backgroundcolor\": \"#E5ECF6\", \"gridcolor\": \"white\", \"gridwidth\": 2, \"linecolor\": \"white\", \"showbackground\": true, \"ticks\": \"\", \"zerolinecolor\": \"white\"}}, \"shapedefaults\": {\"line\": {\"color\": \"#2a3f5f\"}}, \"ternary\": {\"aaxis\": {\"gridcolor\": \"white\", \"linecolor\": \"white\", \"ticks\": \"\"}, \"baxis\": {\"gridcolor\": \"white\", \"linecolor\": \"white\", \"ticks\": \"\"}, \"bgcolor\": \"#E5ECF6\", \"caxis\": {\"gridcolor\": \"white\", \"linecolor\": \"white\", \"ticks\": \"\"}}, \"title\": {\"x\": 0.05}, \"xaxis\": {\"automargin\": true, \"gridcolor\": \"white\", \"linecolor\": \"white\", \"ticks\": \"\", \"title\": {\"standoff\": 15}, \"zerolinecolor\": \"white\", \"zerolinewidth\": 2}, \"yaxis\": {\"automargin\": true, \"gridcolor\": \"white\", \"linecolor\": \"white\", \"ticks\": \"\", \"title\": {\"standoff\": 15}, \"zerolinecolor\": \"white\", \"zerolinewidth\": 2}}}, \"title\": {\"font\": {\"color\": \"#4D5663\"}}, \"xaxis\": {\"gridcolor\": \"#E1E5ED\", \"showgrid\": true, \"tickfont\": {\"color\": \"#4D5663\"}, \"title\": {\"font\": {\"color\": \"#4D5663\"}, \"text\": \"\"}, \"zerolinecolor\": \"#E1E5ED\"}, \"yaxis\": {\"gridcolor\": \"#E1E5ED\", \"showgrid\": true, \"tickfont\": {\"color\": \"#4D5663\"}, \"title\": {\"font\": {\"color\": \"#4D5663\"}, \"text\": \"\"}, \"zerolinecolor\": \"#E1E5ED\"}},\n",
       "                        {\"showLink\": true, \"linkText\": \"Export to plot.ly\", \"plotlyServerURL\": \"https://plot.ly\", \"responsive\": true}\n",
       "                    ).then(function(){\n",
       "                            \n",
       "var gd = document.getElementById('399bf8db-bb69-47e0-a3df-ad136cb95430');\n",
       "var x = new MutationObserver(function (mutations, observer) {{\n",
       "        var display = window.getComputedStyle(gd).display;\n",
       "        if (!display || display === 'none') {{\n",
       "            console.log([gd, 'removed!']);\n",
       "            Plotly.purge(gd);\n",
       "            observer.disconnect();\n",
       "        }}\n",
       "}});\n",
       "\n",
       "// Listen for the removal of the full notebook cells\n",
       "var notebookContainer = gd.closest('#notebook-container');\n",
       "if (notebookContainer) {{\n",
       "    x.observe(notebookContainer, {childList: true});\n",
       "}}\n",
       "\n",
       "// Listen for the clearing of the current output cell\n",
       "var outputEl = gd.closest('.output');\n",
       "if (outputEl) {{\n",
       "    x.observe(outputEl, {childList: true});\n",
       "}}\n",
       "\n",
       "                        })\n",
       "                };\n",
       "                });\n",
       "            </script>\n",
       "        </div>"
      ]
     },
     "metadata": {},
     "output_type": "display_data"
    }
   ],
   "source": [
    "df3.iplot(kind='surface')"
   ]
  },
  {
   "cell_type": "markdown",
   "metadata": {},
   "source": [
    "- **Spread**, tipo de gráfico que da variação com o tempo de dados relacionados"
   ]
  },
  {
   "cell_type": "code",
   "execution_count": 23,
   "metadata": {},
   "outputs": [
    {
     "name": "stderr",
     "output_type": "stream",
     "text": [
      "/home/lucas/.local/lib/python3.6/site-packages/cufflinks/plotlytools.py:849: FutureWarning:\n",
      "\n",
      "The pandas.np module is deprecated and will be removed from pandas in a future version. Import numpy directly instead\n",
      "\n",
      "/home/lucas/.local/lib/python3.6/site-packages/cufflinks/plotlytools.py:850: FutureWarning:\n",
      "\n",
      "The pandas.np module is deprecated and will be removed from pandas in a future version. Import numpy directly instead\n",
      "\n"
     ]
    },
    {
     "data": {
      "application/vnd.plotly.v1+json": {
       "config": {
        "linkText": "Export to plot.ly",
        "plotlyServerURL": "https://plot.ly",
        "showLink": true
       },
       "data": [
        {
         "line": {
          "color": "rgba(255, 153, 51, 1.0)",
          "dash": "solid",
          "shape": "linear",
          "width": 1.3
         },
         "mode": "lines",
         "name": "A",
         "text": "",
         "type": "scatter",
         "x": [
          0,
          1,
          2,
          3,
          4,
          5,
          6,
          7,
          8,
          9,
          10,
          11,
          12,
          13,
          14,
          15,
          16,
          17,
          18,
          19,
          20,
          21,
          22,
          23,
          24,
          25,
          26,
          27,
          28,
          29,
          30,
          31,
          32,
          33,
          34,
          35,
          36,
          37,
          38,
          39,
          40,
          41,
          42,
          43,
          44,
          45,
          46,
          47,
          48,
          49,
          50,
          51,
          52,
          53,
          54,
          55,
          56,
          57,
          58,
          59,
          60,
          61,
          62,
          63,
          64,
          65,
          66,
          67,
          68,
          69,
          70,
          71,
          72,
          73,
          74,
          75,
          76,
          77,
          78,
          79,
          80,
          81,
          82,
          83,
          84,
          85,
          86,
          87,
          88,
          89,
          90,
          91,
          92,
          93,
          94,
          95,
          96,
          97,
          98,
          99
         ],
         "y": [
          0.932905871818665,
          0.7990174600691328,
          0.6578805504982351,
          0.42756675450495063,
          0.17016560945553538,
          0.9055605402234296,
          0.28956721012351794,
          0.9526365568361495,
          0.4704206036221772,
          0.15226207946635395,
          0.6033907891545828,
          0.25099507114325215,
          0.005340848698156209,
          0.06533954296997113,
          0.2733035065352758,
          0.7569540823349571,
          0.8287187216757339,
          0.9828434948732078,
          0.8112812748144534,
          0.11076655847239603,
          0.8427519466173623,
          0.48859212569623023,
          0.14388465522460525,
          0.7539262751473198,
          0.44536556957401285,
          0.6697446611280005,
          0.22529636723346758,
          0.1161697303217627,
          0.17033135947771694,
          0.8325617982448972,
          0.5472341085707088,
          0.9669549164451002,
          0.2475954496771967,
          0.7497201100591544,
          0.9614999013831749,
          0.9396975077487425,
          0.7886648046959303,
          0.32590228659881226,
          0.10777157469033649,
          0.9978991786775343,
          0.2858415228843155,
          0.6851206557024384,
          0.38805256481020434,
          0.66109234467044,
          0.8860133534619254,
          0.4213642506242049,
          0.6743198570628508,
          0.6656479537489318,
          0.6065373124800183,
          0.25201673938694813,
          0.05030904571130845,
          0.41401213743180143,
          0.7189393436873426,
          0.929605937977888,
          0.07023729970534354,
          0.24038644001958465,
          0.632063691457217,
          0.22957645221162015,
          0.3195747648987325,
          0.541666475373368,
          0.5441038434692387,
          0.40778259724468047,
          0.225862802881601,
          0.4796028398481794,
          0.324652204581544,
          0.2019367580104594,
          0.10974428746289655,
          0.49763556945229526,
          0.8090999624543773,
          0.2272057880828694,
          0.45397874065463384,
          0.0019187911166977933,
          0.29377614301111055,
          0.38409997076807334,
          0.8271701737676631,
          0.7547418326906155,
          0.36069997849644286,
          0.2192185020931785,
          0.5528882226439371,
          0.20041778808758937,
          0.9888650720711814,
          0.8152424257042555,
          0.268685081062804,
          0.06431056149944225,
          0.6603049664873818,
          0.9327983811523727,
          0.9288223580133821,
          0.39899359519867517,
          0.05168668161792522,
          0.9340152735254715,
          0.862099704697694,
          0.9403696989535826,
          0.4790804197177635,
          0.19592031989218983,
          0.3086533524159172,
          0.22181010617622876,
          0.7582898233439308,
          0.6162874446229667,
          0.8829991970982982,
          0.5875930166320611
         ]
        },
        {
         "line": {
          "color": "rgba(55, 128, 191, 1.0)",
          "dash": "solid",
          "shape": "linear",
          "width": 1.3
         },
         "mode": "lines",
         "name": "B",
         "text": "",
         "type": "scatter",
         "x": [
          0,
          1,
          2,
          3,
          4,
          5,
          6,
          7,
          8,
          9,
          10,
          11,
          12,
          13,
          14,
          15,
          16,
          17,
          18,
          19,
          20,
          21,
          22,
          23,
          24,
          25,
          26,
          27,
          28,
          29,
          30,
          31,
          32,
          33,
          34,
          35,
          36,
          37,
          38,
          39,
          40,
          41,
          42,
          43,
          44,
          45,
          46,
          47,
          48,
          49,
          50,
          51,
          52,
          53,
          54,
          55,
          56,
          57,
          58,
          59,
          60,
          61,
          62,
          63,
          64,
          65,
          66,
          67,
          68,
          69,
          70,
          71,
          72,
          73,
          74,
          75,
          76,
          77,
          78,
          79,
          80,
          81,
          82,
          83,
          84,
          85,
          86,
          87,
          88,
          89,
          90,
          91,
          92,
          93,
          94,
          95,
          96,
          97,
          98,
          99
         ],
         "y": [
          0.1420989997204274,
          0.16272302776698333,
          0.5510418624633832,
          0.7810968428085451,
          0.974301807852817,
          0.6471915985690905,
          0.21234414860461104,
          0.9076787921118685,
          0.5664836023015972,
          0.7700135430908135,
          0.5253479398485718,
          0.5241714927399055,
          0.4301101655038079,
          0.8199434200022369,
          0.8127534054878676,
          0.047738991932165464,
          0.5349971488824744,
          0.5882683336930767,
          0.5135454203297177,
          0.04071727445935902,
          0.7200244546048392,
          0.8900719747838537,
          0.9865349592432118,
          0.4371129801660866,
          0.3243903451602598,
          0.5076790757069931,
          0.8525163039447864,
          0.566288953632173,
          0.1654817274784377,
          0.29662449110709144,
          0.3477905086317059,
          0.5059376256724428,
          0.6325085839762339,
          0.1448234277272753,
          0.7470284948374725,
          0.29546772497391927,
          0.3552949972380134,
          0.6366411169592828,
          0.4697823842392852,
          0.5319954083505593,
          0.9933995867373235,
          0.9070847709211363,
          0.6667901671187938,
          0.26101265540922325,
          0.330798623844741,
          0.2379799719882747,
          0.7825867856735038,
          0.20795006027228824,
          0.7311397165709611,
          0.48004107134623486,
          0.8661826114431671,
          0.8806199971587744,
          0.9106636500545815,
          0.12768512772204432,
          0.058033915607826,
          0.12820324272821748,
          0.09909743280436667,
          0.4903313130260817,
          0.6367265819917569,
          0.8636576164807224,
          0.33879757104565233,
          0.6733604397968099,
          0.9166751994743604,
          0.8253133157026932,
          0.6193553471911393,
          0.899112078299836,
          0.9577354173244566,
          0.55673671056099,
          0.2887334137560843,
          0.5571212721073879,
          0.19238618294946197,
          0.39814105892230056,
          0.011906309498581402,
          0.15563058187450685,
          0.16007112287112124,
          0.08737201724425192,
          0.43020181136608315,
          0.44598215676077313,
          0.8596018665391401,
          0.012053338547065806,
          0.8455576896774778,
          0.34822730875600516,
          0.5849194869804503,
          0.7212007626939569,
          0.4279290374816803,
          0.2493311030777,
          0.13133372297632728,
          0.32764216948557945,
          0.7019104372779333,
          0.37703502274650014,
          0.2779812489593061,
          0.909981378748785,
          0.5605431426633933,
          0.26479676439354294,
          0.02176661782524547,
          0.7235964641179009,
          0.7164017718719706,
          0.28682585808982264,
          0.9860956241904728,
          0.07634445227262043
         ]
        },
        {
         "connectgaps": false,
         "fill": "tozeroy",
         "line": {
          "color": "green",
          "dash": "solid",
          "shape": "linear",
          "width": 0.5
         },
         "mode": "lines",
         "name": "Spread",
         "showlegend": false,
         "type": "scatter",
         "x": [
          0,
          1,
          2,
          3,
          4,
          5,
          6,
          7,
          8,
          9,
          10,
          11,
          12,
          13,
          14,
          15,
          16,
          17,
          18,
          19,
          20,
          21,
          22,
          23,
          24,
          25,
          26,
          27,
          28,
          29,
          30,
          31,
          32,
          33,
          34,
          35,
          36,
          37,
          38,
          39,
          40,
          41,
          42,
          43,
          44,
          45,
          46,
          47,
          48,
          49,
          50,
          51,
          52,
          53,
          54,
          55,
          56,
          57,
          58,
          59,
          60,
          61,
          62,
          63,
          64,
          65,
          66,
          67,
          68,
          69,
          70,
          71,
          72,
          73,
          74,
          75,
          76,
          77,
          78,
          79,
          80,
          81,
          82,
          83,
          84,
          85,
          86,
          87,
          88,
          89,
          90,
          91,
          92,
          93,
          94,
          95,
          96,
          97,
          98,
          99
         ],
         "xaxis": "x2",
         "y": [
          0.7908068720982376,
          0.6362944323021494,
          0.10683868803485197,
          "",
          "",
          0.2583689416543391,
          0.0772230615189069,
          0.044957764724280924,
          "",
          "",
          0.07804284930601102,
          "",
          "",
          "",
          "",
          0.7092150904027916,
          0.2937215727932595,
          0.39457516118013103,
          0.2977358544847357,
          0.070049284013037,
          0.12272749201252309,
          "",
          "",
          0.31681329498123323,
          0.12097522441375308,
          0.16206558542100735,
          "",
          "",
          0.004849631999279236,
          0.5359373071378057,
          0.19944359993900285,
          0.4610172907726574,
          "",
          0.6048966823318791,
          0.2144714065457024,
          0.6442297827748232,
          0.43336980745791687,
          "",
          "",
          0.46590377032697505,
          "",
          "",
          "",
          0.40007968926121673,
          0.5552147296171844,
          0.1833842786359302,
          "",
          0.4576978934766436,
          "",
          "",
          "",
          "",
          "",
          0.8019208102558437,
          0.012203384097517533,
          0.11218319729136716,
          0.5329662586528503,
          "",
          "",
          "",
          0.20530627242358634,
          "",
          "",
          "",
          "",
          "",
          "",
          "",
          0.520366548698293,
          "",
          0.26159255770517187,
          "",
          0.28186983351252914,
          0.2284693888935665,
          0.6670990508965419,
          0.6673698154463635,
          "",
          "",
          "",
          0.18836444954052356,
          0.14330738239370355,
          0.4670151169482504,
          "",
          "",
          0.23237592900570148,
          0.6834672780746727,
          0.7974886350370548,
          0.07135142571309572,
          "",
          0.5569802507789714,
          0.5841184557383879,
          0.030388320204797536,
          "",
          "",
          0.2868867345906717,
          "",
          0.041888051471960175,
          0.32946158653314406,
          "",
          0.5112485643594407
         ],
         "yaxis": "y2"
        },
        {
         "connectgaps": false,
         "fill": "tozeroy",
         "line": {
          "color": "red",
          "dash": "solid",
          "shape": "linear",
          "width": 0.5
         },
         "mode": "lines",
         "name": "Spread",
         "showlegend": false,
         "type": "scatter",
         "x": [
          0,
          1,
          2,
          3,
          4,
          5,
          6,
          7,
          8,
          9,
          10,
          11,
          12,
          13,
          14,
          15,
          16,
          17,
          18,
          19,
          20,
          21,
          22,
          23,
          24,
          25,
          26,
          27,
          28,
          29,
          30,
          31,
          32,
          33,
          34,
          35,
          36,
          37,
          38,
          39,
          40,
          41,
          42,
          43,
          44,
          45,
          46,
          47,
          48,
          49,
          50,
          51,
          52,
          53,
          54,
          55,
          56,
          57,
          58,
          59,
          60,
          61,
          62,
          63,
          64,
          65,
          66,
          67,
          68,
          69,
          70,
          71,
          72,
          73,
          74,
          75,
          76,
          77,
          78,
          79,
          80,
          81,
          82,
          83,
          84,
          85,
          86,
          87,
          88,
          89,
          90,
          91,
          92,
          93,
          94,
          95,
          96,
          97,
          98,
          99
         ],
         "xaxis": "x2",
         "y": [
          "",
          "",
          "",
          -0.35353008830359445,
          -0.8041361983972816,
          "",
          "",
          "",
          -0.09606299867942003,
          -0.6177514636244595,
          "",
          -0.27317642159665334,
          -0.42476931680565166,
          -0.7546038770322657,
          -0.5394498989525918,
          "",
          "",
          "",
          "",
          "",
          "",
          -0.40147984908762346,
          -0.8426503040186065,
          "",
          "",
          "",
          -0.6272199367113188,
          -0.4501192233104103,
          "",
          "",
          "",
          "",
          -0.3849131342990372,
          "",
          "",
          "",
          "",
          -0.31073883036047056,
          -0.3620108095489487,
          "",
          -0.707558063853008,
          -0.22196411521869785,
          -0.27873760230858946,
          "",
          "",
          "",
          -0.10826692861065301,
          "",
          -0.12460240409094281,
          -0.22802433195928673,
          -0.8158735657318587,
          -0.46660785972697294,
          -0.19172430636723892,
          "",
          "",
          "",
          "",
          -0.26075486081446153,
          -0.3171518170930244,
          -0.3219911411073544,
          "",
          -0.26557784255212946,
          -0.6908123965927594,
          -0.34571047585451375,
          -0.2947031426095953,
          -0.6971753202893766,
          -0.84799112986156,
          -0.05910114110869469,
          "",
          -0.32991548402451853,
          "",
          -0.39622226780560277,
          "",
          "",
          "",
          "",
          -0.06950183286964029,
          -0.22676365466759463,
          -0.30671364389520295,
          "",
          "",
          "",
          -0.3162344059176463,
          -0.6568902011945147,
          "",
          "",
          "",
          "",
          -0.6502237556600081,
          "",
          "",
          "",
          -0.08146272294562984,
          -0.0688764445013531,
          "",
          -0.5017863579416721,
          "",
          "",
          -0.10309642709217459,
          ""
         ],
         "yaxis": "y2"
        }
       ],
       "layout": {
        "hovermode": "x",
        "legend": {
         "bgcolor": "#F5F6F9",
         "font": {
          "color": "#4D5663"
         }
        },
        "paper_bgcolor": "#F5F6F9",
        "plot_bgcolor": "#F5F6F9",
        "template": {
         "data": {
          "bar": [
           {
            "error_x": {
             "color": "#2a3f5f"
            },
            "error_y": {
             "color": "#2a3f5f"
            },
            "marker": {
             "line": {
              "color": "#E5ECF6",
              "width": 0.5
             }
            },
            "type": "bar"
           }
          ],
          "barpolar": [
           {
            "marker": {
             "line": {
              "color": "#E5ECF6",
              "width": 0.5
             }
            },
            "type": "barpolar"
           }
          ],
          "carpet": [
           {
            "aaxis": {
             "endlinecolor": "#2a3f5f",
             "gridcolor": "white",
             "linecolor": "white",
             "minorgridcolor": "white",
             "startlinecolor": "#2a3f5f"
            },
            "baxis": {
             "endlinecolor": "#2a3f5f",
             "gridcolor": "white",
             "linecolor": "white",
             "minorgridcolor": "white",
             "startlinecolor": "#2a3f5f"
            },
            "type": "carpet"
           }
          ],
          "choropleth": [
           {
            "colorbar": {
             "outlinewidth": 0,
             "ticks": ""
            },
            "type": "choropleth"
           }
          ],
          "contour": [
           {
            "colorbar": {
             "outlinewidth": 0,
             "ticks": ""
            },
            "colorscale": [
             [
              0,
              "#0d0887"
             ],
             [
              0.1111111111111111,
              "#46039f"
             ],
             [
              0.2222222222222222,
              "#7201a8"
             ],
             [
              0.3333333333333333,
              "#9c179e"
             ],
             [
              0.4444444444444444,
              "#bd3786"
             ],
             [
              0.5555555555555556,
              "#d8576b"
             ],
             [
              0.6666666666666666,
              "#ed7953"
             ],
             [
              0.7777777777777778,
              "#fb9f3a"
             ],
             [
              0.8888888888888888,
              "#fdca26"
             ],
             [
              1,
              "#f0f921"
             ]
            ],
            "type": "contour"
           }
          ],
          "contourcarpet": [
           {
            "colorbar": {
             "outlinewidth": 0,
             "ticks": ""
            },
            "type": "contourcarpet"
           }
          ],
          "heatmap": [
           {
            "colorbar": {
             "outlinewidth": 0,
             "ticks": ""
            },
            "colorscale": [
             [
              0,
              "#0d0887"
             ],
             [
              0.1111111111111111,
              "#46039f"
             ],
             [
              0.2222222222222222,
              "#7201a8"
             ],
             [
              0.3333333333333333,
              "#9c179e"
             ],
             [
              0.4444444444444444,
              "#bd3786"
             ],
             [
              0.5555555555555556,
              "#d8576b"
             ],
             [
              0.6666666666666666,
              "#ed7953"
             ],
             [
              0.7777777777777778,
              "#fb9f3a"
             ],
             [
              0.8888888888888888,
              "#fdca26"
             ],
             [
              1,
              "#f0f921"
             ]
            ],
            "type": "heatmap"
           }
          ],
          "heatmapgl": [
           {
            "colorbar": {
             "outlinewidth": 0,
             "ticks": ""
            },
            "colorscale": [
             [
              0,
              "#0d0887"
             ],
             [
              0.1111111111111111,
              "#46039f"
             ],
             [
              0.2222222222222222,
              "#7201a8"
             ],
             [
              0.3333333333333333,
              "#9c179e"
             ],
             [
              0.4444444444444444,
              "#bd3786"
             ],
             [
              0.5555555555555556,
              "#d8576b"
             ],
             [
              0.6666666666666666,
              "#ed7953"
             ],
             [
              0.7777777777777778,
              "#fb9f3a"
             ],
             [
              0.8888888888888888,
              "#fdca26"
             ],
             [
              1,
              "#f0f921"
             ]
            ],
            "type": "heatmapgl"
           }
          ],
          "histogram": [
           {
            "marker": {
             "colorbar": {
              "outlinewidth": 0,
              "ticks": ""
             }
            },
            "type": "histogram"
           }
          ],
          "histogram2d": [
           {
            "colorbar": {
             "outlinewidth": 0,
             "ticks": ""
            },
            "colorscale": [
             [
              0,
              "#0d0887"
             ],
             [
              0.1111111111111111,
              "#46039f"
             ],
             [
              0.2222222222222222,
              "#7201a8"
             ],
             [
              0.3333333333333333,
              "#9c179e"
             ],
             [
              0.4444444444444444,
              "#bd3786"
             ],
             [
              0.5555555555555556,
              "#d8576b"
             ],
             [
              0.6666666666666666,
              "#ed7953"
             ],
             [
              0.7777777777777778,
              "#fb9f3a"
             ],
             [
              0.8888888888888888,
              "#fdca26"
             ],
             [
              1,
              "#f0f921"
             ]
            ],
            "type": "histogram2d"
           }
          ],
          "histogram2dcontour": [
           {
            "colorbar": {
             "outlinewidth": 0,
             "ticks": ""
            },
            "colorscale": [
             [
              0,
              "#0d0887"
             ],
             [
              0.1111111111111111,
              "#46039f"
             ],
             [
              0.2222222222222222,
              "#7201a8"
             ],
             [
              0.3333333333333333,
              "#9c179e"
             ],
             [
              0.4444444444444444,
              "#bd3786"
             ],
             [
              0.5555555555555556,
              "#d8576b"
             ],
             [
              0.6666666666666666,
              "#ed7953"
             ],
             [
              0.7777777777777778,
              "#fb9f3a"
             ],
             [
              0.8888888888888888,
              "#fdca26"
             ],
             [
              1,
              "#f0f921"
             ]
            ],
            "type": "histogram2dcontour"
           }
          ],
          "mesh3d": [
           {
            "colorbar": {
             "outlinewidth": 0,
             "ticks": ""
            },
            "type": "mesh3d"
           }
          ],
          "parcoords": [
           {
            "line": {
             "colorbar": {
              "outlinewidth": 0,
              "ticks": ""
             }
            },
            "type": "parcoords"
           }
          ],
          "pie": [
           {
            "automargin": true,
            "type": "pie"
           }
          ],
          "scatter": [
           {
            "marker": {
             "colorbar": {
              "outlinewidth": 0,
              "ticks": ""
             }
            },
            "type": "scatter"
           }
          ],
          "scatter3d": [
           {
            "line": {
             "colorbar": {
              "outlinewidth": 0,
              "ticks": ""
             }
            },
            "marker": {
             "colorbar": {
              "outlinewidth": 0,
              "ticks": ""
             }
            },
            "type": "scatter3d"
           }
          ],
          "scattercarpet": [
           {
            "marker": {
             "colorbar": {
              "outlinewidth": 0,
              "ticks": ""
             }
            },
            "type": "scattercarpet"
           }
          ],
          "scattergeo": [
           {
            "marker": {
             "colorbar": {
              "outlinewidth": 0,
              "ticks": ""
             }
            },
            "type": "scattergeo"
           }
          ],
          "scattergl": [
           {
            "marker": {
             "colorbar": {
              "outlinewidth": 0,
              "ticks": ""
             }
            },
            "type": "scattergl"
           }
          ],
          "scattermapbox": [
           {
            "marker": {
             "colorbar": {
              "outlinewidth": 0,
              "ticks": ""
             }
            },
            "type": "scattermapbox"
           }
          ],
          "scatterpolar": [
           {
            "marker": {
             "colorbar": {
              "outlinewidth": 0,
              "ticks": ""
             }
            },
            "type": "scatterpolar"
           }
          ],
          "scatterpolargl": [
           {
            "marker": {
             "colorbar": {
              "outlinewidth": 0,
              "ticks": ""
             }
            },
            "type": "scatterpolargl"
           }
          ],
          "scatterternary": [
           {
            "marker": {
             "colorbar": {
              "outlinewidth": 0,
              "ticks": ""
             }
            },
            "type": "scatterternary"
           }
          ],
          "surface": [
           {
            "colorbar": {
             "outlinewidth": 0,
             "ticks": ""
            },
            "colorscale": [
             [
              0,
              "#0d0887"
             ],
             [
              0.1111111111111111,
              "#46039f"
             ],
             [
              0.2222222222222222,
              "#7201a8"
             ],
             [
              0.3333333333333333,
              "#9c179e"
             ],
             [
              0.4444444444444444,
              "#bd3786"
             ],
             [
              0.5555555555555556,
              "#d8576b"
             ],
             [
              0.6666666666666666,
              "#ed7953"
             ],
             [
              0.7777777777777778,
              "#fb9f3a"
             ],
             [
              0.8888888888888888,
              "#fdca26"
             ],
             [
              1,
              "#f0f921"
             ]
            ],
            "type": "surface"
           }
          ],
          "table": [
           {
            "cells": {
             "fill": {
              "color": "#EBF0F8"
             },
             "line": {
              "color": "white"
             }
            },
            "header": {
             "fill": {
              "color": "#C8D4E3"
             },
             "line": {
              "color": "white"
             }
            },
            "type": "table"
           }
          ]
         },
         "layout": {
          "annotationdefaults": {
           "arrowcolor": "#2a3f5f",
           "arrowhead": 0,
           "arrowwidth": 1
          },
          "coloraxis": {
           "colorbar": {
            "outlinewidth": 0,
            "ticks": ""
           }
          },
          "colorscale": {
           "diverging": [
            [
             0,
             "#8e0152"
            ],
            [
             0.1,
             "#c51b7d"
            ],
            [
             0.2,
             "#de77ae"
            ],
            [
             0.3,
             "#f1b6da"
            ],
            [
             0.4,
             "#fde0ef"
            ],
            [
             0.5,
             "#f7f7f7"
            ],
            [
             0.6,
             "#e6f5d0"
            ],
            [
             0.7,
             "#b8e186"
            ],
            [
             0.8,
             "#7fbc41"
            ],
            [
             0.9,
             "#4d9221"
            ],
            [
             1,
             "#276419"
            ]
           ],
           "sequential": [
            [
             0,
             "#0d0887"
            ],
            [
             0.1111111111111111,
             "#46039f"
            ],
            [
             0.2222222222222222,
             "#7201a8"
            ],
            [
             0.3333333333333333,
             "#9c179e"
            ],
            [
             0.4444444444444444,
             "#bd3786"
            ],
            [
             0.5555555555555556,
             "#d8576b"
            ],
            [
             0.6666666666666666,
             "#ed7953"
            ],
            [
             0.7777777777777778,
             "#fb9f3a"
            ],
            [
             0.8888888888888888,
             "#fdca26"
            ],
            [
             1,
             "#f0f921"
            ]
           ],
           "sequentialminus": [
            [
             0,
             "#0d0887"
            ],
            [
             0.1111111111111111,
             "#46039f"
            ],
            [
             0.2222222222222222,
             "#7201a8"
            ],
            [
             0.3333333333333333,
             "#9c179e"
            ],
            [
             0.4444444444444444,
             "#bd3786"
            ],
            [
             0.5555555555555556,
             "#d8576b"
            ],
            [
             0.6666666666666666,
             "#ed7953"
            ],
            [
             0.7777777777777778,
             "#fb9f3a"
            ],
            [
             0.8888888888888888,
             "#fdca26"
            ],
            [
             1,
             "#f0f921"
            ]
           ]
          },
          "colorway": [
           "#636efa",
           "#EF553B",
           "#00cc96",
           "#ab63fa",
           "#FFA15A",
           "#19d3f3",
           "#FF6692",
           "#B6E880",
           "#FF97FF",
           "#FECB52"
          ],
          "font": {
           "color": "#2a3f5f"
          },
          "geo": {
           "bgcolor": "white",
           "lakecolor": "white",
           "landcolor": "#E5ECF6",
           "showlakes": true,
           "showland": true,
           "subunitcolor": "white"
          },
          "hoverlabel": {
           "align": "left"
          },
          "hovermode": "closest",
          "mapbox": {
           "style": "light"
          },
          "paper_bgcolor": "white",
          "plot_bgcolor": "#E5ECF6",
          "polar": {
           "angularaxis": {
            "gridcolor": "white",
            "linecolor": "white",
            "ticks": ""
           },
           "bgcolor": "#E5ECF6",
           "radialaxis": {
            "gridcolor": "white",
            "linecolor": "white",
            "ticks": ""
           }
          },
          "scene": {
           "xaxis": {
            "backgroundcolor": "#E5ECF6",
            "gridcolor": "white",
            "gridwidth": 2,
            "linecolor": "white",
            "showbackground": true,
            "ticks": "",
            "zerolinecolor": "white"
           },
           "yaxis": {
            "backgroundcolor": "#E5ECF6",
            "gridcolor": "white",
            "gridwidth": 2,
            "linecolor": "white",
            "showbackground": true,
            "ticks": "",
            "zerolinecolor": "white"
           },
           "zaxis": {
            "backgroundcolor": "#E5ECF6",
            "gridcolor": "white",
            "gridwidth": 2,
            "linecolor": "white",
            "showbackground": true,
            "ticks": "",
            "zerolinecolor": "white"
           }
          },
          "shapedefaults": {
           "line": {
            "color": "#2a3f5f"
           }
          },
          "ternary": {
           "aaxis": {
            "gridcolor": "white",
            "linecolor": "white",
            "ticks": ""
           },
           "baxis": {
            "gridcolor": "white",
            "linecolor": "white",
            "ticks": ""
           },
           "bgcolor": "#E5ECF6",
           "caxis": {
            "gridcolor": "white",
            "linecolor": "white",
            "ticks": ""
           }
          },
          "title": {
           "x": 0.05
          },
          "xaxis": {
           "automargin": true,
           "gridcolor": "white",
           "linecolor": "white",
           "ticks": "",
           "title": {
            "standoff": 15
           },
           "zerolinecolor": "white",
           "zerolinewidth": 2
          },
          "yaxis": {
           "automargin": true,
           "gridcolor": "white",
           "linecolor": "white",
           "ticks": "",
           "title": {
            "standoff": 15
           },
           "zerolinecolor": "white",
           "zerolinewidth": 2
          }
         }
        },
        "title": {
         "font": {
          "color": "#4D5663"
         }
        },
        "xaxis": {
         "gridcolor": "#E1E5ED",
         "showgrid": true,
         "tickfont": {
          "color": "#4D5663"
         },
         "title": {
          "font": {
           "color": "#4D5663"
          },
          "text": ""
         },
         "zerolinecolor": "#E1E5ED"
        },
        "xaxis2": {
         "anchor": "y2",
         "gridcolor": "#E1E5ED",
         "showgrid": true,
         "showticklabels": false,
         "tickfont": {
          "color": "#4D5663"
         },
         "title": {
          "font": {
           "color": "#4D5663"
          },
          "text": ""
         },
         "zerolinecolor": "#E1E5ED"
        },
        "yaxis": {
         "domain": [
          0.3,
          1
         ],
         "gridcolor": "#E1E5ED",
         "showgrid": true,
         "tickfont": {
          "color": "#4D5663"
         },
         "title": {
          "font": {
           "color": "#4D5663"
          },
          "text": ""
         },
         "zerolinecolor": "#E1E5ED"
        },
        "yaxis2": {
         "domain": [
          0,
          0.25
         ],
         "gridcolor": "#E1E5ED",
         "showgrid": true,
         "tickfont": {
          "color": "#4D5663"
         },
         "title": {
          "font": {
           "color": "#4D5663"
          },
          "text": "Spread"
         },
         "zerolinecolor": "#E1E5ED"
        }
       }
      },
      "text/html": [
       "<div>\n",
       "        \n",
       "        \n",
       "            <div id=\"8447ef09-a230-4fca-872a-2d851ce26aea\" class=\"plotly-graph-div\" style=\"height:525px; width:100%;\"></div>\n",
       "            <script type=\"text/javascript\">\n",
       "                require([\"plotly\"], function(Plotly) {\n",
       "                    window.PLOTLYENV=window.PLOTLYENV || {};\n",
       "                    window.PLOTLYENV.BASE_URL='https://plot.ly';\n",
       "                    \n",
       "                if (document.getElementById(\"8447ef09-a230-4fca-872a-2d851ce26aea\")) {\n",
       "                    Plotly.newPlot(\n",
       "                        '8447ef09-a230-4fca-872a-2d851ce26aea',\n",
       "                        [{\"line\": {\"color\": \"rgba(255, 153, 51, 1.0)\", \"dash\": \"solid\", \"shape\": \"linear\", \"width\": 1.3}, \"mode\": \"lines\", \"name\": \"A\", \"text\": \"\", \"type\": \"scatter\", \"x\": [0, 1, 2, 3, 4, 5, 6, 7, 8, 9, 10, 11, 12, 13, 14, 15, 16, 17, 18, 19, 20, 21, 22, 23, 24, 25, 26, 27, 28, 29, 30, 31, 32, 33, 34, 35, 36, 37, 38, 39, 40, 41, 42, 43, 44, 45, 46, 47, 48, 49, 50, 51, 52, 53, 54, 55, 56, 57, 58, 59, 60, 61, 62, 63, 64, 65, 66, 67, 68, 69, 70, 71, 72, 73, 74, 75, 76, 77, 78, 79, 80, 81, 82, 83, 84, 85, 86, 87, 88, 89, 90, 91, 92, 93, 94, 95, 96, 97, 98, 99], \"y\": [0.932905871818665, 0.7990174600691328, 0.6578805504982351, 0.42756675450495063, 0.17016560945553538, 0.9055605402234296, 0.28956721012351794, 0.9526365568361495, 0.4704206036221772, 0.15226207946635395, 0.6033907891545828, 0.25099507114325215, 0.005340848698156209, 0.06533954296997113, 0.2733035065352758, 0.7569540823349571, 0.8287187216757339, 0.9828434948732078, 0.8112812748144534, 0.11076655847239603, 0.8427519466173623, 0.48859212569623023, 0.14388465522460525, 0.7539262751473198, 0.44536556957401285, 0.6697446611280005, 0.22529636723346758, 0.1161697303217627, 0.17033135947771694, 0.8325617982448972, 0.5472341085707088, 0.9669549164451002, 0.2475954496771967, 0.7497201100591544, 0.9614999013831749, 0.9396975077487425, 0.7886648046959303, 0.32590228659881226, 0.10777157469033649, 0.9978991786775343, 0.2858415228843155, 0.6851206557024384, 0.38805256481020434, 0.66109234467044, 0.8860133534619254, 0.4213642506242049, 0.6743198570628508, 0.6656479537489318, 0.6065373124800183, 0.25201673938694813, 0.05030904571130845, 0.41401213743180143, 0.7189393436873426, 0.929605937977888, 0.07023729970534354, 0.24038644001958465, 0.632063691457217, 0.22957645221162015, 0.3195747648987325, 0.541666475373368, 0.5441038434692387, 0.40778259724468047, 0.225862802881601, 0.4796028398481794, 0.324652204581544, 0.2019367580104594, 0.10974428746289655, 0.49763556945229526, 0.8090999624543773, 0.2272057880828694, 0.45397874065463384, 0.0019187911166977933, 0.29377614301111055, 0.38409997076807334, 0.8271701737676631, 0.7547418326906155, 0.36069997849644286, 0.2192185020931785, 0.5528882226439371, 0.20041778808758937, 0.9888650720711814, 0.8152424257042555, 0.268685081062804, 0.06431056149944225, 0.6603049664873818, 0.9327983811523727, 0.9288223580133821, 0.39899359519867517, 0.05168668161792522, 0.9340152735254715, 0.862099704697694, 0.9403696989535826, 0.4790804197177635, 0.19592031989218983, 0.3086533524159172, 0.22181010617622876, 0.7582898233439308, 0.6162874446229667, 0.8829991970982982, 0.5875930166320611]}, {\"line\": {\"color\": \"rgba(55, 128, 191, 1.0)\", \"dash\": \"solid\", \"shape\": \"linear\", \"width\": 1.3}, \"mode\": \"lines\", \"name\": \"B\", \"text\": \"\", \"type\": \"scatter\", \"x\": [0, 1, 2, 3, 4, 5, 6, 7, 8, 9, 10, 11, 12, 13, 14, 15, 16, 17, 18, 19, 20, 21, 22, 23, 24, 25, 26, 27, 28, 29, 30, 31, 32, 33, 34, 35, 36, 37, 38, 39, 40, 41, 42, 43, 44, 45, 46, 47, 48, 49, 50, 51, 52, 53, 54, 55, 56, 57, 58, 59, 60, 61, 62, 63, 64, 65, 66, 67, 68, 69, 70, 71, 72, 73, 74, 75, 76, 77, 78, 79, 80, 81, 82, 83, 84, 85, 86, 87, 88, 89, 90, 91, 92, 93, 94, 95, 96, 97, 98, 99], \"y\": [0.1420989997204274, 0.16272302776698333, 0.5510418624633832, 0.7810968428085451, 0.974301807852817, 0.6471915985690905, 0.21234414860461104, 0.9076787921118685, 0.5664836023015972, 0.7700135430908135, 0.5253479398485718, 0.5241714927399055, 0.4301101655038079, 0.8199434200022369, 0.8127534054878676, 0.047738991932165464, 0.5349971488824744, 0.5882683336930767, 0.5135454203297177, 0.04071727445935902, 0.7200244546048392, 0.8900719747838537, 0.9865349592432118, 0.4371129801660866, 0.3243903451602598, 0.5076790757069931, 0.8525163039447864, 0.566288953632173, 0.1654817274784377, 0.29662449110709144, 0.3477905086317059, 0.5059376256724428, 0.6325085839762339, 0.1448234277272753, 0.7470284948374725, 0.29546772497391927, 0.3552949972380134, 0.6366411169592828, 0.4697823842392852, 0.5319954083505593, 0.9933995867373235, 0.9070847709211363, 0.6667901671187938, 0.26101265540922325, 0.330798623844741, 0.2379799719882747, 0.7825867856735038, 0.20795006027228824, 0.7311397165709611, 0.48004107134623486, 0.8661826114431671, 0.8806199971587744, 0.9106636500545815, 0.12768512772204432, 0.058033915607826, 0.12820324272821748, 0.09909743280436667, 0.4903313130260817, 0.6367265819917569, 0.8636576164807224, 0.33879757104565233, 0.6733604397968099, 0.9166751994743604, 0.8253133157026932, 0.6193553471911393, 0.899112078299836, 0.9577354173244566, 0.55673671056099, 0.2887334137560843, 0.5571212721073879, 0.19238618294946197, 0.39814105892230056, 0.011906309498581402, 0.15563058187450685, 0.16007112287112124, 0.08737201724425192, 0.43020181136608315, 0.44598215676077313, 0.8596018665391401, 0.012053338547065806, 0.8455576896774778, 0.34822730875600516, 0.5849194869804503, 0.7212007626939569, 0.4279290374816803, 0.2493311030777, 0.13133372297632728, 0.32764216948557945, 0.7019104372779333, 0.37703502274650014, 0.2779812489593061, 0.909981378748785, 0.5605431426633933, 0.26479676439354294, 0.02176661782524547, 0.7235964641179009, 0.7164017718719706, 0.28682585808982264, 0.9860956241904728, 0.07634445227262043]}, {\"connectgaps\": false, \"fill\": \"tozeroy\", \"line\": {\"color\": \"green\", \"dash\": \"solid\", \"shape\": \"linear\", \"width\": 0.5}, \"mode\": \"lines\", \"name\": \"Spread\", \"showlegend\": false, \"type\": \"scatter\", \"x\": [0, 1, 2, 3, 4, 5, 6, 7, 8, 9, 10, 11, 12, 13, 14, 15, 16, 17, 18, 19, 20, 21, 22, 23, 24, 25, 26, 27, 28, 29, 30, 31, 32, 33, 34, 35, 36, 37, 38, 39, 40, 41, 42, 43, 44, 45, 46, 47, 48, 49, 50, 51, 52, 53, 54, 55, 56, 57, 58, 59, 60, 61, 62, 63, 64, 65, 66, 67, 68, 69, 70, 71, 72, 73, 74, 75, 76, 77, 78, 79, 80, 81, 82, 83, 84, 85, 86, 87, 88, 89, 90, 91, 92, 93, 94, 95, 96, 97, 98, 99], \"xaxis\": \"x2\", \"y\": [0.7908068720982376, 0.6362944323021494, 0.10683868803485197, \"\", \"\", 0.2583689416543391, 0.0772230615189069, 0.044957764724280924, \"\", \"\", 0.07804284930601102, \"\", \"\", \"\", \"\", 0.7092150904027916, 0.2937215727932595, 0.39457516118013103, 0.2977358544847357, 0.070049284013037, 0.12272749201252309, \"\", \"\", 0.31681329498123323, 0.12097522441375308, 0.16206558542100735, \"\", \"\", 0.004849631999279236, 0.5359373071378057, 0.19944359993900285, 0.4610172907726574, \"\", 0.6048966823318791, 0.2144714065457024, 0.6442297827748232, 0.43336980745791687, \"\", \"\", 0.46590377032697505, \"\", \"\", \"\", 0.40007968926121673, 0.5552147296171844, 0.1833842786359302, \"\", 0.4576978934766436, \"\", \"\", \"\", \"\", \"\", 0.8019208102558437, 0.012203384097517533, 0.11218319729136716, 0.5329662586528503, \"\", \"\", \"\", 0.20530627242358634, \"\", \"\", \"\", \"\", \"\", \"\", \"\", 0.520366548698293, \"\", 0.26159255770517187, \"\", 0.28186983351252914, 0.2284693888935665, 0.6670990508965419, 0.6673698154463635, \"\", \"\", \"\", 0.18836444954052356, 0.14330738239370355, 0.4670151169482504, \"\", \"\", 0.23237592900570148, 0.6834672780746727, 0.7974886350370548, 0.07135142571309572, \"\", 0.5569802507789714, 0.5841184557383879, 0.030388320204797536, \"\", \"\", 0.2868867345906717, \"\", 0.041888051471960175, 0.32946158653314406, \"\", 0.5112485643594407], \"yaxis\": \"y2\"}, {\"connectgaps\": false, \"fill\": \"tozeroy\", \"line\": {\"color\": \"red\", \"dash\": \"solid\", \"shape\": \"linear\", \"width\": 0.5}, \"mode\": \"lines\", \"name\": \"Spread\", \"showlegend\": false, \"type\": \"scatter\", \"x\": [0, 1, 2, 3, 4, 5, 6, 7, 8, 9, 10, 11, 12, 13, 14, 15, 16, 17, 18, 19, 20, 21, 22, 23, 24, 25, 26, 27, 28, 29, 30, 31, 32, 33, 34, 35, 36, 37, 38, 39, 40, 41, 42, 43, 44, 45, 46, 47, 48, 49, 50, 51, 52, 53, 54, 55, 56, 57, 58, 59, 60, 61, 62, 63, 64, 65, 66, 67, 68, 69, 70, 71, 72, 73, 74, 75, 76, 77, 78, 79, 80, 81, 82, 83, 84, 85, 86, 87, 88, 89, 90, 91, 92, 93, 94, 95, 96, 97, 98, 99], \"xaxis\": \"x2\", \"y\": [\"\", \"\", \"\", -0.35353008830359445, -0.8041361983972816, \"\", \"\", \"\", -0.09606299867942003, -0.6177514636244595, \"\", -0.27317642159665334, -0.42476931680565166, -0.7546038770322657, -0.5394498989525918, \"\", \"\", \"\", \"\", \"\", \"\", -0.40147984908762346, -0.8426503040186065, \"\", \"\", \"\", -0.6272199367113188, -0.4501192233104103, \"\", \"\", \"\", \"\", -0.3849131342990372, \"\", \"\", \"\", \"\", -0.31073883036047056, -0.3620108095489487, \"\", -0.707558063853008, -0.22196411521869785, -0.27873760230858946, \"\", \"\", \"\", -0.10826692861065301, \"\", -0.12460240409094281, -0.22802433195928673, -0.8158735657318587, -0.46660785972697294, -0.19172430636723892, \"\", \"\", \"\", \"\", -0.26075486081446153, -0.3171518170930244, -0.3219911411073544, \"\", -0.26557784255212946, -0.6908123965927594, -0.34571047585451375, -0.2947031426095953, -0.6971753202893766, -0.84799112986156, -0.05910114110869469, \"\", -0.32991548402451853, \"\", -0.39622226780560277, \"\", \"\", \"\", \"\", -0.06950183286964029, -0.22676365466759463, -0.30671364389520295, \"\", \"\", \"\", -0.3162344059176463, -0.6568902011945147, \"\", \"\", \"\", \"\", -0.6502237556600081, \"\", \"\", \"\", -0.08146272294562984, -0.0688764445013531, \"\", -0.5017863579416721, \"\", \"\", -0.10309642709217459, \"\"], \"yaxis\": \"y2\"}],\n",
       "                        {\"hovermode\": \"x\", \"legend\": {\"bgcolor\": \"#F5F6F9\", \"font\": {\"color\": \"#4D5663\"}}, \"paper_bgcolor\": \"#F5F6F9\", \"plot_bgcolor\": \"#F5F6F9\", \"template\": {\"data\": {\"bar\": [{\"error_x\": {\"color\": \"#2a3f5f\"}, \"error_y\": {\"color\": \"#2a3f5f\"}, \"marker\": {\"line\": {\"color\": \"#E5ECF6\", \"width\": 0.5}}, \"type\": \"bar\"}], \"barpolar\": [{\"marker\": {\"line\": {\"color\": \"#E5ECF6\", \"width\": 0.5}}, \"type\": \"barpolar\"}], \"carpet\": [{\"aaxis\": {\"endlinecolor\": \"#2a3f5f\", \"gridcolor\": \"white\", \"linecolor\": \"white\", \"minorgridcolor\": \"white\", \"startlinecolor\": \"#2a3f5f\"}, \"baxis\": {\"endlinecolor\": \"#2a3f5f\", \"gridcolor\": \"white\", \"linecolor\": \"white\", \"minorgridcolor\": \"white\", \"startlinecolor\": \"#2a3f5f\"}, \"type\": \"carpet\"}], \"choropleth\": [{\"colorbar\": {\"outlinewidth\": 0, \"ticks\": \"\"}, \"type\": \"choropleth\"}], \"contour\": [{\"colorbar\": {\"outlinewidth\": 0, \"ticks\": \"\"}, \"colorscale\": [[0.0, \"#0d0887\"], [0.1111111111111111, \"#46039f\"], [0.2222222222222222, \"#7201a8\"], [0.3333333333333333, \"#9c179e\"], [0.4444444444444444, \"#bd3786\"], [0.5555555555555556, \"#d8576b\"], [0.6666666666666666, \"#ed7953\"], [0.7777777777777778, \"#fb9f3a\"], [0.8888888888888888, \"#fdca26\"], [1.0, \"#f0f921\"]], \"type\": \"contour\"}], \"contourcarpet\": [{\"colorbar\": {\"outlinewidth\": 0, \"ticks\": \"\"}, \"type\": \"contourcarpet\"}], \"heatmap\": [{\"colorbar\": {\"outlinewidth\": 0, \"ticks\": \"\"}, \"colorscale\": [[0.0, \"#0d0887\"], [0.1111111111111111, \"#46039f\"], [0.2222222222222222, \"#7201a8\"], [0.3333333333333333, \"#9c179e\"], [0.4444444444444444, \"#bd3786\"], [0.5555555555555556, \"#d8576b\"], [0.6666666666666666, \"#ed7953\"], [0.7777777777777778, \"#fb9f3a\"], [0.8888888888888888, \"#fdca26\"], [1.0, \"#f0f921\"]], \"type\": \"heatmap\"}], \"heatmapgl\": [{\"colorbar\": {\"outlinewidth\": 0, \"ticks\": \"\"}, \"colorscale\": [[0.0, \"#0d0887\"], [0.1111111111111111, \"#46039f\"], [0.2222222222222222, \"#7201a8\"], [0.3333333333333333, \"#9c179e\"], [0.4444444444444444, \"#bd3786\"], [0.5555555555555556, \"#d8576b\"], [0.6666666666666666, \"#ed7953\"], [0.7777777777777778, \"#fb9f3a\"], [0.8888888888888888, \"#fdca26\"], [1.0, \"#f0f921\"]], \"type\": \"heatmapgl\"}], \"histogram\": [{\"marker\": {\"colorbar\": {\"outlinewidth\": 0, \"ticks\": \"\"}}, \"type\": \"histogram\"}], \"histogram2d\": [{\"colorbar\": {\"outlinewidth\": 0, \"ticks\": \"\"}, \"colorscale\": [[0.0, \"#0d0887\"], [0.1111111111111111, \"#46039f\"], [0.2222222222222222, \"#7201a8\"], [0.3333333333333333, \"#9c179e\"], [0.4444444444444444, \"#bd3786\"], [0.5555555555555556, \"#d8576b\"], [0.6666666666666666, \"#ed7953\"], [0.7777777777777778, \"#fb9f3a\"], [0.8888888888888888, \"#fdca26\"], [1.0, \"#f0f921\"]], \"type\": \"histogram2d\"}], \"histogram2dcontour\": [{\"colorbar\": {\"outlinewidth\": 0, \"ticks\": \"\"}, \"colorscale\": [[0.0, \"#0d0887\"], [0.1111111111111111, \"#46039f\"], [0.2222222222222222, \"#7201a8\"], [0.3333333333333333, \"#9c179e\"], [0.4444444444444444, \"#bd3786\"], [0.5555555555555556, \"#d8576b\"], [0.6666666666666666, \"#ed7953\"], [0.7777777777777778, \"#fb9f3a\"], [0.8888888888888888, \"#fdca26\"], [1.0, \"#f0f921\"]], \"type\": \"histogram2dcontour\"}], \"mesh3d\": [{\"colorbar\": {\"outlinewidth\": 0, \"ticks\": \"\"}, \"type\": \"mesh3d\"}], \"parcoords\": [{\"line\": {\"colorbar\": {\"outlinewidth\": 0, \"ticks\": \"\"}}, \"type\": \"parcoords\"}], \"pie\": [{\"automargin\": true, \"type\": \"pie\"}], \"scatter\": [{\"marker\": {\"colorbar\": {\"outlinewidth\": 0, \"ticks\": \"\"}}, \"type\": \"scatter\"}], \"scatter3d\": [{\"line\": {\"colorbar\": {\"outlinewidth\": 0, \"ticks\": \"\"}}, \"marker\": {\"colorbar\": {\"outlinewidth\": 0, \"ticks\": \"\"}}, \"type\": \"scatter3d\"}], \"scattercarpet\": [{\"marker\": {\"colorbar\": {\"outlinewidth\": 0, \"ticks\": \"\"}}, \"type\": \"scattercarpet\"}], \"scattergeo\": [{\"marker\": {\"colorbar\": {\"outlinewidth\": 0, \"ticks\": \"\"}}, \"type\": \"scattergeo\"}], \"scattergl\": [{\"marker\": {\"colorbar\": {\"outlinewidth\": 0, \"ticks\": \"\"}}, \"type\": \"scattergl\"}], \"scattermapbox\": [{\"marker\": {\"colorbar\": {\"outlinewidth\": 0, \"ticks\": \"\"}}, \"type\": \"scattermapbox\"}], \"scatterpolar\": [{\"marker\": {\"colorbar\": {\"outlinewidth\": 0, \"ticks\": \"\"}}, \"type\": \"scatterpolar\"}], \"scatterpolargl\": [{\"marker\": {\"colorbar\": {\"outlinewidth\": 0, \"ticks\": \"\"}}, \"type\": \"scatterpolargl\"}], \"scatterternary\": [{\"marker\": {\"colorbar\": {\"outlinewidth\": 0, \"ticks\": \"\"}}, \"type\": \"scatterternary\"}], \"surface\": [{\"colorbar\": {\"outlinewidth\": 0, \"ticks\": \"\"}, \"colorscale\": [[0.0, \"#0d0887\"], [0.1111111111111111, \"#46039f\"], [0.2222222222222222, \"#7201a8\"], [0.3333333333333333, \"#9c179e\"], [0.4444444444444444, \"#bd3786\"], [0.5555555555555556, \"#d8576b\"], [0.6666666666666666, \"#ed7953\"], [0.7777777777777778, \"#fb9f3a\"], [0.8888888888888888, \"#fdca26\"], [1.0, \"#f0f921\"]], \"type\": \"surface\"}], \"table\": [{\"cells\": {\"fill\": {\"color\": \"#EBF0F8\"}, \"line\": {\"color\": \"white\"}}, \"header\": {\"fill\": {\"color\": \"#C8D4E3\"}, \"line\": {\"color\": \"white\"}}, \"type\": \"table\"}]}, \"layout\": {\"annotationdefaults\": {\"arrowcolor\": \"#2a3f5f\", \"arrowhead\": 0, \"arrowwidth\": 1}, \"coloraxis\": {\"colorbar\": {\"outlinewidth\": 0, \"ticks\": \"\"}}, \"colorscale\": {\"diverging\": [[0, \"#8e0152\"], [0.1, \"#c51b7d\"], [0.2, \"#de77ae\"], [0.3, \"#f1b6da\"], [0.4, \"#fde0ef\"], [0.5, \"#f7f7f7\"], [0.6, \"#e6f5d0\"], [0.7, \"#b8e186\"], [0.8, \"#7fbc41\"], [0.9, \"#4d9221\"], [1, \"#276419\"]], \"sequential\": [[0.0, \"#0d0887\"], [0.1111111111111111, \"#46039f\"], [0.2222222222222222, \"#7201a8\"], [0.3333333333333333, \"#9c179e\"], [0.4444444444444444, \"#bd3786\"], [0.5555555555555556, \"#d8576b\"], [0.6666666666666666, \"#ed7953\"], [0.7777777777777778, \"#fb9f3a\"], [0.8888888888888888, \"#fdca26\"], [1.0, \"#f0f921\"]], \"sequentialminus\": [[0.0, \"#0d0887\"], [0.1111111111111111, \"#46039f\"], [0.2222222222222222, \"#7201a8\"], [0.3333333333333333, \"#9c179e\"], [0.4444444444444444, \"#bd3786\"], [0.5555555555555556, \"#d8576b\"], [0.6666666666666666, \"#ed7953\"], [0.7777777777777778, \"#fb9f3a\"], [0.8888888888888888, \"#fdca26\"], [1.0, \"#f0f921\"]]}, \"colorway\": [\"#636efa\", \"#EF553B\", \"#00cc96\", \"#ab63fa\", \"#FFA15A\", \"#19d3f3\", \"#FF6692\", \"#B6E880\", \"#FF97FF\", \"#FECB52\"], \"font\": {\"color\": \"#2a3f5f\"}, \"geo\": {\"bgcolor\": \"white\", \"lakecolor\": \"white\", \"landcolor\": \"#E5ECF6\", \"showlakes\": true, \"showland\": true, \"subunitcolor\": \"white\"}, \"hoverlabel\": {\"align\": \"left\"}, \"hovermode\": \"closest\", \"mapbox\": {\"style\": \"light\"}, \"paper_bgcolor\": \"white\", \"plot_bgcolor\": \"#E5ECF6\", \"polar\": {\"angularaxis\": {\"gridcolor\": \"white\", \"linecolor\": \"white\", \"ticks\": \"\"}, \"bgcolor\": \"#E5ECF6\", \"radialaxis\": {\"gridcolor\": \"white\", \"linecolor\": \"white\", \"ticks\": \"\"}}, \"scene\": {\"xaxis\": {\"backgroundcolor\": \"#E5ECF6\", \"gridcolor\": \"white\", \"gridwidth\": 2, \"linecolor\": \"white\", \"showbackground\": true, \"ticks\": \"\", \"zerolinecolor\": \"white\"}, \"yaxis\": {\"backgroundcolor\": \"#E5ECF6\", \"gridcolor\": \"white\", \"gridwidth\": 2, \"linecolor\": \"white\", \"showbackground\": true, \"ticks\": \"\", \"zerolinecolor\": \"white\"}, \"zaxis\": {\"backgroundcolor\": \"#E5ECF6\", \"gridcolor\": \"white\", \"gridwidth\": 2, \"linecolor\": \"white\", \"showbackground\": true, \"ticks\": \"\", \"zerolinecolor\": \"white\"}}, \"shapedefaults\": {\"line\": {\"color\": \"#2a3f5f\"}}, \"ternary\": {\"aaxis\": {\"gridcolor\": \"white\", \"linecolor\": \"white\", \"ticks\": \"\"}, \"baxis\": {\"gridcolor\": \"white\", \"linecolor\": \"white\", \"ticks\": \"\"}, \"bgcolor\": \"#E5ECF6\", \"caxis\": {\"gridcolor\": \"white\", \"linecolor\": \"white\", \"ticks\": \"\"}}, \"title\": {\"x\": 0.05}, \"xaxis\": {\"automargin\": true, \"gridcolor\": \"white\", \"linecolor\": \"white\", \"ticks\": \"\", \"title\": {\"standoff\": 15}, \"zerolinecolor\": \"white\", \"zerolinewidth\": 2}, \"yaxis\": {\"automargin\": true, \"gridcolor\": \"white\", \"linecolor\": \"white\", \"ticks\": \"\", \"title\": {\"standoff\": 15}, \"zerolinecolor\": \"white\", \"zerolinewidth\": 2}}}, \"title\": {\"font\": {\"color\": \"#4D5663\"}}, \"xaxis\": {\"gridcolor\": \"#E1E5ED\", \"showgrid\": true, \"tickfont\": {\"color\": \"#4D5663\"}, \"title\": {\"font\": {\"color\": \"#4D5663\"}, \"text\": \"\"}, \"zerolinecolor\": \"#E1E5ED\"}, \"xaxis2\": {\"anchor\": \"y2\", \"gridcolor\": \"#E1E5ED\", \"showgrid\": true, \"showticklabels\": false, \"tickfont\": {\"color\": \"#4D5663\"}, \"title\": {\"font\": {\"color\": \"#4D5663\"}, \"text\": \"\"}, \"zerolinecolor\": \"#E1E5ED\"}, \"yaxis\": {\"domain\": [0.3, 1], \"gridcolor\": \"#E1E5ED\", \"showgrid\": true, \"tickfont\": {\"color\": \"#4D5663\"}, \"title\": {\"font\": {\"color\": \"#4D5663\"}, \"text\": \"\"}, \"zerolinecolor\": \"#E1E5ED\"}, \"yaxis2\": {\"domain\": [0, 0.25], \"gridcolor\": \"#E1E5ED\", \"showgrid\": true, \"tickfont\": {\"color\": \"#4D5663\"}, \"title\": {\"font\": {\"color\": \"#4D5663\"}, \"text\": \"Spread\"}, \"zerolinecolor\": \"#E1E5ED\"}},\n",
       "                        {\"showLink\": true, \"linkText\": \"Export to plot.ly\", \"plotlyServerURL\": \"https://plot.ly\", \"responsive\": true}\n",
       "                    ).then(function(){\n",
       "                            \n",
       "var gd = document.getElementById('8447ef09-a230-4fca-872a-2d851ce26aea');\n",
       "var x = new MutationObserver(function (mutations, observer) {{\n",
       "        var display = window.getComputedStyle(gd).display;\n",
       "        if (!display || display === 'none') {{\n",
       "            console.log([gd, 'removed!']);\n",
       "            Plotly.purge(gd);\n",
       "            observer.disconnect();\n",
       "        }}\n",
       "}});\n",
       "\n",
       "// Listen for the removal of the full notebook cells\n",
       "var notebookContainer = gd.closest('#notebook-container');\n",
       "if (notebookContainer) {{\n",
       "    x.observe(notebookContainer, {childList: true});\n",
       "}}\n",
       "\n",
       "// Listen for the clearing of the current output cell\n",
       "var outputEl = gd.closest('.output');\n",
       "if (outputEl) {{\n",
       "    x.observe(outputEl, {childList: true});\n",
       "}}\n",
       "\n",
       "                        })\n",
       "                };\n",
       "                });\n",
       "            </script>\n",
       "        </div>"
      ]
     },
     "metadata": {},
     "output_type": "display_data"
    }
   ],
   "source": [
    "df[['A','B']].iplot(kind='spread')"
   ]
  },
  {
   "cell_type": "code",
   "execution_count": 25,
   "metadata": {},
   "outputs": [
    {
     "data": {
      "application/vnd.plotly.v1+json": {
       "config": {
        "linkText": "Export to plot.ly",
        "plotlyServerURL": "https://plot.ly",
        "showLink": true
       },
       "data": [
        {
         "histfunc": "count",
         "histnorm": "",
         "marker": {
          "color": "rgba(255, 153, 51, 1.0)",
          "line": {
           "color": "#4D5663",
           "width": 1.3
          }
         },
         "name": "A",
         "opacity": 0.8,
         "orientation": "v",
         "type": "histogram",
         "x": [
          0.932905871818665,
          0.7990174600691328,
          0.6578805504982351,
          0.42756675450495063,
          0.17016560945553538,
          0.9055605402234296,
          0.28956721012351794,
          0.9526365568361495,
          0.4704206036221772,
          0.15226207946635395,
          0.6033907891545828,
          0.25099507114325215,
          0.005340848698156209,
          0.06533954296997113,
          0.2733035065352758,
          0.7569540823349571,
          0.8287187216757339,
          0.9828434948732078,
          0.8112812748144534,
          0.11076655847239603,
          0.8427519466173623,
          0.48859212569623023,
          0.14388465522460525,
          0.7539262751473198,
          0.44536556957401285,
          0.6697446611280005,
          0.22529636723346758,
          0.1161697303217627,
          0.17033135947771694,
          0.8325617982448972,
          0.5472341085707088,
          0.9669549164451002,
          0.2475954496771967,
          0.7497201100591544,
          0.9614999013831749,
          0.9396975077487425,
          0.7886648046959303,
          0.32590228659881226,
          0.10777157469033649,
          0.9978991786775343,
          0.2858415228843155,
          0.6851206557024384,
          0.38805256481020434,
          0.66109234467044,
          0.8860133534619254,
          0.4213642506242049,
          0.6743198570628508,
          0.6656479537489318,
          0.6065373124800183,
          0.25201673938694813,
          0.05030904571130845,
          0.41401213743180143,
          0.7189393436873426,
          0.929605937977888,
          0.07023729970534354,
          0.24038644001958465,
          0.632063691457217,
          0.22957645221162015,
          0.3195747648987325,
          0.541666475373368,
          0.5441038434692387,
          0.40778259724468047,
          0.225862802881601,
          0.4796028398481794,
          0.324652204581544,
          0.2019367580104594,
          0.10974428746289655,
          0.49763556945229526,
          0.8090999624543773,
          0.2272057880828694,
          0.45397874065463384,
          0.0019187911166977933,
          0.29377614301111055,
          0.38409997076807334,
          0.8271701737676631,
          0.7547418326906155,
          0.36069997849644286,
          0.2192185020931785,
          0.5528882226439371,
          0.20041778808758937,
          0.9888650720711814,
          0.8152424257042555,
          0.268685081062804,
          0.06431056149944225,
          0.6603049664873818,
          0.9327983811523727,
          0.9288223580133821,
          0.39899359519867517,
          0.05168668161792522,
          0.9340152735254715,
          0.862099704697694,
          0.9403696989535826,
          0.4790804197177635,
          0.19592031989218983,
          0.3086533524159172,
          0.22181010617622876,
          0.7582898233439308,
          0.6162874446229667,
          0.8829991970982982,
          0.5875930166320611
         ]
        }
       ],
       "layout": {
        "barmode": "overlay",
        "legend": {
         "bgcolor": "#F5F6F9",
         "font": {
          "color": "#4D5663"
         }
        },
        "paper_bgcolor": "#F5F6F9",
        "plot_bgcolor": "#F5F6F9",
        "template": {
         "data": {
          "bar": [
           {
            "error_x": {
             "color": "#2a3f5f"
            },
            "error_y": {
             "color": "#2a3f5f"
            },
            "marker": {
             "line": {
              "color": "#E5ECF6",
              "width": 0.5
             }
            },
            "type": "bar"
           }
          ],
          "barpolar": [
           {
            "marker": {
             "line": {
              "color": "#E5ECF6",
              "width": 0.5
             }
            },
            "type": "barpolar"
           }
          ],
          "carpet": [
           {
            "aaxis": {
             "endlinecolor": "#2a3f5f",
             "gridcolor": "white",
             "linecolor": "white",
             "minorgridcolor": "white",
             "startlinecolor": "#2a3f5f"
            },
            "baxis": {
             "endlinecolor": "#2a3f5f",
             "gridcolor": "white",
             "linecolor": "white",
             "minorgridcolor": "white",
             "startlinecolor": "#2a3f5f"
            },
            "type": "carpet"
           }
          ],
          "choropleth": [
           {
            "colorbar": {
             "outlinewidth": 0,
             "ticks": ""
            },
            "type": "choropleth"
           }
          ],
          "contour": [
           {
            "colorbar": {
             "outlinewidth": 0,
             "ticks": ""
            },
            "colorscale": [
             [
              0,
              "#0d0887"
             ],
             [
              0.1111111111111111,
              "#46039f"
             ],
             [
              0.2222222222222222,
              "#7201a8"
             ],
             [
              0.3333333333333333,
              "#9c179e"
             ],
             [
              0.4444444444444444,
              "#bd3786"
             ],
             [
              0.5555555555555556,
              "#d8576b"
             ],
             [
              0.6666666666666666,
              "#ed7953"
             ],
             [
              0.7777777777777778,
              "#fb9f3a"
             ],
             [
              0.8888888888888888,
              "#fdca26"
             ],
             [
              1,
              "#f0f921"
             ]
            ],
            "type": "contour"
           }
          ],
          "contourcarpet": [
           {
            "colorbar": {
             "outlinewidth": 0,
             "ticks": ""
            },
            "type": "contourcarpet"
           }
          ],
          "heatmap": [
           {
            "colorbar": {
             "outlinewidth": 0,
             "ticks": ""
            },
            "colorscale": [
             [
              0,
              "#0d0887"
             ],
             [
              0.1111111111111111,
              "#46039f"
             ],
             [
              0.2222222222222222,
              "#7201a8"
             ],
             [
              0.3333333333333333,
              "#9c179e"
             ],
             [
              0.4444444444444444,
              "#bd3786"
             ],
             [
              0.5555555555555556,
              "#d8576b"
             ],
             [
              0.6666666666666666,
              "#ed7953"
             ],
             [
              0.7777777777777778,
              "#fb9f3a"
             ],
             [
              0.8888888888888888,
              "#fdca26"
             ],
             [
              1,
              "#f0f921"
             ]
            ],
            "type": "heatmap"
           }
          ],
          "heatmapgl": [
           {
            "colorbar": {
             "outlinewidth": 0,
             "ticks": ""
            },
            "colorscale": [
             [
              0,
              "#0d0887"
             ],
             [
              0.1111111111111111,
              "#46039f"
             ],
             [
              0.2222222222222222,
              "#7201a8"
             ],
             [
              0.3333333333333333,
              "#9c179e"
             ],
             [
              0.4444444444444444,
              "#bd3786"
             ],
             [
              0.5555555555555556,
              "#d8576b"
             ],
             [
              0.6666666666666666,
              "#ed7953"
             ],
             [
              0.7777777777777778,
              "#fb9f3a"
             ],
             [
              0.8888888888888888,
              "#fdca26"
             ],
             [
              1,
              "#f0f921"
             ]
            ],
            "type": "heatmapgl"
           }
          ],
          "histogram": [
           {
            "marker": {
             "colorbar": {
              "outlinewidth": 0,
              "ticks": ""
             }
            },
            "type": "histogram"
           }
          ],
          "histogram2d": [
           {
            "colorbar": {
             "outlinewidth": 0,
             "ticks": ""
            },
            "colorscale": [
             [
              0,
              "#0d0887"
             ],
             [
              0.1111111111111111,
              "#46039f"
             ],
             [
              0.2222222222222222,
              "#7201a8"
             ],
             [
              0.3333333333333333,
              "#9c179e"
             ],
             [
              0.4444444444444444,
              "#bd3786"
             ],
             [
              0.5555555555555556,
              "#d8576b"
             ],
             [
              0.6666666666666666,
              "#ed7953"
             ],
             [
              0.7777777777777778,
              "#fb9f3a"
             ],
             [
              0.8888888888888888,
              "#fdca26"
             ],
             [
              1,
              "#f0f921"
             ]
            ],
            "type": "histogram2d"
           }
          ],
          "histogram2dcontour": [
           {
            "colorbar": {
             "outlinewidth": 0,
             "ticks": ""
            },
            "colorscale": [
             [
              0,
              "#0d0887"
             ],
             [
              0.1111111111111111,
              "#46039f"
             ],
             [
              0.2222222222222222,
              "#7201a8"
             ],
             [
              0.3333333333333333,
              "#9c179e"
             ],
             [
              0.4444444444444444,
              "#bd3786"
             ],
             [
              0.5555555555555556,
              "#d8576b"
             ],
             [
              0.6666666666666666,
              "#ed7953"
             ],
             [
              0.7777777777777778,
              "#fb9f3a"
             ],
             [
              0.8888888888888888,
              "#fdca26"
             ],
             [
              1,
              "#f0f921"
             ]
            ],
            "type": "histogram2dcontour"
           }
          ],
          "mesh3d": [
           {
            "colorbar": {
             "outlinewidth": 0,
             "ticks": ""
            },
            "type": "mesh3d"
           }
          ],
          "parcoords": [
           {
            "line": {
             "colorbar": {
              "outlinewidth": 0,
              "ticks": ""
             }
            },
            "type": "parcoords"
           }
          ],
          "pie": [
           {
            "automargin": true,
            "type": "pie"
           }
          ],
          "scatter": [
           {
            "marker": {
             "colorbar": {
              "outlinewidth": 0,
              "ticks": ""
             }
            },
            "type": "scatter"
           }
          ],
          "scatter3d": [
           {
            "line": {
             "colorbar": {
              "outlinewidth": 0,
              "ticks": ""
             }
            },
            "marker": {
             "colorbar": {
              "outlinewidth": 0,
              "ticks": ""
             }
            },
            "type": "scatter3d"
           }
          ],
          "scattercarpet": [
           {
            "marker": {
             "colorbar": {
              "outlinewidth": 0,
              "ticks": ""
             }
            },
            "type": "scattercarpet"
           }
          ],
          "scattergeo": [
           {
            "marker": {
             "colorbar": {
              "outlinewidth": 0,
              "ticks": ""
             }
            },
            "type": "scattergeo"
           }
          ],
          "scattergl": [
           {
            "marker": {
             "colorbar": {
              "outlinewidth": 0,
              "ticks": ""
             }
            },
            "type": "scattergl"
           }
          ],
          "scattermapbox": [
           {
            "marker": {
             "colorbar": {
              "outlinewidth": 0,
              "ticks": ""
             }
            },
            "type": "scattermapbox"
           }
          ],
          "scatterpolar": [
           {
            "marker": {
             "colorbar": {
              "outlinewidth": 0,
              "ticks": ""
             }
            },
            "type": "scatterpolar"
           }
          ],
          "scatterpolargl": [
           {
            "marker": {
             "colorbar": {
              "outlinewidth": 0,
              "ticks": ""
             }
            },
            "type": "scatterpolargl"
           }
          ],
          "scatterternary": [
           {
            "marker": {
             "colorbar": {
              "outlinewidth": 0,
              "ticks": ""
             }
            },
            "type": "scatterternary"
           }
          ],
          "surface": [
           {
            "colorbar": {
             "outlinewidth": 0,
             "ticks": ""
            },
            "colorscale": [
             [
              0,
              "#0d0887"
             ],
             [
              0.1111111111111111,
              "#46039f"
             ],
             [
              0.2222222222222222,
              "#7201a8"
             ],
             [
              0.3333333333333333,
              "#9c179e"
             ],
             [
              0.4444444444444444,
              "#bd3786"
             ],
             [
              0.5555555555555556,
              "#d8576b"
             ],
             [
              0.6666666666666666,
              "#ed7953"
             ],
             [
              0.7777777777777778,
              "#fb9f3a"
             ],
             [
              0.8888888888888888,
              "#fdca26"
             ],
             [
              1,
              "#f0f921"
             ]
            ],
            "type": "surface"
           }
          ],
          "table": [
           {
            "cells": {
             "fill": {
              "color": "#EBF0F8"
             },
             "line": {
              "color": "white"
             }
            },
            "header": {
             "fill": {
              "color": "#C8D4E3"
             },
             "line": {
              "color": "white"
             }
            },
            "type": "table"
           }
          ]
         },
         "layout": {
          "annotationdefaults": {
           "arrowcolor": "#2a3f5f",
           "arrowhead": 0,
           "arrowwidth": 1
          },
          "coloraxis": {
           "colorbar": {
            "outlinewidth": 0,
            "ticks": ""
           }
          },
          "colorscale": {
           "diverging": [
            [
             0,
             "#8e0152"
            ],
            [
             0.1,
             "#c51b7d"
            ],
            [
             0.2,
             "#de77ae"
            ],
            [
             0.3,
             "#f1b6da"
            ],
            [
             0.4,
             "#fde0ef"
            ],
            [
             0.5,
             "#f7f7f7"
            ],
            [
             0.6,
             "#e6f5d0"
            ],
            [
             0.7,
             "#b8e186"
            ],
            [
             0.8,
             "#7fbc41"
            ],
            [
             0.9,
             "#4d9221"
            ],
            [
             1,
             "#276419"
            ]
           ],
           "sequential": [
            [
             0,
             "#0d0887"
            ],
            [
             0.1111111111111111,
             "#46039f"
            ],
            [
             0.2222222222222222,
             "#7201a8"
            ],
            [
             0.3333333333333333,
             "#9c179e"
            ],
            [
             0.4444444444444444,
             "#bd3786"
            ],
            [
             0.5555555555555556,
             "#d8576b"
            ],
            [
             0.6666666666666666,
             "#ed7953"
            ],
            [
             0.7777777777777778,
             "#fb9f3a"
            ],
            [
             0.8888888888888888,
             "#fdca26"
            ],
            [
             1,
             "#f0f921"
            ]
           ],
           "sequentialminus": [
            [
             0,
             "#0d0887"
            ],
            [
             0.1111111111111111,
             "#46039f"
            ],
            [
             0.2222222222222222,
             "#7201a8"
            ],
            [
             0.3333333333333333,
             "#9c179e"
            ],
            [
             0.4444444444444444,
             "#bd3786"
            ],
            [
             0.5555555555555556,
             "#d8576b"
            ],
            [
             0.6666666666666666,
             "#ed7953"
            ],
            [
             0.7777777777777778,
             "#fb9f3a"
            ],
            [
             0.8888888888888888,
             "#fdca26"
            ],
            [
             1,
             "#f0f921"
            ]
           ]
          },
          "colorway": [
           "#636efa",
           "#EF553B",
           "#00cc96",
           "#ab63fa",
           "#FFA15A",
           "#19d3f3",
           "#FF6692",
           "#B6E880",
           "#FF97FF",
           "#FECB52"
          ],
          "font": {
           "color": "#2a3f5f"
          },
          "geo": {
           "bgcolor": "white",
           "lakecolor": "white",
           "landcolor": "#E5ECF6",
           "showlakes": true,
           "showland": true,
           "subunitcolor": "white"
          },
          "hoverlabel": {
           "align": "left"
          },
          "hovermode": "closest",
          "mapbox": {
           "style": "light"
          },
          "paper_bgcolor": "white",
          "plot_bgcolor": "#E5ECF6",
          "polar": {
           "angularaxis": {
            "gridcolor": "white",
            "linecolor": "white",
            "ticks": ""
           },
           "bgcolor": "#E5ECF6",
           "radialaxis": {
            "gridcolor": "white",
            "linecolor": "white",
            "ticks": ""
           }
          },
          "scene": {
           "xaxis": {
            "backgroundcolor": "#E5ECF6",
            "gridcolor": "white",
            "gridwidth": 2,
            "linecolor": "white",
            "showbackground": true,
            "ticks": "",
            "zerolinecolor": "white"
           },
           "yaxis": {
            "backgroundcolor": "#E5ECF6",
            "gridcolor": "white",
            "gridwidth": 2,
            "linecolor": "white",
            "showbackground": true,
            "ticks": "",
            "zerolinecolor": "white"
           },
           "zaxis": {
            "backgroundcolor": "#E5ECF6",
            "gridcolor": "white",
            "gridwidth": 2,
            "linecolor": "white",
            "showbackground": true,
            "ticks": "",
            "zerolinecolor": "white"
           }
          },
          "shapedefaults": {
           "line": {
            "color": "#2a3f5f"
           }
          },
          "ternary": {
           "aaxis": {
            "gridcolor": "white",
            "linecolor": "white",
            "ticks": ""
           },
           "baxis": {
            "gridcolor": "white",
            "linecolor": "white",
            "ticks": ""
           },
           "bgcolor": "#E5ECF6",
           "caxis": {
            "gridcolor": "white",
            "linecolor": "white",
            "ticks": ""
           }
          },
          "title": {
           "x": 0.05
          },
          "xaxis": {
           "automargin": true,
           "gridcolor": "white",
           "linecolor": "white",
           "ticks": "",
           "title": {
            "standoff": 15
           },
           "zerolinecolor": "white",
           "zerolinewidth": 2
          },
          "yaxis": {
           "automargin": true,
           "gridcolor": "white",
           "linecolor": "white",
           "ticks": "",
           "title": {
            "standoff": 15
           },
           "zerolinecolor": "white",
           "zerolinewidth": 2
          }
         }
        },
        "title": {
         "font": {
          "color": "#4D5663"
         }
        },
        "xaxis": {
         "gridcolor": "#E1E5ED",
         "showgrid": true,
         "tickfont": {
          "color": "#4D5663"
         },
         "title": {
          "font": {
           "color": "#4D5663"
          },
          "text": ""
         },
         "zerolinecolor": "#E1E5ED"
        },
        "yaxis": {
         "gridcolor": "#E1E5ED",
         "showgrid": true,
         "tickfont": {
          "color": "#4D5663"
         },
         "title": {
          "font": {
           "color": "#4D5663"
          },
          "text": ""
         },
         "zerolinecolor": "#E1E5ED"
        }
       }
      },
      "text/html": [
       "<div>\n",
       "        \n",
       "        \n",
       "            <div id=\"b91eda46-ca13-4f20-b6cc-8f2be749991a\" class=\"plotly-graph-div\" style=\"height:525px; width:100%;\"></div>\n",
       "            <script type=\"text/javascript\">\n",
       "                require([\"plotly\"], function(Plotly) {\n",
       "                    window.PLOTLYENV=window.PLOTLYENV || {};\n",
       "                    window.PLOTLYENV.BASE_URL='https://plot.ly';\n",
       "                    \n",
       "                if (document.getElementById(\"b91eda46-ca13-4f20-b6cc-8f2be749991a\")) {\n",
       "                    Plotly.newPlot(\n",
       "                        'b91eda46-ca13-4f20-b6cc-8f2be749991a',\n",
       "                        [{\"histfunc\": \"count\", \"histnorm\": \"\", \"marker\": {\"color\": \"rgba(255, 153, 51, 1.0)\", \"line\": {\"color\": \"#4D5663\", \"width\": 1.3}}, \"name\": \"A\", \"opacity\": 0.8, \"orientation\": \"v\", \"type\": \"histogram\", \"x\": [0.932905871818665, 0.7990174600691328, 0.6578805504982351, 0.42756675450495063, 0.17016560945553538, 0.9055605402234296, 0.28956721012351794, 0.9526365568361495, 0.4704206036221772, 0.15226207946635395, 0.6033907891545828, 0.25099507114325215, 0.005340848698156209, 0.06533954296997113, 0.2733035065352758, 0.7569540823349571, 0.8287187216757339, 0.9828434948732078, 0.8112812748144534, 0.11076655847239603, 0.8427519466173623, 0.48859212569623023, 0.14388465522460525, 0.7539262751473198, 0.44536556957401285, 0.6697446611280005, 0.22529636723346758, 0.1161697303217627, 0.17033135947771694, 0.8325617982448972, 0.5472341085707088, 0.9669549164451002, 0.2475954496771967, 0.7497201100591544, 0.9614999013831749, 0.9396975077487425, 0.7886648046959303, 0.32590228659881226, 0.10777157469033649, 0.9978991786775343, 0.2858415228843155, 0.6851206557024384, 0.38805256481020434, 0.66109234467044, 0.8860133534619254, 0.4213642506242049, 0.6743198570628508, 0.6656479537489318, 0.6065373124800183, 0.25201673938694813, 0.05030904571130845, 0.41401213743180143, 0.7189393436873426, 0.929605937977888, 0.07023729970534354, 0.24038644001958465, 0.632063691457217, 0.22957645221162015, 0.3195747648987325, 0.541666475373368, 0.5441038434692387, 0.40778259724468047, 0.225862802881601, 0.4796028398481794, 0.324652204581544, 0.2019367580104594, 0.10974428746289655, 0.49763556945229526, 0.8090999624543773, 0.2272057880828694, 0.45397874065463384, 0.0019187911166977933, 0.29377614301111055, 0.38409997076807334, 0.8271701737676631, 0.7547418326906155, 0.36069997849644286, 0.2192185020931785, 0.5528882226439371, 0.20041778808758937, 0.9888650720711814, 0.8152424257042555, 0.268685081062804, 0.06431056149944225, 0.6603049664873818, 0.9327983811523727, 0.9288223580133821, 0.39899359519867517, 0.05168668161792522, 0.9340152735254715, 0.862099704697694, 0.9403696989535826, 0.4790804197177635, 0.19592031989218983, 0.3086533524159172, 0.22181010617622876, 0.7582898233439308, 0.6162874446229667, 0.8829991970982982, 0.5875930166320611]}],\n",
       "                        {\"barmode\": \"overlay\", \"legend\": {\"bgcolor\": \"#F5F6F9\", \"font\": {\"color\": \"#4D5663\"}}, \"paper_bgcolor\": \"#F5F6F9\", \"plot_bgcolor\": \"#F5F6F9\", \"template\": {\"data\": {\"bar\": [{\"error_x\": {\"color\": \"#2a3f5f\"}, \"error_y\": {\"color\": \"#2a3f5f\"}, \"marker\": {\"line\": {\"color\": \"#E5ECF6\", \"width\": 0.5}}, \"type\": \"bar\"}], \"barpolar\": [{\"marker\": {\"line\": {\"color\": \"#E5ECF6\", \"width\": 0.5}}, \"type\": \"barpolar\"}], \"carpet\": [{\"aaxis\": {\"endlinecolor\": \"#2a3f5f\", \"gridcolor\": \"white\", \"linecolor\": \"white\", \"minorgridcolor\": \"white\", \"startlinecolor\": \"#2a3f5f\"}, \"baxis\": {\"endlinecolor\": \"#2a3f5f\", \"gridcolor\": \"white\", \"linecolor\": \"white\", \"minorgridcolor\": \"white\", \"startlinecolor\": \"#2a3f5f\"}, \"type\": \"carpet\"}], \"choropleth\": [{\"colorbar\": {\"outlinewidth\": 0, \"ticks\": \"\"}, \"type\": \"choropleth\"}], \"contour\": [{\"colorbar\": {\"outlinewidth\": 0, \"ticks\": \"\"}, \"colorscale\": [[0.0, \"#0d0887\"], [0.1111111111111111, \"#46039f\"], [0.2222222222222222, \"#7201a8\"], [0.3333333333333333, \"#9c179e\"], [0.4444444444444444, \"#bd3786\"], [0.5555555555555556, \"#d8576b\"], [0.6666666666666666, \"#ed7953\"], [0.7777777777777778, \"#fb9f3a\"], [0.8888888888888888, \"#fdca26\"], [1.0, \"#f0f921\"]], \"type\": \"contour\"}], \"contourcarpet\": [{\"colorbar\": {\"outlinewidth\": 0, \"ticks\": \"\"}, \"type\": \"contourcarpet\"}], \"heatmap\": [{\"colorbar\": {\"outlinewidth\": 0, \"ticks\": \"\"}, \"colorscale\": [[0.0, \"#0d0887\"], [0.1111111111111111, \"#46039f\"], [0.2222222222222222, \"#7201a8\"], [0.3333333333333333, \"#9c179e\"], [0.4444444444444444, \"#bd3786\"], [0.5555555555555556, \"#d8576b\"], [0.6666666666666666, \"#ed7953\"], [0.7777777777777778, \"#fb9f3a\"], [0.8888888888888888, \"#fdca26\"], [1.0, \"#f0f921\"]], \"type\": \"heatmap\"}], \"heatmapgl\": [{\"colorbar\": {\"outlinewidth\": 0, \"ticks\": \"\"}, \"colorscale\": [[0.0, \"#0d0887\"], [0.1111111111111111, \"#46039f\"], [0.2222222222222222, \"#7201a8\"], [0.3333333333333333, \"#9c179e\"], [0.4444444444444444, \"#bd3786\"], [0.5555555555555556, \"#d8576b\"], [0.6666666666666666, \"#ed7953\"], [0.7777777777777778, \"#fb9f3a\"], [0.8888888888888888, \"#fdca26\"], [1.0, \"#f0f921\"]], \"type\": \"heatmapgl\"}], \"histogram\": [{\"marker\": {\"colorbar\": {\"outlinewidth\": 0, \"ticks\": \"\"}}, \"type\": \"histogram\"}], \"histogram2d\": [{\"colorbar\": {\"outlinewidth\": 0, \"ticks\": \"\"}, \"colorscale\": [[0.0, \"#0d0887\"], [0.1111111111111111, \"#46039f\"], [0.2222222222222222, \"#7201a8\"], [0.3333333333333333, \"#9c179e\"], [0.4444444444444444, \"#bd3786\"], [0.5555555555555556, \"#d8576b\"], [0.6666666666666666, \"#ed7953\"], [0.7777777777777778, \"#fb9f3a\"], [0.8888888888888888, \"#fdca26\"], [1.0, \"#f0f921\"]], \"type\": \"histogram2d\"}], \"histogram2dcontour\": [{\"colorbar\": {\"outlinewidth\": 0, \"ticks\": \"\"}, \"colorscale\": [[0.0, \"#0d0887\"], [0.1111111111111111, \"#46039f\"], [0.2222222222222222, \"#7201a8\"], [0.3333333333333333, \"#9c179e\"], [0.4444444444444444, \"#bd3786\"], [0.5555555555555556, \"#d8576b\"], [0.6666666666666666, \"#ed7953\"], [0.7777777777777778, \"#fb9f3a\"], [0.8888888888888888, \"#fdca26\"], [1.0, \"#f0f921\"]], \"type\": \"histogram2dcontour\"}], \"mesh3d\": [{\"colorbar\": {\"outlinewidth\": 0, \"ticks\": \"\"}, \"type\": \"mesh3d\"}], \"parcoords\": [{\"line\": {\"colorbar\": {\"outlinewidth\": 0, \"ticks\": \"\"}}, \"type\": \"parcoords\"}], \"pie\": [{\"automargin\": true, \"type\": \"pie\"}], \"scatter\": [{\"marker\": {\"colorbar\": {\"outlinewidth\": 0, \"ticks\": \"\"}}, \"type\": \"scatter\"}], \"scatter3d\": [{\"line\": {\"colorbar\": {\"outlinewidth\": 0, \"ticks\": \"\"}}, \"marker\": {\"colorbar\": {\"outlinewidth\": 0, \"ticks\": \"\"}}, \"type\": \"scatter3d\"}], \"scattercarpet\": [{\"marker\": {\"colorbar\": {\"outlinewidth\": 0, \"ticks\": \"\"}}, \"type\": \"scattercarpet\"}], \"scattergeo\": [{\"marker\": {\"colorbar\": {\"outlinewidth\": 0, \"ticks\": \"\"}}, \"type\": \"scattergeo\"}], \"scattergl\": [{\"marker\": {\"colorbar\": {\"outlinewidth\": 0, \"ticks\": \"\"}}, \"type\": \"scattergl\"}], \"scattermapbox\": [{\"marker\": {\"colorbar\": {\"outlinewidth\": 0, \"ticks\": \"\"}}, \"type\": \"scattermapbox\"}], \"scatterpolar\": [{\"marker\": {\"colorbar\": {\"outlinewidth\": 0, \"ticks\": \"\"}}, \"type\": \"scatterpolar\"}], \"scatterpolargl\": [{\"marker\": {\"colorbar\": {\"outlinewidth\": 0, \"ticks\": \"\"}}, \"type\": \"scatterpolargl\"}], \"scatterternary\": [{\"marker\": {\"colorbar\": {\"outlinewidth\": 0, \"ticks\": \"\"}}, \"type\": \"scatterternary\"}], \"surface\": [{\"colorbar\": {\"outlinewidth\": 0, \"ticks\": \"\"}, \"colorscale\": [[0.0, \"#0d0887\"], [0.1111111111111111, \"#46039f\"], [0.2222222222222222, \"#7201a8\"], [0.3333333333333333, \"#9c179e\"], [0.4444444444444444, \"#bd3786\"], [0.5555555555555556, \"#d8576b\"], [0.6666666666666666, \"#ed7953\"], [0.7777777777777778, \"#fb9f3a\"], [0.8888888888888888, \"#fdca26\"], [1.0, \"#f0f921\"]], \"type\": \"surface\"}], \"table\": [{\"cells\": {\"fill\": {\"color\": \"#EBF0F8\"}, \"line\": {\"color\": \"white\"}}, \"header\": {\"fill\": {\"color\": \"#C8D4E3\"}, \"line\": {\"color\": \"white\"}}, \"type\": \"table\"}]}, \"layout\": {\"annotationdefaults\": {\"arrowcolor\": \"#2a3f5f\", \"arrowhead\": 0, \"arrowwidth\": 1}, \"coloraxis\": {\"colorbar\": {\"outlinewidth\": 0, \"ticks\": \"\"}}, \"colorscale\": {\"diverging\": [[0, \"#8e0152\"], [0.1, \"#c51b7d\"], [0.2, \"#de77ae\"], [0.3, \"#f1b6da\"], [0.4, \"#fde0ef\"], [0.5, \"#f7f7f7\"], [0.6, \"#e6f5d0\"], [0.7, \"#b8e186\"], [0.8, \"#7fbc41\"], [0.9, \"#4d9221\"], [1, \"#276419\"]], \"sequential\": [[0.0, \"#0d0887\"], [0.1111111111111111, \"#46039f\"], [0.2222222222222222, \"#7201a8\"], [0.3333333333333333, \"#9c179e\"], [0.4444444444444444, \"#bd3786\"], [0.5555555555555556, \"#d8576b\"], [0.6666666666666666, \"#ed7953\"], [0.7777777777777778, \"#fb9f3a\"], [0.8888888888888888, \"#fdca26\"], [1.0, \"#f0f921\"]], \"sequentialminus\": [[0.0, \"#0d0887\"], [0.1111111111111111, \"#46039f\"], [0.2222222222222222, \"#7201a8\"], [0.3333333333333333, \"#9c179e\"], [0.4444444444444444, \"#bd3786\"], [0.5555555555555556, \"#d8576b\"], [0.6666666666666666, \"#ed7953\"], [0.7777777777777778, \"#fb9f3a\"], [0.8888888888888888, \"#fdca26\"], [1.0, \"#f0f921\"]]}, \"colorway\": [\"#636efa\", \"#EF553B\", \"#00cc96\", \"#ab63fa\", \"#FFA15A\", \"#19d3f3\", \"#FF6692\", \"#B6E880\", \"#FF97FF\", \"#FECB52\"], \"font\": {\"color\": \"#2a3f5f\"}, \"geo\": {\"bgcolor\": \"white\", \"lakecolor\": \"white\", \"landcolor\": \"#E5ECF6\", \"showlakes\": true, \"showland\": true, \"subunitcolor\": \"white\"}, \"hoverlabel\": {\"align\": \"left\"}, \"hovermode\": \"closest\", \"mapbox\": {\"style\": \"light\"}, \"paper_bgcolor\": \"white\", \"plot_bgcolor\": \"#E5ECF6\", \"polar\": {\"angularaxis\": {\"gridcolor\": \"white\", \"linecolor\": \"white\", \"ticks\": \"\"}, \"bgcolor\": \"#E5ECF6\", \"radialaxis\": {\"gridcolor\": \"white\", \"linecolor\": \"white\", \"ticks\": \"\"}}, \"scene\": {\"xaxis\": {\"backgroundcolor\": \"#E5ECF6\", \"gridcolor\": \"white\", \"gridwidth\": 2, \"linecolor\": \"white\", \"showbackground\": true, \"ticks\": \"\", \"zerolinecolor\": \"white\"}, \"yaxis\": {\"backgroundcolor\": \"#E5ECF6\", \"gridcolor\": \"white\", \"gridwidth\": 2, \"linecolor\": \"white\", \"showbackground\": true, \"ticks\": \"\", \"zerolinecolor\": \"white\"}, \"zaxis\": {\"backgroundcolor\": \"#E5ECF6\", \"gridcolor\": \"white\", \"gridwidth\": 2, \"linecolor\": \"white\", \"showbackground\": true, \"ticks\": \"\", \"zerolinecolor\": \"white\"}}, \"shapedefaults\": {\"line\": {\"color\": \"#2a3f5f\"}}, \"ternary\": {\"aaxis\": {\"gridcolor\": \"white\", \"linecolor\": \"white\", \"ticks\": \"\"}, \"baxis\": {\"gridcolor\": \"white\", \"linecolor\": \"white\", \"ticks\": \"\"}, \"bgcolor\": \"#E5ECF6\", \"caxis\": {\"gridcolor\": \"white\", \"linecolor\": \"white\", \"ticks\": \"\"}}, \"title\": {\"x\": 0.05}, \"xaxis\": {\"automargin\": true, \"gridcolor\": \"white\", \"linecolor\": \"white\", \"ticks\": \"\", \"title\": {\"standoff\": 15}, \"zerolinecolor\": \"white\", \"zerolinewidth\": 2}, \"yaxis\": {\"automargin\": true, \"gridcolor\": \"white\", \"linecolor\": \"white\", \"ticks\": \"\", \"title\": {\"standoff\": 15}, \"zerolinecolor\": \"white\", \"zerolinewidth\": 2}}}, \"title\": {\"font\": {\"color\": \"#4D5663\"}}, \"xaxis\": {\"gridcolor\": \"#E1E5ED\", \"showgrid\": true, \"tickfont\": {\"color\": \"#4D5663\"}, \"title\": {\"font\": {\"color\": \"#4D5663\"}, \"text\": \"\"}, \"zerolinecolor\": \"#E1E5ED\"}, \"yaxis\": {\"gridcolor\": \"#E1E5ED\", \"showgrid\": true, \"tickfont\": {\"color\": \"#4D5663\"}, \"title\": {\"font\": {\"color\": \"#4D5663\"}, \"text\": \"\"}, \"zerolinecolor\": \"#E1E5ED\"}},\n",
       "                        {\"showLink\": true, \"linkText\": \"Export to plot.ly\", \"plotlyServerURL\": \"https://plot.ly\", \"responsive\": true}\n",
       "                    ).then(function(){\n",
       "                            \n",
       "var gd = document.getElementById('b91eda46-ca13-4f20-b6cc-8f2be749991a');\n",
       "var x = new MutationObserver(function (mutations, observer) {{\n",
       "        var display = window.getComputedStyle(gd).display;\n",
       "        if (!display || display === 'none') {{\n",
       "            console.log([gd, 'removed!']);\n",
       "            Plotly.purge(gd);\n",
       "            observer.disconnect();\n",
       "        }}\n",
       "}});\n",
       "\n",
       "// Listen for the removal of the full notebook cells\n",
       "var notebookContainer = gd.closest('#notebook-container');\n",
       "if (notebookContainer) {{\n",
       "    x.observe(notebookContainer, {childList: true});\n",
       "}}\n",
       "\n",
       "// Listen for the clearing of the current output cell\n",
       "var outputEl = gd.closest('.output');\n",
       "if (outputEl) {{\n",
       "    x.observe(outputEl, {childList: true});\n",
       "}}\n",
       "\n",
       "                        })\n",
       "                };\n",
       "                });\n",
       "            </script>\n",
       "        </div>"
      ]
     },
     "metadata": {},
     "output_type": "display_data"
    }
   ],
   "source": [
    "df['A'].iplot(kind='hist')"
   ]
  },
  {
   "cell_type": "markdown",
   "metadata": {},
   "source": [
    "- buble: grafico de dispersão"
   ]
  },
  {
   "cell_type": "code",
   "execution_count": 29,
   "metadata": {},
   "outputs": [
    {
     "data": {
      "application/vnd.plotly.v1+json": {
       "config": {
        "linkText": "Export to plot.ly",
        "plotlyServerURL": "https://plot.ly",
        "showLink": true
       },
       "data": [
        {
         "marker": {
          "color": [
           "rgb(255, 153, 51)",
           "rgb(55, 128, 191)",
           "rgb(50, 171, 96)",
           "rgb(128, 0, 128)",
           "rgb(219, 64, 82)",
           "rgb(0, 128, 128)",
           "rgb(255, 255, 51)",
           "rgb(128, 128, 0)",
           "rgb(251, 128, 114)",
           "rgb(128, 177, 211)"
          ],
          "line": {
           "width": 1.3
          },
          "size": [
           33,
           83,
           21,
           106,
           44,
           28,
           62,
           89,
           106,
           79,
           45,
           17,
           61,
           96,
           15,
           69,
           83,
           102,
           69,
           87,
           108,
           42,
           109,
           19,
           60,
           108,
           86,
           31,
           32,
           66,
           41,
           15,
           73,
           68,
           109,
           35,
           106,
           54,
           89,
           93,
           28,
           99,
           103,
           19,
           86,
           110,
           77,
           111,
           57,
           26,
           62,
           83,
           72,
           83,
           31,
           75,
           51,
           67,
           18,
           64,
           67,
           96,
           37,
           100,
           75,
           22,
           68,
           60,
           41,
           61,
           30,
           33,
           28,
           30,
           112,
           26,
           18,
           93,
           45,
           62,
           98,
           27,
           74,
           66,
           21,
           18,
           12,
           86,
           20,
           56,
           85,
           64,
           97,
           69,
           66,
           105,
           61,
           54,
           70,
           107
          ],
          "symbol": "circle"
         },
         "mode": "markers",
         "text": "",
         "type": "scatter",
         "x": [
          0.932905871818665,
          0.7990174600691328,
          0.6578805504982351,
          0.42756675450495063,
          0.17016560945553538,
          0.9055605402234296,
          0.28956721012351794,
          0.9526365568361495,
          0.4704206036221772,
          0.15226207946635395,
          0.6033907891545828,
          0.25099507114325215,
          0.005340848698156209,
          0.06533954296997113,
          0.2733035065352758,
          0.7569540823349571,
          0.8287187216757339,
          0.9828434948732078,
          0.8112812748144534,
          0.11076655847239603,
          0.8427519466173623,
          0.48859212569623023,
          0.14388465522460525,
          0.7539262751473198,
          0.44536556957401285,
          0.6697446611280005,
          0.22529636723346758,
          0.1161697303217627,
          0.17033135947771694,
          0.8325617982448972,
          0.5472341085707088,
          0.9669549164451002,
          0.2475954496771967,
          0.7497201100591544,
          0.9614999013831749,
          0.9396975077487425,
          0.7886648046959303,
          0.32590228659881226,
          0.10777157469033649,
          0.9978991786775343,
          0.2858415228843155,
          0.6851206557024384,
          0.38805256481020434,
          0.66109234467044,
          0.8860133534619254,
          0.4213642506242049,
          0.6743198570628508,
          0.6656479537489318,
          0.6065373124800183,
          0.25201673938694813,
          0.05030904571130845,
          0.41401213743180143,
          0.7189393436873426,
          0.929605937977888,
          0.07023729970534354,
          0.24038644001958465,
          0.632063691457217,
          0.22957645221162015,
          0.3195747648987325,
          0.541666475373368,
          0.5441038434692387,
          0.40778259724468047,
          0.225862802881601,
          0.4796028398481794,
          0.324652204581544,
          0.2019367580104594,
          0.10974428746289655,
          0.49763556945229526,
          0.8090999624543773,
          0.2272057880828694,
          0.45397874065463384,
          0.0019187911166977933,
          0.29377614301111055,
          0.38409997076807334,
          0.8271701737676631,
          0.7547418326906155,
          0.36069997849644286,
          0.2192185020931785,
          0.5528882226439371,
          0.20041778808758937,
          0.9888650720711814,
          0.8152424257042555,
          0.268685081062804,
          0.06431056149944225,
          0.6603049664873818,
          0.9327983811523727,
          0.9288223580133821,
          0.39899359519867517,
          0.05168668161792522,
          0.9340152735254715,
          0.862099704697694,
          0.9403696989535826,
          0.4790804197177635,
          0.19592031989218983,
          0.3086533524159172,
          0.22181010617622876,
          0.7582898233439308,
          0.6162874446229667,
          0.8829991970982982,
          0.5875930166320611
         ],
         "y": [
          0.1420989997204274,
          0.16272302776698333,
          0.5510418624633832,
          0.7810968428085451,
          0.974301807852817,
          0.6471915985690905,
          0.21234414860461104,
          0.9076787921118685,
          0.5664836023015972,
          0.7700135430908135,
          0.5253479398485718,
          0.5241714927399055,
          0.4301101655038079,
          0.8199434200022369,
          0.8127534054878676,
          0.047738991932165464,
          0.5349971488824744,
          0.5882683336930767,
          0.5135454203297177,
          0.04071727445935902,
          0.7200244546048392,
          0.8900719747838537,
          0.9865349592432118,
          0.4371129801660866,
          0.3243903451602598,
          0.5076790757069931,
          0.8525163039447864,
          0.566288953632173,
          0.1654817274784377,
          0.29662449110709144,
          0.3477905086317059,
          0.5059376256724428,
          0.6325085839762339,
          0.1448234277272753,
          0.7470284948374725,
          0.29546772497391927,
          0.3552949972380134,
          0.6366411169592828,
          0.4697823842392852,
          0.5319954083505593,
          0.9933995867373235,
          0.9070847709211363,
          0.6667901671187938,
          0.26101265540922325,
          0.330798623844741,
          0.2379799719882747,
          0.7825867856735038,
          0.20795006027228824,
          0.7311397165709611,
          0.48004107134623486,
          0.8661826114431671,
          0.8806199971587744,
          0.9106636500545815,
          0.12768512772204432,
          0.058033915607826,
          0.12820324272821748,
          0.09909743280436667,
          0.4903313130260817,
          0.6367265819917569,
          0.8636576164807224,
          0.33879757104565233,
          0.6733604397968099,
          0.9166751994743604,
          0.8253133157026932,
          0.6193553471911393,
          0.899112078299836,
          0.9577354173244566,
          0.55673671056099,
          0.2887334137560843,
          0.5571212721073879,
          0.19238618294946197,
          0.39814105892230056,
          0.011906309498581402,
          0.15563058187450685,
          0.16007112287112124,
          0.08737201724425192,
          0.43020181136608315,
          0.44598215676077313,
          0.8596018665391401,
          0.012053338547065806,
          0.8455576896774778,
          0.34822730875600516,
          0.5849194869804503,
          0.7212007626939569,
          0.4279290374816803,
          0.2493311030777,
          0.13133372297632728,
          0.32764216948557945,
          0.7019104372779333,
          0.37703502274650014,
          0.2779812489593061,
          0.909981378748785,
          0.5605431426633933,
          0.26479676439354294,
          0.02176661782524547,
          0.7235964641179009,
          0.7164017718719706,
          0.28682585808982264,
          0.9860956241904728,
          0.07634445227262043
         ]
        }
       ],
       "layout": {
        "legend": {
         "bgcolor": "#F5F6F9",
         "font": {
          "color": "#4D5663"
         }
        },
        "paper_bgcolor": "#F5F6F9",
        "plot_bgcolor": "#F5F6F9",
        "template": {
         "data": {
          "bar": [
           {
            "error_x": {
             "color": "#2a3f5f"
            },
            "error_y": {
             "color": "#2a3f5f"
            },
            "marker": {
             "line": {
              "color": "#E5ECF6",
              "width": 0.5
             }
            },
            "type": "bar"
           }
          ],
          "barpolar": [
           {
            "marker": {
             "line": {
              "color": "#E5ECF6",
              "width": 0.5
             }
            },
            "type": "barpolar"
           }
          ],
          "carpet": [
           {
            "aaxis": {
             "endlinecolor": "#2a3f5f",
             "gridcolor": "white",
             "linecolor": "white",
             "minorgridcolor": "white",
             "startlinecolor": "#2a3f5f"
            },
            "baxis": {
             "endlinecolor": "#2a3f5f",
             "gridcolor": "white",
             "linecolor": "white",
             "minorgridcolor": "white",
             "startlinecolor": "#2a3f5f"
            },
            "type": "carpet"
           }
          ],
          "choropleth": [
           {
            "colorbar": {
             "outlinewidth": 0,
             "ticks": ""
            },
            "type": "choropleth"
           }
          ],
          "contour": [
           {
            "colorbar": {
             "outlinewidth": 0,
             "ticks": ""
            },
            "colorscale": [
             [
              0,
              "#0d0887"
             ],
             [
              0.1111111111111111,
              "#46039f"
             ],
             [
              0.2222222222222222,
              "#7201a8"
             ],
             [
              0.3333333333333333,
              "#9c179e"
             ],
             [
              0.4444444444444444,
              "#bd3786"
             ],
             [
              0.5555555555555556,
              "#d8576b"
             ],
             [
              0.6666666666666666,
              "#ed7953"
             ],
             [
              0.7777777777777778,
              "#fb9f3a"
             ],
             [
              0.8888888888888888,
              "#fdca26"
             ],
             [
              1,
              "#f0f921"
             ]
            ],
            "type": "contour"
           }
          ],
          "contourcarpet": [
           {
            "colorbar": {
             "outlinewidth": 0,
             "ticks": ""
            },
            "type": "contourcarpet"
           }
          ],
          "heatmap": [
           {
            "colorbar": {
             "outlinewidth": 0,
             "ticks": ""
            },
            "colorscale": [
             [
              0,
              "#0d0887"
             ],
             [
              0.1111111111111111,
              "#46039f"
             ],
             [
              0.2222222222222222,
              "#7201a8"
             ],
             [
              0.3333333333333333,
              "#9c179e"
             ],
             [
              0.4444444444444444,
              "#bd3786"
             ],
             [
              0.5555555555555556,
              "#d8576b"
             ],
             [
              0.6666666666666666,
              "#ed7953"
             ],
             [
              0.7777777777777778,
              "#fb9f3a"
             ],
             [
              0.8888888888888888,
              "#fdca26"
             ],
             [
              1,
              "#f0f921"
             ]
            ],
            "type": "heatmap"
           }
          ],
          "heatmapgl": [
           {
            "colorbar": {
             "outlinewidth": 0,
             "ticks": ""
            },
            "colorscale": [
             [
              0,
              "#0d0887"
             ],
             [
              0.1111111111111111,
              "#46039f"
             ],
             [
              0.2222222222222222,
              "#7201a8"
             ],
             [
              0.3333333333333333,
              "#9c179e"
             ],
             [
              0.4444444444444444,
              "#bd3786"
             ],
             [
              0.5555555555555556,
              "#d8576b"
             ],
             [
              0.6666666666666666,
              "#ed7953"
             ],
             [
              0.7777777777777778,
              "#fb9f3a"
             ],
             [
              0.8888888888888888,
              "#fdca26"
             ],
             [
              1,
              "#f0f921"
             ]
            ],
            "type": "heatmapgl"
           }
          ],
          "histogram": [
           {
            "marker": {
             "colorbar": {
              "outlinewidth": 0,
              "ticks": ""
             }
            },
            "type": "histogram"
           }
          ],
          "histogram2d": [
           {
            "colorbar": {
             "outlinewidth": 0,
             "ticks": ""
            },
            "colorscale": [
             [
              0,
              "#0d0887"
             ],
             [
              0.1111111111111111,
              "#46039f"
             ],
             [
              0.2222222222222222,
              "#7201a8"
             ],
             [
              0.3333333333333333,
              "#9c179e"
             ],
             [
              0.4444444444444444,
              "#bd3786"
             ],
             [
              0.5555555555555556,
              "#d8576b"
             ],
             [
              0.6666666666666666,
              "#ed7953"
             ],
             [
              0.7777777777777778,
              "#fb9f3a"
             ],
             [
              0.8888888888888888,
              "#fdca26"
             ],
             [
              1,
              "#f0f921"
             ]
            ],
            "type": "histogram2d"
           }
          ],
          "histogram2dcontour": [
           {
            "colorbar": {
             "outlinewidth": 0,
             "ticks": ""
            },
            "colorscale": [
             [
              0,
              "#0d0887"
             ],
             [
              0.1111111111111111,
              "#46039f"
             ],
             [
              0.2222222222222222,
              "#7201a8"
             ],
             [
              0.3333333333333333,
              "#9c179e"
             ],
             [
              0.4444444444444444,
              "#bd3786"
             ],
             [
              0.5555555555555556,
              "#d8576b"
             ],
             [
              0.6666666666666666,
              "#ed7953"
             ],
             [
              0.7777777777777778,
              "#fb9f3a"
             ],
             [
              0.8888888888888888,
              "#fdca26"
             ],
             [
              1,
              "#f0f921"
             ]
            ],
            "type": "histogram2dcontour"
           }
          ],
          "mesh3d": [
           {
            "colorbar": {
             "outlinewidth": 0,
             "ticks": ""
            },
            "type": "mesh3d"
           }
          ],
          "parcoords": [
           {
            "line": {
             "colorbar": {
              "outlinewidth": 0,
              "ticks": ""
             }
            },
            "type": "parcoords"
           }
          ],
          "pie": [
           {
            "automargin": true,
            "type": "pie"
           }
          ],
          "scatter": [
           {
            "marker": {
             "colorbar": {
              "outlinewidth": 0,
              "ticks": ""
             }
            },
            "type": "scatter"
           }
          ],
          "scatter3d": [
           {
            "line": {
             "colorbar": {
              "outlinewidth": 0,
              "ticks": ""
             }
            },
            "marker": {
             "colorbar": {
              "outlinewidth": 0,
              "ticks": ""
             }
            },
            "type": "scatter3d"
           }
          ],
          "scattercarpet": [
           {
            "marker": {
             "colorbar": {
              "outlinewidth": 0,
              "ticks": ""
             }
            },
            "type": "scattercarpet"
           }
          ],
          "scattergeo": [
           {
            "marker": {
             "colorbar": {
              "outlinewidth": 0,
              "ticks": ""
             }
            },
            "type": "scattergeo"
           }
          ],
          "scattergl": [
           {
            "marker": {
             "colorbar": {
              "outlinewidth": 0,
              "ticks": ""
             }
            },
            "type": "scattergl"
           }
          ],
          "scattermapbox": [
           {
            "marker": {
             "colorbar": {
              "outlinewidth": 0,
              "ticks": ""
             }
            },
            "type": "scattermapbox"
           }
          ],
          "scatterpolar": [
           {
            "marker": {
             "colorbar": {
              "outlinewidth": 0,
              "ticks": ""
             }
            },
            "type": "scatterpolar"
           }
          ],
          "scatterpolargl": [
           {
            "marker": {
             "colorbar": {
              "outlinewidth": 0,
              "ticks": ""
             }
            },
            "type": "scatterpolargl"
           }
          ],
          "scatterternary": [
           {
            "marker": {
             "colorbar": {
              "outlinewidth": 0,
              "ticks": ""
             }
            },
            "type": "scatterternary"
           }
          ],
          "surface": [
           {
            "colorbar": {
             "outlinewidth": 0,
             "ticks": ""
            },
            "colorscale": [
             [
              0,
              "#0d0887"
             ],
             [
              0.1111111111111111,
              "#46039f"
             ],
             [
              0.2222222222222222,
              "#7201a8"
             ],
             [
              0.3333333333333333,
              "#9c179e"
             ],
             [
              0.4444444444444444,
              "#bd3786"
             ],
             [
              0.5555555555555556,
              "#d8576b"
             ],
             [
              0.6666666666666666,
              "#ed7953"
             ],
             [
              0.7777777777777778,
              "#fb9f3a"
             ],
             [
              0.8888888888888888,
              "#fdca26"
             ],
             [
              1,
              "#f0f921"
             ]
            ],
            "type": "surface"
           }
          ],
          "table": [
           {
            "cells": {
             "fill": {
              "color": "#EBF0F8"
             },
             "line": {
              "color": "white"
             }
            },
            "header": {
             "fill": {
              "color": "#C8D4E3"
             },
             "line": {
              "color": "white"
             }
            },
            "type": "table"
           }
          ]
         },
         "layout": {
          "annotationdefaults": {
           "arrowcolor": "#2a3f5f",
           "arrowhead": 0,
           "arrowwidth": 1
          },
          "coloraxis": {
           "colorbar": {
            "outlinewidth": 0,
            "ticks": ""
           }
          },
          "colorscale": {
           "diverging": [
            [
             0,
             "#8e0152"
            ],
            [
             0.1,
             "#c51b7d"
            ],
            [
             0.2,
             "#de77ae"
            ],
            [
             0.3,
             "#f1b6da"
            ],
            [
             0.4,
             "#fde0ef"
            ],
            [
             0.5,
             "#f7f7f7"
            ],
            [
             0.6,
             "#e6f5d0"
            ],
            [
             0.7,
             "#b8e186"
            ],
            [
             0.8,
             "#7fbc41"
            ],
            [
             0.9,
             "#4d9221"
            ],
            [
             1,
             "#276419"
            ]
           ],
           "sequential": [
            [
             0,
             "#0d0887"
            ],
            [
             0.1111111111111111,
             "#46039f"
            ],
            [
             0.2222222222222222,
             "#7201a8"
            ],
            [
             0.3333333333333333,
             "#9c179e"
            ],
            [
             0.4444444444444444,
             "#bd3786"
            ],
            [
             0.5555555555555556,
             "#d8576b"
            ],
            [
             0.6666666666666666,
             "#ed7953"
            ],
            [
             0.7777777777777778,
             "#fb9f3a"
            ],
            [
             0.8888888888888888,
             "#fdca26"
            ],
            [
             1,
             "#f0f921"
            ]
           ],
           "sequentialminus": [
            [
             0,
             "#0d0887"
            ],
            [
             0.1111111111111111,
             "#46039f"
            ],
            [
             0.2222222222222222,
             "#7201a8"
            ],
            [
             0.3333333333333333,
             "#9c179e"
            ],
            [
             0.4444444444444444,
             "#bd3786"
            ],
            [
             0.5555555555555556,
             "#d8576b"
            ],
            [
             0.6666666666666666,
             "#ed7953"
            ],
            [
             0.7777777777777778,
             "#fb9f3a"
            ],
            [
             0.8888888888888888,
             "#fdca26"
            ],
            [
             1,
             "#f0f921"
            ]
           ]
          },
          "colorway": [
           "#636efa",
           "#EF553B",
           "#00cc96",
           "#ab63fa",
           "#FFA15A",
           "#19d3f3",
           "#FF6692",
           "#B6E880",
           "#FF97FF",
           "#FECB52"
          ],
          "font": {
           "color": "#2a3f5f"
          },
          "geo": {
           "bgcolor": "white",
           "lakecolor": "white",
           "landcolor": "#E5ECF6",
           "showlakes": true,
           "showland": true,
           "subunitcolor": "white"
          },
          "hoverlabel": {
           "align": "left"
          },
          "hovermode": "closest",
          "mapbox": {
           "style": "light"
          },
          "paper_bgcolor": "white",
          "plot_bgcolor": "#E5ECF6",
          "polar": {
           "angularaxis": {
            "gridcolor": "white",
            "linecolor": "white",
            "ticks": ""
           },
           "bgcolor": "#E5ECF6",
           "radialaxis": {
            "gridcolor": "white",
            "linecolor": "white",
            "ticks": ""
           }
          },
          "scene": {
           "xaxis": {
            "backgroundcolor": "#E5ECF6",
            "gridcolor": "white",
            "gridwidth": 2,
            "linecolor": "white",
            "showbackground": true,
            "ticks": "",
            "zerolinecolor": "white"
           },
           "yaxis": {
            "backgroundcolor": "#E5ECF6",
            "gridcolor": "white",
            "gridwidth": 2,
            "linecolor": "white",
            "showbackground": true,
            "ticks": "",
            "zerolinecolor": "white"
           },
           "zaxis": {
            "backgroundcolor": "#E5ECF6",
            "gridcolor": "white",
            "gridwidth": 2,
            "linecolor": "white",
            "showbackground": true,
            "ticks": "",
            "zerolinecolor": "white"
           }
          },
          "shapedefaults": {
           "line": {
            "color": "#2a3f5f"
           }
          },
          "ternary": {
           "aaxis": {
            "gridcolor": "white",
            "linecolor": "white",
            "ticks": ""
           },
           "baxis": {
            "gridcolor": "white",
            "linecolor": "white",
            "ticks": ""
           },
           "bgcolor": "#E5ECF6",
           "caxis": {
            "gridcolor": "white",
            "linecolor": "white",
            "ticks": ""
           }
          },
          "title": {
           "x": 0.05
          },
          "xaxis": {
           "automargin": true,
           "gridcolor": "white",
           "linecolor": "white",
           "ticks": "",
           "title": {
            "standoff": 15
           },
           "zerolinecolor": "white",
           "zerolinewidth": 2
          },
          "yaxis": {
           "automargin": true,
           "gridcolor": "white",
           "linecolor": "white",
           "ticks": "",
           "title": {
            "standoff": 15
           },
           "zerolinecolor": "white",
           "zerolinewidth": 2
          }
         }
        },
        "title": {
         "font": {
          "color": "#4D5663"
         }
        },
        "xaxis": {
         "gridcolor": "#E1E5ED",
         "showgrid": true,
         "tickfont": {
          "color": "#4D5663"
         },
         "title": {
          "font": {
           "color": "#4D5663"
          },
          "text": ""
         },
         "zerolinecolor": "#E1E5ED"
        },
        "yaxis": {
         "gridcolor": "#E1E5ED",
         "showgrid": true,
         "tickfont": {
          "color": "#4D5663"
         },
         "title": {
          "font": {
           "color": "#4D5663"
          },
          "text": ""
         },
         "zerolinecolor": "#E1E5ED"
        }
       }
      },
      "text/html": [
       "<div>\n",
       "        \n",
       "        \n",
       "            <div id=\"773ab58b-b8e5-4536-9621-0023be74db16\" class=\"plotly-graph-div\" style=\"height:525px; width:100%;\"></div>\n",
       "            <script type=\"text/javascript\">\n",
       "                require([\"plotly\"], function(Plotly) {\n",
       "                    window.PLOTLYENV=window.PLOTLYENV || {};\n",
       "                    window.PLOTLYENV.BASE_URL='https://plot.ly';\n",
       "                    \n",
       "                if (document.getElementById(\"773ab58b-b8e5-4536-9621-0023be74db16\")) {\n",
       "                    Plotly.newPlot(\n",
       "                        '773ab58b-b8e5-4536-9621-0023be74db16',\n",
       "                        [{\"marker\": {\"color\": [\"rgb(255, 153, 51)\", \"rgb(55, 128, 191)\", \"rgb(50, 171, 96)\", \"rgb(128, 0, 128)\", \"rgb(219, 64, 82)\", \"rgb(0, 128, 128)\", \"rgb(255, 255, 51)\", \"rgb(128, 128, 0)\", \"rgb(251, 128, 114)\", \"rgb(128, 177, 211)\"], \"line\": {\"width\": 1.3}, \"size\": [33, 83, 21, 106, 44, 28, 62, 89, 106, 79, 45, 17, 61, 96, 15, 69, 83, 102, 69, 87, 108, 42, 109, 19, 60, 108, 86, 31, 32, 66, 41, 15, 73, 68, 109, 35, 106, 54, 89, 93, 28, 99, 103, 19, 86, 110, 77, 111, 57, 26, 62, 83, 72, 83, 31, 75, 51, 67, 18, 64, 67, 96, 37, 100, 75, 22, 68, 60, 41, 61, 30, 33, 28, 30, 112, 26, 18, 93, 45, 62, 98, 27, 74, 66, 21, 18, 12, 86, 20, 56, 85, 64, 97, 69, 66, 105, 61, 54, 70, 107], \"symbol\": \"circle\"}, \"mode\": \"markers\", \"text\": \"\", \"type\": \"scatter\", \"x\": [0.932905871818665, 0.7990174600691328, 0.6578805504982351, 0.42756675450495063, 0.17016560945553538, 0.9055605402234296, 0.28956721012351794, 0.9526365568361495, 0.4704206036221772, 0.15226207946635395, 0.6033907891545828, 0.25099507114325215, 0.005340848698156209, 0.06533954296997113, 0.2733035065352758, 0.7569540823349571, 0.8287187216757339, 0.9828434948732078, 0.8112812748144534, 0.11076655847239603, 0.8427519466173623, 0.48859212569623023, 0.14388465522460525, 0.7539262751473198, 0.44536556957401285, 0.6697446611280005, 0.22529636723346758, 0.1161697303217627, 0.17033135947771694, 0.8325617982448972, 0.5472341085707088, 0.9669549164451002, 0.2475954496771967, 0.7497201100591544, 0.9614999013831749, 0.9396975077487425, 0.7886648046959303, 0.32590228659881226, 0.10777157469033649, 0.9978991786775343, 0.2858415228843155, 0.6851206557024384, 0.38805256481020434, 0.66109234467044, 0.8860133534619254, 0.4213642506242049, 0.6743198570628508, 0.6656479537489318, 0.6065373124800183, 0.25201673938694813, 0.05030904571130845, 0.41401213743180143, 0.7189393436873426, 0.929605937977888, 0.07023729970534354, 0.24038644001958465, 0.632063691457217, 0.22957645221162015, 0.3195747648987325, 0.541666475373368, 0.5441038434692387, 0.40778259724468047, 0.225862802881601, 0.4796028398481794, 0.324652204581544, 0.2019367580104594, 0.10974428746289655, 0.49763556945229526, 0.8090999624543773, 0.2272057880828694, 0.45397874065463384, 0.0019187911166977933, 0.29377614301111055, 0.38409997076807334, 0.8271701737676631, 0.7547418326906155, 0.36069997849644286, 0.2192185020931785, 0.5528882226439371, 0.20041778808758937, 0.9888650720711814, 0.8152424257042555, 0.268685081062804, 0.06431056149944225, 0.6603049664873818, 0.9327983811523727, 0.9288223580133821, 0.39899359519867517, 0.05168668161792522, 0.9340152735254715, 0.862099704697694, 0.9403696989535826, 0.4790804197177635, 0.19592031989218983, 0.3086533524159172, 0.22181010617622876, 0.7582898233439308, 0.6162874446229667, 0.8829991970982982, 0.5875930166320611], \"y\": [0.1420989997204274, 0.16272302776698333, 0.5510418624633832, 0.7810968428085451, 0.974301807852817, 0.6471915985690905, 0.21234414860461104, 0.9076787921118685, 0.5664836023015972, 0.7700135430908135, 0.5253479398485718, 0.5241714927399055, 0.4301101655038079, 0.8199434200022369, 0.8127534054878676, 0.047738991932165464, 0.5349971488824744, 0.5882683336930767, 0.5135454203297177, 0.04071727445935902, 0.7200244546048392, 0.8900719747838537, 0.9865349592432118, 0.4371129801660866, 0.3243903451602598, 0.5076790757069931, 0.8525163039447864, 0.566288953632173, 0.1654817274784377, 0.29662449110709144, 0.3477905086317059, 0.5059376256724428, 0.6325085839762339, 0.1448234277272753, 0.7470284948374725, 0.29546772497391927, 0.3552949972380134, 0.6366411169592828, 0.4697823842392852, 0.5319954083505593, 0.9933995867373235, 0.9070847709211363, 0.6667901671187938, 0.26101265540922325, 0.330798623844741, 0.2379799719882747, 0.7825867856735038, 0.20795006027228824, 0.7311397165709611, 0.48004107134623486, 0.8661826114431671, 0.8806199971587744, 0.9106636500545815, 0.12768512772204432, 0.058033915607826, 0.12820324272821748, 0.09909743280436667, 0.4903313130260817, 0.6367265819917569, 0.8636576164807224, 0.33879757104565233, 0.6733604397968099, 0.9166751994743604, 0.8253133157026932, 0.6193553471911393, 0.899112078299836, 0.9577354173244566, 0.55673671056099, 0.2887334137560843, 0.5571212721073879, 0.19238618294946197, 0.39814105892230056, 0.011906309498581402, 0.15563058187450685, 0.16007112287112124, 0.08737201724425192, 0.43020181136608315, 0.44598215676077313, 0.8596018665391401, 0.012053338547065806, 0.8455576896774778, 0.34822730875600516, 0.5849194869804503, 0.7212007626939569, 0.4279290374816803, 0.2493311030777, 0.13133372297632728, 0.32764216948557945, 0.7019104372779333, 0.37703502274650014, 0.2779812489593061, 0.909981378748785, 0.5605431426633933, 0.26479676439354294, 0.02176661782524547, 0.7235964641179009, 0.7164017718719706, 0.28682585808982264, 0.9860956241904728, 0.07634445227262043]}],\n",
       "                        {\"legend\": {\"bgcolor\": \"#F5F6F9\", \"font\": {\"color\": \"#4D5663\"}}, \"paper_bgcolor\": \"#F5F6F9\", \"plot_bgcolor\": \"#F5F6F9\", \"template\": {\"data\": {\"bar\": [{\"error_x\": {\"color\": \"#2a3f5f\"}, \"error_y\": {\"color\": \"#2a3f5f\"}, \"marker\": {\"line\": {\"color\": \"#E5ECF6\", \"width\": 0.5}}, \"type\": \"bar\"}], \"barpolar\": [{\"marker\": {\"line\": {\"color\": \"#E5ECF6\", \"width\": 0.5}}, \"type\": \"barpolar\"}], \"carpet\": [{\"aaxis\": {\"endlinecolor\": \"#2a3f5f\", \"gridcolor\": \"white\", \"linecolor\": \"white\", \"minorgridcolor\": \"white\", \"startlinecolor\": \"#2a3f5f\"}, \"baxis\": {\"endlinecolor\": \"#2a3f5f\", \"gridcolor\": \"white\", \"linecolor\": \"white\", \"minorgridcolor\": \"white\", \"startlinecolor\": \"#2a3f5f\"}, \"type\": \"carpet\"}], \"choropleth\": [{\"colorbar\": {\"outlinewidth\": 0, \"ticks\": \"\"}, \"type\": \"choropleth\"}], \"contour\": [{\"colorbar\": {\"outlinewidth\": 0, \"ticks\": \"\"}, \"colorscale\": [[0.0, \"#0d0887\"], [0.1111111111111111, \"#46039f\"], [0.2222222222222222, \"#7201a8\"], [0.3333333333333333, \"#9c179e\"], [0.4444444444444444, \"#bd3786\"], [0.5555555555555556, \"#d8576b\"], [0.6666666666666666, \"#ed7953\"], [0.7777777777777778, \"#fb9f3a\"], [0.8888888888888888, \"#fdca26\"], [1.0, \"#f0f921\"]], \"type\": \"contour\"}], \"contourcarpet\": [{\"colorbar\": {\"outlinewidth\": 0, \"ticks\": \"\"}, \"type\": \"contourcarpet\"}], \"heatmap\": [{\"colorbar\": {\"outlinewidth\": 0, \"ticks\": \"\"}, \"colorscale\": [[0.0, \"#0d0887\"], [0.1111111111111111, \"#46039f\"], [0.2222222222222222, \"#7201a8\"], [0.3333333333333333, \"#9c179e\"], [0.4444444444444444, \"#bd3786\"], [0.5555555555555556, \"#d8576b\"], [0.6666666666666666, \"#ed7953\"], [0.7777777777777778, \"#fb9f3a\"], [0.8888888888888888, \"#fdca26\"], [1.0, \"#f0f921\"]], \"type\": \"heatmap\"}], \"heatmapgl\": [{\"colorbar\": {\"outlinewidth\": 0, \"ticks\": \"\"}, \"colorscale\": [[0.0, \"#0d0887\"], [0.1111111111111111, \"#46039f\"], [0.2222222222222222, \"#7201a8\"], [0.3333333333333333, \"#9c179e\"], [0.4444444444444444, \"#bd3786\"], [0.5555555555555556, \"#d8576b\"], [0.6666666666666666, \"#ed7953\"], [0.7777777777777778, \"#fb9f3a\"], [0.8888888888888888, \"#fdca26\"], [1.0, \"#f0f921\"]], \"type\": \"heatmapgl\"}], \"histogram\": [{\"marker\": {\"colorbar\": {\"outlinewidth\": 0, \"ticks\": \"\"}}, \"type\": \"histogram\"}], \"histogram2d\": [{\"colorbar\": {\"outlinewidth\": 0, \"ticks\": \"\"}, \"colorscale\": [[0.0, \"#0d0887\"], [0.1111111111111111, \"#46039f\"], [0.2222222222222222, \"#7201a8\"], [0.3333333333333333, \"#9c179e\"], [0.4444444444444444, \"#bd3786\"], [0.5555555555555556, \"#d8576b\"], [0.6666666666666666, \"#ed7953\"], [0.7777777777777778, \"#fb9f3a\"], [0.8888888888888888, \"#fdca26\"], [1.0, \"#f0f921\"]], \"type\": \"histogram2d\"}], \"histogram2dcontour\": [{\"colorbar\": {\"outlinewidth\": 0, \"ticks\": \"\"}, \"colorscale\": [[0.0, \"#0d0887\"], [0.1111111111111111, \"#46039f\"], [0.2222222222222222, \"#7201a8\"], [0.3333333333333333, \"#9c179e\"], [0.4444444444444444, \"#bd3786\"], [0.5555555555555556, \"#d8576b\"], [0.6666666666666666, \"#ed7953\"], [0.7777777777777778, \"#fb9f3a\"], [0.8888888888888888, \"#fdca26\"], [1.0, \"#f0f921\"]], \"type\": \"histogram2dcontour\"}], \"mesh3d\": [{\"colorbar\": {\"outlinewidth\": 0, \"ticks\": \"\"}, \"type\": \"mesh3d\"}], \"parcoords\": [{\"line\": {\"colorbar\": {\"outlinewidth\": 0, \"ticks\": \"\"}}, \"type\": \"parcoords\"}], \"pie\": [{\"automargin\": true, \"type\": \"pie\"}], \"scatter\": [{\"marker\": {\"colorbar\": {\"outlinewidth\": 0, \"ticks\": \"\"}}, \"type\": \"scatter\"}], \"scatter3d\": [{\"line\": {\"colorbar\": {\"outlinewidth\": 0, \"ticks\": \"\"}}, \"marker\": {\"colorbar\": {\"outlinewidth\": 0, \"ticks\": \"\"}}, \"type\": \"scatter3d\"}], \"scattercarpet\": [{\"marker\": {\"colorbar\": {\"outlinewidth\": 0, \"ticks\": \"\"}}, \"type\": \"scattercarpet\"}], \"scattergeo\": [{\"marker\": {\"colorbar\": {\"outlinewidth\": 0, \"ticks\": \"\"}}, \"type\": \"scattergeo\"}], \"scattergl\": [{\"marker\": {\"colorbar\": {\"outlinewidth\": 0, \"ticks\": \"\"}}, \"type\": \"scattergl\"}], \"scattermapbox\": [{\"marker\": {\"colorbar\": {\"outlinewidth\": 0, \"ticks\": \"\"}}, \"type\": \"scattermapbox\"}], \"scatterpolar\": [{\"marker\": {\"colorbar\": {\"outlinewidth\": 0, \"ticks\": \"\"}}, \"type\": \"scatterpolar\"}], \"scatterpolargl\": [{\"marker\": {\"colorbar\": {\"outlinewidth\": 0, \"ticks\": \"\"}}, \"type\": \"scatterpolargl\"}], \"scatterternary\": [{\"marker\": {\"colorbar\": {\"outlinewidth\": 0, \"ticks\": \"\"}}, \"type\": \"scatterternary\"}], \"surface\": [{\"colorbar\": {\"outlinewidth\": 0, \"ticks\": \"\"}, \"colorscale\": [[0.0, \"#0d0887\"], [0.1111111111111111, \"#46039f\"], [0.2222222222222222, \"#7201a8\"], [0.3333333333333333, \"#9c179e\"], [0.4444444444444444, \"#bd3786\"], [0.5555555555555556, \"#d8576b\"], [0.6666666666666666, \"#ed7953\"], [0.7777777777777778, \"#fb9f3a\"], [0.8888888888888888, \"#fdca26\"], [1.0, \"#f0f921\"]], \"type\": \"surface\"}], \"table\": [{\"cells\": {\"fill\": {\"color\": \"#EBF0F8\"}, \"line\": {\"color\": \"white\"}}, \"header\": {\"fill\": {\"color\": \"#C8D4E3\"}, \"line\": {\"color\": \"white\"}}, \"type\": \"table\"}]}, \"layout\": {\"annotationdefaults\": {\"arrowcolor\": \"#2a3f5f\", \"arrowhead\": 0, \"arrowwidth\": 1}, \"coloraxis\": {\"colorbar\": {\"outlinewidth\": 0, \"ticks\": \"\"}}, \"colorscale\": {\"diverging\": [[0, \"#8e0152\"], [0.1, \"#c51b7d\"], [0.2, \"#de77ae\"], [0.3, \"#f1b6da\"], [0.4, \"#fde0ef\"], [0.5, \"#f7f7f7\"], [0.6, \"#e6f5d0\"], [0.7, \"#b8e186\"], [0.8, \"#7fbc41\"], [0.9, \"#4d9221\"], [1, \"#276419\"]], \"sequential\": [[0.0, \"#0d0887\"], [0.1111111111111111, \"#46039f\"], [0.2222222222222222, \"#7201a8\"], [0.3333333333333333, \"#9c179e\"], [0.4444444444444444, \"#bd3786\"], [0.5555555555555556, \"#d8576b\"], [0.6666666666666666, \"#ed7953\"], [0.7777777777777778, \"#fb9f3a\"], [0.8888888888888888, \"#fdca26\"], [1.0, \"#f0f921\"]], \"sequentialminus\": [[0.0, \"#0d0887\"], [0.1111111111111111, \"#46039f\"], [0.2222222222222222, \"#7201a8\"], [0.3333333333333333, \"#9c179e\"], [0.4444444444444444, \"#bd3786\"], [0.5555555555555556, \"#d8576b\"], [0.6666666666666666, \"#ed7953\"], [0.7777777777777778, \"#fb9f3a\"], [0.8888888888888888, \"#fdca26\"], [1.0, \"#f0f921\"]]}, \"colorway\": [\"#636efa\", \"#EF553B\", \"#00cc96\", \"#ab63fa\", \"#FFA15A\", \"#19d3f3\", \"#FF6692\", \"#B6E880\", \"#FF97FF\", \"#FECB52\"], \"font\": {\"color\": \"#2a3f5f\"}, \"geo\": {\"bgcolor\": \"white\", \"lakecolor\": \"white\", \"landcolor\": \"#E5ECF6\", \"showlakes\": true, \"showland\": true, \"subunitcolor\": \"white\"}, \"hoverlabel\": {\"align\": \"left\"}, \"hovermode\": \"closest\", \"mapbox\": {\"style\": \"light\"}, \"paper_bgcolor\": \"white\", \"plot_bgcolor\": \"#E5ECF6\", \"polar\": {\"angularaxis\": {\"gridcolor\": \"white\", \"linecolor\": \"white\", \"ticks\": \"\"}, \"bgcolor\": \"#E5ECF6\", \"radialaxis\": {\"gridcolor\": \"white\", \"linecolor\": \"white\", \"ticks\": \"\"}}, \"scene\": {\"xaxis\": {\"backgroundcolor\": \"#E5ECF6\", \"gridcolor\": \"white\", \"gridwidth\": 2, \"linecolor\": \"white\", \"showbackground\": true, \"ticks\": \"\", \"zerolinecolor\": \"white\"}, \"yaxis\": {\"backgroundcolor\": \"#E5ECF6\", \"gridcolor\": \"white\", \"gridwidth\": 2, \"linecolor\": \"white\", \"showbackground\": true, \"ticks\": \"\", \"zerolinecolor\": \"white\"}, \"zaxis\": {\"backgroundcolor\": \"#E5ECF6\", \"gridcolor\": \"white\", \"gridwidth\": 2, \"linecolor\": \"white\", \"showbackground\": true, \"ticks\": \"\", \"zerolinecolor\": \"white\"}}, \"shapedefaults\": {\"line\": {\"color\": \"#2a3f5f\"}}, \"ternary\": {\"aaxis\": {\"gridcolor\": \"white\", \"linecolor\": \"white\", \"ticks\": \"\"}, \"baxis\": {\"gridcolor\": \"white\", \"linecolor\": \"white\", \"ticks\": \"\"}, \"bgcolor\": \"#E5ECF6\", \"caxis\": {\"gridcolor\": \"white\", \"linecolor\": \"white\", \"ticks\": \"\"}}, \"title\": {\"x\": 0.05}, \"xaxis\": {\"automargin\": true, \"gridcolor\": \"white\", \"linecolor\": \"white\", \"ticks\": \"\", \"title\": {\"standoff\": 15}, \"zerolinecolor\": \"white\", \"zerolinewidth\": 2}, \"yaxis\": {\"automargin\": true, \"gridcolor\": \"white\", \"linecolor\": \"white\", \"ticks\": \"\", \"title\": {\"standoff\": 15}, \"zerolinecolor\": \"white\", \"zerolinewidth\": 2}}}, \"title\": {\"font\": {\"color\": \"#4D5663\"}}, \"xaxis\": {\"gridcolor\": \"#E1E5ED\", \"showgrid\": true, \"tickfont\": {\"color\": \"#4D5663\"}, \"title\": {\"font\": {\"color\": \"#4D5663\"}, \"text\": \"\"}, \"zerolinecolor\": \"#E1E5ED\"}, \"yaxis\": {\"gridcolor\": \"#E1E5ED\", \"showgrid\": true, \"tickfont\": {\"color\": \"#4D5663\"}, \"title\": {\"font\": {\"color\": \"#4D5663\"}, \"text\": \"\"}, \"zerolinecolor\": \"#E1E5ED\"}},\n",
       "                        {\"showLink\": true, \"linkText\": \"Export to plot.ly\", \"plotlyServerURL\": \"https://plot.ly\", \"responsive\": true}\n",
       "                    ).then(function(){\n",
       "                            \n",
       "var gd = document.getElementById('773ab58b-b8e5-4536-9621-0023be74db16');\n",
       "var x = new MutationObserver(function (mutations, observer) {{\n",
       "        var display = window.getComputedStyle(gd).display;\n",
       "        if (!display || display === 'none') {{\n",
       "            console.log([gd, 'removed!']);\n",
       "            Plotly.purge(gd);\n",
       "            observer.disconnect();\n",
       "        }}\n",
       "}});\n",
       "\n",
       "// Listen for the removal of the full notebook cells\n",
       "var notebookContainer = gd.closest('#notebook-container');\n",
       "if (notebookContainer) {{\n",
       "    x.observe(notebookContainer, {childList: true});\n",
       "}}\n",
       "\n",
       "// Listen for the clearing of the current output cell\n",
       "var outputEl = gd.closest('.output');\n",
       "if (outputEl) {{\n",
       "    x.observe(outputEl, {childList: true});\n",
       "}}\n",
       "\n",
       "                        })\n",
       "                };\n",
       "                });\n",
       "            </script>\n",
       "        </div>"
      ]
     },
     "metadata": {},
     "output_type": "display_data"
    }
   ],
   "source": [
    "df.iplot(kind='bubble',x='A',y='B',size='C')"
   ]
  },
  {
   "cell_type": "code",
   "execution_count": 30,
   "metadata": {},
   "outputs": [
    {
     "data": {
      "application/vnd.plotly.v1+json": {
       "config": {
        "linkText": "Export to plot.ly",
        "plotlyServerURL": "https://plot.ly",
        "showLink": true
       },
       "data": [
        {
         "histfunc": "count",
         "histnorm": "",
         "marker": {
          "color": "rgba(255, 153, 51, 1.0)",
          "line": {
           "color": "#4D5663",
           "width": 1.3
          }
         },
         "name": "A",
         "nbinsx": 10,
         "opacity": 0.8,
         "orientation": "v",
         "type": "histogram",
         "x": [
          0.932905871818665,
          0.7990174600691328,
          0.6578805504982351,
          0.42756675450495063,
          0.17016560945553538,
          0.9055605402234296,
          0.28956721012351794,
          0.9526365568361495,
          0.4704206036221772,
          0.15226207946635395,
          0.6033907891545828,
          0.25099507114325215,
          0.005340848698156209,
          0.06533954296997113,
          0.2733035065352758,
          0.7569540823349571,
          0.8287187216757339,
          0.9828434948732078,
          0.8112812748144534,
          0.11076655847239603,
          0.8427519466173623,
          0.48859212569623023,
          0.14388465522460525,
          0.7539262751473198,
          0.44536556957401285,
          0.6697446611280005,
          0.22529636723346758,
          0.1161697303217627,
          0.17033135947771694,
          0.8325617982448972,
          0.5472341085707088,
          0.9669549164451002,
          0.2475954496771967,
          0.7497201100591544,
          0.9614999013831749,
          0.9396975077487425,
          0.7886648046959303,
          0.32590228659881226,
          0.10777157469033649,
          0.9978991786775343,
          0.2858415228843155,
          0.6851206557024384,
          0.38805256481020434,
          0.66109234467044,
          0.8860133534619254,
          0.4213642506242049,
          0.6743198570628508,
          0.6656479537489318,
          0.6065373124800183,
          0.25201673938694813,
          0.05030904571130845,
          0.41401213743180143,
          0.7189393436873426,
          0.929605937977888,
          0.07023729970534354,
          0.24038644001958465,
          0.632063691457217,
          0.22957645221162015,
          0.3195747648987325,
          0.541666475373368,
          0.5441038434692387,
          0.40778259724468047,
          0.225862802881601,
          0.4796028398481794,
          0.324652204581544,
          0.2019367580104594,
          0.10974428746289655,
          0.49763556945229526,
          0.8090999624543773,
          0.2272057880828694,
          0.45397874065463384,
          0.0019187911166977933,
          0.29377614301111055,
          0.38409997076807334,
          0.8271701737676631,
          0.7547418326906155,
          0.36069997849644286,
          0.2192185020931785,
          0.5528882226439371,
          0.20041778808758937,
          0.9888650720711814,
          0.8152424257042555,
          0.268685081062804,
          0.06431056149944225,
          0.6603049664873818,
          0.9327983811523727,
          0.9288223580133821,
          0.39899359519867517,
          0.05168668161792522,
          0.9340152735254715,
          0.862099704697694,
          0.9403696989535826,
          0.4790804197177635,
          0.19592031989218983,
          0.3086533524159172,
          0.22181010617622876,
          0.7582898233439308,
          0.6162874446229667,
          0.8829991970982982,
          0.5875930166320611
         ],
         "xaxis": "x",
         "yaxis": "y"
        },
        {
         "line": {
          "color": "rgba(128, 128, 128, 1.0)",
          "dash": "solid",
          "shape": "linear",
          "width": 1.3
         },
         "marker": {
          "size": 2,
          "symbol": "circle"
         },
         "mode": "markers",
         "name": "A",
         "text": "",
         "type": "scatter",
         "x": [
          0.1420989997204274,
          0.16272302776698333,
          0.5510418624633832,
          0.7810968428085451,
          0.974301807852817,
          0.6471915985690905,
          0.21234414860461104,
          0.9076787921118685,
          0.5664836023015972,
          0.7700135430908135,
          0.5253479398485718,
          0.5241714927399055,
          0.4301101655038079,
          0.8199434200022369,
          0.8127534054878676,
          0.047738991932165464,
          0.5349971488824744,
          0.5882683336930767,
          0.5135454203297177,
          0.04071727445935902,
          0.7200244546048392,
          0.8900719747838537,
          0.9865349592432118,
          0.4371129801660866,
          0.3243903451602598,
          0.5076790757069931,
          0.8525163039447864,
          0.566288953632173,
          0.1654817274784377,
          0.29662449110709144,
          0.3477905086317059,
          0.5059376256724428,
          0.6325085839762339,
          0.1448234277272753,
          0.7470284948374725,
          0.29546772497391927,
          0.3552949972380134,
          0.6366411169592828,
          0.4697823842392852,
          0.5319954083505593,
          0.9933995867373235,
          0.9070847709211363,
          0.6667901671187938,
          0.26101265540922325,
          0.330798623844741,
          0.2379799719882747,
          0.7825867856735038,
          0.20795006027228824,
          0.7311397165709611,
          0.48004107134623486,
          0.8661826114431671,
          0.8806199971587744,
          0.9106636500545815,
          0.12768512772204432,
          0.058033915607826,
          0.12820324272821748,
          0.09909743280436667,
          0.4903313130260817,
          0.6367265819917569,
          0.8636576164807224,
          0.33879757104565233,
          0.6733604397968099,
          0.9166751994743604,
          0.8253133157026932,
          0.6193553471911393,
          0.899112078299836,
          0.9577354173244566,
          0.55673671056099,
          0.2887334137560843,
          0.5571212721073879,
          0.19238618294946197,
          0.39814105892230056,
          0.011906309498581402,
          0.15563058187450685,
          0.16007112287112124,
          0.08737201724425192,
          0.43020181136608315,
          0.44598215676077313,
          0.8596018665391401,
          0.012053338547065806,
          0.8455576896774778,
          0.34822730875600516,
          0.5849194869804503,
          0.7212007626939569,
          0.4279290374816803,
          0.2493311030777,
          0.13133372297632728,
          0.32764216948557945,
          0.7019104372779333,
          0.37703502274650014,
          0.2779812489593061,
          0.909981378748785,
          0.5605431426633933,
          0.26479676439354294,
          0.02176661782524547,
          0.7235964641179009,
          0.7164017718719706,
          0.28682585808982264,
          0.9860956241904728,
          0.07634445227262043
         ],
         "xaxis": "x2",
         "y": [
          0.932905871818665,
          0.7990174600691328,
          0.6578805504982351,
          0.42756675450495063,
          0.17016560945553538,
          0.9055605402234296,
          0.28956721012351794,
          0.9526365568361495,
          0.4704206036221772,
          0.15226207946635395,
          0.6033907891545828,
          0.25099507114325215,
          0.005340848698156209,
          0.06533954296997113,
          0.2733035065352758,
          0.7569540823349571,
          0.8287187216757339,
          0.9828434948732078,
          0.8112812748144534,
          0.11076655847239603,
          0.8427519466173623,
          0.48859212569623023,
          0.14388465522460525,
          0.7539262751473198,
          0.44536556957401285,
          0.6697446611280005,
          0.22529636723346758,
          0.1161697303217627,
          0.17033135947771694,
          0.8325617982448972,
          0.5472341085707088,
          0.9669549164451002,
          0.2475954496771967,
          0.7497201100591544,
          0.9614999013831749,
          0.9396975077487425,
          0.7886648046959303,
          0.32590228659881226,
          0.10777157469033649,
          0.9978991786775343,
          0.2858415228843155,
          0.6851206557024384,
          0.38805256481020434,
          0.66109234467044,
          0.8860133534619254,
          0.4213642506242049,
          0.6743198570628508,
          0.6656479537489318,
          0.6065373124800183,
          0.25201673938694813,
          0.05030904571130845,
          0.41401213743180143,
          0.7189393436873426,
          0.929605937977888,
          0.07023729970534354,
          0.24038644001958465,
          0.632063691457217,
          0.22957645221162015,
          0.3195747648987325,
          0.541666475373368,
          0.5441038434692387,
          0.40778259724468047,
          0.225862802881601,
          0.4796028398481794,
          0.324652204581544,
          0.2019367580104594,
          0.10974428746289655,
          0.49763556945229526,
          0.8090999624543773,
          0.2272057880828694,
          0.45397874065463384,
          0.0019187911166977933,
          0.29377614301111055,
          0.38409997076807334,
          0.8271701737676631,
          0.7547418326906155,
          0.36069997849644286,
          0.2192185020931785,
          0.5528882226439371,
          0.20041778808758937,
          0.9888650720711814,
          0.8152424257042555,
          0.268685081062804,
          0.06431056149944225,
          0.6603049664873818,
          0.9327983811523727,
          0.9288223580133821,
          0.39899359519867517,
          0.05168668161792522,
          0.9340152735254715,
          0.862099704697694,
          0.9403696989535826,
          0.4790804197177635,
          0.19592031989218983,
          0.3086533524159172,
          0.22181010617622876,
          0.7582898233439308,
          0.6162874446229667,
          0.8829991970982982,
          0.5875930166320611
         ],
         "yaxis": "y2"
        },
        {
         "line": {
          "color": "rgba(128, 128, 128, 1.0)",
          "dash": "solid",
          "shape": "linear",
          "width": 1.3
         },
         "marker": {
          "size": 2,
          "symbol": "circle"
         },
         "mode": "markers",
         "name": "A",
         "text": "",
         "type": "scatter",
         "x": [
          0.21526701000752835,
          0.7143715175733945,
          0.09571325034684763,
          0.937765146045614,
          0.32891164884086554,
          0.1708499619190198,
          0.5028151642353679,
          0.7745194342439721,
          0.9457112968565712,
          0.6776046274326826,
          0.33500850574965424,
          0.06429840241799067,
          0.49456361203696464,
          0.8435460645595105,
          0.04067500842771199,
          0.5789968830208606,
          0.7133145677643881,
          0.8972074154015114,
          0.5741283590344698,
          0.7535707869668855,
          0.9653708866215502,
          0.30912127814696055,
          0.9753562875928239,
          0.07659204572598322,
          0.4855520961623818,
          0.9598196783663728,
          0.7397413577801413,
          0.19734930669571338,
          0.21214518489928313,
          0.5413714780461003,
          0.2989055031523594,
          0.0445049126513396,
          0.6106028543512637,
          0.567534044082875,
          0.9721287395080479,
          0.24041466595520877,
          0.9449142077840208,
          0.42594120779842437,
          0.7694062974208946,
          0.816962257037902,
          0.17238212256315655,
          0.8743331885829791,
          0.9085903741068485,
          0.08114716480876283,
          0.7392627420348479,
          0.9772218807204641,
          0.6581784858353785,
          0.9862373190591623,
          0.4568767290746719,
          0.1508504222057825,
          0.5066371120721531,
          0.7098503933406776,
          0.6085154386124608,
          0.7145650216601073,
          0.19859958292355118,
          0.6314838903661684,
          0.39901371805426544,
          0.5502944733108335,
          0.07326063771069646,
          0.5252872769483579,
          0.5595443359199435,
          0.8469130881525487,
          0.2543782400168928,
          0.8791215937301804,
          0.6386572888483397,
          0.10505967986733977,
          0.5605557403311213,
          0.48317045048453044,
          0.30078499028556493,
          0.4984855163323506,
          0.18721860722835126,
          0.2199248786553436,
          0.17276853819176408,
          0.19335750616629532,
          0.9961409692745002,
          0.14597884481689916,
          0.0694428590288031,
          0.8092665679436554,
          0.33723798695016716,
          0.5048914413092419,
          0.8594186141877432,
          0.16335092181242572,
          0.6231978032415111,
          0.5471195298239976,
          0.09557593552264565,
          0.07143931852587215,
          0.005151239178121214,
          0.7472799136223178,
          0.09049693994982588,
          0.4470149735389283,
          0.7305894797030132,
          0.5280523226991469,
          0.8538296504678102,
          0.5753398036708376,
          0.5426276816273093,
          0.9343435312651819,
          0.4950951966210053,
          0.4254864339849018,
          0.5806840806988296,
          0.9511085331715369
         ],
         "xaxis": "x3",
         "y": [
          0.932905871818665,
          0.7990174600691328,
          0.6578805504982351,
          0.42756675450495063,
          0.17016560945553538,
          0.9055605402234296,
          0.28956721012351794,
          0.9526365568361495,
          0.4704206036221772,
          0.15226207946635395,
          0.6033907891545828,
          0.25099507114325215,
          0.005340848698156209,
          0.06533954296997113,
          0.2733035065352758,
          0.7569540823349571,
          0.8287187216757339,
          0.9828434948732078,
          0.8112812748144534,
          0.11076655847239603,
          0.8427519466173623,
          0.48859212569623023,
          0.14388465522460525,
          0.7539262751473198,
          0.44536556957401285,
          0.6697446611280005,
          0.22529636723346758,
          0.1161697303217627,
          0.17033135947771694,
          0.8325617982448972,
          0.5472341085707088,
          0.9669549164451002,
          0.2475954496771967,
          0.7497201100591544,
          0.9614999013831749,
          0.9396975077487425,
          0.7886648046959303,
          0.32590228659881226,
          0.10777157469033649,
          0.9978991786775343,
          0.2858415228843155,
          0.6851206557024384,
          0.38805256481020434,
          0.66109234467044,
          0.8860133534619254,
          0.4213642506242049,
          0.6743198570628508,
          0.6656479537489318,
          0.6065373124800183,
          0.25201673938694813,
          0.05030904571130845,
          0.41401213743180143,
          0.7189393436873426,
          0.929605937977888,
          0.07023729970534354,
          0.24038644001958465,
          0.632063691457217,
          0.22957645221162015,
          0.3195747648987325,
          0.541666475373368,
          0.5441038434692387,
          0.40778259724468047,
          0.225862802881601,
          0.4796028398481794,
          0.324652204581544,
          0.2019367580104594,
          0.10974428746289655,
          0.49763556945229526,
          0.8090999624543773,
          0.2272057880828694,
          0.45397874065463384,
          0.0019187911166977933,
          0.29377614301111055,
          0.38409997076807334,
          0.8271701737676631,
          0.7547418326906155,
          0.36069997849644286,
          0.2192185020931785,
          0.5528882226439371,
          0.20041778808758937,
          0.9888650720711814,
          0.8152424257042555,
          0.268685081062804,
          0.06431056149944225,
          0.6603049664873818,
          0.9327983811523727,
          0.9288223580133821,
          0.39899359519867517,
          0.05168668161792522,
          0.9340152735254715,
          0.862099704697694,
          0.9403696989535826,
          0.4790804197177635,
          0.19592031989218983,
          0.3086533524159172,
          0.22181010617622876,
          0.7582898233439308,
          0.6162874446229667,
          0.8829991970982982,
          0.5875930166320611
         ],
         "yaxis": "y3"
        },
        {
         "line": {
          "color": "rgba(128, 128, 128, 1.0)",
          "dash": "solid",
          "shape": "linear",
          "width": 1.3
         },
         "marker": {
          "size": 2,
          "symbol": "circle"
         },
         "mode": "markers",
         "name": "A",
         "text": "",
         "type": "scatter",
         "x": [
          0.2693588004837245,
          0.7272376744767046,
          0.0847459573319197,
          0.9937065190610479,
          0.058979216584439276,
          0.7622243653969791,
          0.9852284156957358,
          0.5217777899952714,
          0.8187346018004542,
          0.39271165520681495,
          0.039639228594526954,
          0.6437254368053777,
          0.8825141197735623,
          0.07574987820954049,
          0.5659210897360782,
          0.7919953924615094,
          0.9896663440068089,
          0.24383501741632607,
          0.2174408233972125,
          0.7134201104202477,
          0.16855303189851112,
          0.8260489883427669,
          0.9162604808441045,
          0.5405688554116973,
          0.2385221459931568,
          0.5391044062278301,
          0.14135417823709062,
          0.7960627517303884,
          0.8420270044490886,
          0.2751570030123761,
          0.6484374134383162,
          0.936219920583301,
          0.12018818740336179,
          0.6802469298909554,
          0.027667402357477777,
          0.7534263183190321,
          0.15200668988058286,
          0.6379082749707069,
          0.48047129472150074,
          0.4677435754467977,
          0.4333959428618087,
          0.9012651744296631,
          0.16509096487816866,
          0.6490104765306842,
          0.6059604121331397,
          0.4990463341810545,
          0.9345744212388576,
          0.3799903412993587,
          0.18932606705713617,
          0.25346642681024234,
          0.9207633626005549,
          0.41545596150652353,
          0.4533645712239097,
          0.6506416140340825,
          0.6997162015812407,
          0.8852986916095966,
          0.37498778315958636,
          0.8314429697596049,
          0.13502673435385026,
          0.8979987612536348,
          0.3639429691100261,
          0.745483313257713,
          0.06578331168267948,
          0.4951905039218433,
          0.2532640224024172,
          0.719730115612484,
          0.5143268751173564,
          0.25421150057041175,
          0.3389942817348648,
          0.19850257012175643,
          0.20028652781703737,
          0.6651212562701333,
          0.529278813042016,
          0.042062130810310405,
          0.44112869964487167,
          0.6920514932823784,
          0.021164503749724117,
          0.44750287035257597,
          0.56472684426539,
          0.7019277928315436,
          0.5851064665714394,
          0.21020198044309035,
          0.2096339470898173,
          0.3932379119941055,
          0.4408019823537771,
          0.2583760972068493,
          0.6834895150994145,
          0.08900119437390264,
          0.8809772440190711,
          0.716312394923501,
          0.744839320051633,
          0.9786104201487468,
          0.18725208453496445,
          0.27887369246250304,
          0.05885105673928237,
          0.672260988708463,
          0.04236419271147529,
          0.8130830659218616,
          0.251040476355191,
          0.2879237577645707
         ],
         "xaxis": "x4",
         "y": [
          0.932905871818665,
          0.7990174600691328,
          0.6578805504982351,
          0.42756675450495063,
          0.17016560945553538,
          0.9055605402234296,
          0.28956721012351794,
          0.9526365568361495,
          0.4704206036221772,
          0.15226207946635395,
          0.6033907891545828,
          0.25099507114325215,
          0.005340848698156209,
          0.06533954296997113,
          0.2733035065352758,
          0.7569540823349571,
          0.8287187216757339,
          0.9828434948732078,
          0.8112812748144534,
          0.11076655847239603,
          0.8427519466173623,
          0.48859212569623023,
          0.14388465522460525,
          0.7539262751473198,
          0.44536556957401285,
          0.6697446611280005,
          0.22529636723346758,
          0.1161697303217627,
          0.17033135947771694,
          0.8325617982448972,
          0.5472341085707088,
          0.9669549164451002,
          0.2475954496771967,
          0.7497201100591544,
          0.9614999013831749,
          0.9396975077487425,
          0.7886648046959303,
          0.32590228659881226,
          0.10777157469033649,
          0.9978991786775343,
          0.2858415228843155,
          0.6851206557024384,
          0.38805256481020434,
          0.66109234467044,
          0.8860133534619254,
          0.4213642506242049,
          0.6743198570628508,
          0.6656479537489318,
          0.6065373124800183,
          0.25201673938694813,
          0.05030904571130845,
          0.41401213743180143,
          0.7189393436873426,
          0.929605937977888,
          0.07023729970534354,
          0.24038644001958465,
          0.632063691457217,
          0.22957645221162015,
          0.3195747648987325,
          0.541666475373368,
          0.5441038434692387,
          0.40778259724468047,
          0.225862802881601,
          0.4796028398481794,
          0.324652204581544,
          0.2019367580104594,
          0.10974428746289655,
          0.49763556945229526,
          0.8090999624543773,
          0.2272057880828694,
          0.45397874065463384,
          0.0019187911166977933,
          0.29377614301111055,
          0.38409997076807334,
          0.8271701737676631,
          0.7547418326906155,
          0.36069997849644286,
          0.2192185020931785,
          0.5528882226439371,
          0.20041778808758937,
          0.9888650720711814,
          0.8152424257042555,
          0.268685081062804,
          0.06431056149944225,
          0.6603049664873818,
          0.9327983811523727,
          0.9288223580133821,
          0.39899359519867517,
          0.05168668161792522,
          0.9340152735254715,
          0.862099704697694,
          0.9403696989535826,
          0.4790804197177635,
          0.19592031989218983,
          0.3086533524159172,
          0.22181010617622876,
          0.7582898233439308,
          0.6162874446229667,
          0.8829991970982982,
          0.5875930166320611
         ],
         "yaxis": "y4"
        },
        {
         "line": {
          "color": "rgba(128, 128, 128, 1.0)",
          "dash": "solid",
          "shape": "linear",
          "width": 1.3
         },
         "marker": {
          "size": 2,
          "symbol": "circle"
         },
         "mode": "markers",
         "name": "B",
         "text": "",
         "type": "scatter",
         "x": [
          0.932905871818665,
          0.7990174600691328,
          0.6578805504982351,
          0.42756675450495063,
          0.17016560945553538,
          0.9055605402234296,
          0.28956721012351794,
          0.9526365568361495,
          0.4704206036221772,
          0.15226207946635395,
          0.6033907891545828,
          0.25099507114325215,
          0.005340848698156209,
          0.06533954296997113,
          0.2733035065352758,
          0.7569540823349571,
          0.8287187216757339,
          0.9828434948732078,
          0.8112812748144534,
          0.11076655847239603,
          0.8427519466173623,
          0.48859212569623023,
          0.14388465522460525,
          0.7539262751473198,
          0.44536556957401285,
          0.6697446611280005,
          0.22529636723346758,
          0.1161697303217627,
          0.17033135947771694,
          0.8325617982448972,
          0.5472341085707088,
          0.9669549164451002,
          0.2475954496771967,
          0.7497201100591544,
          0.9614999013831749,
          0.9396975077487425,
          0.7886648046959303,
          0.32590228659881226,
          0.10777157469033649,
          0.9978991786775343,
          0.2858415228843155,
          0.6851206557024384,
          0.38805256481020434,
          0.66109234467044,
          0.8860133534619254,
          0.4213642506242049,
          0.6743198570628508,
          0.6656479537489318,
          0.6065373124800183,
          0.25201673938694813,
          0.05030904571130845,
          0.41401213743180143,
          0.7189393436873426,
          0.929605937977888,
          0.07023729970534354,
          0.24038644001958465,
          0.632063691457217,
          0.22957645221162015,
          0.3195747648987325,
          0.541666475373368,
          0.5441038434692387,
          0.40778259724468047,
          0.225862802881601,
          0.4796028398481794,
          0.324652204581544,
          0.2019367580104594,
          0.10974428746289655,
          0.49763556945229526,
          0.8090999624543773,
          0.2272057880828694,
          0.45397874065463384,
          0.0019187911166977933,
          0.29377614301111055,
          0.38409997076807334,
          0.8271701737676631,
          0.7547418326906155,
          0.36069997849644286,
          0.2192185020931785,
          0.5528882226439371,
          0.20041778808758937,
          0.9888650720711814,
          0.8152424257042555,
          0.268685081062804,
          0.06431056149944225,
          0.6603049664873818,
          0.9327983811523727,
          0.9288223580133821,
          0.39899359519867517,
          0.05168668161792522,
          0.9340152735254715,
          0.862099704697694,
          0.9403696989535826,
          0.4790804197177635,
          0.19592031989218983,
          0.3086533524159172,
          0.22181010617622876,
          0.7582898233439308,
          0.6162874446229667,
          0.8829991970982982,
          0.5875930166320611
         ],
         "xaxis": "x5",
         "y": [
          0.1420989997204274,
          0.16272302776698333,
          0.5510418624633832,
          0.7810968428085451,
          0.974301807852817,
          0.6471915985690905,
          0.21234414860461104,
          0.9076787921118685,
          0.5664836023015972,
          0.7700135430908135,
          0.5253479398485718,
          0.5241714927399055,
          0.4301101655038079,
          0.8199434200022369,
          0.8127534054878676,
          0.047738991932165464,
          0.5349971488824744,
          0.5882683336930767,
          0.5135454203297177,
          0.04071727445935902,
          0.7200244546048392,
          0.8900719747838537,
          0.9865349592432118,
          0.4371129801660866,
          0.3243903451602598,
          0.5076790757069931,
          0.8525163039447864,
          0.566288953632173,
          0.1654817274784377,
          0.29662449110709144,
          0.3477905086317059,
          0.5059376256724428,
          0.6325085839762339,
          0.1448234277272753,
          0.7470284948374725,
          0.29546772497391927,
          0.3552949972380134,
          0.6366411169592828,
          0.4697823842392852,
          0.5319954083505593,
          0.9933995867373235,
          0.9070847709211363,
          0.6667901671187938,
          0.26101265540922325,
          0.330798623844741,
          0.2379799719882747,
          0.7825867856735038,
          0.20795006027228824,
          0.7311397165709611,
          0.48004107134623486,
          0.8661826114431671,
          0.8806199971587744,
          0.9106636500545815,
          0.12768512772204432,
          0.058033915607826,
          0.12820324272821748,
          0.09909743280436667,
          0.4903313130260817,
          0.6367265819917569,
          0.8636576164807224,
          0.33879757104565233,
          0.6733604397968099,
          0.9166751994743604,
          0.8253133157026932,
          0.6193553471911393,
          0.899112078299836,
          0.9577354173244566,
          0.55673671056099,
          0.2887334137560843,
          0.5571212721073879,
          0.19238618294946197,
          0.39814105892230056,
          0.011906309498581402,
          0.15563058187450685,
          0.16007112287112124,
          0.08737201724425192,
          0.43020181136608315,
          0.44598215676077313,
          0.8596018665391401,
          0.012053338547065806,
          0.8455576896774778,
          0.34822730875600516,
          0.5849194869804503,
          0.7212007626939569,
          0.4279290374816803,
          0.2493311030777,
          0.13133372297632728,
          0.32764216948557945,
          0.7019104372779333,
          0.37703502274650014,
          0.2779812489593061,
          0.909981378748785,
          0.5605431426633933,
          0.26479676439354294,
          0.02176661782524547,
          0.7235964641179009,
          0.7164017718719706,
          0.28682585808982264,
          0.9860956241904728,
          0.07634445227262043
         ],
         "yaxis": "y5"
        },
        {
         "histfunc": "count",
         "histnorm": "",
         "marker": {
          "color": "rgba(55, 128, 191, 1.0)",
          "line": {
           "color": "#4D5663",
           "width": 1.3
          }
         },
         "name": "B",
         "nbinsx": 10,
         "opacity": 0.8,
         "orientation": "v",
         "type": "histogram",
         "x": [
          0.1420989997204274,
          0.16272302776698333,
          0.5510418624633832,
          0.7810968428085451,
          0.974301807852817,
          0.6471915985690905,
          0.21234414860461104,
          0.9076787921118685,
          0.5664836023015972,
          0.7700135430908135,
          0.5253479398485718,
          0.5241714927399055,
          0.4301101655038079,
          0.8199434200022369,
          0.8127534054878676,
          0.047738991932165464,
          0.5349971488824744,
          0.5882683336930767,
          0.5135454203297177,
          0.04071727445935902,
          0.7200244546048392,
          0.8900719747838537,
          0.9865349592432118,
          0.4371129801660866,
          0.3243903451602598,
          0.5076790757069931,
          0.8525163039447864,
          0.566288953632173,
          0.1654817274784377,
          0.29662449110709144,
          0.3477905086317059,
          0.5059376256724428,
          0.6325085839762339,
          0.1448234277272753,
          0.7470284948374725,
          0.29546772497391927,
          0.3552949972380134,
          0.6366411169592828,
          0.4697823842392852,
          0.5319954083505593,
          0.9933995867373235,
          0.9070847709211363,
          0.6667901671187938,
          0.26101265540922325,
          0.330798623844741,
          0.2379799719882747,
          0.7825867856735038,
          0.20795006027228824,
          0.7311397165709611,
          0.48004107134623486,
          0.8661826114431671,
          0.8806199971587744,
          0.9106636500545815,
          0.12768512772204432,
          0.058033915607826,
          0.12820324272821748,
          0.09909743280436667,
          0.4903313130260817,
          0.6367265819917569,
          0.8636576164807224,
          0.33879757104565233,
          0.6733604397968099,
          0.9166751994743604,
          0.8253133157026932,
          0.6193553471911393,
          0.899112078299836,
          0.9577354173244566,
          0.55673671056099,
          0.2887334137560843,
          0.5571212721073879,
          0.19238618294946197,
          0.39814105892230056,
          0.011906309498581402,
          0.15563058187450685,
          0.16007112287112124,
          0.08737201724425192,
          0.43020181136608315,
          0.44598215676077313,
          0.8596018665391401,
          0.012053338547065806,
          0.8455576896774778,
          0.34822730875600516,
          0.5849194869804503,
          0.7212007626939569,
          0.4279290374816803,
          0.2493311030777,
          0.13133372297632728,
          0.32764216948557945,
          0.7019104372779333,
          0.37703502274650014,
          0.2779812489593061,
          0.909981378748785,
          0.5605431426633933,
          0.26479676439354294,
          0.02176661782524547,
          0.7235964641179009,
          0.7164017718719706,
          0.28682585808982264,
          0.9860956241904728,
          0.07634445227262043
         ],
         "xaxis": "x6",
         "yaxis": "y6"
        },
        {
         "line": {
          "color": "rgba(128, 128, 128, 1.0)",
          "dash": "solid",
          "shape": "linear",
          "width": 1.3
         },
         "marker": {
          "size": 2,
          "symbol": "circle"
         },
         "mode": "markers",
         "name": "B",
         "text": "",
         "type": "scatter",
         "x": [
          0.21526701000752835,
          0.7143715175733945,
          0.09571325034684763,
          0.937765146045614,
          0.32891164884086554,
          0.1708499619190198,
          0.5028151642353679,
          0.7745194342439721,
          0.9457112968565712,
          0.6776046274326826,
          0.33500850574965424,
          0.06429840241799067,
          0.49456361203696464,
          0.8435460645595105,
          0.04067500842771199,
          0.5789968830208606,
          0.7133145677643881,
          0.8972074154015114,
          0.5741283590344698,
          0.7535707869668855,
          0.9653708866215502,
          0.30912127814696055,
          0.9753562875928239,
          0.07659204572598322,
          0.4855520961623818,
          0.9598196783663728,
          0.7397413577801413,
          0.19734930669571338,
          0.21214518489928313,
          0.5413714780461003,
          0.2989055031523594,
          0.0445049126513396,
          0.6106028543512637,
          0.567534044082875,
          0.9721287395080479,
          0.24041466595520877,
          0.9449142077840208,
          0.42594120779842437,
          0.7694062974208946,
          0.816962257037902,
          0.17238212256315655,
          0.8743331885829791,
          0.9085903741068485,
          0.08114716480876283,
          0.7392627420348479,
          0.9772218807204641,
          0.6581784858353785,
          0.9862373190591623,
          0.4568767290746719,
          0.1508504222057825,
          0.5066371120721531,
          0.7098503933406776,
          0.6085154386124608,
          0.7145650216601073,
          0.19859958292355118,
          0.6314838903661684,
          0.39901371805426544,
          0.5502944733108335,
          0.07326063771069646,
          0.5252872769483579,
          0.5595443359199435,
          0.8469130881525487,
          0.2543782400168928,
          0.8791215937301804,
          0.6386572888483397,
          0.10505967986733977,
          0.5605557403311213,
          0.48317045048453044,
          0.30078499028556493,
          0.4984855163323506,
          0.18721860722835126,
          0.2199248786553436,
          0.17276853819176408,
          0.19335750616629532,
          0.9961409692745002,
          0.14597884481689916,
          0.0694428590288031,
          0.8092665679436554,
          0.33723798695016716,
          0.5048914413092419,
          0.8594186141877432,
          0.16335092181242572,
          0.6231978032415111,
          0.5471195298239976,
          0.09557593552264565,
          0.07143931852587215,
          0.005151239178121214,
          0.7472799136223178,
          0.09049693994982588,
          0.4470149735389283,
          0.7305894797030132,
          0.5280523226991469,
          0.8538296504678102,
          0.5753398036708376,
          0.5426276816273093,
          0.9343435312651819,
          0.4950951966210053,
          0.4254864339849018,
          0.5806840806988296,
          0.9511085331715369
         ],
         "xaxis": "x7",
         "y": [
          0.1420989997204274,
          0.16272302776698333,
          0.5510418624633832,
          0.7810968428085451,
          0.974301807852817,
          0.6471915985690905,
          0.21234414860461104,
          0.9076787921118685,
          0.5664836023015972,
          0.7700135430908135,
          0.5253479398485718,
          0.5241714927399055,
          0.4301101655038079,
          0.8199434200022369,
          0.8127534054878676,
          0.047738991932165464,
          0.5349971488824744,
          0.5882683336930767,
          0.5135454203297177,
          0.04071727445935902,
          0.7200244546048392,
          0.8900719747838537,
          0.9865349592432118,
          0.4371129801660866,
          0.3243903451602598,
          0.5076790757069931,
          0.8525163039447864,
          0.566288953632173,
          0.1654817274784377,
          0.29662449110709144,
          0.3477905086317059,
          0.5059376256724428,
          0.6325085839762339,
          0.1448234277272753,
          0.7470284948374725,
          0.29546772497391927,
          0.3552949972380134,
          0.6366411169592828,
          0.4697823842392852,
          0.5319954083505593,
          0.9933995867373235,
          0.9070847709211363,
          0.6667901671187938,
          0.26101265540922325,
          0.330798623844741,
          0.2379799719882747,
          0.7825867856735038,
          0.20795006027228824,
          0.7311397165709611,
          0.48004107134623486,
          0.8661826114431671,
          0.8806199971587744,
          0.9106636500545815,
          0.12768512772204432,
          0.058033915607826,
          0.12820324272821748,
          0.09909743280436667,
          0.4903313130260817,
          0.6367265819917569,
          0.8636576164807224,
          0.33879757104565233,
          0.6733604397968099,
          0.9166751994743604,
          0.8253133157026932,
          0.6193553471911393,
          0.899112078299836,
          0.9577354173244566,
          0.55673671056099,
          0.2887334137560843,
          0.5571212721073879,
          0.19238618294946197,
          0.39814105892230056,
          0.011906309498581402,
          0.15563058187450685,
          0.16007112287112124,
          0.08737201724425192,
          0.43020181136608315,
          0.44598215676077313,
          0.8596018665391401,
          0.012053338547065806,
          0.8455576896774778,
          0.34822730875600516,
          0.5849194869804503,
          0.7212007626939569,
          0.4279290374816803,
          0.2493311030777,
          0.13133372297632728,
          0.32764216948557945,
          0.7019104372779333,
          0.37703502274650014,
          0.2779812489593061,
          0.909981378748785,
          0.5605431426633933,
          0.26479676439354294,
          0.02176661782524547,
          0.7235964641179009,
          0.7164017718719706,
          0.28682585808982264,
          0.9860956241904728,
          0.07634445227262043
         ],
         "yaxis": "y7"
        },
        {
         "line": {
          "color": "rgba(128, 128, 128, 1.0)",
          "dash": "solid",
          "shape": "linear",
          "width": 1.3
         },
         "marker": {
          "size": 2,
          "symbol": "circle"
         },
         "mode": "markers",
         "name": "B",
         "text": "",
         "type": "scatter",
         "x": [
          0.2693588004837245,
          0.7272376744767046,
          0.0847459573319197,
          0.9937065190610479,
          0.058979216584439276,
          0.7622243653969791,
          0.9852284156957358,
          0.5217777899952714,
          0.8187346018004542,
          0.39271165520681495,
          0.039639228594526954,
          0.6437254368053777,
          0.8825141197735623,
          0.07574987820954049,
          0.5659210897360782,
          0.7919953924615094,
          0.9896663440068089,
          0.24383501741632607,
          0.2174408233972125,
          0.7134201104202477,
          0.16855303189851112,
          0.8260489883427669,
          0.9162604808441045,
          0.5405688554116973,
          0.2385221459931568,
          0.5391044062278301,
          0.14135417823709062,
          0.7960627517303884,
          0.8420270044490886,
          0.2751570030123761,
          0.6484374134383162,
          0.936219920583301,
          0.12018818740336179,
          0.6802469298909554,
          0.027667402357477777,
          0.7534263183190321,
          0.15200668988058286,
          0.6379082749707069,
          0.48047129472150074,
          0.4677435754467977,
          0.4333959428618087,
          0.9012651744296631,
          0.16509096487816866,
          0.6490104765306842,
          0.6059604121331397,
          0.4990463341810545,
          0.9345744212388576,
          0.3799903412993587,
          0.18932606705713617,
          0.25346642681024234,
          0.9207633626005549,
          0.41545596150652353,
          0.4533645712239097,
          0.6506416140340825,
          0.6997162015812407,
          0.8852986916095966,
          0.37498778315958636,
          0.8314429697596049,
          0.13502673435385026,
          0.8979987612536348,
          0.3639429691100261,
          0.745483313257713,
          0.06578331168267948,
          0.4951905039218433,
          0.2532640224024172,
          0.719730115612484,
          0.5143268751173564,
          0.25421150057041175,
          0.3389942817348648,
          0.19850257012175643,
          0.20028652781703737,
          0.6651212562701333,
          0.529278813042016,
          0.042062130810310405,
          0.44112869964487167,
          0.6920514932823784,
          0.021164503749724117,
          0.44750287035257597,
          0.56472684426539,
          0.7019277928315436,
          0.5851064665714394,
          0.21020198044309035,
          0.2096339470898173,
          0.3932379119941055,
          0.4408019823537771,
          0.2583760972068493,
          0.6834895150994145,
          0.08900119437390264,
          0.8809772440190711,
          0.716312394923501,
          0.744839320051633,
          0.9786104201487468,
          0.18725208453496445,
          0.27887369246250304,
          0.05885105673928237,
          0.672260988708463,
          0.04236419271147529,
          0.8130830659218616,
          0.251040476355191,
          0.2879237577645707
         ],
         "xaxis": "x8",
         "y": [
          0.1420989997204274,
          0.16272302776698333,
          0.5510418624633832,
          0.7810968428085451,
          0.974301807852817,
          0.6471915985690905,
          0.21234414860461104,
          0.9076787921118685,
          0.5664836023015972,
          0.7700135430908135,
          0.5253479398485718,
          0.5241714927399055,
          0.4301101655038079,
          0.8199434200022369,
          0.8127534054878676,
          0.047738991932165464,
          0.5349971488824744,
          0.5882683336930767,
          0.5135454203297177,
          0.04071727445935902,
          0.7200244546048392,
          0.8900719747838537,
          0.9865349592432118,
          0.4371129801660866,
          0.3243903451602598,
          0.5076790757069931,
          0.8525163039447864,
          0.566288953632173,
          0.1654817274784377,
          0.29662449110709144,
          0.3477905086317059,
          0.5059376256724428,
          0.6325085839762339,
          0.1448234277272753,
          0.7470284948374725,
          0.29546772497391927,
          0.3552949972380134,
          0.6366411169592828,
          0.4697823842392852,
          0.5319954083505593,
          0.9933995867373235,
          0.9070847709211363,
          0.6667901671187938,
          0.26101265540922325,
          0.330798623844741,
          0.2379799719882747,
          0.7825867856735038,
          0.20795006027228824,
          0.7311397165709611,
          0.48004107134623486,
          0.8661826114431671,
          0.8806199971587744,
          0.9106636500545815,
          0.12768512772204432,
          0.058033915607826,
          0.12820324272821748,
          0.09909743280436667,
          0.4903313130260817,
          0.6367265819917569,
          0.8636576164807224,
          0.33879757104565233,
          0.6733604397968099,
          0.9166751994743604,
          0.8253133157026932,
          0.6193553471911393,
          0.899112078299836,
          0.9577354173244566,
          0.55673671056099,
          0.2887334137560843,
          0.5571212721073879,
          0.19238618294946197,
          0.39814105892230056,
          0.011906309498581402,
          0.15563058187450685,
          0.16007112287112124,
          0.08737201724425192,
          0.43020181136608315,
          0.44598215676077313,
          0.8596018665391401,
          0.012053338547065806,
          0.8455576896774778,
          0.34822730875600516,
          0.5849194869804503,
          0.7212007626939569,
          0.4279290374816803,
          0.2493311030777,
          0.13133372297632728,
          0.32764216948557945,
          0.7019104372779333,
          0.37703502274650014,
          0.2779812489593061,
          0.909981378748785,
          0.5605431426633933,
          0.26479676439354294,
          0.02176661782524547,
          0.7235964641179009,
          0.7164017718719706,
          0.28682585808982264,
          0.9860956241904728,
          0.07634445227262043
         ],
         "yaxis": "y8"
        },
        {
         "line": {
          "color": "rgba(128, 128, 128, 1.0)",
          "dash": "solid",
          "shape": "linear",
          "width": 1.3
         },
         "marker": {
          "size": 2,
          "symbol": "circle"
         },
         "mode": "markers",
         "name": "C",
         "text": "",
         "type": "scatter",
         "x": [
          0.932905871818665,
          0.7990174600691328,
          0.6578805504982351,
          0.42756675450495063,
          0.17016560945553538,
          0.9055605402234296,
          0.28956721012351794,
          0.9526365568361495,
          0.4704206036221772,
          0.15226207946635395,
          0.6033907891545828,
          0.25099507114325215,
          0.005340848698156209,
          0.06533954296997113,
          0.2733035065352758,
          0.7569540823349571,
          0.8287187216757339,
          0.9828434948732078,
          0.8112812748144534,
          0.11076655847239603,
          0.8427519466173623,
          0.48859212569623023,
          0.14388465522460525,
          0.7539262751473198,
          0.44536556957401285,
          0.6697446611280005,
          0.22529636723346758,
          0.1161697303217627,
          0.17033135947771694,
          0.8325617982448972,
          0.5472341085707088,
          0.9669549164451002,
          0.2475954496771967,
          0.7497201100591544,
          0.9614999013831749,
          0.9396975077487425,
          0.7886648046959303,
          0.32590228659881226,
          0.10777157469033649,
          0.9978991786775343,
          0.2858415228843155,
          0.6851206557024384,
          0.38805256481020434,
          0.66109234467044,
          0.8860133534619254,
          0.4213642506242049,
          0.6743198570628508,
          0.6656479537489318,
          0.6065373124800183,
          0.25201673938694813,
          0.05030904571130845,
          0.41401213743180143,
          0.7189393436873426,
          0.929605937977888,
          0.07023729970534354,
          0.24038644001958465,
          0.632063691457217,
          0.22957645221162015,
          0.3195747648987325,
          0.541666475373368,
          0.5441038434692387,
          0.40778259724468047,
          0.225862802881601,
          0.4796028398481794,
          0.324652204581544,
          0.2019367580104594,
          0.10974428746289655,
          0.49763556945229526,
          0.8090999624543773,
          0.2272057880828694,
          0.45397874065463384,
          0.0019187911166977933,
          0.29377614301111055,
          0.38409997076807334,
          0.8271701737676631,
          0.7547418326906155,
          0.36069997849644286,
          0.2192185020931785,
          0.5528882226439371,
          0.20041778808758937,
          0.9888650720711814,
          0.8152424257042555,
          0.268685081062804,
          0.06431056149944225,
          0.6603049664873818,
          0.9327983811523727,
          0.9288223580133821,
          0.39899359519867517,
          0.05168668161792522,
          0.9340152735254715,
          0.862099704697694,
          0.9403696989535826,
          0.4790804197177635,
          0.19592031989218983,
          0.3086533524159172,
          0.22181010617622876,
          0.7582898233439308,
          0.6162874446229667,
          0.8829991970982982,
          0.5875930166320611
         ],
         "xaxis": "x9",
         "y": [
          0.21526701000752835,
          0.7143715175733945,
          0.09571325034684763,
          0.937765146045614,
          0.32891164884086554,
          0.1708499619190198,
          0.5028151642353679,
          0.7745194342439721,
          0.9457112968565712,
          0.6776046274326826,
          0.33500850574965424,
          0.06429840241799067,
          0.49456361203696464,
          0.8435460645595105,
          0.04067500842771199,
          0.5789968830208606,
          0.7133145677643881,
          0.8972074154015114,
          0.5741283590344698,
          0.7535707869668855,
          0.9653708866215502,
          0.30912127814696055,
          0.9753562875928239,
          0.07659204572598322,
          0.4855520961623818,
          0.9598196783663728,
          0.7397413577801413,
          0.19734930669571338,
          0.21214518489928313,
          0.5413714780461003,
          0.2989055031523594,
          0.0445049126513396,
          0.6106028543512637,
          0.567534044082875,
          0.9721287395080479,
          0.24041466595520877,
          0.9449142077840208,
          0.42594120779842437,
          0.7694062974208946,
          0.816962257037902,
          0.17238212256315655,
          0.8743331885829791,
          0.9085903741068485,
          0.08114716480876283,
          0.7392627420348479,
          0.9772218807204641,
          0.6581784858353785,
          0.9862373190591623,
          0.4568767290746719,
          0.1508504222057825,
          0.5066371120721531,
          0.7098503933406776,
          0.6085154386124608,
          0.7145650216601073,
          0.19859958292355118,
          0.6314838903661684,
          0.39901371805426544,
          0.5502944733108335,
          0.07326063771069646,
          0.5252872769483579,
          0.5595443359199435,
          0.8469130881525487,
          0.2543782400168928,
          0.8791215937301804,
          0.6386572888483397,
          0.10505967986733977,
          0.5605557403311213,
          0.48317045048453044,
          0.30078499028556493,
          0.4984855163323506,
          0.18721860722835126,
          0.2199248786553436,
          0.17276853819176408,
          0.19335750616629532,
          0.9961409692745002,
          0.14597884481689916,
          0.0694428590288031,
          0.8092665679436554,
          0.33723798695016716,
          0.5048914413092419,
          0.8594186141877432,
          0.16335092181242572,
          0.6231978032415111,
          0.5471195298239976,
          0.09557593552264565,
          0.07143931852587215,
          0.005151239178121214,
          0.7472799136223178,
          0.09049693994982588,
          0.4470149735389283,
          0.7305894797030132,
          0.5280523226991469,
          0.8538296504678102,
          0.5753398036708376,
          0.5426276816273093,
          0.9343435312651819,
          0.4950951966210053,
          0.4254864339849018,
          0.5806840806988296,
          0.9511085331715369
         ],
         "yaxis": "y9"
        },
        {
         "line": {
          "color": "rgba(128, 128, 128, 1.0)",
          "dash": "solid",
          "shape": "linear",
          "width": 1.3
         },
         "marker": {
          "size": 2,
          "symbol": "circle"
         },
         "mode": "markers",
         "name": "C",
         "text": "",
         "type": "scatter",
         "x": [
          0.1420989997204274,
          0.16272302776698333,
          0.5510418624633832,
          0.7810968428085451,
          0.974301807852817,
          0.6471915985690905,
          0.21234414860461104,
          0.9076787921118685,
          0.5664836023015972,
          0.7700135430908135,
          0.5253479398485718,
          0.5241714927399055,
          0.4301101655038079,
          0.8199434200022369,
          0.8127534054878676,
          0.047738991932165464,
          0.5349971488824744,
          0.5882683336930767,
          0.5135454203297177,
          0.04071727445935902,
          0.7200244546048392,
          0.8900719747838537,
          0.9865349592432118,
          0.4371129801660866,
          0.3243903451602598,
          0.5076790757069931,
          0.8525163039447864,
          0.566288953632173,
          0.1654817274784377,
          0.29662449110709144,
          0.3477905086317059,
          0.5059376256724428,
          0.6325085839762339,
          0.1448234277272753,
          0.7470284948374725,
          0.29546772497391927,
          0.3552949972380134,
          0.6366411169592828,
          0.4697823842392852,
          0.5319954083505593,
          0.9933995867373235,
          0.9070847709211363,
          0.6667901671187938,
          0.26101265540922325,
          0.330798623844741,
          0.2379799719882747,
          0.7825867856735038,
          0.20795006027228824,
          0.7311397165709611,
          0.48004107134623486,
          0.8661826114431671,
          0.8806199971587744,
          0.9106636500545815,
          0.12768512772204432,
          0.058033915607826,
          0.12820324272821748,
          0.09909743280436667,
          0.4903313130260817,
          0.6367265819917569,
          0.8636576164807224,
          0.33879757104565233,
          0.6733604397968099,
          0.9166751994743604,
          0.8253133157026932,
          0.6193553471911393,
          0.899112078299836,
          0.9577354173244566,
          0.55673671056099,
          0.2887334137560843,
          0.5571212721073879,
          0.19238618294946197,
          0.39814105892230056,
          0.011906309498581402,
          0.15563058187450685,
          0.16007112287112124,
          0.08737201724425192,
          0.43020181136608315,
          0.44598215676077313,
          0.8596018665391401,
          0.012053338547065806,
          0.8455576896774778,
          0.34822730875600516,
          0.5849194869804503,
          0.7212007626939569,
          0.4279290374816803,
          0.2493311030777,
          0.13133372297632728,
          0.32764216948557945,
          0.7019104372779333,
          0.37703502274650014,
          0.2779812489593061,
          0.909981378748785,
          0.5605431426633933,
          0.26479676439354294,
          0.02176661782524547,
          0.7235964641179009,
          0.7164017718719706,
          0.28682585808982264,
          0.9860956241904728,
          0.07634445227262043
         ],
         "xaxis": "x10",
         "y": [
          0.21526701000752835,
          0.7143715175733945,
          0.09571325034684763,
          0.937765146045614,
          0.32891164884086554,
          0.1708499619190198,
          0.5028151642353679,
          0.7745194342439721,
          0.9457112968565712,
          0.6776046274326826,
          0.33500850574965424,
          0.06429840241799067,
          0.49456361203696464,
          0.8435460645595105,
          0.04067500842771199,
          0.5789968830208606,
          0.7133145677643881,
          0.8972074154015114,
          0.5741283590344698,
          0.7535707869668855,
          0.9653708866215502,
          0.30912127814696055,
          0.9753562875928239,
          0.07659204572598322,
          0.4855520961623818,
          0.9598196783663728,
          0.7397413577801413,
          0.19734930669571338,
          0.21214518489928313,
          0.5413714780461003,
          0.2989055031523594,
          0.0445049126513396,
          0.6106028543512637,
          0.567534044082875,
          0.9721287395080479,
          0.24041466595520877,
          0.9449142077840208,
          0.42594120779842437,
          0.7694062974208946,
          0.816962257037902,
          0.17238212256315655,
          0.8743331885829791,
          0.9085903741068485,
          0.08114716480876283,
          0.7392627420348479,
          0.9772218807204641,
          0.6581784858353785,
          0.9862373190591623,
          0.4568767290746719,
          0.1508504222057825,
          0.5066371120721531,
          0.7098503933406776,
          0.6085154386124608,
          0.7145650216601073,
          0.19859958292355118,
          0.6314838903661684,
          0.39901371805426544,
          0.5502944733108335,
          0.07326063771069646,
          0.5252872769483579,
          0.5595443359199435,
          0.8469130881525487,
          0.2543782400168928,
          0.8791215937301804,
          0.6386572888483397,
          0.10505967986733977,
          0.5605557403311213,
          0.48317045048453044,
          0.30078499028556493,
          0.4984855163323506,
          0.18721860722835126,
          0.2199248786553436,
          0.17276853819176408,
          0.19335750616629532,
          0.9961409692745002,
          0.14597884481689916,
          0.0694428590288031,
          0.8092665679436554,
          0.33723798695016716,
          0.5048914413092419,
          0.8594186141877432,
          0.16335092181242572,
          0.6231978032415111,
          0.5471195298239976,
          0.09557593552264565,
          0.07143931852587215,
          0.005151239178121214,
          0.7472799136223178,
          0.09049693994982588,
          0.4470149735389283,
          0.7305894797030132,
          0.5280523226991469,
          0.8538296504678102,
          0.5753398036708376,
          0.5426276816273093,
          0.9343435312651819,
          0.4950951966210053,
          0.4254864339849018,
          0.5806840806988296,
          0.9511085331715369
         ],
         "yaxis": "y10"
        },
        {
         "histfunc": "count",
         "histnorm": "",
         "marker": {
          "color": "rgba(50, 171, 96, 1.0)",
          "line": {
           "color": "#4D5663",
           "width": 1.3
          }
         },
         "name": "C",
         "nbinsx": 10,
         "opacity": 0.8,
         "orientation": "v",
         "type": "histogram",
         "x": [
          0.21526701000752835,
          0.7143715175733945,
          0.09571325034684763,
          0.937765146045614,
          0.32891164884086554,
          0.1708499619190198,
          0.5028151642353679,
          0.7745194342439721,
          0.9457112968565712,
          0.6776046274326826,
          0.33500850574965424,
          0.06429840241799067,
          0.49456361203696464,
          0.8435460645595105,
          0.04067500842771199,
          0.5789968830208606,
          0.7133145677643881,
          0.8972074154015114,
          0.5741283590344698,
          0.7535707869668855,
          0.9653708866215502,
          0.30912127814696055,
          0.9753562875928239,
          0.07659204572598322,
          0.4855520961623818,
          0.9598196783663728,
          0.7397413577801413,
          0.19734930669571338,
          0.21214518489928313,
          0.5413714780461003,
          0.2989055031523594,
          0.0445049126513396,
          0.6106028543512637,
          0.567534044082875,
          0.9721287395080479,
          0.24041466595520877,
          0.9449142077840208,
          0.42594120779842437,
          0.7694062974208946,
          0.816962257037902,
          0.17238212256315655,
          0.8743331885829791,
          0.9085903741068485,
          0.08114716480876283,
          0.7392627420348479,
          0.9772218807204641,
          0.6581784858353785,
          0.9862373190591623,
          0.4568767290746719,
          0.1508504222057825,
          0.5066371120721531,
          0.7098503933406776,
          0.6085154386124608,
          0.7145650216601073,
          0.19859958292355118,
          0.6314838903661684,
          0.39901371805426544,
          0.5502944733108335,
          0.07326063771069646,
          0.5252872769483579,
          0.5595443359199435,
          0.8469130881525487,
          0.2543782400168928,
          0.8791215937301804,
          0.6386572888483397,
          0.10505967986733977,
          0.5605557403311213,
          0.48317045048453044,
          0.30078499028556493,
          0.4984855163323506,
          0.18721860722835126,
          0.2199248786553436,
          0.17276853819176408,
          0.19335750616629532,
          0.9961409692745002,
          0.14597884481689916,
          0.0694428590288031,
          0.8092665679436554,
          0.33723798695016716,
          0.5048914413092419,
          0.8594186141877432,
          0.16335092181242572,
          0.6231978032415111,
          0.5471195298239976,
          0.09557593552264565,
          0.07143931852587215,
          0.005151239178121214,
          0.7472799136223178,
          0.09049693994982588,
          0.4470149735389283,
          0.7305894797030132,
          0.5280523226991469,
          0.8538296504678102,
          0.5753398036708376,
          0.5426276816273093,
          0.9343435312651819,
          0.4950951966210053,
          0.4254864339849018,
          0.5806840806988296,
          0.9511085331715369
         ],
         "xaxis": "x11",
         "yaxis": "y11"
        },
        {
         "line": {
          "color": "rgba(128, 128, 128, 1.0)",
          "dash": "solid",
          "shape": "linear",
          "width": 1.3
         },
         "marker": {
          "size": 2,
          "symbol": "circle"
         },
         "mode": "markers",
         "name": "C",
         "text": "",
         "type": "scatter",
         "x": [
          0.2693588004837245,
          0.7272376744767046,
          0.0847459573319197,
          0.9937065190610479,
          0.058979216584439276,
          0.7622243653969791,
          0.9852284156957358,
          0.5217777899952714,
          0.8187346018004542,
          0.39271165520681495,
          0.039639228594526954,
          0.6437254368053777,
          0.8825141197735623,
          0.07574987820954049,
          0.5659210897360782,
          0.7919953924615094,
          0.9896663440068089,
          0.24383501741632607,
          0.2174408233972125,
          0.7134201104202477,
          0.16855303189851112,
          0.8260489883427669,
          0.9162604808441045,
          0.5405688554116973,
          0.2385221459931568,
          0.5391044062278301,
          0.14135417823709062,
          0.7960627517303884,
          0.8420270044490886,
          0.2751570030123761,
          0.6484374134383162,
          0.936219920583301,
          0.12018818740336179,
          0.6802469298909554,
          0.027667402357477777,
          0.7534263183190321,
          0.15200668988058286,
          0.6379082749707069,
          0.48047129472150074,
          0.4677435754467977,
          0.4333959428618087,
          0.9012651744296631,
          0.16509096487816866,
          0.6490104765306842,
          0.6059604121331397,
          0.4990463341810545,
          0.9345744212388576,
          0.3799903412993587,
          0.18932606705713617,
          0.25346642681024234,
          0.9207633626005549,
          0.41545596150652353,
          0.4533645712239097,
          0.6506416140340825,
          0.6997162015812407,
          0.8852986916095966,
          0.37498778315958636,
          0.8314429697596049,
          0.13502673435385026,
          0.8979987612536348,
          0.3639429691100261,
          0.745483313257713,
          0.06578331168267948,
          0.4951905039218433,
          0.2532640224024172,
          0.719730115612484,
          0.5143268751173564,
          0.25421150057041175,
          0.3389942817348648,
          0.19850257012175643,
          0.20028652781703737,
          0.6651212562701333,
          0.529278813042016,
          0.042062130810310405,
          0.44112869964487167,
          0.6920514932823784,
          0.021164503749724117,
          0.44750287035257597,
          0.56472684426539,
          0.7019277928315436,
          0.5851064665714394,
          0.21020198044309035,
          0.2096339470898173,
          0.3932379119941055,
          0.4408019823537771,
          0.2583760972068493,
          0.6834895150994145,
          0.08900119437390264,
          0.8809772440190711,
          0.716312394923501,
          0.744839320051633,
          0.9786104201487468,
          0.18725208453496445,
          0.27887369246250304,
          0.05885105673928237,
          0.672260988708463,
          0.04236419271147529,
          0.8130830659218616,
          0.251040476355191,
          0.2879237577645707
         ],
         "xaxis": "x12",
         "y": [
          0.21526701000752835,
          0.7143715175733945,
          0.09571325034684763,
          0.937765146045614,
          0.32891164884086554,
          0.1708499619190198,
          0.5028151642353679,
          0.7745194342439721,
          0.9457112968565712,
          0.6776046274326826,
          0.33500850574965424,
          0.06429840241799067,
          0.49456361203696464,
          0.8435460645595105,
          0.04067500842771199,
          0.5789968830208606,
          0.7133145677643881,
          0.8972074154015114,
          0.5741283590344698,
          0.7535707869668855,
          0.9653708866215502,
          0.30912127814696055,
          0.9753562875928239,
          0.07659204572598322,
          0.4855520961623818,
          0.9598196783663728,
          0.7397413577801413,
          0.19734930669571338,
          0.21214518489928313,
          0.5413714780461003,
          0.2989055031523594,
          0.0445049126513396,
          0.6106028543512637,
          0.567534044082875,
          0.9721287395080479,
          0.24041466595520877,
          0.9449142077840208,
          0.42594120779842437,
          0.7694062974208946,
          0.816962257037902,
          0.17238212256315655,
          0.8743331885829791,
          0.9085903741068485,
          0.08114716480876283,
          0.7392627420348479,
          0.9772218807204641,
          0.6581784858353785,
          0.9862373190591623,
          0.4568767290746719,
          0.1508504222057825,
          0.5066371120721531,
          0.7098503933406776,
          0.6085154386124608,
          0.7145650216601073,
          0.19859958292355118,
          0.6314838903661684,
          0.39901371805426544,
          0.5502944733108335,
          0.07326063771069646,
          0.5252872769483579,
          0.5595443359199435,
          0.8469130881525487,
          0.2543782400168928,
          0.8791215937301804,
          0.6386572888483397,
          0.10505967986733977,
          0.5605557403311213,
          0.48317045048453044,
          0.30078499028556493,
          0.4984855163323506,
          0.18721860722835126,
          0.2199248786553436,
          0.17276853819176408,
          0.19335750616629532,
          0.9961409692745002,
          0.14597884481689916,
          0.0694428590288031,
          0.8092665679436554,
          0.33723798695016716,
          0.5048914413092419,
          0.8594186141877432,
          0.16335092181242572,
          0.6231978032415111,
          0.5471195298239976,
          0.09557593552264565,
          0.07143931852587215,
          0.005151239178121214,
          0.7472799136223178,
          0.09049693994982588,
          0.4470149735389283,
          0.7305894797030132,
          0.5280523226991469,
          0.8538296504678102,
          0.5753398036708376,
          0.5426276816273093,
          0.9343435312651819,
          0.4950951966210053,
          0.4254864339849018,
          0.5806840806988296,
          0.9511085331715369
         ],
         "yaxis": "y12"
        },
        {
         "line": {
          "color": "rgba(128, 128, 128, 1.0)",
          "dash": "solid",
          "shape": "linear",
          "width": 1.3
         },
         "marker": {
          "size": 2,
          "symbol": "circle"
         },
         "mode": "markers",
         "name": "D",
         "text": "",
         "type": "scatter",
         "x": [
          0.932905871818665,
          0.7990174600691328,
          0.6578805504982351,
          0.42756675450495063,
          0.17016560945553538,
          0.9055605402234296,
          0.28956721012351794,
          0.9526365568361495,
          0.4704206036221772,
          0.15226207946635395,
          0.6033907891545828,
          0.25099507114325215,
          0.005340848698156209,
          0.06533954296997113,
          0.2733035065352758,
          0.7569540823349571,
          0.8287187216757339,
          0.9828434948732078,
          0.8112812748144534,
          0.11076655847239603,
          0.8427519466173623,
          0.48859212569623023,
          0.14388465522460525,
          0.7539262751473198,
          0.44536556957401285,
          0.6697446611280005,
          0.22529636723346758,
          0.1161697303217627,
          0.17033135947771694,
          0.8325617982448972,
          0.5472341085707088,
          0.9669549164451002,
          0.2475954496771967,
          0.7497201100591544,
          0.9614999013831749,
          0.9396975077487425,
          0.7886648046959303,
          0.32590228659881226,
          0.10777157469033649,
          0.9978991786775343,
          0.2858415228843155,
          0.6851206557024384,
          0.38805256481020434,
          0.66109234467044,
          0.8860133534619254,
          0.4213642506242049,
          0.6743198570628508,
          0.6656479537489318,
          0.6065373124800183,
          0.25201673938694813,
          0.05030904571130845,
          0.41401213743180143,
          0.7189393436873426,
          0.929605937977888,
          0.07023729970534354,
          0.24038644001958465,
          0.632063691457217,
          0.22957645221162015,
          0.3195747648987325,
          0.541666475373368,
          0.5441038434692387,
          0.40778259724468047,
          0.225862802881601,
          0.4796028398481794,
          0.324652204581544,
          0.2019367580104594,
          0.10974428746289655,
          0.49763556945229526,
          0.8090999624543773,
          0.2272057880828694,
          0.45397874065463384,
          0.0019187911166977933,
          0.29377614301111055,
          0.38409997076807334,
          0.8271701737676631,
          0.7547418326906155,
          0.36069997849644286,
          0.2192185020931785,
          0.5528882226439371,
          0.20041778808758937,
          0.9888650720711814,
          0.8152424257042555,
          0.268685081062804,
          0.06431056149944225,
          0.6603049664873818,
          0.9327983811523727,
          0.9288223580133821,
          0.39899359519867517,
          0.05168668161792522,
          0.9340152735254715,
          0.862099704697694,
          0.9403696989535826,
          0.4790804197177635,
          0.19592031989218983,
          0.3086533524159172,
          0.22181010617622876,
          0.7582898233439308,
          0.6162874446229667,
          0.8829991970982982,
          0.5875930166320611
         ],
         "xaxis": "x13",
         "y": [
          0.2693588004837245,
          0.7272376744767046,
          0.0847459573319197,
          0.9937065190610479,
          0.058979216584439276,
          0.7622243653969791,
          0.9852284156957358,
          0.5217777899952714,
          0.8187346018004542,
          0.39271165520681495,
          0.039639228594526954,
          0.6437254368053777,
          0.8825141197735623,
          0.07574987820954049,
          0.5659210897360782,
          0.7919953924615094,
          0.9896663440068089,
          0.24383501741632607,
          0.2174408233972125,
          0.7134201104202477,
          0.16855303189851112,
          0.8260489883427669,
          0.9162604808441045,
          0.5405688554116973,
          0.2385221459931568,
          0.5391044062278301,
          0.14135417823709062,
          0.7960627517303884,
          0.8420270044490886,
          0.2751570030123761,
          0.6484374134383162,
          0.936219920583301,
          0.12018818740336179,
          0.6802469298909554,
          0.027667402357477777,
          0.7534263183190321,
          0.15200668988058286,
          0.6379082749707069,
          0.48047129472150074,
          0.4677435754467977,
          0.4333959428618087,
          0.9012651744296631,
          0.16509096487816866,
          0.6490104765306842,
          0.6059604121331397,
          0.4990463341810545,
          0.9345744212388576,
          0.3799903412993587,
          0.18932606705713617,
          0.25346642681024234,
          0.9207633626005549,
          0.41545596150652353,
          0.4533645712239097,
          0.6506416140340825,
          0.6997162015812407,
          0.8852986916095966,
          0.37498778315958636,
          0.8314429697596049,
          0.13502673435385026,
          0.8979987612536348,
          0.3639429691100261,
          0.745483313257713,
          0.06578331168267948,
          0.4951905039218433,
          0.2532640224024172,
          0.719730115612484,
          0.5143268751173564,
          0.25421150057041175,
          0.3389942817348648,
          0.19850257012175643,
          0.20028652781703737,
          0.6651212562701333,
          0.529278813042016,
          0.042062130810310405,
          0.44112869964487167,
          0.6920514932823784,
          0.021164503749724117,
          0.44750287035257597,
          0.56472684426539,
          0.7019277928315436,
          0.5851064665714394,
          0.21020198044309035,
          0.2096339470898173,
          0.3932379119941055,
          0.4408019823537771,
          0.2583760972068493,
          0.6834895150994145,
          0.08900119437390264,
          0.8809772440190711,
          0.716312394923501,
          0.744839320051633,
          0.9786104201487468,
          0.18725208453496445,
          0.27887369246250304,
          0.05885105673928237,
          0.672260988708463,
          0.04236419271147529,
          0.8130830659218616,
          0.251040476355191,
          0.2879237577645707
         ],
         "yaxis": "y13"
        },
        {
         "line": {
          "color": "rgba(128, 128, 128, 1.0)",
          "dash": "solid",
          "shape": "linear",
          "width": 1.3
         },
         "marker": {
          "size": 2,
          "symbol": "circle"
         },
         "mode": "markers",
         "name": "D",
         "text": "",
         "type": "scatter",
         "x": [
          0.1420989997204274,
          0.16272302776698333,
          0.5510418624633832,
          0.7810968428085451,
          0.974301807852817,
          0.6471915985690905,
          0.21234414860461104,
          0.9076787921118685,
          0.5664836023015972,
          0.7700135430908135,
          0.5253479398485718,
          0.5241714927399055,
          0.4301101655038079,
          0.8199434200022369,
          0.8127534054878676,
          0.047738991932165464,
          0.5349971488824744,
          0.5882683336930767,
          0.5135454203297177,
          0.04071727445935902,
          0.7200244546048392,
          0.8900719747838537,
          0.9865349592432118,
          0.4371129801660866,
          0.3243903451602598,
          0.5076790757069931,
          0.8525163039447864,
          0.566288953632173,
          0.1654817274784377,
          0.29662449110709144,
          0.3477905086317059,
          0.5059376256724428,
          0.6325085839762339,
          0.1448234277272753,
          0.7470284948374725,
          0.29546772497391927,
          0.3552949972380134,
          0.6366411169592828,
          0.4697823842392852,
          0.5319954083505593,
          0.9933995867373235,
          0.9070847709211363,
          0.6667901671187938,
          0.26101265540922325,
          0.330798623844741,
          0.2379799719882747,
          0.7825867856735038,
          0.20795006027228824,
          0.7311397165709611,
          0.48004107134623486,
          0.8661826114431671,
          0.8806199971587744,
          0.9106636500545815,
          0.12768512772204432,
          0.058033915607826,
          0.12820324272821748,
          0.09909743280436667,
          0.4903313130260817,
          0.6367265819917569,
          0.8636576164807224,
          0.33879757104565233,
          0.6733604397968099,
          0.9166751994743604,
          0.8253133157026932,
          0.6193553471911393,
          0.899112078299836,
          0.9577354173244566,
          0.55673671056099,
          0.2887334137560843,
          0.5571212721073879,
          0.19238618294946197,
          0.39814105892230056,
          0.011906309498581402,
          0.15563058187450685,
          0.16007112287112124,
          0.08737201724425192,
          0.43020181136608315,
          0.44598215676077313,
          0.8596018665391401,
          0.012053338547065806,
          0.8455576896774778,
          0.34822730875600516,
          0.5849194869804503,
          0.7212007626939569,
          0.4279290374816803,
          0.2493311030777,
          0.13133372297632728,
          0.32764216948557945,
          0.7019104372779333,
          0.37703502274650014,
          0.2779812489593061,
          0.909981378748785,
          0.5605431426633933,
          0.26479676439354294,
          0.02176661782524547,
          0.7235964641179009,
          0.7164017718719706,
          0.28682585808982264,
          0.9860956241904728,
          0.07634445227262043
         ],
         "xaxis": "x14",
         "y": [
          0.2693588004837245,
          0.7272376744767046,
          0.0847459573319197,
          0.9937065190610479,
          0.058979216584439276,
          0.7622243653969791,
          0.9852284156957358,
          0.5217777899952714,
          0.8187346018004542,
          0.39271165520681495,
          0.039639228594526954,
          0.6437254368053777,
          0.8825141197735623,
          0.07574987820954049,
          0.5659210897360782,
          0.7919953924615094,
          0.9896663440068089,
          0.24383501741632607,
          0.2174408233972125,
          0.7134201104202477,
          0.16855303189851112,
          0.8260489883427669,
          0.9162604808441045,
          0.5405688554116973,
          0.2385221459931568,
          0.5391044062278301,
          0.14135417823709062,
          0.7960627517303884,
          0.8420270044490886,
          0.2751570030123761,
          0.6484374134383162,
          0.936219920583301,
          0.12018818740336179,
          0.6802469298909554,
          0.027667402357477777,
          0.7534263183190321,
          0.15200668988058286,
          0.6379082749707069,
          0.48047129472150074,
          0.4677435754467977,
          0.4333959428618087,
          0.9012651744296631,
          0.16509096487816866,
          0.6490104765306842,
          0.6059604121331397,
          0.4990463341810545,
          0.9345744212388576,
          0.3799903412993587,
          0.18932606705713617,
          0.25346642681024234,
          0.9207633626005549,
          0.41545596150652353,
          0.4533645712239097,
          0.6506416140340825,
          0.6997162015812407,
          0.8852986916095966,
          0.37498778315958636,
          0.8314429697596049,
          0.13502673435385026,
          0.8979987612536348,
          0.3639429691100261,
          0.745483313257713,
          0.06578331168267948,
          0.4951905039218433,
          0.2532640224024172,
          0.719730115612484,
          0.5143268751173564,
          0.25421150057041175,
          0.3389942817348648,
          0.19850257012175643,
          0.20028652781703737,
          0.6651212562701333,
          0.529278813042016,
          0.042062130810310405,
          0.44112869964487167,
          0.6920514932823784,
          0.021164503749724117,
          0.44750287035257597,
          0.56472684426539,
          0.7019277928315436,
          0.5851064665714394,
          0.21020198044309035,
          0.2096339470898173,
          0.3932379119941055,
          0.4408019823537771,
          0.2583760972068493,
          0.6834895150994145,
          0.08900119437390264,
          0.8809772440190711,
          0.716312394923501,
          0.744839320051633,
          0.9786104201487468,
          0.18725208453496445,
          0.27887369246250304,
          0.05885105673928237,
          0.672260988708463,
          0.04236419271147529,
          0.8130830659218616,
          0.251040476355191,
          0.2879237577645707
         ],
         "yaxis": "y14"
        },
        {
         "line": {
          "color": "rgba(128, 128, 128, 1.0)",
          "dash": "solid",
          "shape": "linear",
          "width": 1.3
         },
         "marker": {
          "size": 2,
          "symbol": "circle"
         },
         "mode": "markers",
         "name": "D",
         "text": "",
         "type": "scatter",
         "x": [
          0.21526701000752835,
          0.7143715175733945,
          0.09571325034684763,
          0.937765146045614,
          0.32891164884086554,
          0.1708499619190198,
          0.5028151642353679,
          0.7745194342439721,
          0.9457112968565712,
          0.6776046274326826,
          0.33500850574965424,
          0.06429840241799067,
          0.49456361203696464,
          0.8435460645595105,
          0.04067500842771199,
          0.5789968830208606,
          0.7133145677643881,
          0.8972074154015114,
          0.5741283590344698,
          0.7535707869668855,
          0.9653708866215502,
          0.30912127814696055,
          0.9753562875928239,
          0.07659204572598322,
          0.4855520961623818,
          0.9598196783663728,
          0.7397413577801413,
          0.19734930669571338,
          0.21214518489928313,
          0.5413714780461003,
          0.2989055031523594,
          0.0445049126513396,
          0.6106028543512637,
          0.567534044082875,
          0.9721287395080479,
          0.24041466595520877,
          0.9449142077840208,
          0.42594120779842437,
          0.7694062974208946,
          0.816962257037902,
          0.17238212256315655,
          0.8743331885829791,
          0.9085903741068485,
          0.08114716480876283,
          0.7392627420348479,
          0.9772218807204641,
          0.6581784858353785,
          0.9862373190591623,
          0.4568767290746719,
          0.1508504222057825,
          0.5066371120721531,
          0.7098503933406776,
          0.6085154386124608,
          0.7145650216601073,
          0.19859958292355118,
          0.6314838903661684,
          0.39901371805426544,
          0.5502944733108335,
          0.07326063771069646,
          0.5252872769483579,
          0.5595443359199435,
          0.8469130881525487,
          0.2543782400168928,
          0.8791215937301804,
          0.6386572888483397,
          0.10505967986733977,
          0.5605557403311213,
          0.48317045048453044,
          0.30078499028556493,
          0.4984855163323506,
          0.18721860722835126,
          0.2199248786553436,
          0.17276853819176408,
          0.19335750616629532,
          0.9961409692745002,
          0.14597884481689916,
          0.0694428590288031,
          0.8092665679436554,
          0.33723798695016716,
          0.5048914413092419,
          0.8594186141877432,
          0.16335092181242572,
          0.6231978032415111,
          0.5471195298239976,
          0.09557593552264565,
          0.07143931852587215,
          0.005151239178121214,
          0.7472799136223178,
          0.09049693994982588,
          0.4470149735389283,
          0.7305894797030132,
          0.5280523226991469,
          0.8538296504678102,
          0.5753398036708376,
          0.5426276816273093,
          0.9343435312651819,
          0.4950951966210053,
          0.4254864339849018,
          0.5806840806988296,
          0.9511085331715369
         ],
         "xaxis": "x15",
         "y": [
          0.2693588004837245,
          0.7272376744767046,
          0.0847459573319197,
          0.9937065190610479,
          0.058979216584439276,
          0.7622243653969791,
          0.9852284156957358,
          0.5217777899952714,
          0.8187346018004542,
          0.39271165520681495,
          0.039639228594526954,
          0.6437254368053777,
          0.8825141197735623,
          0.07574987820954049,
          0.5659210897360782,
          0.7919953924615094,
          0.9896663440068089,
          0.24383501741632607,
          0.2174408233972125,
          0.7134201104202477,
          0.16855303189851112,
          0.8260489883427669,
          0.9162604808441045,
          0.5405688554116973,
          0.2385221459931568,
          0.5391044062278301,
          0.14135417823709062,
          0.7960627517303884,
          0.8420270044490886,
          0.2751570030123761,
          0.6484374134383162,
          0.936219920583301,
          0.12018818740336179,
          0.6802469298909554,
          0.027667402357477777,
          0.7534263183190321,
          0.15200668988058286,
          0.6379082749707069,
          0.48047129472150074,
          0.4677435754467977,
          0.4333959428618087,
          0.9012651744296631,
          0.16509096487816866,
          0.6490104765306842,
          0.6059604121331397,
          0.4990463341810545,
          0.9345744212388576,
          0.3799903412993587,
          0.18932606705713617,
          0.25346642681024234,
          0.9207633626005549,
          0.41545596150652353,
          0.4533645712239097,
          0.6506416140340825,
          0.6997162015812407,
          0.8852986916095966,
          0.37498778315958636,
          0.8314429697596049,
          0.13502673435385026,
          0.8979987612536348,
          0.3639429691100261,
          0.745483313257713,
          0.06578331168267948,
          0.4951905039218433,
          0.2532640224024172,
          0.719730115612484,
          0.5143268751173564,
          0.25421150057041175,
          0.3389942817348648,
          0.19850257012175643,
          0.20028652781703737,
          0.6651212562701333,
          0.529278813042016,
          0.042062130810310405,
          0.44112869964487167,
          0.6920514932823784,
          0.021164503749724117,
          0.44750287035257597,
          0.56472684426539,
          0.7019277928315436,
          0.5851064665714394,
          0.21020198044309035,
          0.2096339470898173,
          0.3932379119941055,
          0.4408019823537771,
          0.2583760972068493,
          0.6834895150994145,
          0.08900119437390264,
          0.8809772440190711,
          0.716312394923501,
          0.744839320051633,
          0.9786104201487468,
          0.18725208453496445,
          0.27887369246250304,
          0.05885105673928237,
          0.672260988708463,
          0.04236419271147529,
          0.8130830659218616,
          0.251040476355191,
          0.2879237577645707
         ],
         "yaxis": "y15"
        },
        {
         "histfunc": "count",
         "histnorm": "",
         "marker": {
          "color": "rgba(128, 0, 128, 1.0)",
          "line": {
           "color": "#4D5663",
           "width": 1.3
          }
         },
         "name": "D",
         "nbinsx": 10,
         "opacity": 0.8,
         "orientation": "v",
         "type": "histogram",
         "x": [
          0.2693588004837245,
          0.7272376744767046,
          0.0847459573319197,
          0.9937065190610479,
          0.058979216584439276,
          0.7622243653969791,
          0.9852284156957358,
          0.5217777899952714,
          0.8187346018004542,
          0.39271165520681495,
          0.039639228594526954,
          0.6437254368053777,
          0.8825141197735623,
          0.07574987820954049,
          0.5659210897360782,
          0.7919953924615094,
          0.9896663440068089,
          0.24383501741632607,
          0.2174408233972125,
          0.7134201104202477,
          0.16855303189851112,
          0.8260489883427669,
          0.9162604808441045,
          0.5405688554116973,
          0.2385221459931568,
          0.5391044062278301,
          0.14135417823709062,
          0.7960627517303884,
          0.8420270044490886,
          0.2751570030123761,
          0.6484374134383162,
          0.936219920583301,
          0.12018818740336179,
          0.6802469298909554,
          0.027667402357477777,
          0.7534263183190321,
          0.15200668988058286,
          0.6379082749707069,
          0.48047129472150074,
          0.4677435754467977,
          0.4333959428618087,
          0.9012651744296631,
          0.16509096487816866,
          0.6490104765306842,
          0.6059604121331397,
          0.4990463341810545,
          0.9345744212388576,
          0.3799903412993587,
          0.18932606705713617,
          0.25346642681024234,
          0.9207633626005549,
          0.41545596150652353,
          0.4533645712239097,
          0.6506416140340825,
          0.6997162015812407,
          0.8852986916095966,
          0.37498778315958636,
          0.8314429697596049,
          0.13502673435385026,
          0.8979987612536348,
          0.3639429691100261,
          0.745483313257713,
          0.06578331168267948,
          0.4951905039218433,
          0.2532640224024172,
          0.719730115612484,
          0.5143268751173564,
          0.25421150057041175,
          0.3389942817348648,
          0.19850257012175643,
          0.20028652781703737,
          0.6651212562701333,
          0.529278813042016,
          0.042062130810310405,
          0.44112869964487167,
          0.6920514932823784,
          0.021164503749724117,
          0.44750287035257597,
          0.56472684426539,
          0.7019277928315436,
          0.5851064665714394,
          0.21020198044309035,
          0.2096339470898173,
          0.3932379119941055,
          0.4408019823537771,
          0.2583760972068493,
          0.6834895150994145,
          0.08900119437390264,
          0.8809772440190711,
          0.716312394923501,
          0.744839320051633,
          0.9786104201487468,
          0.18725208453496445,
          0.27887369246250304,
          0.05885105673928237,
          0.672260988708463,
          0.04236419271147529,
          0.8130830659218616,
          0.251040476355191,
          0.2879237577645707
         ],
         "xaxis": "x16",
         "yaxis": "y16"
        }
       ],
       "layout": {
        "bargap": 0.02,
        "legend": {
         "bgcolor": "#F5F6F9",
         "font": {
          "color": "#4D5663"
         }
        },
        "paper_bgcolor": "#F5F6F9",
        "plot_bgcolor": "#F5F6F9",
        "showlegend": false,
        "template": {
         "data": {
          "bar": [
           {
            "error_x": {
             "color": "#2a3f5f"
            },
            "error_y": {
             "color": "#2a3f5f"
            },
            "marker": {
             "line": {
              "color": "#E5ECF6",
              "width": 0.5
             }
            },
            "type": "bar"
           }
          ],
          "barpolar": [
           {
            "marker": {
             "line": {
              "color": "#E5ECF6",
              "width": 0.5
             }
            },
            "type": "barpolar"
           }
          ],
          "carpet": [
           {
            "aaxis": {
             "endlinecolor": "#2a3f5f",
             "gridcolor": "white",
             "linecolor": "white",
             "minorgridcolor": "white",
             "startlinecolor": "#2a3f5f"
            },
            "baxis": {
             "endlinecolor": "#2a3f5f",
             "gridcolor": "white",
             "linecolor": "white",
             "minorgridcolor": "white",
             "startlinecolor": "#2a3f5f"
            },
            "type": "carpet"
           }
          ],
          "choropleth": [
           {
            "colorbar": {
             "outlinewidth": 0,
             "ticks": ""
            },
            "type": "choropleth"
           }
          ],
          "contour": [
           {
            "colorbar": {
             "outlinewidth": 0,
             "ticks": ""
            },
            "colorscale": [
             [
              0,
              "#0d0887"
             ],
             [
              0.1111111111111111,
              "#46039f"
             ],
             [
              0.2222222222222222,
              "#7201a8"
             ],
             [
              0.3333333333333333,
              "#9c179e"
             ],
             [
              0.4444444444444444,
              "#bd3786"
             ],
             [
              0.5555555555555556,
              "#d8576b"
             ],
             [
              0.6666666666666666,
              "#ed7953"
             ],
             [
              0.7777777777777778,
              "#fb9f3a"
             ],
             [
              0.8888888888888888,
              "#fdca26"
             ],
             [
              1,
              "#f0f921"
             ]
            ],
            "type": "contour"
           }
          ],
          "contourcarpet": [
           {
            "colorbar": {
             "outlinewidth": 0,
             "ticks": ""
            },
            "type": "contourcarpet"
           }
          ],
          "heatmap": [
           {
            "colorbar": {
             "outlinewidth": 0,
             "ticks": ""
            },
            "colorscale": [
             [
              0,
              "#0d0887"
             ],
             [
              0.1111111111111111,
              "#46039f"
             ],
             [
              0.2222222222222222,
              "#7201a8"
             ],
             [
              0.3333333333333333,
              "#9c179e"
             ],
             [
              0.4444444444444444,
              "#bd3786"
             ],
             [
              0.5555555555555556,
              "#d8576b"
             ],
             [
              0.6666666666666666,
              "#ed7953"
             ],
             [
              0.7777777777777778,
              "#fb9f3a"
             ],
             [
              0.8888888888888888,
              "#fdca26"
             ],
             [
              1,
              "#f0f921"
             ]
            ],
            "type": "heatmap"
           }
          ],
          "heatmapgl": [
           {
            "colorbar": {
             "outlinewidth": 0,
             "ticks": ""
            },
            "colorscale": [
             [
              0,
              "#0d0887"
             ],
             [
              0.1111111111111111,
              "#46039f"
             ],
             [
              0.2222222222222222,
              "#7201a8"
             ],
             [
              0.3333333333333333,
              "#9c179e"
             ],
             [
              0.4444444444444444,
              "#bd3786"
             ],
             [
              0.5555555555555556,
              "#d8576b"
             ],
             [
              0.6666666666666666,
              "#ed7953"
             ],
             [
              0.7777777777777778,
              "#fb9f3a"
             ],
             [
              0.8888888888888888,
              "#fdca26"
             ],
             [
              1,
              "#f0f921"
             ]
            ],
            "type": "heatmapgl"
           }
          ],
          "histogram": [
           {
            "marker": {
             "colorbar": {
              "outlinewidth": 0,
              "ticks": ""
             }
            },
            "type": "histogram"
           }
          ],
          "histogram2d": [
           {
            "colorbar": {
             "outlinewidth": 0,
             "ticks": ""
            },
            "colorscale": [
             [
              0,
              "#0d0887"
             ],
             [
              0.1111111111111111,
              "#46039f"
             ],
             [
              0.2222222222222222,
              "#7201a8"
             ],
             [
              0.3333333333333333,
              "#9c179e"
             ],
             [
              0.4444444444444444,
              "#bd3786"
             ],
             [
              0.5555555555555556,
              "#d8576b"
             ],
             [
              0.6666666666666666,
              "#ed7953"
             ],
             [
              0.7777777777777778,
              "#fb9f3a"
             ],
             [
              0.8888888888888888,
              "#fdca26"
             ],
             [
              1,
              "#f0f921"
             ]
            ],
            "type": "histogram2d"
           }
          ],
          "histogram2dcontour": [
           {
            "colorbar": {
             "outlinewidth": 0,
             "ticks": ""
            },
            "colorscale": [
             [
              0,
              "#0d0887"
             ],
             [
              0.1111111111111111,
              "#46039f"
             ],
             [
              0.2222222222222222,
              "#7201a8"
             ],
             [
              0.3333333333333333,
              "#9c179e"
             ],
             [
              0.4444444444444444,
              "#bd3786"
             ],
             [
              0.5555555555555556,
              "#d8576b"
             ],
             [
              0.6666666666666666,
              "#ed7953"
             ],
             [
              0.7777777777777778,
              "#fb9f3a"
             ],
             [
              0.8888888888888888,
              "#fdca26"
             ],
             [
              1,
              "#f0f921"
             ]
            ],
            "type": "histogram2dcontour"
           }
          ],
          "mesh3d": [
           {
            "colorbar": {
             "outlinewidth": 0,
             "ticks": ""
            },
            "type": "mesh3d"
           }
          ],
          "parcoords": [
           {
            "line": {
             "colorbar": {
              "outlinewidth": 0,
              "ticks": ""
             }
            },
            "type": "parcoords"
           }
          ],
          "pie": [
           {
            "automargin": true,
            "type": "pie"
           }
          ],
          "scatter": [
           {
            "marker": {
             "colorbar": {
              "outlinewidth": 0,
              "ticks": ""
             }
            },
            "type": "scatter"
           }
          ],
          "scatter3d": [
           {
            "line": {
             "colorbar": {
              "outlinewidth": 0,
              "ticks": ""
             }
            },
            "marker": {
             "colorbar": {
              "outlinewidth": 0,
              "ticks": ""
             }
            },
            "type": "scatter3d"
           }
          ],
          "scattercarpet": [
           {
            "marker": {
             "colorbar": {
              "outlinewidth": 0,
              "ticks": ""
             }
            },
            "type": "scattercarpet"
           }
          ],
          "scattergeo": [
           {
            "marker": {
             "colorbar": {
              "outlinewidth": 0,
              "ticks": ""
             }
            },
            "type": "scattergeo"
           }
          ],
          "scattergl": [
           {
            "marker": {
             "colorbar": {
              "outlinewidth": 0,
              "ticks": ""
             }
            },
            "type": "scattergl"
           }
          ],
          "scattermapbox": [
           {
            "marker": {
             "colorbar": {
              "outlinewidth": 0,
              "ticks": ""
             }
            },
            "type": "scattermapbox"
           }
          ],
          "scatterpolar": [
           {
            "marker": {
             "colorbar": {
              "outlinewidth": 0,
              "ticks": ""
             }
            },
            "type": "scatterpolar"
           }
          ],
          "scatterpolargl": [
           {
            "marker": {
             "colorbar": {
              "outlinewidth": 0,
              "ticks": ""
             }
            },
            "type": "scatterpolargl"
           }
          ],
          "scatterternary": [
           {
            "marker": {
             "colorbar": {
              "outlinewidth": 0,
              "ticks": ""
             }
            },
            "type": "scatterternary"
           }
          ],
          "surface": [
           {
            "colorbar": {
             "outlinewidth": 0,
             "ticks": ""
            },
            "colorscale": [
             [
              0,
              "#0d0887"
             ],
             [
              0.1111111111111111,
              "#46039f"
             ],
             [
              0.2222222222222222,
              "#7201a8"
             ],
             [
              0.3333333333333333,
              "#9c179e"
             ],
             [
              0.4444444444444444,
              "#bd3786"
             ],
             [
              0.5555555555555556,
              "#d8576b"
             ],
             [
              0.6666666666666666,
              "#ed7953"
             ],
             [
              0.7777777777777778,
              "#fb9f3a"
             ],
             [
              0.8888888888888888,
              "#fdca26"
             ],
             [
              1,
              "#f0f921"
             ]
            ],
            "type": "surface"
           }
          ],
          "table": [
           {
            "cells": {
             "fill": {
              "color": "#EBF0F8"
             },
             "line": {
              "color": "white"
             }
            },
            "header": {
             "fill": {
              "color": "#C8D4E3"
             },
             "line": {
              "color": "white"
             }
            },
            "type": "table"
           }
          ]
         },
         "layout": {
          "annotationdefaults": {
           "arrowcolor": "#2a3f5f",
           "arrowhead": 0,
           "arrowwidth": 1
          },
          "coloraxis": {
           "colorbar": {
            "outlinewidth": 0,
            "ticks": ""
           }
          },
          "colorscale": {
           "diverging": [
            [
             0,
             "#8e0152"
            ],
            [
             0.1,
             "#c51b7d"
            ],
            [
             0.2,
             "#de77ae"
            ],
            [
             0.3,
             "#f1b6da"
            ],
            [
             0.4,
             "#fde0ef"
            ],
            [
             0.5,
             "#f7f7f7"
            ],
            [
             0.6,
             "#e6f5d0"
            ],
            [
             0.7,
             "#b8e186"
            ],
            [
             0.8,
             "#7fbc41"
            ],
            [
             0.9,
             "#4d9221"
            ],
            [
             1,
             "#276419"
            ]
           ],
           "sequential": [
            [
             0,
             "#0d0887"
            ],
            [
             0.1111111111111111,
             "#46039f"
            ],
            [
             0.2222222222222222,
             "#7201a8"
            ],
            [
             0.3333333333333333,
             "#9c179e"
            ],
            [
             0.4444444444444444,
             "#bd3786"
            ],
            [
             0.5555555555555556,
             "#d8576b"
            ],
            [
             0.6666666666666666,
             "#ed7953"
            ],
            [
             0.7777777777777778,
             "#fb9f3a"
            ],
            [
             0.8888888888888888,
             "#fdca26"
            ],
            [
             1,
             "#f0f921"
            ]
           ],
           "sequentialminus": [
            [
             0,
             "#0d0887"
            ],
            [
             0.1111111111111111,
             "#46039f"
            ],
            [
             0.2222222222222222,
             "#7201a8"
            ],
            [
             0.3333333333333333,
             "#9c179e"
            ],
            [
             0.4444444444444444,
             "#bd3786"
            ],
            [
             0.5555555555555556,
             "#d8576b"
            ],
            [
             0.6666666666666666,
             "#ed7953"
            ],
            [
             0.7777777777777778,
             "#fb9f3a"
            ],
            [
             0.8888888888888888,
             "#fdca26"
            ],
            [
             1,
             "#f0f921"
            ]
           ]
          },
          "colorway": [
           "#636efa",
           "#EF553B",
           "#00cc96",
           "#ab63fa",
           "#FFA15A",
           "#19d3f3",
           "#FF6692",
           "#B6E880",
           "#FF97FF",
           "#FECB52"
          ],
          "font": {
           "color": "#2a3f5f"
          },
          "geo": {
           "bgcolor": "white",
           "lakecolor": "white",
           "landcolor": "#E5ECF6",
           "showlakes": true,
           "showland": true,
           "subunitcolor": "white"
          },
          "hoverlabel": {
           "align": "left"
          },
          "hovermode": "closest",
          "mapbox": {
           "style": "light"
          },
          "paper_bgcolor": "white",
          "plot_bgcolor": "#E5ECF6",
          "polar": {
           "angularaxis": {
            "gridcolor": "white",
            "linecolor": "white",
            "ticks": ""
           },
           "bgcolor": "#E5ECF6",
           "radialaxis": {
            "gridcolor": "white",
            "linecolor": "white",
            "ticks": ""
           }
          },
          "scene": {
           "xaxis": {
            "backgroundcolor": "#E5ECF6",
            "gridcolor": "white",
            "gridwidth": 2,
            "linecolor": "white",
            "showbackground": true,
            "ticks": "",
            "zerolinecolor": "white"
           },
           "yaxis": {
            "backgroundcolor": "#E5ECF6",
            "gridcolor": "white",
            "gridwidth": 2,
            "linecolor": "white",
            "showbackground": true,
            "ticks": "",
            "zerolinecolor": "white"
           },
           "zaxis": {
            "backgroundcolor": "#E5ECF6",
            "gridcolor": "white",
            "gridwidth": 2,
            "linecolor": "white",
            "showbackground": true,
            "ticks": "",
            "zerolinecolor": "white"
           }
          },
          "shapedefaults": {
           "line": {
            "color": "#2a3f5f"
           }
          },
          "ternary": {
           "aaxis": {
            "gridcolor": "white",
            "linecolor": "white",
            "ticks": ""
           },
           "baxis": {
            "gridcolor": "white",
            "linecolor": "white",
            "ticks": ""
           },
           "bgcolor": "#E5ECF6",
           "caxis": {
            "gridcolor": "white",
            "linecolor": "white",
            "ticks": ""
           }
          },
          "title": {
           "x": 0.05
          },
          "xaxis": {
           "automargin": true,
           "gridcolor": "white",
           "linecolor": "white",
           "ticks": "",
           "title": {
            "standoff": 15
           },
           "zerolinecolor": "white",
           "zerolinewidth": 2
          },
          "yaxis": {
           "automargin": true,
           "gridcolor": "white",
           "linecolor": "white",
           "ticks": "",
           "title": {
            "standoff": 15
           },
           "zerolinecolor": "white",
           "zerolinewidth": 2
          }
         }
        },
        "title": {
         "font": {
          "color": "#4D5663"
         }
        },
        "xaxis": {
         "anchor": "y",
         "domain": [
          0,
          0.2125
         ],
         "gridcolor": "#E1E5ED",
         "showgrid": false,
         "tickfont": {
          "color": "#4D5663"
         },
         "title": {
          "font": {
           "color": "#4D5663"
          },
          "text": ""
         },
         "zerolinecolor": "#E1E5ED"
        },
        "xaxis10": {
         "anchor": "y10",
         "domain": [
          0.2625,
          0.475
         ],
         "gridcolor": "#E1E5ED",
         "showgrid": false,
         "tickfont": {
          "color": "#4D5663"
         },
         "title": {
          "font": {
           "color": "#4D5663"
          },
          "text": ""
         },
         "zerolinecolor": "#E1E5ED"
        },
        "xaxis11": {
         "anchor": "y11",
         "domain": [
          0.525,
          0.7375
         ],
         "gridcolor": "#E1E5ED",
         "showgrid": false,
         "tickfont": {
          "color": "#4D5663"
         },
         "title": {
          "font": {
           "color": "#4D5663"
          },
          "text": ""
         },
         "zerolinecolor": "#E1E5ED"
        },
        "xaxis12": {
         "anchor": "y12",
         "domain": [
          0.7875,
          1
         ],
         "gridcolor": "#E1E5ED",
         "showgrid": false,
         "tickfont": {
          "color": "#4D5663"
         },
         "title": {
          "font": {
           "color": "#4D5663"
          },
          "text": ""
         },
         "zerolinecolor": "#E1E5ED"
        },
        "xaxis13": {
         "anchor": "y13",
         "domain": [
          0,
          0.2125
         ],
         "gridcolor": "#E1E5ED",
         "showgrid": false,
         "tickfont": {
          "color": "#4D5663"
         },
         "title": {
          "font": {
           "color": "#4D5663"
          },
          "text": ""
         },
         "zerolinecolor": "#E1E5ED"
        },
        "xaxis14": {
         "anchor": "y14",
         "domain": [
          0.2625,
          0.475
         ],
         "gridcolor": "#E1E5ED",
         "showgrid": false,
         "tickfont": {
          "color": "#4D5663"
         },
         "title": {
          "font": {
           "color": "#4D5663"
          },
          "text": ""
         },
         "zerolinecolor": "#E1E5ED"
        },
        "xaxis15": {
         "anchor": "y15",
         "domain": [
          0.525,
          0.7375
         ],
         "gridcolor": "#E1E5ED",
         "showgrid": false,
         "tickfont": {
          "color": "#4D5663"
         },
         "title": {
          "font": {
           "color": "#4D5663"
          },
          "text": ""
         },
         "zerolinecolor": "#E1E5ED"
        },
        "xaxis16": {
         "anchor": "y16",
         "domain": [
          0.7875,
          1
         ],
         "gridcolor": "#E1E5ED",
         "showgrid": false,
         "tickfont": {
          "color": "#4D5663"
         },
         "title": {
          "font": {
           "color": "#4D5663"
          },
          "text": ""
         },
         "zerolinecolor": "#E1E5ED"
        },
        "xaxis2": {
         "anchor": "y2",
         "domain": [
          0.2625,
          0.475
         ],
         "gridcolor": "#E1E5ED",
         "showgrid": false,
         "tickfont": {
          "color": "#4D5663"
         },
         "title": {
          "font": {
           "color": "#4D5663"
          },
          "text": ""
         },
         "zerolinecolor": "#E1E5ED"
        },
        "xaxis3": {
         "anchor": "y3",
         "domain": [
          0.525,
          0.7375
         ],
         "gridcolor": "#E1E5ED",
         "showgrid": false,
         "tickfont": {
          "color": "#4D5663"
         },
         "title": {
          "font": {
           "color": "#4D5663"
          },
          "text": ""
         },
         "zerolinecolor": "#E1E5ED"
        },
        "xaxis4": {
         "anchor": "y4",
         "domain": [
          0.7875,
          1
         ],
         "gridcolor": "#E1E5ED",
         "showgrid": false,
         "tickfont": {
          "color": "#4D5663"
         },
         "title": {
          "font": {
           "color": "#4D5663"
          },
          "text": ""
         },
         "zerolinecolor": "#E1E5ED"
        },
        "xaxis5": {
         "anchor": "y5",
         "domain": [
          0,
          0.2125
         ],
         "gridcolor": "#E1E5ED",
         "showgrid": false,
         "tickfont": {
          "color": "#4D5663"
         },
         "title": {
          "font": {
           "color": "#4D5663"
          },
          "text": ""
         },
         "zerolinecolor": "#E1E5ED"
        },
        "xaxis6": {
         "anchor": "y6",
         "domain": [
          0.2625,
          0.475
         ],
         "gridcolor": "#E1E5ED",
         "showgrid": false,
         "tickfont": {
          "color": "#4D5663"
         },
         "title": {
          "font": {
           "color": "#4D5663"
          },
          "text": ""
         },
         "zerolinecolor": "#E1E5ED"
        },
        "xaxis7": {
         "anchor": "y7",
         "domain": [
          0.525,
          0.7375
         ],
         "gridcolor": "#E1E5ED",
         "showgrid": false,
         "tickfont": {
          "color": "#4D5663"
         },
         "title": {
          "font": {
           "color": "#4D5663"
          },
          "text": ""
         },
         "zerolinecolor": "#E1E5ED"
        },
        "xaxis8": {
         "anchor": "y8",
         "domain": [
          0.7875,
          1
         ],
         "gridcolor": "#E1E5ED",
         "showgrid": false,
         "tickfont": {
          "color": "#4D5663"
         },
         "title": {
          "font": {
           "color": "#4D5663"
          },
          "text": ""
         },
         "zerolinecolor": "#E1E5ED"
        },
        "xaxis9": {
         "anchor": "y9",
         "domain": [
          0,
          0.2125
         ],
         "gridcolor": "#E1E5ED",
         "showgrid": false,
         "tickfont": {
          "color": "#4D5663"
         },
         "title": {
          "font": {
           "color": "#4D5663"
          },
          "text": ""
         },
         "zerolinecolor": "#E1E5ED"
        },
        "yaxis": {
         "anchor": "x",
         "domain": [
          0.8025,
          1
         ],
         "gridcolor": "#E1E5ED",
         "showgrid": false,
         "tickfont": {
          "color": "#4D5663"
         },
         "title": {
          "font": {
           "color": "#4D5663"
          },
          "text": ""
         },
         "zerolinecolor": "#E1E5ED"
        },
        "yaxis10": {
         "anchor": "x10",
         "domain": [
          0.2675,
          0.465
         ],
         "gridcolor": "#E1E5ED",
         "showgrid": false,
         "tickfont": {
          "color": "#4D5663"
         },
         "title": {
          "font": {
           "color": "#4D5663"
          },
          "text": ""
         },
         "zerolinecolor": "#E1E5ED"
        },
        "yaxis11": {
         "anchor": "x11",
         "domain": [
          0.2675,
          0.465
         ],
         "gridcolor": "#E1E5ED",
         "showgrid": false,
         "tickfont": {
          "color": "#4D5663"
         },
         "title": {
          "font": {
           "color": "#4D5663"
          },
          "text": ""
         },
         "zerolinecolor": "#E1E5ED"
        },
        "yaxis12": {
         "anchor": "x12",
         "domain": [
          0.2675,
          0.465
         ],
         "gridcolor": "#E1E5ED",
         "showgrid": false,
         "tickfont": {
          "color": "#4D5663"
         },
         "title": {
          "font": {
           "color": "#4D5663"
          },
          "text": ""
         },
         "zerolinecolor": "#E1E5ED"
        },
        "yaxis13": {
         "anchor": "x13",
         "domain": [
          0,
          0.1975
         ],
         "gridcolor": "#E1E5ED",
         "showgrid": false,
         "tickfont": {
          "color": "#4D5663"
         },
         "title": {
          "font": {
           "color": "#4D5663"
          },
          "text": ""
         },
         "zerolinecolor": "#E1E5ED"
        },
        "yaxis14": {
         "anchor": "x14",
         "domain": [
          0,
          0.1975
         ],
         "gridcolor": "#E1E5ED",
         "showgrid": false,
         "tickfont": {
          "color": "#4D5663"
         },
         "title": {
          "font": {
           "color": "#4D5663"
          },
          "text": ""
         },
         "zerolinecolor": "#E1E5ED"
        },
        "yaxis15": {
         "anchor": "x15",
         "domain": [
          0,
          0.1975
         ],
         "gridcolor": "#E1E5ED",
         "showgrid": false,
         "tickfont": {
          "color": "#4D5663"
         },
         "title": {
          "font": {
           "color": "#4D5663"
          },
          "text": ""
         },
         "zerolinecolor": "#E1E5ED"
        },
        "yaxis16": {
         "anchor": "x16",
         "domain": [
          0,
          0.1975
         ],
         "gridcolor": "#E1E5ED",
         "showgrid": false,
         "tickfont": {
          "color": "#4D5663"
         },
         "title": {
          "font": {
           "color": "#4D5663"
          },
          "text": ""
         },
         "zerolinecolor": "#E1E5ED"
        },
        "yaxis2": {
         "anchor": "x2",
         "domain": [
          0.8025,
          1
         ],
         "gridcolor": "#E1E5ED",
         "showgrid": false,
         "tickfont": {
          "color": "#4D5663"
         },
         "title": {
          "font": {
           "color": "#4D5663"
          },
          "text": ""
         },
         "zerolinecolor": "#E1E5ED"
        },
        "yaxis3": {
         "anchor": "x3",
         "domain": [
          0.8025,
          1
         ],
         "gridcolor": "#E1E5ED",
         "showgrid": false,
         "tickfont": {
          "color": "#4D5663"
         },
         "title": {
          "font": {
           "color": "#4D5663"
          },
          "text": ""
         },
         "zerolinecolor": "#E1E5ED"
        },
        "yaxis4": {
         "anchor": "x4",
         "domain": [
          0.8025,
          1
         ],
         "gridcolor": "#E1E5ED",
         "showgrid": false,
         "tickfont": {
          "color": "#4D5663"
         },
         "title": {
          "font": {
           "color": "#4D5663"
          },
          "text": ""
         },
         "zerolinecolor": "#E1E5ED"
        },
        "yaxis5": {
         "anchor": "x5",
         "domain": [
          0.535,
          0.7325
         ],
         "gridcolor": "#E1E5ED",
         "showgrid": false,
         "tickfont": {
          "color": "#4D5663"
         },
         "title": {
          "font": {
           "color": "#4D5663"
          },
          "text": ""
         },
         "zerolinecolor": "#E1E5ED"
        },
        "yaxis6": {
         "anchor": "x6",
         "domain": [
          0.535,
          0.7325
         ],
         "gridcolor": "#E1E5ED",
         "showgrid": false,
         "tickfont": {
          "color": "#4D5663"
         },
         "title": {
          "font": {
           "color": "#4D5663"
          },
          "text": ""
         },
         "zerolinecolor": "#E1E5ED"
        },
        "yaxis7": {
         "anchor": "x7",
         "domain": [
          0.535,
          0.7325
         ],
         "gridcolor": "#E1E5ED",
         "showgrid": false,
         "tickfont": {
          "color": "#4D5663"
         },
         "title": {
          "font": {
           "color": "#4D5663"
          },
          "text": ""
         },
         "zerolinecolor": "#E1E5ED"
        },
        "yaxis8": {
         "anchor": "x8",
         "domain": [
          0.535,
          0.7325
         ],
         "gridcolor": "#E1E5ED",
         "showgrid": false,
         "tickfont": {
          "color": "#4D5663"
         },
         "title": {
          "font": {
           "color": "#4D5663"
          },
          "text": ""
         },
         "zerolinecolor": "#E1E5ED"
        },
        "yaxis9": {
         "anchor": "x9",
         "domain": [
          0.2675,
          0.465
         ],
         "gridcolor": "#E1E5ED",
         "showgrid": false,
         "tickfont": {
          "color": "#4D5663"
         },
         "title": {
          "font": {
           "color": "#4D5663"
          },
          "text": ""
         },
         "zerolinecolor": "#E1E5ED"
        }
       }
      },
      "text/html": [
       "<div>\n",
       "        \n",
       "        \n",
       "            <div id=\"443a0d3e-71e5-48dd-bf53-8c256fc3bc7a\" class=\"plotly-graph-div\" style=\"height:525px; width:100%;\"></div>\n",
       "            <script type=\"text/javascript\">\n",
       "                require([\"plotly\"], function(Plotly) {\n",
       "                    window.PLOTLYENV=window.PLOTLYENV || {};\n",
       "                    window.PLOTLYENV.BASE_URL='https://plot.ly';\n",
       "                    \n",
       "                if (document.getElementById(\"443a0d3e-71e5-48dd-bf53-8c256fc3bc7a\")) {\n",
       "                    Plotly.newPlot(\n",
       "                        '443a0d3e-71e5-48dd-bf53-8c256fc3bc7a',\n",
       "                        [{\"histfunc\": \"count\", \"histnorm\": \"\", \"marker\": {\"color\": \"rgba(255, 153, 51, 1.0)\", \"line\": {\"color\": \"#4D5663\", \"width\": 1.3}}, \"name\": \"A\", \"nbinsx\": 10, \"opacity\": 0.8, \"orientation\": \"v\", \"type\": \"histogram\", \"x\": [0.932905871818665, 0.7990174600691328, 0.6578805504982351, 0.42756675450495063, 0.17016560945553538, 0.9055605402234296, 0.28956721012351794, 0.9526365568361495, 0.4704206036221772, 0.15226207946635395, 0.6033907891545828, 0.25099507114325215, 0.005340848698156209, 0.06533954296997113, 0.2733035065352758, 0.7569540823349571, 0.8287187216757339, 0.9828434948732078, 0.8112812748144534, 0.11076655847239603, 0.8427519466173623, 0.48859212569623023, 0.14388465522460525, 0.7539262751473198, 0.44536556957401285, 0.6697446611280005, 0.22529636723346758, 0.1161697303217627, 0.17033135947771694, 0.8325617982448972, 0.5472341085707088, 0.9669549164451002, 0.2475954496771967, 0.7497201100591544, 0.9614999013831749, 0.9396975077487425, 0.7886648046959303, 0.32590228659881226, 0.10777157469033649, 0.9978991786775343, 0.2858415228843155, 0.6851206557024384, 0.38805256481020434, 0.66109234467044, 0.8860133534619254, 0.4213642506242049, 0.6743198570628508, 0.6656479537489318, 0.6065373124800183, 0.25201673938694813, 0.05030904571130845, 0.41401213743180143, 0.7189393436873426, 0.929605937977888, 0.07023729970534354, 0.24038644001958465, 0.632063691457217, 0.22957645221162015, 0.3195747648987325, 0.541666475373368, 0.5441038434692387, 0.40778259724468047, 0.225862802881601, 0.4796028398481794, 0.324652204581544, 0.2019367580104594, 0.10974428746289655, 0.49763556945229526, 0.8090999624543773, 0.2272057880828694, 0.45397874065463384, 0.0019187911166977933, 0.29377614301111055, 0.38409997076807334, 0.8271701737676631, 0.7547418326906155, 0.36069997849644286, 0.2192185020931785, 0.5528882226439371, 0.20041778808758937, 0.9888650720711814, 0.8152424257042555, 0.268685081062804, 0.06431056149944225, 0.6603049664873818, 0.9327983811523727, 0.9288223580133821, 0.39899359519867517, 0.05168668161792522, 0.9340152735254715, 0.862099704697694, 0.9403696989535826, 0.4790804197177635, 0.19592031989218983, 0.3086533524159172, 0.22181010617622876, 0.7582898233439308, 0.6162874446229667, 0.8829991970982982, 0.5875930166320611], \"xaxis\": \"x\", \"yaxis\": \"y\"}, {\"line\": {\"color\": \"rgba(128, 128, 128, 1.0)\", \"dash\": \"solid\", \"shape\": \"linear\", \"width\": 1.3}, \"marker\": {\"size\": 2, \"symbol\": \"circle\"}, \"mode\": \"markers\", \"name\": \"A\", \"text\": \"\", \"type\": \"scatter\", \"x\": [0.1420989997204274, 0.16272302776698333, 0.5510418624633832, 0.7810968428085451, 0.974301807852817, 0.6471915985690905, 0.21234414860461104, 0.9076787921118685, 0.5664836023015972, 0.7700135430908135, 0.5253479398485718, 0.5241714927399055, 0.4301101655038079, 0.8199434200022369, 0.8127534054878676, 0.047738991932165464, 0.5349971488824744, 0.5882683336930767, 0.5135454203297177, 0.04071727445935902, 0.7200244546048392, 0.8900719747838537, 0.9865349592432118, 0.4371129801660866, 0.3243903451602598, 0.5076790757069931, 0.8525163039447864, 0.566288953632173, 0.1654817274784377, 0.29662449110709144, 0.3477905086317059, 0.5059376256724428, 0.6325085839762339, 0.1448234277272753, 0.7470284948374725, 0.29546772497391927, 0.3552949972380134, 0.6366411169592828, 0.4697823842392852, 0.5319954083505593, 0.9933995867373235, 0.9070847709211363, 0.6667901671187938, 0.26101265540922325, 0.330798623844741, 0.2379799719882747, 0.7825867856735038, 0.20795006027228824, 0.7311397165709611, 0.48004107134623486, 0.8661826114431671, 0.8806199971587744, 0.9106636500545815, 0.12768512772204432, 0.058033915607826, 0.12820324272821748, 0.09909743280436667, 0.4903313130260817, 0.6367265819917569, 0.8636576164807224, 0.33879757104565233, 0.6733604397968099, 0.9166751994743604, 0.8253133157026932, 0.6193553471911393, 0.899112078299836, 0.9577354173244566, 0.55673671056099, 0.2887334137560843, 0.5571212721073879, 0.19238618294946197, 0.39814105892230056, 0.011906309498581402, 0.15563058187450685, 0.16007112287112124, 0.08737201724425192, 0.43020181136608315, 0.44598215676077313, 0.8596018665391401, 0.012053338547065806, 0.8455576896774778, 0.34822730875600516, 0.5849194869804503, 0.7212007626939569, 0.4279290374816803, 0.2493311030777, 0.13133372297632728, 0.32764216948557945, 0.7019104372779333, 0.37703502274650014, 0.2779812489593061, 0.909981378748785, 0.5605431426633933, 0.26479676439354294, 0.02176661782524547, 0.7235964641179009, 0.7164017718719706, 0.28682585808982264, 0.9860956241904728, 0.07634445227262043], \"xaxis\": \"x2\", \"y\": [0.932905871818665, 0.7990174600691328, 0.6578805504982351, 0.42756675450495063, 0.17016560945553538, 0.9055605402234296, 0.28956721012351794, 0.9526365568361495, 0.4704206036221772, 0.15226207946635395, 0.6033907891545828, 0.25099507114325215, 0.005340848698156209, 0.06533954296997113, 0.2733035065352758, 0.7569540823349571, 0.8287187216757339, 0.9828434948732078, 0.8112812748144534, 0.11076655847239603, 0.8427519466173623, 0.48859212569623023, 0.14388465522460525, 0.7539262751473198, 0.44536556957401285, 0.6697446611280005, 0.22529636723346758, 0.1161697303217627, 0.17033135947771694, 0.8325617982448972, 0.5472341085707088, 0.9669549164451002, 0.2475954496771967, 0.7497201100591544, 0.9614999013831749, 0.9396975077487425, 0.7886648046959303, 0.32590228659881226, 0.10777157469033649, 0.9978991786775343, 0.2858415228843155, 0.6851206557024384, 0.38805256481020434, 0.66109234467044, 0.8860133534619254, 0.4213642506242049, 0.6743198570628508, 0.6656479537489318, 0.6065373124800183, 0.25201673938694813, 0.05030904571130845, 0.41401213743180143, 0.7189393436873426, 0.929605937977888, 0.07023729970534354, 0.24038644001958465, 0.632063691457217, 0.22957645221162015, 0.3195747648987325, 0.541666475373368, 0.5441038434692387, 0.40778259724468047, 0.225862802881601, 0.4796028398481794, 0.324652204581544, 0.2019367580104594, 0.10974428746289655, 0.49763556945229526, 0.8090999624543773, 0.2272057880828694, 0.45397874065463384, 0.0019187911166977933, 0.29377614301111055, 0.38409997076807334, 0.8271701737676631, 0.7547418326906155, 0.36069997849644286, 0.2192185020931785, 0.5528882226439371, 0.20041778808758937, 0.9888650720711814, 0.8152424257042555, 0.268685081062804, 0.06431056149944225, 0.6603049664873818, 0.9327983811523727, 0.9288223580133821, 0.39899359519867517, 0.05168668161792522, 0.9340152735254715, 0.862099704697694, 0.9403696989535826, 0.4790804197177635, 0.19592031989218983, 0.3086533524159172, 0.22181010617622876, 0.7582898233439308, 0.6162874446229667, 0.8829991970982982, 0.5875930166320611], \"yaxis\": \"y2\"}, {\"line\": {\"color\": \"rgba(128, 128, 128, 1.0)\", \"dash\": \"solid\", \"shape\": \"linear\", \"width\": 1.3}, \"marker\": {\"size\": 2, \"symbol\": \"circle\"}, \"mode\": \"markers\", \"name\": \"A\", \"text\": \"\", \"type\": \"scatter\", \"x\": [0.21526701000752835, 0.7143715175733945, 0.09571325034684763, 0.937765146045614, 0.32891164884086554, 0.1708499619190198, 0.5028151642353679, 0.7745194342439721, 0.9457112968565712, 0.6776046274326826, 0.33500850574965424, 0.06429840241799067, 0.49456361203696464, 0.8435460645595105, 0.04067500842771199, 0.5789968830208606, 0.7133145677643881, 0.8972074154015114, 0.5741283590344698, 0.7535707869668855, 0.9653708866215502, 0.30912127814696055, 0.9753562875928239, 0.07659204572598322, 0.4855520961623818, 0.9598196783663728, 0.7397413577801413, 0.19734930669571338, 0.21214518489928313, 0.5413714780461003, 0.2989055031523594, 0.0445049126513396, 0.6106028543512637, 0.567534044082875, 0.9721287395080479, 0.24041466595520877, 0.9449142077840208, 0.42594120779842437, 0.7694062974208946, 0.816962257037902, 0.17238212256315655, 0.8743331885829791, 0.9085903741068485, 0.08114716480876283, 0.7392627420348479, 0.9772218807204641, 0.6581784858353785, 0.9862373190591623, 0.4568767290746719, 0.1508504222057825, 0.5066371120721531, 0.7098503933406776, 0.6085154386124608, 0.7145650216601073, 0.19859958292355118, 0.6314838903661684, 0.39901371805426544, 0.5502944733108335, 0.07326063771069646, 0.5252872769483579, 0.5595443359199435, 0.8469130881525487, 0.2543782400168928, 0.8791215937301804, 0.6386572888483397, 0.10505967986733977, 0.5605557403311213, 0.48317045048453044, 0.30078499028556493, 0.4984855163323506, 0.18721860722835126, 0.2199248786553436, 0.17276853819176408, 0.19335750616629532, 0.9961409692745002, 0.14597884481689916, 0.0694428590288031, 0.8092665679436554, 0.33723798695016716, 0.5048914413092419, 0.8594186141877432, 0.16335092181242572, 0.6231978032415111, 0.5471195298239976, 0.09557593552264565, 0.07143931852587215, 0.005151239178121214, 0.7472799136223178, 0.09049693994982588, 0.4470149735389283, 0.7305894797030132, 0.5280523226991469, 0.8538296504678102, 0.5753398036708376, 0.5426276816273093, 0.9343435312651819, 0.4950951966210053, 0.4254864339849018, 0.5806840806988296, 0.9511085331715369], \"xaxis\": \"x3\", \"y\": [0.932905871818665, 0.7990174600691328, 0.6578805504982351, 0.42756675450495063, 0.17016560945553538, 0.9055605402234296, 0.28956721012351794, 0.9526365568361495, 0.4704206036221772, 0.15226207946635395, 0.6033907891545828, 0.25099507114325215, 0.005340848698156209, 0.06533954296997113, 0.2733035065352758, 0.7569540823349571, 0.8287187216757339, 0.9828434948732078, 0.8112812748144534, 0.11076655847239603, 0.8427519466173623, 0.48859212569623023, 0.14388465522460525, 0.7539262751473198, 0.44536556957401285, 0.6697446611280005, 0.22529636723346758, 0.1161697303217627, 0.17033135947771694, 0.8325617982448972, 0.5472341085707088, 0.9669549164451002, 0.2475954496771967, 0.7497201100591544, 0.9614999013831749, 0.9396975077487425, 0.7886648046959303, 0.32590228659881226, 0.10777157469033649, 0.9978991786775343, 0.2858415228843155, 0.6851206557024384, 0.38805256481020434, 0.66109234467044, 0.8860133534619254, 0.4213642506242049, 0.6743198570628508, 0.6656479537489318, 0.6065373124800183, 0.25201673938694813, 0.05030904571130845, 0.41401213743180143, 0.7189393436873426, 0.929605937977888, 0.07023729970534354, 0.24038644001958465, 0.632063691457217, 0.22957645221162015, 0.3195747648987325, 0.541666475373368, 0.5441038434692387, 0.40778259724468047, 0.225862802881601, 0.4796028398481794, 0.324652204581544, 0.2019367580104594, 0.10974428746289655, 0.49763556945229526, 0.8090999624543773, 0.2272057880828694, 0.45397874065463384, 0.0019187911166977933, 0.29377614301111055, 0.38409997076807334, 0.8271701737676631, 0.7547418326906155, 0.36069997849644286, 0.2192185020931785, 0.5528882226439371, 0.20041778808758937, 0.9888650720711814, 0.8152424257042555, 0.268685081062804, 0.06431056149944225, 0.6603049664873818, 0.9327983811523727, 0.9288223580133821, 0.39899359519867517, 0.05168668161792522, 0.9340152735254715, 0.862099704697694, 0.9403696989535826, 0.4790804197177635, 0.19592031989218983, 0.3086533524159172, 0.22181010617622876, 0.7582898233439308, 0.6162874446229667, 0.8829991970982982, 0.5875930166320611], \"yaxis\": \"y3\"}, {\"line\": {\"color\": \"rgba(128, 128, 128, 1.0)\", \"dash\": \"solid\", \"shape\": \"linear\", \"width\": 1.3}, \"marker\": {\"size\": 2, \"symbol\": \"circle\"}, \"mode\": \"markers\", \"name\": \"A\", \"text\": \"\", \"type\": \"scatter\", \"x\": [0.2693588004837245, 0.7272376744767046, 0.0847459573319197, 0.9937065190610479, 0.058979216584439276, 0.7622243653969791, 0.9852284156957358, 0.5217777899952714, 0.8187346018004542, 0.39271165520681495, 0.039639228594526954, 0.6437254368053777, 0.8825141197735623, 0.07574987820954049, 0.5659210897360782, 0.7919953924615094, 0.9896663440068089, 0.24383501741632607, 0.2174408233972125, 0.7134201104202477, 0.16855303189851112, 0.8260489883427669, 0.9162604808441045, 0.5405688554116973, 0.2385221459931568, 0.5391044062278301, 0.14135417823709062, 0.7960627517303884, 0.8420270044490886, 0.2751570030123761, 0.6484374134383162, 0.936219920583301, 0.12018818740336179, 0.6802469298909554, 0.027667402357477777, 0.7534263183190321, 0.15200668988058286, 0.6379082749707069, 0.48047129472150074, 0.4677435754467977, 0.4333959428618087, 0.9012651744296631, 0.16509096487816866, 0.6490104765306842, 0.6059604121331397, 0.4990463341810545, 0.9345744212388576, 0.3799903412993587, 0.18932606705713617, 0.25346642681024234, 0.9207633626005549, 0.41545596150652353, 0.4533645712239097, 0.6506416140340825, 0.6997162015812407, 0.8852986916095966, 0.37498778315958636, 0.8314429697596049, 0.13502673435385026, 0.8979987612536348, 0.3639429691100261, 0.745483313257713, 0.06578331168267948, 0.4951905039218433, 0.2532640224024172, 0.719730115612484, 0.5143268751173564, 0.25421150057041175, 0.3389942817348648, 0.19850257012175643, 0.20028652781703737, 0.6651212562701333, 0.529278813042016, 0.042062130810310405, 0.44112869964487167, 0.6920514932823784, 0.021164503749724117, 0.44750287035257597, 0.56472684426539, 0.7019277928315436, 0.5851064665714394, 0.21020198044309035, 0.2096339470898173, 0.3932379119941055, 0.4408019823537771, 0.2583760972068493, 0.6834895150994145, 0.08900119437390264, 0.8809772440190711, 0.716312394923501, 0.744839320051633, 0.9786104201487468, 0.18725208453496445, 0.27887369246250304, 0.05885105673928237, 0.672260988708463, 0.04236419271147529, 0.8130830659218616, 0.251040476355191, 0.2879237577645707], \"xaxis\": \"x4\", \"y\": [0.932905871818665, 0.7990174600691328, 0.6578805504982351, 0.42756675450495063, 0.17016560945553538, 0.9055605402234296, 0.28956721012351794, 0.9526365568361495, 0.4704206036221772, 0.15226207946635395, 0.6033907891545828, 0.25099507114325215, 0.005340848698156209, 0.06533954296997113, 0.2733035065352758, 0.7569540823349571, 0.8287187216757339, 0.9828434948732078, 0.8112812748144534, 0.11076655847239603, 0.8427519466173623, 0.48859212569623023, 0.14388465522460525, 0.7539262751473198, 0.44536556957401285, 0.6697446611280005, 0.22529636723346758, 0.1161697303217627, 0.17033135947771694, 0.8325617982448972, 0.5472341085707088, 0.9669549164451002, 0.2475954496771967, 0.7497201100591544, 0.9614999013831749, 0.9396975077487425, 0.7886648046959303, 0.32590228659881226, 0.10777157469033649, 0.9978991786775343, 0.2858415228843155, 0.6851206557024384, 0.38805256481020434, 0.66109234467044, 0.8860133534619254, 0.4213642506242049, 0.6743198570628508, 0.6656479537489318, 0.6065373124800183, 0.25201673938694813, 0.05030904571130845, 0.41401213743180143, 0.7189393436873426, 0.929605937977888, 0.07023729970534354, 0.24038644001958465, 0.632063691457217, 0.22957645221162015, 0.3195747648987325, 0.541666475373368, 0.5441038434692387, 0.40778259724468047, 0.225862802881601, 0.4796028398481794, 0.324652204581544, 0.2019367580104594, 0.10974428746289655, 0.49763556945229526, 0.8090999624543773, 0.2272057880828694, 0.45397874065463384, 0.0019187911166977933, 0.29377614301111055, 0.38409997076807334, 0.8271701737676631, 0.7547418326906155, 0.36069997849644286, 0.2192185020931785, 0.5528882226439371, 0.20041778808758937, 0.9888650720711814, 0.8152424257042555, 0.268685081062804, 0.06431056149944225, 0.6603049664873818, 0.9327983811523727, 0.9288223580133821, 0.39899359519867517, 0.05168668161792522, 0.9340152735254715, 0.862099704697694, 0.9403696989535826, 0.4790804197177635, 0.19592031989218983, 0.3086533524159172, 0.22181010617622876, 0.7582898233439308, 0.6162874446229667, 0.8829991970982982, 0.5875930166320611], \"yaxis\": \"y4\"}, {\"line\": {\"color\": \"rgba(128, 128, 128, 1.0)\", \"dash\": \"solid\", \"shape\": \"linear\", \"width\": 1.3}, \"marker\": {\"size\": 2, \"symbol\": \"circle\"}, \"mode\": \"markers\", \"name\": \"B\", \"text\": \"\", \"type\": \"scatter\", \"x\": [0.932905871818665, 0.7990174600691328, 0.6578805504982351, 0.42756675450495063, 0.17016560945553538, 0.9055605402234296, 0.28956721012351794, 0.9526365568361495, 0.4704206036221772, 0.15226207946635395, 0.6033907891545828, 0.25099507114325215, 0.005340848698156209, 0.06533954296997113, 0.2733035065352758, 0.7569540823349571, 0.8287187216757339, 0.9828434948732078, 0.8112812748144534, 0.11076655847239603, 0.8427519466173623, 0.48859212569623023, 0.14388465522460525, 0.7539262751473198, 0.44536556957401285, 0.6697446611280005, 0.22529636723346758, 0.1161697303217627, 0.17033135947771694, 0.8325617982448972, 0.5472341085707088, 0.9669549164451002, 0.2475954496771967, 0.7497201100591544, 0.9614999013831749, 0.9396975077487425, 0.7886648046959303, 0.32590228659881226, 0.10777157469033649, 0.9978991786775343, 0.2858415228843155, 0.6851206557024384, 0.38805256481020434, 0.66109234467044, 0.8860133534619254, 0.4213642506242049, 0.6743198570628508, 0.6656479537489318, 0.6065373124800183, 0.25201673938694813, 0.05030904571130845, 0.41401213743180143, 0.7189393436873426, 0.929605937977888, 0.07023729970534354, 0.24038644001958465, 0.632063691457217, 0.22957645221162015, 0.3195747648987325, 0.541666475373368, 0.5441038434692387, 0.40778259724468047, 0.225862802881601, 0.4796028398481794, 0.324652204581544, 0.2019367580104594, 0.10974428746289655, 0.49763556945229526, 0.8090999624543773, 0.2272057880828694, 0.45397874065463384, 0.0019187911166977933, 0.29377614301111055, 0.38409997076807334, 0.8271701737676631, 0.7547418326906155, 0.36069997849644286, 0.2192185020931785, 0.5528882226439371, 0.20041778808758937, 0.9888650720711814, 0.8152424257042555, 0.268685081062804, 0.06431056149944225, 0.6603049664873818, 0.9327983811523727, 0.9288223580133821, 0.39899359519867517, 0.05168668161792522, 0.9340152735254715, 0.862099704697694, 0.9403696989535826, 0.4790804197177635, 0.19592031989218983, 0.3086533524159172, 0.22181010617622876, 0.7582898233439308, 0.6162874446229667, 0.8829991970982982, 0.5875930166320611], \"xaxis\": \"x5\", \"y\": [0.1420989997204274, 0.16272302776698333, 0.5510418624633832, 0.7810968428085451, 0.974301807852817, 0.6471915985690905, 0.21234414860461104, 0.9076787921118685, 0.5664836023015972, 0.7700135430908135, 0.5253479398485718, 0.5241714927399055, 0.4301101655038079, 0.8199434200022369, 0.8127534054878676, 0.047738991932165464, 0.5349971488824744, 0.5882683336930767, 0.5135454203297177, 0.04071727445935902, 0.7200244546048392, 0.8900719747838537, 0.9865349592432118, 0.4371129801660866, 0.3243903451602598, 0.5076790757069931, 0.8525163039447864, 0.566288953632173, 0.1654817274784377, 0.29662449110709144, 0.3477905086317059, 0.5059376256724428, 0.6325085839762339, 0.1448234277272753, 0.7470284948374725, 0.29546772497391927, 0.3552949972380134, 0.6366411169592828, 0.4697823842392852, 0.5319954083505593, 0.9933995867373235, 0.9070847709211363, 0.6667901671187938, 0.26101265540922325, 0.330798623844741, 0.2379799719882747, 0.7825867856735038, 0.20795006027228824, 0.7311397165709611, 0.48004107134623486, 0.8661826114431671, 0.8806199971587744, 0.9106636500545815, 0.12768512772204432, 0.058033915607826, 0.12820324272821748, 0.09909743280436667, 0.4903313130260817, 0.6367265819917569, 0.8636576164807224, 0.33879757104565233, 0.6733604397968099, 0.9166751994743604, 0.8253133157026932, 0.6193553471911393, 0.899112078299836, 0.9577354173244566, 0.55673671056099, 0.2887334137560843, 0.5571212721073879, 0.19238618294946197, 0.39814105892230056, 0.011906309498581402, 0.15563058187450685, 0.16007112287112124, 0.08737201724425192, 0.43020181136608315, 0.44598215676077313, 0.8596018665391401, 0.012053338547065806, 0.8455576896774778, 0.34822730875600516, 0.5849194869804503, 0.7212007626939569, 0.4279290374816803, 0.2493311030777, 0.13133372297632728, 0.32764216948557945, 0.7019104372779333, 0.37703502274650014, 0.2779812489593061, 0.909981378748785, 0.5605431426633933, 0.26479676439354294, 0.02176661782524547, 0.7235964641179009, 0.7164017718719706, 0.28682585808982264, 0.9860956241904728, 0.07634445227262043], \"yaxis\": \"y5\"}, {\"histfunc\": \"count\", \"histnorm\": \"\", \"marker\": {\"color\": \"rgba(55, 128, 191, 1.0)\", \"line\": {\"color\": \"#4D5663\", \"width\": 1.3}}, \"name\": \"B\", \"nbinsx\": 10, \"opacity\": 0.8, \"orientation\": \"v\", \"type\": \"histogram\", \"x\": [0.1420989997204274, 0.16272302776698333, 0.5510418624633832, 0.7810968428085451, 0.974301807852817, 0.6471915985690905, 0.21234414860461104, 0.9076787921118685, 0.5664836023015972, 0.7700135430908135, 0.5253479398485718, 0.5241714927399055, 0.4301101655038079, 0.8199434200022369, 0.8127534054878676, 0.047738991932165464, 0.5349971488824744, 0.5882683336930767, 0.5135454203297177, 0.04071727445935902, 0.7200244546048392, 0.8900719747838537, 0.9865349592432118, 0.4371129801660866, 0.3243903451602598, 0.5076790757069931, 0.8525163039447864, 0.566288953632173, 0.1654817274784377, 0.29662449110709144, 0.3477905086317059, 0.5059376256724428, 0.6325085839762339, 0.1448234277272753, 0.7470284948374725, 0.29546772497391927, 0.3552949972380134, 0.6366411169592828, 0.4697823842392852, 0.5319954083505593, 0.9933995867373235, 0.9070847709211363, 0.6667901671187938, 0.26101265540922325, 0.330798623844741, 0.2379799719882747, 0.7825867856735038, 0.20795006027228824, 0.7311397165709611, 0.48004107134623486, 0.8661826114431671, 0.8806199971587744, 0.9106636500545815, 0.12768512772204432, 0.058033915607826, 0.12820324272821748, 0.09909743280436667, 0.4903313130260817, 0.6367265819917569, 0.8636576164807224, 0.33879757104565233, 0.6733604397968099, 0.9166751994743604, 0.8253133157026932, 0.6193553471911393, 0.899112078299836, 0.9577354173244566, 0.55673671056099, 0.2887334137560843, 0.5571212721073879, 0.19238618294946197, 0.39814105892230056, 0.011906309498581402, 0.15563058187450685, 0.16007112287112124, 0.08737201724425192, 0.43020181136608315, 0.44598215676077313, 0.8596018665391401, 0.012053338547065806, 0.8455576896774778, 0.34822730875600516, 0.5849194869804503, 0.7212007626939569, 0.4279290374816803, 0.2493311030777, 0.13133372297632728, 0.32764216948557945, 0.7019104372779333, 0.37703502274650014, 0.2779812489593061, 0.909981378748785, 0.5605431426633933, 0.26479676439354294, 0.02176661782524547, 0.7235964641179009, 0.7164017718719706, 0.28682585808982264, 0.9860956241904728, 0.07634445227262043], \"xaxis\": \"x6\", \"yaxis\": \"y6\"}, {\"line\": {\"color\": \"rgba(128, 128, 128, 1.0)\", \"dash\": \"solid\", \"shape\": \"linear\", \"width\": 1.3}, \"marker\": {\"size\": 2, \"symbol\": \"circle\"}, \"mode\": \"markers\", \"name\": \"B\", \"text\": \"\", \"type\": \"scatter\", \"x\": [0.21526701000752835, 0.7143715175733945, 0.09571325034684763, 0.937765146045614, 0.32891164884086554, 0.1708499619190198, 0.5028151642353679, 0.7745194342439721, 0.9457112968565712, 0.6776046274326826, 0.33500850574965424, 0.06429840241799067, 0.49456361203696464, 0.8435460645595105, 0.04067500842771199, 0.5789968830208606, 0.7133145677643881, 0.8972074154015114, 0.5741283590344698, 0.7535707869668855, 0.9653708866215502, 0.30912127814696055, 0.9753562875928239, 0.07659204572598322, 0.4855520961623818, 0.9598196783663728, 0.7397413577801413, 0.19734930669571338, 0.21214518489928313, 0.5413714780461003, 0.2989055031523594, 0.0445049126513396, 0.6106028543512637, 0.567534044082875, 0.9721287395080479, 0.24041466595520877, 0.9449142077840208, 0.42594120779842437, 0.7694062974208946, 0.816962257037902, 0.17238212256315655, 0.8743331885829791, 0.9085903741068485, 0.08114716480876283, 0.7392627420348479, 0.9772218807204641, 0.6581784858353785, 0.9862373190591623, 0.4568767290746719, 0.1508504222057825, 0.5066371120721531, 0.7098503933406776, 0.6085154386124608, 0.7145650216601073, 0.19859958292355118, 0.6314838903661684, 0.39901371805426544, 0.5502944733108335, 0.07326063771069646, 0.5252872769483579, 0.5595443359199435, 0.8469130881525487, 0.2543782400168928, 0.8791215937301804, 0.6386572888483397, 0.10505967986733977, 0.5605557403311213, 0.48317045048453044, 0.30078499028556493, 0.4984855163323506, 0.18721860722835126, 0.2199248786553436, 0.17276853819176408, 0.19335750616629532, 0.9961409692745002, 0.14597884481689916, 0.0694428590288031, 0.8092665679436554, 0.33723798695016716, 0.5048914413092419, 0.8594186141877432, 0.16335092181242572, 0.6231978032415111, 0.5471195298239976, 0.09557593552264565, 0.07143931852587215, 0.005151239178121214, 0.7472799136223178, 0.09049693994982588, 0.4470149735389283, 0.7305894797030132, 0.5280523226991469, 0.8538296504678102, 0.5753398036708376, 0.5426276816273093, 0.9343435312651819, 0.4950951966210053, 0.4254864339849018, 0.5806840806988296, 0.9511085331715369], \"xaxis\": \"x7\", \"y\": [0.1420989997204274, 0.16272302776698333, 0.5510418624633832, 0.7810968428085451, 0.974301807852817, 0.6471915985690905, 0.21234414860461104, 0.9076787921118685, 0.5664836023015972, 0.7700135430908135, 0.5253479398485718, 0.5241714927399055, 0.4301101655038079, 0.8199434200022369, 0.8127534054878676, 0.047738991932165464, 0.5349971488824744, 0.5882683336930767, 0.5135454203297177, 0.04071727445935902, 0.7200244546048392, 0.8900719747838537, 0.9865349592432118, 0.4371129801660866, 0.3243903451602598, 0.5076790757069931, 0.8525163039447864, 0.566288953632173, 0.1654817274784377, 0.29662449110709144, 0.3477905086317059, 0.5059376256724428, 0.6325085839762339, 0.1448234277272753, 0.7470284948374725, 0.29546772497391927, 0.3552949972380134, 0.6366411169592828, 0.4697823842392852, 0.5319954083505593, 0.9933995867373235, 0.9070847709211363, 0.6667901671187938, 0.26101265540922325, 0.330798623844741, 0.2379799719882747, 0.7825867856735038, 0.20795006027228824, 0.7311397165709611, 0.48004107134623486, 0.8661826114431671, 0.8806199971587744, 0.9106636500545815, 0.12768512772204432, 0.058033915607826, 0.12820324272821748, 0.09909743280436667, 0.4903313130260817, 0.6367265819917569, 0.8636576164807224, 0.33879757104565233, 0.6733604397968099, 0.9166751994743604, 0.8253133157026932, 0.6193553471911393, 0.899112078299836, 0.9577354173244566, 0.55673671056099, 0.2887334137560843, 0.5571212721073879, 0.19238618294946197, 0.39814105892230056, 0.011906309498581402, 0.15563058187450685, 0.16007112287112124, 0.08737201724425192, 0.43020181136608315, 0.44598215676077313, 0.8596018665391401, 0.012053338547065806, 0.8455576896774778, 0.34822730875600516, 0.5849194869804503, 0.7212007626939569, 0.4279290374816803, 0.2493311030777, 0.13133372297632728, 0.32764216948557945, 0.7019104372779333, 0.37703502274650014, 0.2779812489593061, 0.909981378748785, 0.5605431426633933, 0.26479676439354294, 0.02176661782524547, 0.7235964641179009, 0.7164017718719706, 0.28682585808982264, 0.9860956241904728, 0.07634445227262043], \"yaxis\": \"y7\"}, {\"line\": {\"color\": \"rgba(128, 128, 128, 1.0)\", \"dash\": \"solid\", \"shape\": \"linear\", \"width\": 1.3}, \"marker\": {\"size\": 2, \"symbol\": \"circle\"}, \"mode\": \"markers\", \"name\": \"B\", \"text\": \"\", \"type\": \"scatter\", \"x\": [0.2693588004837245, 0.7272376744767046, 0.0847459573319197, 0.9937065190610479, 0.058979216584439276, 0.7622243653969791, 0.9852284156957358, 0.5217777899952714, 0.8187346018004542, 0.39271165520681495, 0.039639228594526954, 0.6437254368053777, 0.8825141197735623, 0.07574987820954049, 0.5659210897360782, 0.7919953924615094, 0.9896663440068089, 0.24383501741632607, 0.2174408233972125, 0.7134201104202477, 0.16855303189851112, 0.8260489883427669, 0.9162604808441045, 0.5405688554116973, 0.2385221459931568, 0.5391044062278301, 0.14135417823709062, 0.7960627517303884, 0.8420270044490886, 0.2751570030123761, 0.6484374134383162, 0.936219920583301, 0.12018818740336179, 0.6802469298909554, 0.027667402357477777, 0.7534263183190321, 0.15200668988058286, 0.6379082749707069, 0.48047129472150074, 0.4677435754467977, 0.4333959428618087, 0.9012651744296631, 0.16509096487816866, 0.6490104765306842, 0.6059604121331397, 0.4990463341810545, 0.9345744212388576, 0.3799903412993587, 0.18932606705713617, 0.25346642681024234, 0.9207633626005549, 0.41545596150652353, 0.4533645712239097, 0.6506416140340825, 0.6997162015812407, 0.8852986916095966, 0.37498778315958636, 0.8314429697596049, 0.13502673435385026, 0.8979987612536348, 0.3639429691100261, 0.745483313257713, 0.06578331168267948, 0.4951905039218433, 0.2532640224024172, 0.719730115612484, 0.5143268751173564, 0.25421150057041175, 0.3389942817348648, 0.19850257012175643, 0.20028652781703737, 0.6651212562701333, 0.529278813042016, 0.042062130810310405, 0.44112869964487167, 0.6920514932823784, 0.021164503749724117, 0.44750287035257597, 0.56472684426539, 0.7019277928315436, 0.5851064665714394, 0.21020198044309035, 0.2096339470898173, 0.3932379119941055, 0.4408019823537771, 0.2583760972068493, 0.6834895150994145, 0.08900119437390264, 0.8809772440190711, 0.716312394923501, 0.744839320051633, 0.9786104201487468, 0.18725208453496445, 0.27887369246250304, 0.05885105673928237, 0.672260988708463, 0.04236419271147529, 0.8130830659218616, 0.251040476355191, 0.2879237577645707], \"xaxis\": \"x8\", \"y\": [0.1420989997204274, 0.16272302776698333, 0.5510418624633832, 0.7810968428085451, 0.974301807852817, 0.6471915985690905, 0.21234414860461104, 0.9076787921118685, 0.5664836023015972, 0.7700135430908135, 0.5253479398485718, 0.5241714927399055, 0.4301101655038079, 0.8199434200022369, 0.8127534054878676, 0.047738991932165464, 0.5349971488824744, 0.5882683336930767, 0.5135454203297177, 0.04071727445935902, 0.7200244546048392, 0.8900719747838537, 0.9865349592432118, 0.4371129801660866, 0.3243903451602598, 0.5076790757069931, 0.8525163039447864, 0.566288953632173, 0.1654817274784377, 0.29662449110709144, 0.3477905086317059, 0.5059376256724428, 0.6325085839762339, 0.1448234277272753, 0.7470284948374725, 0.29546772497391927, 0.3552949972380134, 0.6366411169592828, 0.4697823842392852, 0.5319954083505593, 0.9933995867373235, 0.9070847709211363, 0.6667901671187938, 0.26101265540922325, 0.330798623844741, 0.2379799719882747, 0.7825867856735038, 0.20795006027228824, 0.7311397165709611, 0.48004107134623486, 0.8661826114431671, 0.8806199971587744, 0.9106636500545815, 0.12768512772204432, 0.058033915607826, 0.12820324272821748, 0.09909743280436667, 0.4903313130260817, 0.6367265819917569, 0.8636576164807224, 0.33879757104565233, 0.6733604397968099, 0.9166751994743604, 0.8253133157026932, 0.6193553471911393, 0.899112078299836, 0.9577354173244566, 0.55673671056099, 0.2887334137560843, 0.5571212721073879, 0.19238618294946197, 0.39814105892230056, 0.011906309498581402, 0.15563058187450685, 0.16007112287112124, 0.08737201724425192, 0.43020181136608315, 0.44598215676077313, 0.8596018665391401, 0.012053338547065806, 0.8455576896774778, 0.34822730875600516, 0.5849194869804503, 0.7212007626939569, 0.4279290374816803, 0.2493311030777, 0.13133372297632728, 0.32764216948557945, 0.7019104372779333, 0.37703502274650014, 0.2779812489593061, 0.909981378748785, 0.5605431426633933, 0.26479676439354294, 0.02176661782524547, 0.7235964641179009, 0.7164017718719706, 0.28682585808982264, 0.9860956241904728, 0.07634445227262043], \"yaxis\": \"y8\"}, {\"line\": {\"color\": \"rgba(128, 128, 128, 1.0)\", \"dash\": \"solid\", \"shape\": \"linear\", \"width\": 1.3}, \"marker\": {\"size\": 2, \"symbol\": \"circle\"}, \"mode\": \"markers\", \"name\": \"C\", \"text\": \"\", \"type\": \"scatter\", \"x\": [0.932905871818665, 0.7990174600691328, 0.6578805504982351, 0.42756675450495063, 0.17016560945553538, 0.9055605402234296, 0.28956721012351794, 0.9526365568361495, 0.4704206036221772, 0.15226207946635395, 0.6033907891545828, 0.25099507114325215, 0.005340848698156209, 0.06533954296997113, 0.2733035065352758, 0.7569540823349571, 0.8287187216757339, 0.9828434948732078, 0.8112812748144534, 0.11076655847239603, 0.8427519466173623, 0.48859212569623023, 0.14388465522460525, 0.7539262751473198, 0.44536556957401285, 0.6697446611280005, 0.22529636723346758, 0.1161697303217627, 0.17033135947771694, 0.8325617982448972, 0.5472341085707088, 0.9669549164451002, 0.2475954496771967, 0.7497201100591544, 0.9614999013831749, 0.9396975077487425, 0.7886648046959303, 0.32590228659881226, 0.10777157469033649, 0.9978991786775343, 0.2858415228843155, 0.6851206557024384, 0.38805256481020434, 0.66109234467044, 0.8860133534619254, 0.4213642506242049, 0.6743198570628508, 0.6656479537489318, 0.6065373124800183, 0.25201673938694813, 0.05030904571130845, 0.41401213743180143, 0.7189393436873426, 0.929605937977888, 0.07023729970534354, 0.24038644001958465, 0.632063691457217, 0.22957645221162015, 0.3195747648987325, 0.541666475373368, 0.5441038434692387, 0.40778259724468047, 0.225862802881601, 0.4796028398481794, 0.324652204581544, 0.2019367580104594, 0.10974428746289655, 0.49763556945229526, 0.8090999624543773, 0.2272057880828694, 0.45397874065463384, 0.0019187911166977933, 0.29377614301111055, 0.38409997076807334, 0.8271701737676631, 0.7547418326906155, 0.36069997849644286, 0.2192185020931785, 0.5528882226439371, 0.20041778808758937, 0.9888650720711814, 0.8152424257042555, 0.268685081062804, 0.06431056149944225, 0.6603049664873818, 0.9327983811523727, 0.9288223580133821, 0.39899359519867517, 0.05168668161792522, 0.9340152735254715, 0.862099704697694, 0.9403696989535826, 0.4790804197177635, 0.19592031989218983, 0.3086533524159172, 0.22181010617622876, 0.7582898233439308, 0.6162874446229667, 0.8829991970982982, 0.5875930166320611], \"xaxis\": \"x9\", \"y\": [0.21526701000752835, 0.7143715175733945, 0.09571325034684763, 0.937765146045614, 0.32891164884086554, 0.1708499619190198, 0.5028151642353679, 0.7745194342439721, 0.9457112968565712, 0.6776046274326826, 0.33500850574965424, 0.06429840241799067, 0.49456361203696464, 0.8435460645595105, 0.04067500842771199, 0.5789968830208606, 0.7133145677643881, 0.8972074154015114, 0.5741283590344698, 0.7535707869668855, 0.9653708866215502, 0.30912127814696055, 0.9753562875928239, 0.07659204572598322, 0.4855520961623818, 0.9598196783663728, 0.7397413577801413, 0.19734930669571338, 0.21214518489928313, 0.5413714780461003, 0.2989055031523594, 0.0445049126513396, 0.6106028543512637, 0.567534044082875, 0.9721287395080479, 0.24041466595520877, 0.9449142077840208, 0.42594120779842437, 0.7694062974208946, 0.816962257037902, 0.17238212256315655, 0.8743331885829791, 0.9085903741068485, 0.08114716480876283, 0.7392627420348479, 0.9772218807204641, 0.6581784858353785, 0.9862373190591623, 0.4568767290746719, 0.1508504222057825, 0.5066371120721531, 0.7098503933406776, 0.6085154386124608, 0.7145650216601073, 0.19859958292355118, 0.6314838903661684, 0.39901371805426544, 0.5502944733108335, 0.07326063771069646, 0.5252872769483579, 0.5595443359199435, 0.8469130881525487, 0.2543782400168928, 0.8791215937301804, 0.6386572888483397, 0.10505967986733977, 0.5605557403311213, 0.48317045048453044, 0.30078499028556493, 0.4984855163323506, 0.18721860722835126, 0.2199248786553436, 0.17276853819176408, 0.19335750616629532, 0.9961409692745002, 0.14597884481689916, 0.0694428590288031, 0.8092665679436554, 0.33723798695016716, 0.5048914413092419, 0.8594186141877432, 0.16335092181242572, 0.6231978032415111, 0.5471195298239976, 0.09557593552264565, 0.07143931852587215, 0.005151239178121214, 0.7472799136223178, 0.09049693994982588, 0.4470149735389283, 0.7305894797030132, 0.5280523226991469, 0.8538296504678102, 0.5753398036708376, 0.5426276816273093, 0.9343435312651819, 0.4950951966210053, 0.4254864339849018, 0.5806840806988296, 0.9511085331715369], \"yaxis\": \"y9\"}, {\"line\": {\"color\": \"rgba(128, 128, 128, 1.0)\", \"dash\": \"solid\", \"shape\": \"linear\", \"width\": 1.3}, \"marker\": {\"size\": 2, \"symbol\": \"circle\"}, \"mode\": \"markers\", \"name\": \"C\", \"text\": \"\", \"type\": \"scatter\", \"x\": [0.1420989997204274, 0.16272302776698333, 0.5510418624633832, 0.7810968428085451, 0.974301807852817, 0.6471915985690905, 0.21234414860461104, 0.9076787921118685, 0.5664836023015972, 0.7700135430908135, 0.5253479398485718, 0.5241714927399055, 0.4301101655038079, 0.8199434200022369, 0.8127534054878676, 0.047738991932165464, 0.5349971488824744, 0.5882683336930767, 0.5135454203297177, 0.04071727445935902, 0.7200244546048392, 0.8900719747838537, 0.9865349592432118, 0.4371129801660866, 0.3243903451602598, 0.5076790757069931, 0.8525163039447864, 0.566288953632173, 0.1654817274784377, 0.29662449110709144, 0.3477905086317059, 0.5059376256724428, 0.6325085839762339, 0.1448234277272753, 0.7470284948374725, 0.29546772497391927, 0.3552949972380134, 0.6366411169592828, 0.4697823842392852, 0.5319954083505593, 0.9933995867373235, 0.9070847709211363, 0.6667901671187938, 0.26101265540922325, 0.330798623844741, 0.2379799719882747, 0.7825867856735038, 0.20795006027228824, 0.7311397165709611, 0.48004107134623486, 0.8661826114431671, 0.8806199971587744, 0.9106636500545815, 0.12768512772204432, 0.058033915607826, 0.12820324272821748, 0.09909743280436667, 0.4903313130260817, 0.6367265819917569, 0.8636576164807224, 0.33879757104565233, 0.6733604397968099, 0.9166751994743604, 0.8253133157026932, 0.6193553471911393, 0.899112078299836, 0.9577354173244566, 0.55673671056099, 0.2887334137560843, 0.5571212721073879, 0.19238618294946197, 0.39814105892230056, 0.011906309498581402, 0.15563058187450685, 0.16007112287112124, 0.08737201724425192, 0.43020181136608315, 0.44598215676077313, 0.8596018665391401, 0.012053338547065806, 0.8455576896774778, 0.34822730875600516, 0.5849194869804503, 0.7212007626939569, 0.4279290374816803, 0.2493311030777, 0.13133372297632728, 0.32764216948557945, 0.7019104372779333, 0.37703502274650014, 0.2779812489593061, 0.909981378748785, 0.5605431426633933, 0.26479676439354294, 0.02176661782524547, 0.7235964641179009, 0.7164017718719706, 0.28682585808982264, 0.9860956241904728, 0.07634445227262043], \"xaxis\": \"x10\", \"y\": [0.21526701000752835, 0.7143715175733945, 0.09571325034684763, 0.937765146045614, 0.32891164884086554, 0.1708499619190198, 0.5028151642353679, 0.7745194342439721, 0.9457112968565712, 0.6776046274326826, 0.33500850574965424, 0.06429840241799067, 0.49456361203696464, 0.8435460645595105, 0.04067500842771199, 0.5789968830208606, 0.7133145677643881, 0.8972074154015114, 0.5741283590344698, 0.7535707869668855, 0.9653708866215502, 0.30912127814696055, 0.9753562875928239, 0.07659204572598322, 0.4855520961623818, 0.9598196783663728, 0.7397413577801413, 0.19734930669571338, 0.21214518489928313, 0.5413714780461003, 0.2989055031523594, 0.0445049126513396, 0.6106028543512637, 0.567534044082875, 0.9721287395080479, 0.24041466595520877, 0.9449142077840208, 0.42594120779842437, 0.7694062974208946, 0.816962257037902, 0.17238212256315655, 0.8743331885829791, 0.9085903741068485, 0.08114716480876283, 0.7392627420348479, 0.9772218807204641, 0.6581784858353785, 0.9862373190591623, 0.4568767290746719, 0.1508504222057825, 0.5066371120721531, 0.7098503933406776, 0.6085154386124608, 0.7145650216601073, 0.19859958292355118, 0.6314838903661684, 0.39901371805426544, 0.5502944733108335, 0.07326063771069646, 0.5252872769483579, 0.5595443359199435, 0.8469130881525487, 0.2543782400168928, 0.8791215937301804, 0.6386572888483397, 0.10505967986733977, 0.5605557403311213, 0.48317045048453044, 0.30078499028556493, 0.4984855163323506, 0.18721860722835126, 0.2199248786553436, 0.17276853819176408, 0.19335750616629532, 0.9961409692745002, 0.14597884481689916, 0.0694428590288031, 0.8092665679436554, 0.33723798695016716, 0.5048914413092419, 0.8594186141877432, 0.16335092181242572, 0.6231978032415111, 0.5471195298239976, 0.09557593552264565, 0.07143931852587215, 0.005151239178121214, 0.7472799136223178, 0.09049693994982588, 0.4470149735389283, 0.7305894797030132, 0.5280523226991469, 0.8538296504678102, 0.5753398036708376, 0.5426276816273093, 0.9343435312651819, 0.4950951966210053, 0.4254864339849018, 0.5806840806988296, 0.9511085331715369], \"yaxis\": \"y10\"}, {\"histfunc\": \"count\", \"histnorm\": \"\", \"marker\": {\"color\": \"rgba(50, 171, 96, 1.0)\", \"line\": {\"color\": \"#4D5663\", \"width\": 1.3}}, \"name\": \"C\", \"nbinsx\": 10, \"opacity\": 0.8, \"orientation\": \"v\", \"type\": \"histogram\", \"x\": [0.21526701000752835, 0.7143715175733945, 0.09571325034684763, 0.937765146045614, 0.32891164884086554, 0.1708499619190198, 0.5028151642353679, 0.7745194342439721, 0.9457112968565712, 0.6776046274326826, 0.33500850574965424, 0.06429840241799067, 0.49456361203696464, 0.8435460645595105, 0.04067500842771199, 0.5789968830208606, 0.7133145677643881, 0.8972074154015114, 0.5741283590344698, 0.7535707869668855, 0.9653708866215502, 0.30912127814696055, 0.9753562875928239, 0.07659204572598322, 0.4855520961623818, 0.9598196783663728, 0.7397413577801413, 0.19734930669571338, 0.21214518489928313, 0.5413714780461003, 0.2989055031523594, 0.0445049126513396, 0.6106028543512637, 0.567534044082875, 0.9721287395080479, 0.24041466595520877, 0.9449142077840208, 0.42594120779842437, 0.7694062974208946, 0.816962257037902, 0.17238212256315655, 0.8743331885829791, 0.9085903741068485, 0.08114716480876283, 0.7392627420348479, 0.9772218807204641, 0.6581784858353785, 0.9862373190591623, 0.4568767290746719, 0.1508504222057825, 0.5066371120721531, 0.7098503933406776, 0.6085154386124608, 0.7145650216601073, 0.19859958292355118, 0.6314838903661684, 0.39901371805426544, 0.5502944733108335, 0.07326063771069646, 0.5252872769483579, 0.5595443359199435, 0.8469130881525487, 0.2543782400168928, 0.8791215937301804, 0.6386572888483397, 0.10505967986733977, 0.5605557403311213, 0.48317045048453044, 0.30078499028556493, 0.4984855163323506, 0.18721860722835126, 0.2199248786553436, 0.17276853819176408, 0.19335750616629532, 0.9961409692745002, 0.14597884481689916, 0.0694428590288031, 0.8092665679436554, 0.33723798695016716, 0.5048914413092419, 0.8594186141877432, 0.16335092181242572, 0.6231978032415111, 0.5471195298239976, 0.09557593552264565, 0.07143931852587215, 0.005151239178121214, 0.7472799136223178, 0.09049693994982588, 0.4470149735389283, 0.7305894797030132, 0.5280523226991469, 0.8538296504678102, 0.5753398036708376, 0.5426276816273093, 0.9343435312651819, 0.4950951966210053, 0.4254864339849018, 0.5806840806988296, 0.9511085331715369], \"xaxis\": \"x11\", \"yaxis\": \"y11\"}, {\"line\": {\"color\": \"rgba(128, 128, 128, 1.0)\", \"dash\": \"solid\", \"shape\": \"linear\", \"width\": 1.3}, \"marker\": {\"size\": 2, \"symbol\": \"circle\"}, \"mode\": \"markers\", \"name\": \"C\", \"text\": \"\", \"type\": \"scatter\", \"x\": [0.2693588004837245, 0.7272376744767046, 0.0847459573319197, 0.9937065190610479, 0.058979216584439276, 0.7622243653969791, 0.9852284156957358, 0.5217777899952714, 0.8187346018004542, 0.39271165520681495, 0.039639228594526954, 0.6437254368053777, 0.8825141197735623, 0.07574987820954049, 0.5659210897360782, 0.7919953924615094, 0.9896663440068089, 0.24383501741632607, 0.2174408233972125, 0.7134201104202477, 0.16855303189851112, 0.8260489883427669, 0.9162604808441045, 0.5405688554116973, 0.2385221459931568, 0.5391044062278301, 0.14135417823709062, 0.7960627517303884, 0.8420270044490886, 0.2751570030123761, 0.6484374134383162, 0.936219920583301, 0.12018818740336179, 0.6802469298909554, 0.027667402357477777, 0.7534263183190321, 0.15200668988058286, 0.6379082749707069, 0.48047129472150074, 0.4677435754467977, 0.4333959428618087, 0.9012651744296631, 0.16509096487816866, 0.6490104765306842, 0.6059604121331397, 0.4990463341810545, 0.9345744212388576, 0.3799903412993587, 0.18932606705713617, 0.25346642681024234, 0.9207633626005549, 0.41545596150652353, 0.4533645712239097, 0.6506416140340825, 0.6997162015812407, 0.8852986916095966, 0.37498778315958636, 0.8314429697596049, 0.13502673435385026, 0.8979987612536348, 0.3639429691100261, 0.745483313257713, 0.06578331168267948, 0.4951905039218433, 0.2532640224024172, 0.719730115612484, 0.5143268751173564, 0.25421150057041175, 0.3389942817348648, 0.19850257012175643, 0.20028652781703737, 0.6651212562701333, 0.529278813042016, 0.042062130810310405, 0.44112869964487167, 0.6920514932823784, 0.021164503749724117, 0.44750287035257597, 0.56472684426539, 0.7019277928315436, 0.5851064665714394, 0.21020198044309035, 0.2096339470898173, 0.3932379119941055, 0.4408019823537771, 0.2583760972068493, 0.6834895150994145, 0.08900119437390264, 0.8809772440190711, 0.716312394923501, 0.744839320051633, 0.9786104201487468, 0.18725208453496445, 0.27887369246250304, 0.05885105673928237, 0.672260988708463, 0.04236419271147529, 0.8130830659218616, 0.251040476355191, 0.2879237577645707], \"xaxis\": \"x12\", \"y\": [0.21526701000752835, 0.7143715175733945, 0.09571325034684763, 0.937765146045614, 0.32891164884086554, 0.1708499619190198, 0.5028151642353679, 0.7745194342439721, 0.9457112968565712, 0.6776046274326826, 0.33500850574965424, 0.06429840241799067, 0.49456361203696464, 0.8435460645595105, 0.04067500842771199, 0.5789968830208606, 0.7133145677643881, 0.8972074154015114, 0.5741283590344698, 0.7535707869668855, 0.9653708866215502, 0.30912127814696055, 0.9753562875928239, 0.07659204572598322, 0.4855520961623818, 0.9598196783663728, 0.7397413577801413, 0.19734930669571338, 0.21214518489928313, 0.5413714780461003, 0.2989055031523594, 0.0445049126513396, 0.6106028543512637, 0.567534044082875, 0.9721287395080479, 0.24041466595520877, 0.9449142077840208, 0.42594120779842437, 0.7694062974208946, 0.816962257037902, 0.17238212256315655, 0.8743331885829791, 0.9085903741068485, 0.08114716480876283, 0.7392627420348479, 0.9772218807204641, 0.6581784858353785, 0.9862373190591623, 0.4568767290746719, 0.1508504222057825, 0.5066371120721531, 0.7098503933406776, 0.6085154386124608, 0.7145650216601073, 0.19859958292355118, 0.6314838903661684, 0.39901371805426544, 0.5502944733108335, 0.07326063771069646, 0.5252872769483579, 0.5595443359199435, 0.8469130881525487, 0.2543782400168928, 0.8791215937301804, 0.6386572888483397, 0.10505967986733977, 0.5605557403311213, 0.48317045048453044, 0.30078499028556493, 0.4984855163323506, 0.18721860722835126, 0.2199248786553436, 0.17276853819176408, 0.19335750616629532, 0.9961409692745002, 0.14597884481689916, 0.0694428590288031, 0.8092665679436554, 0.33723798695016716, 0.5048914413092419, 0.8594186141877432, 0.16335092181242572, 0.6231978032415111, 0.5471195298239976, 0.09557593552264565, 0.07143931852587215, 0.005151239178121214, 0.7472799136223178, 0.09049693994982588, 0.4470149735389283, 0.7305894797030132, 0.5280523226991469, 0.8538296504678102, 0.5753398036708376, 0.5426276816273093, 0.9343435312651819, 0.4950951966210053, 0.4254864339849018, 0.5806840806988296, 0.9511085331715369], \"yaxis\": \"y12\"}, {\"line\": {\"color\": \"rgba(128, 128, 128, 1.0)\", \"dash\": \"solid\", \"shape\": \"linear\", \"width\": 1.3}, \"marker\": {\"size\": 2, \"symbol\": \"circle\"}, \"mode\": \"markers\", \"name\": \"D\", \"text\": \"\", \"type\": \"scatter\", \"x\": [0.932905871818665, 0.7990174600691328, 0.6578805504982351, 0.42756675450495063, 0.17016560945553538, 0.9055605402234296, 0.28956721012351794, 0.9526365568361495, 0.4704206036221772, 0.15226207946635395, 0.6033907891545828, 0.25099507114325215, 0.005340848698156209, 0.06533954296997113, 0.2733035065352758, 0.7569540823349571, 0.8287187216757339, 0.9828434948732078, 0.8112812748144534, 0.11076655847239603, 0.8427519466173623, 0.48859212569623023, 0.14388465522460525, 0.7539262751473198, 0.44536556957401285, 0.6697446611280005, 0.22529636723346758, 0.1161697303217627, 0.17033135947771694, 0.8325617982448972, 0.5472341085707088, 0.9669549164451002, 0.2475954496771967, 0.7497201100591544, 0.9614999013831749, 0.9396975077487425, 0.7886648046959303, 0.32590228659881226, 0.10777157469033649, 0.9978991786775343, 0.2858415228843155, 0.6851206557024384, 0.38805256481020434, 0.66109234467044, 0.8860133534619254, 0.4213642506242049, 0.6743198570628508, 0.6656479537489318, 0.6065373124800183, 0.25201673938694813, 0.05030904571130845, 0.41401213743180143, 0.7189393436873426, 0.929605937977888, 0.07023729970534354, 0.24038644001958465, 0.632063691457217, 0.22957645221162015, 0.3195747648987325, 0.541666475373368, 0.5441038434692387, 0.40778259724468047, 0.225862802881601, 0.4796028398481794, 0.324652204581544, 0.2019367580104594, 0.10974428746289655, 0.49763556945229526, 0.8090999624543773, 0.2272057880828694, 0.45397874065463384, 0.0019187911166977933, 0.29377614301111055, 0.38409997076807334, 0.8271701737676631, 0.7547418326906155, 0.36069997849644286, 0.2192185020931785, 0.5528882226439371, 0.20041778808758937, 0.9888650720711814, 0.8152424257042555, 0.268685081062804, 0.06431056149944225, 0.6603049664873818, 0.9327983811523727, 0.9288223580133821, 0.39899359519867517, 0.05168668161792522, 0.9340152735254715, 0.862099704697694, 0.9403696989535826, 0.4790804197177635, 0.19592031989218983, 0.3086533524159172, 0.22181010617622876, 0.7582898233439308, 0.6162874446229667, 0.8829991970982982, 0.5875930166320611], \"xaxis\": \"x13\", \"y\": [0.2693588004837245, 0.7272376744767046, 0.0847459573319197, 0.9937065190610479, 0.058979216584439276, 0.7622243653969791, 0.9852284156957358, 0.5217777899952714, 0.8187346018004542, 0.39271165520681495, 0.039639228594526954, 0.6437254368053777, 0.8825141197735623, 0.07574987820954049, 0.5659210897360782, 0.7919953924615094, 0.9896663440068089, 0.24383501741632607, 0.2174408233972125, 0.7134201104202477, 0.16855303189851112, 0.8260489883427669, 0.9162604808441045, 0.5405688554116973, 0.2385221459931568, 0.5391044062278301, 0.14135417823709062, 0.7960627517303884, 0.8420270044490886, 0.2751570030123761, 0.6484374134383162, 0.936219920583301, 0.12018818740336179, 0.6802469298909554, 0.027667402357477777, 0.7534263183190321, 0.15200668988058286, 0.6379082749707069, 0.48047129472150074, 0.4677435754467977, 0.4333959428618087, 0.9012651744296631, 0.16509096487816866, 0.6490104765306842, 0.6059604121331397, 0.4990463341810545, 0.9345744212388576, 0.3799903412993587, 0.18932606705713617, 0.25346642681024234, 0.9207633626005549, 0.41545596150652353, 0.4533645712239097, 0.6506416140340825, 0.6997162015812407, 0.8852986916095966, 0.37498778315958636, 0.8314429697596049, 0.13502673435385026, 0.8979987612536348, 0.3639429691100261, 0.745483313257713, 0.06578331168267948, 0.4951905039218433, 0.2532640224024172, 0.719730115612484, 0.5143268751173564, 0.25421150057041175, 0.3389942817348648, 0.19850257012175643, 0.20028652781703737, 0.6651212562701333, 0.529278813042016, 0.042062130810310405, 0.44112869964487167, 0.6920514932823784, 0.021164503749724117, 0.44750287035257597, 0.56472684426539, 0.7019277928315436, 0.5851064665714394, 0.21020198044309035, 0.2096339470898173, 0.3932379119941055, 0.4408019823537771, 0.2583760972068493, 0.6834895150994145, 0.08900119437390264, 0.8809772440190711, 0.716312394923501, 0.744839320051633, 0.9786104201487468, 0.18725208453496445, 0.27887369246250304, 0.05885105673928237, 0.672260988708463, 0.04236419271147529, 0.8130830659218616, 0.251040476355191, 0.2879237577645707], \"yaxis\": \"y13\"}, {\"line\": {\"color\": \"rgba(128, 128, 128, 1.0)\", \"dash\": \"solid\", \"shape\": \"linear\", \"width\": 1.3}, \"marker\": {\"size\": 2, \"symbol\": \"circle\"}, \"mode\": \"markers\", \"name\": \"D\", \"text\": \"\", \"type\": \"scatter\", \"x\": [0.1420989997204274, 0.16272302776698333, 0.5510418624633832, 0.7810968428085451, 0.974301807852817, 0.6471915985690905, 0.21234414860461104, 0.9076787921118685, 0.5664836023015972, 0.7700135430908135, 0.5253479398485718, 0.5241714927399055, 0.4301101655038079, 0.8199434200022369, 0.8127534054878676, 0.047738991932165464, 0.5349971488824744, 0.5882683336930767, 0.5135454203297177, 0.04071727445935902, 0.7200244546048392, 0.8900719747838537, 0.9865349592432118, 0.4371129801660866, 0.3243903451602598, 0.5076790757069931, 0.8525163039447864, 0.566288953632173, 0.1654817274784377, 0.29662449110709144, 0.3477905086317059, 0.5059376256724428, 0.6325085839762339, 0.1448234277272753, 0.7470284948374725, 0.29546772497391927, 0.3552949972380134, 0.6366411169592828, 0.4697823842392852, 0.5319954083505593, 0.9933995867373235, 0.9070847709211363, 0.6667901671187938, 0.26101265540922325, 0.330798623844741, 0.2379799719882747, 0.7825867856735038, 0.20795006027228824, 0.7311397165709611, 0.48004107134623486, 0.8661826114431671, 0.8806199971587744, 0.9106636500545815, 0.12768512772204432, 0.058033915607826, 0.12820324272821748, 0.09909743280436667, 0.4903313130260817, 0.6367265819917569, 0.8636576164807224, 0.33879757104565233, 0.6733604397968099, 0.9166751994743604, 0.8253133157026932, 0.6193553471911393, 0.899112078299836, 0.9577354173244566, 0.55673671056099, 0.2887334137560843, 0.5571212721073879, 0.19238618294946197, 0.39814105892230056, 0.011906309498581402, 0.15563058187450685, 0.16007112287112124, 0.08737201724425192, 0.43020181136608315, 0.44598215676077313, 0.8596018665391401, 0.012053338547065806, 0.8455576896774778, 0.34822730875600516, 0.5849194869804503, 0.7212007626939569, 0.4279290374816803, 0.2493311030777, 0.13133372297632728, 0.32764216948557945, 0.7019104372779333, 0.37703502274650014, 0.2779812489593061, 0.909981378748785, 0.5605431426633933, 0.26479676439354294, 0.02176661782524547, 0.7235964641179009, 0.7164017718719706, 0.28682585808982264, 0.9860956241904728, 0.07634445227262043], \"xaxis\": \"x14\", \"y\": [0.2693588004837245, 0.7272376744767046, 0.0847459573319197, 0.9937065190610479, 0.058979216584439276, 0.7622243653969791, 0.9852284156957358, 0.5217777899952714, 0.8187346018004542, 0.39271165520681495, 0.039639228594526954, 0.6437254368053777, 0.8825141197735623, 0.07574987820954049, 0.5659210897360782, 0.7919953924615094, 0.9896663440068089, 0.24383501741632607, 0.2174408233972125, 0.7134201104202477, 0.16855303189851112, 0.8260489883427669, 0.9162604808441045, 0.5405688554116973, 0.2385221459931568, 0.5391044062278301, 0.14135417823709062, 0.7960627517303884, 0.8420270044490886, 0.2751570030123761, 0.6484374134383162, 0.936219920583301, 0.12018818740336179, 0.6802469298909554, 0.027667402357477777, 0.7534263183190321, 0.15200668988058286, 0.6379082749707069, 0.48047129472150074, 0.4677435754467977, 0.4333959428618087, 0.9012651744296631, 0.16509096487816866, 0.6490104765306842, 0.6059604121331397, 0.4990463341810545, 0.9345744212388576, 0.3799903412993587, 0.18932606705713617, 0.25346642681024234, 0.9207633626005549, 0.41545596150652353, 0.4533645712239097, 0.6506416140340825, 0.6997162015812407, 0.8852986916095966, 0.37498778315958636, 0.8314429697596049, 0.13502673435385026, 0.8979987612536348, 0.3639429691100261, 0.745483313257713, 0.06578331168267948, 0.4951905039218433, 0.2532640224024172, 0.719730115612484, 0.5143268751173564, 0.25421150057041175, 0.3389942817348648, 0.19850257012175643, 0.20028652781703737, 0.6651212562701333, 0.529278813042016, 0.042062130810310405, 0.44112869964487167, 0.6920514932823784, 0.021164503749724117, 0.44750287035257597, 0.56472684426539, 0.7019277928315436, 0.5851064665714394, 0.21020198044309035, 0.2096339470898173, 0.3932379119941055, 0.4408019823537771, 0.2583760972068493, 0.6834895150994145, 0.08900119437390264, 0.8809772440190711, 0.716312394923501, 0.744839320051633, 0.9786104201487468, 0.18725208453496445, 0.27887369246250304, 0.05885105673928237, 0.672260988708463, 0.04236419271147529, 0.8130830659218616, 0.251040476355191, 0.2879237577645707], \"yaxis\": \"y14\"}, {\"line\": {\"color\": \"rgba(128, 128, 128, 1.0)\", \"dash\": \"solid\", \"shape\": \"linear\", \"width\": 1.3}, \"marker\": {\"size\": 2, \"symbol\": \"circle\"}, \"mode\": \"markers\", \"name\": \"D\", \"text\": \"\", \"type\": \"scatter\", \"x\": [0.21526701000752835, 0.7143715175733945, 0.09571325034684763, 0.937765146045614, 0.32891164884086554, 0.1708499619190198, 0.5028151642353679, 0.7745194342439721, 0.9457112968565712, 0.6776046274326826, 0.33500850574965424, 0.06429840241799067, 0.49456361203696464, 0.8435460645595105, 0.04067500842771199, 0.5789968830208606, 0.7133145677643881, 0.8972074154015114, 0.5741283590344698, 0.7535707869668855, 0.9653708866215502, 0.30912127814696055, 0.9753562875928239, 0.07659204572598322, 0.4855520961623818, 0.9598196783663728, 0.7397413577801413, 0.19734930669571338, 0.21214518489928313, 0.5413714780461003, 0.2989055031523594, 0.0445049126513396, 0.6106028543512637, 0.567534044082875, 0.9721287395080479, 0.24041466595520877, 0.9449142077840208, 0.42594120779842437, 0.7694062974208946, 0.816962257037902, 0.17238212256315655, 0.8743331885829791, 0.9085903741068485, 0.08114716480876283, 0.7392627420348479, 0.9772218807204641, 0.6581784858353785, 0.9862373190591623, 0.4568767290746719, 0.1508504222057825, 0.5066371120721531, 0.7098503933406776, 0.6085154386124608, 0.7145650216601073, 0.19859958292355118, 0.6314838903661684, 0.39901371805426544, 0.5502944733108335, 0.07326063771069646, 0.5252872769483579, 0.5595443359199435, 0.8469130881525487, 0.2543782400168928, 0.8791215937301804, 0.6386572888483397, 0.10505967986733977, 0.5605557403311213, 0.48317045048453044, 0.30078499028556493, 0.4984855163323506, 0.18721860722835126, 0.2199248786553436, 0.17276853819176408, 0.19335750616629532, 0.9961409692745002, 0.14597884481689916, 0.0694428590288031, 0.8092665679436554, 0.33723798695016716, 0.5048914413092419, 0.8594186141877432, 0.16335092181242572, 0.6231978032415111, 0.5471195298239976, 0.09557593552264565, 0.07143931852587215, 0.005151239178121214, 0.7472799136223178, 0.09049693994982588, 0.4470149735389283, 0.7305894797030132, 0.5280523226991469, 0.8538296504678102, 0.5753398036708376, 0.5426276816273093, 0.9343435312651819, 0.4950951966210053, 0.4254864339849018, 0.5806840806988296, 0.9511085331715369], \"xaxis\": \"x15\", \"y\": [0.2693588004837245, 0.7272376744767046, 0.0847459573319197, 0.9937065190610479, 0.058979216584439276, 0.7622243653969791, 0.9852284156957358, 0.5217777899952714, 0.8187346018004542, 0.39271165520681495, 0.039639228594526954, 0.6437254368053777, 0.8825141197735623, 0.07574987820954049, 0.5659210897360782, 0.7919953924615094, 0.9896663440068089, 0.24383501741632607, 0.2174408233972125, 0.7134201104202477, 0.16855303189851112, 0.8260489883427669, 0.9162604808441045, 0.5405688554116973, 0.2385221459931568, 0.5391044062278301, 0.14135417823709062, 0.7960627517303884, 0.8420270044490886, 0.2751570030123761, 0.6484374134383162, 0.936219920583301, 0.12018818740336179, 0.6802469298909554, 0.027667402357477777, 0.7534263183190321, 0.15200668988058286, 0.6379082749707069, 0.48047129472150074, 0.4677435754467977, 0.4333959428618087, 0.9012651744296631, 0.16509096487816866, 0.6490104765306842, 0.6059604121331397, 0.4990463341810545, 0.9345744212388576, 0.3799903412993587, 0.18932606705713617, 0.25346642681024234, 0.9207633626005549, 0.41545596150652353, 0.4533645712239097, 0.6506416140340825, 0.6997162015812407, 0.8852986916095966, 0.37498778315958636, 0.8314429697596049, 0.13502673435385026, 0.8979987612536348, 0.3639429691100261, 0.745483313257713, 0.06578331168267948, 0.4951905039218433, 0.2532640224024172, 0.719730115612484, 0.5143268751173564, 0.25421150057041175, 0.3389942817348648, 0.19850257012175643, 0.20028652781703737, 0.6651212562701333, 0.529278813042016, 0.042062130810310405, 0.44112869964487167, 0.6920514932823784, 0.021164503749724117, 0.44750287035257597, 0.56472684426539, 0.7019277928315436, 0.5851064665714394, 0.21020198044309035, 0.2096339470898173, 0.3932379119941055, 0.4408019823537771, 0.2583760972068493, 0.6834895150994145, 0.08900119437390264, 0.8809772440190711, 0.716312394923501, 0.744839320051633, 0.9786104201487468, 0.18725208453496445, 0.27887369246250304, 0.05885105673928237, 0.672260988708463, 0.04236419271147529, 0.8130830659218616, 0.251040476355191, 0.2879237577645707], \"yaxis\": \"y15\"}, {\"histfunc\": \"count\", \"histnorm\": \"\", \"marker\": {\"color\": \"rgba(128, 0, 128, 1.0)\", \"line\": {\"color\": \"#4D5663\", \"width\": 1.3}}, \"name\": \"D\", \"nbinsx\": 10, \"opacity\": 0.8, \"orientation\": \"v\", \"type\": \"histogram\", \"x\": [0.2693588004837245, 0.7272376744767046, 0.0847459573319197, 0.9937065190610479, 0.058979216584439276, 0.7622243653969791, 0.9852284156957358, 0.5217777899952714, 0.8187346018004542, 0.39271165520681495, 0.039639228594526954, 0.6437254368053777, 0.8825141197735623, 0.07574987820954049, 0.5659210897360782, 0.7919953924615094, 0.9896663440068089, 0.24383501741632607, 0.2174408233972125, 0.7134201104202477, 0.16855303189851112, 0.8260489883427669, 0.9162604808441045, 0.5405688554116973, 0.2385221459931568, 0.5391044062278301, 0.14135417823709062, 0.7960627517303884, 0.8420270044490886, 0.2751570030123761, 0.6484374134383162, 0.936219920583301, 0.12018818740336179, 0.6802469298909554, 0.027667402357477777, 0.7534263183190321, 0.15200668988058286, 0.6379082749707069, 0.48047129472150074, 0.4677435754467977, 0.4333959428618087, 0.9012651744296631, 0.16509096487816866, 0.6490104765306842, 0.6059604121331397, 0.4990463341810545, 0.9345744212388576, 0.3799903412993587, 0.18932606705713617, 0.25346642681024234, 0.9207633626005549, 0.41545596150652353, 0.4533645712239097, 0.6506416140340825, 0.6997162015812407, 0.8852986916095966, 0.37498778315958636, 0.8314429697596049, 0.13502673435385026, 0.8979987612536348, 0.3639429691100261, 0.745483313257713, 0.06578331168267948, 0.4951905039218433, 0.2532640224024172, 0.719730115612484, 0.5143268751173564, 0.25421150057041175, 0.3389942817348648, 0.19850257012175643, 0.20028652781703737, 0.6651212562701333, 0.529278813042016, 0.042062130810310405, 0.44112869964487167, 0.6920514932823784, 0.021164503749724117, 0.44750287035257597, 0.56472684426539, 0.7019277928315436, 0.5851064665714394, 0.21020198044309035, 0.2096339470898173, 0.3932379119941055, 0.4408019823537771, 0.2583760972068493, 0.6834895150994145, 0.08900119437390264, 0.8809772440190711, 0.716312394923501, 0.744839320051633, 0.9786104201487468, 0.18725208453496445, 0.27887369246250304, 0.05885105673928237, 0.672260988708463, 0.04236419271147529, 0.8130830659218616, 0.251040476355191, 0.2879237577645707], \"xaxis\": \"x16\", \"yaxis\": \"y16\"}],\n",
       "                        {\"bargap\": 0.02, \"legend\": {\"bgcolor\": \"#F5F6F9\", \"font\": {\"color\": \"#4D5663\"}}, \"paper_bgcolor\": \"#F5F6F9\", \"plot_bgcolor\": \"#F5F6F9\", \"showlegend\": false, \"template\": {\"data\": {\"bar\": [{\"error_x\": {\"color\": \"#2a3f5f\"}, \"error_y\": {\"color\": \"#2a3f5f\"}, \"marker\": {\"line\": {\"color\": \"#E5ECF6\", \"width\": 0.5}}, \"type\": \"bar\"}], \"barpolar\": [{\"marker\": {\"line\": {\"color\": \"#E5ECF6\", \"width\": 0.5}}, \"type\": \"barpolar\"}], \"carpet\": [{\"aaxis\": {\"endlinecolor\": \"#2a3f5f\", \"gridcolor\": \"white\", \"linecolor\": \"white\", \"minorgridcolor\": \"white\", \"startlinecolor\": \"#2a3f5f\"}, \"baxis\": {\"endlinecolor\": \"#2a3f5f\", \"gridcolor\": \"white\", \"linecolor\": \"white\", \"minorgridcolor\": \"white\", \"startlinecolor\": \"#2a3f5f\"}, \"type\": \"carpet\"}], \"choropleth\": [{\"colorbar\": {\"outlinewidth\": 0, \"ticks\": \"\"}, \"type\": \"choropleth\"}], \"contour\": [{\"colorbar\": {\"outlinewidth\": 0, \"ticks\": \"\"}, \"colorscale\": [[0.0, \"#0d0887\"], [0.1111111111111111, \"#46039f\"], [0.2222222222222222, \"#7201a8\"], [0.3333333333333333, \"#9c179e\"], [0.4444444444444444, \"#bd3786\"], [0.5555555555555556, \"#d8576b\"], [0.6666666666666666, \"#ed7953\"], [0.7777777777777778, \"#fb9f3a\"], [0.8888888888888888, \"#fdca26\"], [1.0, \"#f0f921\"]], \"type\": \"contour\"}], \"contourcarpet\": [{\"colorbar\": {\"outlinewidth\": 0, \"ticks\": \"\"}, \"type\": \"contourcarpet\"}], \"heatmap\": [{\"colorbar\": {\"outlinewidth\": 0, \"ticks\": \"\"}, \"colorscale\": [[0.0, \"#0d0887\"], [0.1111111111111111, \"#46039f\"], [0.2222222222222222, \"#7201a8\"], [0.3333333333333333, \"#9c179e\"], [0.4444444444444444, \"#bd3786\"], [0.5555555555555556, \"#d8576b\"], [0.6666666666666666, \"#ed7953\"], [0.7777777777777778, \"#fb9f3a\"], [0.8888888888888888, \"#fdca26\"], [1.0, \"#f0f921\"]], \"type\": \"heatmap\"}], \"heatmapgl\": [{\"colorbar\": {\"outlinewidth\": 0, \"ticks\": \"\"}, \"colorscale\": [[0.0, \"#0d0887\"], [0.1111111111111111, \"#46039f\"], [0.2222222222222222, \"#7201a8\"], [0.3333333333333333, \"#9c179e\"], [0.4444444444444444, \"#bd3786\"], [0.5555555555555556, \"#d8576b\"], [0.6666666666666666, \"#ed7953\"], [0.7777777777777778, \"#fb9f3a\"], [0.8888888888888888, \"#fdca26\"], [1.0, \"#f0f921\"]], \"type\": \"heatmapgl\"}], \"histogram\": [{\"marker\": {\"colorbar\": {\"outlinewidth\": 0, \"ticks\": \"\"}}, \"type\": \"histogram\"}], \"histogram2d\": [{\"colorbar\": {\"outlinewidth\": 0, \"ticks\": \"\"}, \"colorscale\": [[0.0, \"#0d0887\"], [0.1111111111111111, \"#46039f\"], [0.2222222222222222, \"#7201a8\"], [0.3333333333333333, \"#9c179e\"], [0.4444444444444444, \"#bd3786\"], [0.5555555555555556, \"#d8576b\"], [0.6666666666666666, \"#ed7953\"], [0.7777777777777778, \"#fb9f3a\"], [0.8888888888888888, \"#fdca26\"], [1.0, \"#f0f921\"]], \"type\": \"histogram2d\"}], \"histogram2dcontour\": [{\"colorbar\": {\"outlinewidth\": 0, \"ticks\": \"\"}, \"colorscale\": [[0.0, \"#0d0887\"], [0.1111111111111111, \"#46039f\"], [0.2222222222222222, \"#7201a8\"], [0.3333333333333333, \"#9c179e\"], [0.4444444444444444, \"#bd3786\"], [0.5555555555555556, \"#d8576b\"], [0.6666666666666666, \"#ed7953\"], [0.7777777777777778, \"#fb9f3a\"], [0.8888888888888888, \"#fdca26\"], [1.0, \"#f0f921\"]], \"type\": \"histogram2dcontour\"}], \"mesh3d\": [{\"colorbar\": {\"outlinewidth\": 0, \"ticks\": \"\"}, \"type\": \"mesh3d\"}], \"parcoords\": [{\"line\": {\"colorbar\": {\"outlinewidth\": 0, \"ticks\": \"\"}}, \"type\": \"parcoords\"}], \"pie\": [{\"automargin\": true, \"type\": \"pie\"}], \"scatter\": [{\"marker\": {\"colorbar\": {\"outlinewidth\": 0, \"ticks\": \"\"}}, \"type\": \"scatter\"}], \"scatter3d\": [{\"line\": {\"colorbar\": {\"outlinewidth\": 0, \"ticks\": \"\"}}, \"marker\": {\"colorbar\": {\"outlinewidth\": 0, \"ticks\": \"\"}}, \"type\": \"scatter3d\"}], \"scattercarpet\": [{\"marker\": {\"colorbar\": {\"outlinewidth\": 0, \"ticks\": \"\"}}, \"type\": \"scattercarpet\"}], \"scattergeo\": [{\"marker\": {\"colorbar\": {\"outlinewidth\": 0, \"ticks\": \"\"}}, \"type\": \"scattergeo\"}], \"scattergl\": [{\"marker\": {\"colorbar\": {\"outlinewidth\": 0, \"ticks\": \"\"}}, \"type\": \"scattergl\"}], \"scattermapbox\": [{\"marker\": {\"colorbar\": {\"outlinewidth\": 0, \"ticks\": \"\"}}, \"type\": \"scattermapbox\"}], \"scatterpolar\": [{\"marker\": {\"colorbar\": {\"outlinewidth\": 0, \"ticks\": \"\"}}, \"type\": \"scatterpolar\"}], \"scatterpolargl\": [{\"marker\": {\"colorbar\": {\"outlinewidth\": 0, \"ticks\": \"\"}}, \"type\": \"scatterpolargl\"}], \"scatterternary\": [{\"marker\": {\"colorbar\": {\"outlinewidth\": 0, \"ticks\": \"\"}}, \"type\": \"scatterternary\"}], \"surface\": [{\"colorbar\": {\"outlinewidth\": 0, \"ticks\": \"\"}, \"colorscale\": [[0.0, \"#0d0887\"], [0.1111111111111111, \"#46039f\"], [0.2222222222222222, \"#7201a8\"], [0.3333333333333333, \"#9c179e\"], [0.4444444444444444, \"#bd3786\"], [0.5555555555555556, \"#d8576b\"], [0.6666666666666666, \"#ed7953\"], [0.7777777777777778, \"#fb9f3a\"], [0.8888888888888888, \"#fdca26\"], [1.0, \"#f0f921\"]], \"type\": \"surface\"}], \"table\": [{\"cells\": {\"fill\": {\"color\": \"#EBF0F8\"}, \"line\": {\"color\": \"white\"}}, \"header\": {\"fill\": {\"color\": \"#C8D4E3\"}, \"line\": {\"color\": \"white\"}}, \"type\": \"table\"}]}, \"layout\": {\"annotationdefaults\": {\"arrowcolor\": \"#2a3f5f\", \"arrowhead\": 0, \"arrowwidth\": 1}, \"coloraxis\": {\"colorbar\": {\"outlinewidth\": 0, \"ticks\": \"\"}}, \"colorscale\": {\"diverging\": [[0, \"#8e0152\"], [0.1, \"#c51b7d\"], [0.2, \"#de77ae\"], [0.3, \"#f1b6da\"], [0.4, \"#fde0ef\"], [0.5, \"#f7f7f7\"], [0.6, \"#e6f5d0\"], [0.7, \"#b8e186\"], [0.8, \"#7fbc41\"], [0.9, \"#4d9221\"], [1, \"#276419\"]], \"sequential\": [[0.0, \"#0d0887\"], [0.1111111111111111, \"#46039f\"], [0.2222222222222222, \"#7201a8\"], [0.3333333333333333, \"#9c179e\"], [0.4444444444444444, \"#bd3786\"], [0.5555555555555556, \"#d8576b\"], [0.6666666666666666, \"#ed7953\"], [0.7777777777777778, \"#fb9f3a\"], [0.8888888888888888, \"#fdca26\"], [1.0, \"#f0f921\"]], \"sequentialminus\": [[0.0, \"#0d0887\"], [0.1111111111111111, \"#46039f\"], [0.2222222222222222, \"#7201a8\"], [0.3333333333333333, \"#9c179e\"], [0.4444444444444444, \"#bd3786\"], [0.5555555555555556, \"#d8576b\"], [0.6666666666666666, \"#ed7953\"], [0.7777777777777778, \"#fb9f3a\"], [0.8888888888888888, \"#fdca26\"], [1.0, \"#f0f921\"]]}, \"colorway\": [\"#636efa\", \"#EF553B\", \"#00cc96\", \"#ab63fa\", \"#FFA15A\", \"#19d3f3\", \"#FF6692\", \"#B6E880\", \"#FF97FF\", \"#FECB52\"], \"font\": {\"color\": \"#2a3f5f\"}, \"geo\": {\"bgcolor\": \"white\", \"lakecolor\": \"white\", \"landcolor\": \"#E5ECF6\", \"showlakes\": true, \"showland\": true, \"subunitcolor\": \"white\"}, \"hoverlabel\": {\"align\": \"left\"}, \"hovermode\": \"closest\", \"mapbox\": {\"style\": \"light\"}, \"paper_bgcolor\": \"white\", \"plot_bgcolor\": \"#E5ECF6\", \"polar\": {\"angularaxis\": {\"gridcolor\": \"white\", \"linecolor\": \"white\", \"ticks\": \"\"}, \"bgcolor\": \"#E5ECF6\", \"radialaxis\": {\"gridcolor\": \"white\", \"linecolor\": \"white\", \"ticks\": \"\"}}, \"scene\": {\"xaxis\": {\"backgroundcolor\": \"#E5ECF6\", \"gridcolor\": \"white\", \"gridwidth\": 2, \"linecolor\": \"white\", \"showbackground\": true, \"ticks\": \"\", \"zerolinecolor\": \"white\"}, \"yaxis\": {\"backgroundcolor\": \"#E5ECF6\", \"gridcolor\": \"white\", \"gridwidth\": 2, \"linecolor\": \"white\", \"showbackground\": true, \"ticks\": \"\", \"zerolinecolor\": \"white\"}, \"zaxis\": {\"backgroundcolor\": \"#E5ECF6\", \"gridcolor\": \"white\", \"gridwidth\": 2, \"linecolor\": \"white\", \"showbackground\": true, \"ticks\": \"\", \"zerolinecolor\": \"white\"}}, \"shapedefaults\": {\"line\": {\"color\": \"#2a3f5f\"}}, \"ternary\": {\"aaxis\": {\"gridcolor\": \"white\", \"linecolor\": \"white\", \"ticks\": \"\"}, \"baxis\": {\"gridcolor\": \"white\", \"linecolor\": \"white\", \"ticks\": \"\"}, \"bgcolor\": \"#E5ECF6\", \"caxis\": {\"gridcolor\": \"white\", \"linecolor\": \"white\", \"ticks\": \"\"}}, \"title\": {\"x\": 0.05}, \"xaxis\": {\"automargin\": true, \"gridcolor\": \"white\", \"linecolor\": \"white\", \"ticks\": \"\", \"title\": {\"standoff\": 15}, \"zerolinecolor\": \"white\", \"zerolinewidth\": 2}, \"yaxis\": {\"automargin\": true, \"gridcolor\": \"white\", \"linecolor\": \"white\", \"ticks\": \"\", \"title\": {\"standoff\": 15}, \"zerolinecolor\": \"white\", \"zerolinewidth\": 2}}}, \"title\": {\"font\": {\"color\": \"#4D5663\"}}, \"xaxis\": {\"anchor\": \"y\", \"domain\": [0.0, 0.2125], \"gridcolor\": \"#E1E5ED\", \"showgrid\": false, \"tickfont\": {\"color\": \"#4D5663\"}, \"title\": {\"font\": {\"color\": \"#4D5663\"}, \"text\": \"\"}, \"zerolinecolor\": \"#E1E5ED\"}, \"xaxis10\": {\"anchor\": \"y10\", \"domain\": [0.2625, 0.475], \"gridcolor\": \"#E1E5ED\", \"showgrid\": false, \"tickfont\": {\"color\": \"#4D5663\"}, \"title\": {\"font\": {\"color\": \"#4D5663\"}, \"text\": \"\"}, \"zerolinecolor\": \"#E1E5ED\"}, \"xaxis11\": {\"anchor\": \"y11\", \"domain\": [0.525, 0.7375], \"gridcolor\": \"#E1E5ED\", \"showgrid\": false, \"tickfont\": {\"color\": \"#4D5663\"}, \"title\": {\"font\": {\"color\": \"#4D5663\"}, \"text\": \"\"}, \"zerolinecolor\": \"#E1E5ED\"}, \"xaxis12\": {\"anchor\": \"y12\", \"domain\": [0.7875, 1.0], \"gridcolor\": \"#E1E5ED\", \"showgrid\": false, \"tickfont\": {\"color\": \"#4D5663\"}, \"title\": {\"font\": {\"color\": \"#4D5663\"}, \"text\": \"\"}, \"zerolinecolor\": \"#E1E5ED\"}, \"xaxis13\": {\"anchor\": \"y13\", \"domain\": [0.0, 0.2125], \"gridcolor\": \"#E1E5ED\", \"showgrid\": false, \"tickfont\": {\"color\": \"#4D5663\"}, \"title\": {\"font\": {\"color\": \"#4D5663\"}, \"text\": \"\"}, \"zerolinecolor\": \"#E1E5ED\"}, \"xaxis14\": {\"anchor\": \"y14\", \"domain\": [0.2625, 0.475], \"gridcolor\": \"#E1E5ED\", \"showgrid\": false, \"tickfont\": {\"color\": \"#4D5663\"}, \"title\": {\"font\": {\"color\": \"#4D5663\"}, \"text\": \"\"}, \"zerolinecolor\": \"#E1E5ED\"}, \"xaxis15\": {\"anchor\": \"y15\", \"domain\": [0.525, 0.7375], \"gridcolor\": \"#E1E5ED\", \"showgrid\": false, \"tickfont\": {\"color\": \"#4D5663\"}, \"title\": {\"font\": {\"color\": \"#4D5663\"}, \"text\": \"\"}, \"zerolinecolor\": \"#E1E5ED\"}, \"xaxis16\": {\"anchor\": \"y16\", \"domain\": [0.7875, 1.0], \"gridcolor\": \"#E1E5ED\", \"showgrid\": false, \"tickfont\": {\"color\": \"#4D5663\"}, \"title\": {\"font\": {\"color\": \"#4D5663\"}, \"text\": \"\"}, \"zerolinecolor\": \"#E1E5ED\"}, \"xaxis2\": {\"anchor\": \"y2\", \"domain\": [0.2625, 0.475], \"gridcolor\": \"#E1E5ED\", \"showgrid\": false, \"tickfont\": {\"color\": \"#4D5663\"}, \"title\": {\"font\": {\"color\": \"#4D5663\"}, \"text\": \"\"}, \"zerolinecolor\": \"#E1E5ED\"}, \"xaxis3\": {\"anchor\": \"y3\", \"domain\": [0.525, 0.7375], \"gridcolor\": \"#E1E5ED\", \"showgrid\": false, \"tickfont\": {\"color\": \"#4D5663\"}, \"title\": {\"font\": {\"color\": \"#4D5663\"}, \"text\": \"\"}, \"zerolinecolor\": \"#E1E5ED\"}, \"xaxis4\": {\"anchor\": \"y4\", \"domain\": [0.7875, 1.0], \"gridcolor\": \"#E1E5ED\", \"showgrid\": false, \"tickfont\": {\"color\": \"#4D5663\"}, \"title\": {\"font\": {\"color\": \"#4D5663\"}, \"text\": \"\"}, \"zerolinecolor\": \"#E1E5ED\"}, \"xaxis5\": {\"anchor\": \"y5\", \"domain\": [0.0, 0.2125], \"gridcolor\": \"#E1E5ED\", \"showgrid\": false, \"tickfont\": {\"color\": \"#4D5663\"}, \"title\": {\"font\": {\"color\": \"#4D5663\"}, \"text\": \"\"}, \"zerolinecolor\": \"#E1E5ED\"}, \"xaxis6\": {\"anchor\": \"y6\", \"domain\": [0.2625, 0.475], \"gridcolor\": \"#E1E5ED\", \"showgrid\": false, \"tickfont\": {\"color\": \"#4D5663\"}, \"title\": {\"font\": {\"color\": \"#4D5663\"}, \"text\": \"\"}, \"zerolinecolor\": \"#E1E5ED\"}, \"xaxis7\": {\"anchor\": \"y7\", \"domain\": [0.525, 0.7375], \"gridcolor\": \"#E1E5ED\", \"showgrid\": false, \"tickfont\": {\"color\": \"#4D5663\"}, \"title\": {\"font\": {\"color\": \"#4D5663\"}, \"text\": \"\"}, \"zerolinecolor\": \"#E1E5ED\"}, \"xaxis8\": {\"anchor\": \"y8\", \"domain\": [0.7875, 1.0], \"gridcolor\": \"#E1E5ED\", \"showgrid\": false, \"tickfont\": {\"color\": \"#4D5663\"}, \"title\": {\"font\": {\"color\": \"#4D5663\"}, \"text\": \"\"}, \"zerolinecolor\": \"#E1E5ED\"}, \"xaxis9\": {\"anchor\": \"y9\", \"domain\": [0.0, 0.2125], \"gridcolor\": \"#E1E5ED\", \"showgrid\": false, \"tickfont\": {\"color\": \"#4D5663\"}, \"title\": {\"font\": {\"color\": \"#4D5663\"}, \"text\": \"\"}, \"zerolinecolor\": \"#E1E5ED\"}, \"yaxis\": {\"anchor\": \"x\", \"domain\": [0.8025, 1.0], \"gridcolor\": \"#E1E5ED\", \"showgrid\": false, \"tickfont\": {\"color\": \"#4D5663\"}, \"title\": {\"font\": {\"color\": \"#4D5663\"}, \"text\": \"\"}, \"zerolinecolor\": \"#E1E5ED\"}, \"yaxis10\": {\"anchor\": \"x10\", \"domain\": [0.2675, 0.465], \"gridcolor\": \"#E1E5ED\", \"showgrid\": false, \"tickfont\": {\"color\": \"#4D5663\"}, \"title\": {\"font\": {\"color\": \"#4D5663\"}, \"text\": \"\"}, \"zerolinecolor\": \"#E1E5ED\"}, \"yaxis11\": {\"anchor\": \"x11\", \"domain\": [0.2675, 0.465], \"gridcolor\": \"#E1E5ED\", \"showgrid\": false, \"tickfont\": {\"color\": \"#4D5663\"}, \"title\": {\"font\": {\"color\": \"#4D5663\"}, \"text\": \"\"}, \"zerolinecolor\": \"#E1E5ED\"}, \"yaxis12\": {\"anchor\": \"x12\", \"domain\": [0.2675, 0.465], \"gridcolor\": \"#E1E5ED\", \"showgrid\": false, \"tickfont\": {\"color\": \"#4D5663\"}, \"title\": {\"font\": {\"color\": \"#4D5663\"}, \"text\": \"\"}, \"zerolinecolor\": \"#E1E5ED\"}, \"yaxis13\": {\"anchor\": \"x13\", \"domain\": [0.0, 0.1975], \"gridcolor\": \"#E1E5ED\", \"showgrid\": false, \"tickfont\": {\"color\": \"#4D5663\"}, \"title\": {\"font\": {\"color\": \"#4D5663\"}, \"text\": \"\"}, \"zerolinecolor\": \"#E1E5ED\"}, \"yaxis14\": {\"anchor\": \"x14\", \"domain\": [0.0, 0.1975], \"gridcolor\": \"#E1E5ED\", \"showgrid\": false, \"tickfont\": {\"color\": \"#4D5663\"}, \"title\": {\"font\": {\"color\": \"#4D5663\"}, \"text\": \"\"}, \"zerolinecolor\": \"#E1E5ED\"}, \"yaxis15\": {\"anchor\": \"x15\", \"domain\": [0.0, 0.1975], \"gridcolor\": \"#E1E5ED\", \"showgrid\": false, \"tickfont\": {\"color\": \"#4D5663\"}, \"title\": {\"font\": {\"color\": \"#4D5663\"}, \"text\": \"\"}, \"zerolinecolor\": \"#E1E5ED\"}, \"yaxis16\": {\"anchor\": \"x16\", \"domain\": [0.0, 0.1975], \"gridcolor\": \"#E1E5ED\", \"showgrid\": false, \"tickfont\": {\"color\": \"#4D5663\"}, \"title\": {\"font\": {\"color\": \"#4D5663\"}, \"text\": \"\"}, \"zerolinecolor\": \"#E1E5ED\"}, \"yaxis2\": {\"anchor\": \"x2\", \"domain\": [0.8025, 1.0], \"gridcolor\": \"#E1E5ED\", \"showgrid\": false, \"tickfont\": {\"color\": \"#4D5663\"}, \"title\": {\"font\": {\"color\": \"#4D5663\"}, \"text\": \"\"}, \"zerolinecolor\": \"#E1E5ED\"}, \"yaxis3\": {\"anchor\": \"x3\", \"domain\": [0.8025, 1.0], \"gridcolor\": \"#E1E5ED\", \"showgrid\": false, \"tickfont\": {\"color\": \"#4D5663\"}, \"title\": {\"font\": {\"color\": \"#4D5663\"}, \"text\": \"\"}, \"zerolinecolor\": \"#E1E5ED\"}, \"yaxis4\": {\"anchor\": \"x4\", \"domain\": [0.8025, 1.0], \"gridcolor\": \"#E1E5ED\", \"showgrid\": false, \"tickfont\": {\"color\": \"#4D5663\"}, \"title\": {\"font\": {\"color\": \"#4D5663\"}, \"text\": \"\"}, \"zerolinecolor\": \"#E1E5ED\"}, \"yaxis5\": {\"anchor\": \"x5\", \"domain\": [0.535, 0.7325], \"gridcolor\": \"#E1E5ED\", \"showgrid\": false, \"tickfont\": {\"color\": \"#4D5663\"}, \"title\": {\"font\": {\"color\": \"#4D5663\"}, \"text\": \"\"}, \"zerolinecolor\": \"#E1E5ED\"}, \"yaxis6\": {\"anchor\": \"x6\", \"domain\": [0.535, 0.7325], \"gridcolor\": \"#E1E5ED\", \"showgrid\": false, \"tickfont\": {\"color\": \"#4D5663\"}, \"title\": {\"font\": {\"color\": \"#4D5663\"}, \"text\": \"\"}, \"zerolinecolor\": \"#E1E5ED\"}, \"yaxis7\": {\"anchor\": \"x7\", \"domain\": [0.535, 0.7325], \"gridcolor\": \"#E1E5ED\", \"showgrid\": false, \"tickfont\": {\"color\": \"#4D5663\"}, \"title\": {\"font\": {\"color\": \"#4D5663\"}, \"text\": \"\"}, \"zerolinecolor\": \"#E1E5ED\"}, \"yaxis8\": {\"anchor\": \"x8\", \"domain\": [0.535, 0.7325], \"gridcolor\": \"#E1E5ED\", \"showgrid\": false, \"tickfont\": {\"color\": \"#4D5663\"}, \"title\": {\"font\": {\"color\": \"#4D5663\"}, \"text\": \"\"}, \"zerolinecolor\": \"#E1E5ED\"}, \"yaxis9\": {\"anchor\": \"x9\", \"domain\": [0.2675, 0.465], \"gridcolor\": \"#E1E5ED\", \"showgrid\": false, \"tickfont\": {\"color\": \"#4D5663\"}, \"title\": {\"font\": {\"color\": \"#4D5663\"}, \"text\": \"\"}, \"zerolinecolor\": \"#E1E5ED\"}},\n",
       "                        {\"showLink\": true, \"linkText\": \"Export to plot.ly\", \"plotlyServerURL\": \"https://plot.ly\", \"responsive\": true}\n",
       "                    ).then(function(){\n",
       "                            \n",
       "var gd = document.getElementById('443a0d3e-71e5-48dd-bf53-8c256fc3bc7a');\n",
       "var x = new MutationObserver(function (mutations, observer) {{\n",
       "        var display = window.getComputedStyle(gd).display;\n",
       "        if (!display || display === 'none') {{\n",
       "            console.log([gd, 'removed!']);\n",
       "            Plotly.purge(gd);\n",
       "            observer.disconnect();\n",
       "        }}\n",
       "}});\n",
       "\n",
       "// Listen for the removal of the full notebook cells\n",
       "var notebookContainer = gd.closest('#notebook-container');\n",
       "if (notebookContainer) {{\n",
       "    x.observe(notebookContainer, {childList: true});\n",
       "}}\n",
       "\n",
       "// Listen for the clearing of the current output cell\n",
       "var outputEl = gd.closest('.output');\n",
       "if (outputEl) {{\n",
       "    x.observe(outputEl, {childList: true});\n",
       "}}\n",
       "\n",
       "                        })\n",
       "                };\n",
       "                });\n",
       "            </script>\n",
       "        </div>"
      ]
     },
     "metadata": {},
     "output_type": "display_data"
    }
   ],
   "source": [
    "df.scatter_matrix()"
   ]
  },
  {
   "cell_type": "markdown",
   "metadata": {},
   "source": [
    "- matriz de disperções, possui bastantes semelh"
   ]
  }
 ],
 "metadata": {
  "kernelspec": {
   "display_name": "Python 3",
   "language": "python",
   "name": "python3"
  },
  "language_info": {
   "codemirror_mode": {
    "name": "ipython",
    "version": 3
   },
   "file_extension": ".py",
   "mimetype": "text/x-python",
   "name": "python",
   "nbconvert_exporter": "python",
   "pygments_lexer": "ipython3",
   "version": "3.6.9"
  }
 },
 "nbformat": 4,
 "nbformat_minor": 4
}
